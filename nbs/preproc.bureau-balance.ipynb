{
 "cells": [
  {
   "cell_type": "code",
   "execution_count": 2,
   "metadata": {},
   "outputs": [
    {
     "data": {
      "text/plain": [
       "'/Users/brent/Documents/docs-shufe/ml_basic/proj/nbs'"
      ]
     },
     "execution_count": 2,
     "metadata": {},
     "output_type": "execute_result"
    }
   ],
   "source": [
    "pwd"
   ]
  },
  {
   "cell_type": "code",
   "execution_count": 3,
   "metadata": {},
   "outputs": [],
   "source": [
    "data = '../data/bureau_balance.csv'"
   ]
  },
  {
   "cell_type": "code",
   "execution_count": 7,
   "metadata": {},
   "outputs": [],
   "source": [
    "import pandas as pd\n",
    "import numpy as np"
   ]
  },
  {
   "cell_type": "code",
   "execution_count": 21,
   "metadata": {},
   "outputs": [],
   "source": [
    "df = pd.read_csv(data, dtype={\"SK_ID_CURR\":str, \"SK_ID_BUREAU\":str})\n",
    "\n",
    "df_final = df.groupby(['SK_ID_BUREAU', 'STATUS'])['MONTHS_BALANCE'].count().unstack('STATUS', fill_value=0)\n",
    "rename_columns = {k: f'bureau_ba_type_{k}' for k in df_final.columns}\n",
    "\n",
    "df_final = df_final.rename(columns=rename_columns)\n",
    "df_final.to_csv(\"../data/proc/ft_bureau_balance.csv\")"
   ]
  }
 ],
 "metadata": {
  "kernelspec": {
   "display_name": "Python 3",
   "language": "python",
   "name": "python3"
  },
  "language_info": {
   "codemirror_mode": {
    "name": "ipython",
    "version": 3
   },
   "file_extension": ".py",
   "mimetype": "text/x-python",
   "name": "python",
   "nbconvert_exporter": "python",
   "pygments_lexer": "ipython3",
   "version": "3.7.9"
  }
 },
 "nbformat": 4,
 "nbformat_minor": 4
}

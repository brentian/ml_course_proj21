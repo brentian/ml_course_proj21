{
 "cells": [
  {
   "cell_type": "code",
   "execution_count": 1,
   "metadata": {},
   "outputs": [],
   "source": [
    "import numpy as np\n",
    "import pandas as pd\n",
    "import math\n",
    "import glob\n",
    "from sklearn.model_selection import train_test_split\n",
    "from sklearn import datasets\n",
    "from sklearn import svm\n",
    "from sklearn import tree\n",
    "import matplotlib.pyplot as plt\n",
    "import lightgbm as lgbm\n",
    "\n",
    "from sklearn import linear_model\n",
    "from sklearn.metrics import accuracy_score\n",
    "from sklearn.metrics import  precision_score\n",
    "from sklearn.metrics import confusion_matrix\n",
    "from sklearn.metrics import classification_report\n",
    "from sklearn.metrics import roc_curve,auc\n",
    "from sklearn.impute import SimpleImputer\n",
    "from sklearn.ensemble import GradientBoostingClassifier  #GBM algorithm\n",
    "from sklearn import metrics   #Additional scklearn functions\n",
    "from sklearn.model_selection import cross_validate\n",
    "from sklearn import model_selection\n",
    "from sklearn.model_selection import GridSearchCV\n",
    "import re\n",
    "\n",
    "import optuna  # pip install optuna\n",
    "from sklearn.metrics import log_loss\n",
    "from sklearn.model_selection import StratifiedKFold\n",
    "from optuna.integration import LightGBMPruningCallback\n"
   ]
  },
  {
   "cell_type": "code",
   "execution_count": 25,
   "metadata": {},
   "outputs": [
    {
     "data": {
      "text/html": [
       "<div>\n",
       "<style scoped>\n",
       "    .dataframe tbody tr th:only-of-type {\n",
       "        vertical-align: middle;\n",
       "    }\n",
       "\n",
       "    .dataframe tbody tr th {\n",
       "        vertical-align: top;\n",
       "    }\n",
       "\n",
       "    .dataframe thead th {\n",
       "        text-align: right;\n",
       "    }\n",
       "</style>\n",
       "<table border=\"1\" class=\"dataframe\">\n",
       "  <thead>\n",
       "    <tr style=\"text-align: right;\">\n",
       "      <th></th>\n",
       "      <th>index</th>\n",
       "      <th>SK_ID_CURR</th>\n",
       "      <th>CNT_CHILDREN_mean</th>\n",
       "      <th>CNT_CHILDREN_median</th>\n",
       "      <th>AMT_INCOME_TOTAL_mean</th>\n",
       "      <th>AMT_INCOME_TOTAL_median</th>\n",
       "      <th>AMT_CREDIT_mean</th>\n",
       "      <th>AMT_CREDIT_median</th>\n",
       "      <th>AMT_ANNUITY_mean</th>\n",
       "      <th>AMT_ANNUITY_median</th>\n",
       "      <th>...</th>\n",
       "      <th>previous_application_ft_PRODUCT_COMBINATION_POSindustrywithoutinterest_median</th>\n",
       "      <th>previous_application_ft_PRODUCT_COMBINATION_POSindustrywithoutinterest_mean</th>\n",
       "      <th>previous_application_ft_PRODUCT_COMBINATION_POSmobilewithinterest_median</th>\n",
       "      <th>previous_application_ft_PRODUCT_COMBINATION_POSmobilewithinterest_mean</th>\n",
       "      <th>previous_application_ft_PRODUCT_COMBINATION_POSmobilewithoutinterest_median</th>\n",
       "      <th>previous_application_ft_PRODUCT_COMBINATION_POSmobilewithoutinterest_mean</th>\n",
       "      <th>previous_application_ft_PRODUCT_COMBINATION_POSotherwithinterest_median</th>\n",
       "      <th>previous_application_ft_PRODUCT_COMBINATION_POSotherwithinterest_mean</th>\n",
       "      <th>previous_application_ft_PRODUCT_COMBINATION_POSotherswithoutinterest_median</th>\n",
       "      <th>previous_application_ft_PRODUCT_COMBINATION_POSotherswithoutinterest_mean</th>\n",
       "    </tr>\n",
       "  </thead>\n",
       "  <tbody>\n",
       "    <tr>\n",
       "      <th>0</th>\n",
       "      <td>172241</td>\n",
       "      <td>299604</td>\n",
       "      <td>0.099950</td>\n",
       "      <td>0.099950</td>\n",
       "      <td>0.001127</td>\n",
       "      <td>0.001127</td>\n",
       "      <td>0.057747</td>\n",
       "      <td>0.057747</td>\n",
       "      <td>0.083364</td>\n",
       "      <td>0.083364</td>\n",
       "      <td>...</td>\n",
       "      <td>0.0</td>\n",
       "      <td>0.0</td>\n",
       "      <td>0.00000</td>\n",
       "      <td>0.247525</td>\n",
       "      <td>0.0</td>\n",
       "      <td>0.247525</td>\n",
       "      <td>0.0</td>\n",
       "      <td>0.0</td>\n",
       "      <td>0.0</td>\n",
       "      <td>0.0</td>\n",
       "    </tr>\n",
       "    <tr>\n",
       "      <th>1</th>\n",
       "      <td>144232</td>\n",
       "      <td>267231</td>\n",
       "      <td>0.000000</td>\n",
       "      <td>0.000000</td>\n",
       "      <td>0.001704</td>\n",
       "      <td>0.001704</td>\n",
       "      <td>0.325843</td>\n",
       "      <td>0.325843</td>\n",
       "      <td>0.261602</td>\n",
       "      <td>0.261602</td>\n",
       "      <td>...</td>\n",
       "      <td>NaN</td>\n",
       "      <td>NaN</td>\n",
       "      <td>NaN</td>\n",
       "      <td>NaN</td>\n",
       "      <td>NaN</td>\n",
       "      <td>NaN</td>\n",
       "      <td>NaN</td>\n",
       "      <td>NaN</td>\n",
       "      <td>NaN</td>\n",
       "      <td>NaN</td>\n",
       "    </tr>\n",
       "    <tr>\n",
       "      <th>2</th>\n",
       "      <td>89075</td>\n",
       "      <td>203425</td>\n",
       "      <td>0.000000</td>\n",
       "      <td>0.000000</td>\n",
       "      <td>0.001012</td>\n",
       "      <td>0.001012</td>\n",
       "      <td>0.438202</td>\n",
       "      <td>0.438202</td>\n",
       "      <td>0.258533</td>\n",
       "      <td>0.258533</td>\n",
       "      <td>...</td>\n",
       "      <td>0.0</td>\n",
       "      <td>0.0</td>\n",
       "      <td>0.00000</td>\n",
       "      <td>0.000000</td>\n",
       "      <td>0.0</td>\n",
       "      <td>0.000000</td>\n",
       "      <td>0.0</td>\n",
       "      <td>0.0</td>\n",
       "      <td>0.0</td>\n",
       "      <td>0.0</td>\n",
       "    </tr>\n",
       "    <tr>\n",
       "      <th>3</th>\n",
       "      <td>250906</td>\n",
       "      <td>390318</td>\n",
       "      <td>0.049975</td>\n",
       "      <td>0.049975</td>\n",
       "      <td>0.002858</td>\n",
       "      <td>0.002858</td>\n",
       "      <td>0.323317</td>\n",
       "      <td>0.323317</td>\n",
       "      <td>0.152340</td>\n",
       "      <td>0.152340</td>\n",
       "      <td>...</td>\n",
       "      <td>0.0</td>\n",
       "      <td>0.0</td>\n",
       "      <td>0.00000</td>\n",
       "      <td>0.000000</td>\n",
       "      <td>0.0</td>\n",
       "      <td>0.000000</td>\n",
       "      <td>0.0</td>\n",
       "      <td>0.0</td>\n",
       "      <td>0.0</td>\n",
       "      <td>0.0</td>\n",
       "    </tr>\n",
       "    <tr>\n",
       "      <th>4</th>\n",
       "      <td>229122</td>\n",
       "      <td>365381</td>\n",
       "      <td>0.049975</td>\n",
       "      <td>0.049975</td>\n",
       "      <td>0.000858</td>\n",
       "      <td>0.000858</td>\n",
       "      <td>0.213483</td>\n",
       "      <td>0.213483</td>\n",
       "      <td>0.101990</td>\n",
       "      <td>0.101990</td>\n",
       "      <td>...</td>\n",
       "      <td>0.0</td>\n",
       "      <td>0.0</td>\n",
       "      <td>0.49505</td>\n",
       "      <td>0.495050</td>\n",
       "      <td>0.0</td>\n",
       "      <td>0.000000</td>\n",
       "      <td>0.0</td>\n",
       "      <td>0.0</td>\n",
       "      <td>0.0</td>\n",
       "      <td>0.0</td>\n",
       "    </tr>\n",
       "    <tr>\n",
       "      <th>...</th>\n",
       "      <td>...</td>\n",
       "      <td>...</td>\n",
       "      <td>...</td>\n",
       "      <td>...</td>\n",
       "      <td>...</td>\n",
       "      <td>...</td>\n",
       "      <td>...</td>\n",
       "      <td>...</td>\n",
       "      <td>...</td>\n",
       "      <td>...</td>\n",
       "      <td>...</td>\n",
       "      <td>...</td>\n",
       "      <td>...</td>\n",
       "      <td>...</td>\n",
       "      <td>...</td>\n",
       "      <td>...</td>\n",
       "      <td>...</td>\n",
       "      <td>...</td>\n",
       "      <td>...</td>\n",
       "      <td>...</td>\n",
       "      <td>...</td>\n",
       "    </tr>\n",
       "    <tr>\n",
       "      <th>215252</th>\n",
       "      <td>105747</td>\n",
       "      <td>222703</td>\n",
       "      <td>0.000000</td>\n",
       "      <td>0.000000</td>\n",
       "      <td>0.000858</td>\n",
       "      <td>0.000858</td>\n",
       "      <td>0.056180</td>\n",
       "      <td>0.056180</td>\n",
       "      <td>0.053925</td>\n",
       "      <td>0.053925</td>\n",
       "      <td>...</td>\n",
       "      <td>0.0</td>\n",
       "      <td>0.0</td>\n",
       "      <td>0.49505</td>\n",
       "      <td>0.495050</td>\n",
       "      <td>0.0</td>\n",
       "      <td>0.000000</td>\n",
       "      <td>0.0</td>\n",
       "      <td>0.0</td>\n",
       "      <td>0.0</td>\n",
       "      <td>0.0</td>\n",
       "    </tr>\n",
       "    <tr>\n",
       "      <th>215253</th>\n",
       "      <td>102486</td>\n",
       "      <td>218974</td>\n",
       "      <td>0.000000</td>\n",
       "      <td>0.000000</td>\n",
       "      <td>0.000858</td>\n",
       "      <td>0.000858</td>\n",
       "      <td>0.054721</td>\n",
       "      <td>0.054721</td>\n",
       "      <td>0.080887</td>\n",
       "      <td>0.080887</td>\n",
       "      <td>...</td>\n",
       "      <td>0.0</td>\n",
       "      <td>0.0</td>\n",
       "      <td>0.00000</td>\n",
       "      <td>0.000000</td>\n",
       "      <td>0.0</td>\n",
       "      <td>0.000000</td>\n",
       "      <td>0.0</td>\n",
       "      <td>0.0</td>\n",
       "      <td>0.0</td>\n",
       "      <td>0.0</td>\n",
       "    </tr>\n",
       "    <tr>\n",
       "      <th>215254</th>\n",
       "      <td>135892</td>\n",
       "      <td>257621</td>\n",
       "      <td>0.000000</td>\n",
       "      <td>0.000000</td>\n",
       "      <td>0.000704</td>\n",
       "      <td>0.000704</td>\n",
       "      <td>0.090517</td>\n",
       "      <td>0.090517</td>\n",
       "      <td>0.115436</td>\n",
       "      <td>0.115436</td>\n",
       "      <td>...</td>\n",
       "      <td>0.0</td>\n",
       "      <td>0.0</td>\n",
       "      <td>0.00000</td>\n",
       "      <td>0.000000</td>\n",
       "      <td>0.0</td>\n",
       "      <td>0.000000</td>\n",
       "      <td>0.0</td>\n",
       "      <td>0.0</td>\n",
       "      <td>0.0</td>\n",
       "      <td>0.0</td>\n",
       "    </tr>\n",
       "    <tr>\n",
       "      <th>215255</th>\n",
       "      <td>10196</td>\n",
       "      <td>111871</td>\n",
       "      <td>0.000000</td>\n",
       "      <td>0.000000</td>\n",
       "      <td>0.001396</td>\n",
       "      <td>0.001396</td>\n",
       "      <td>0.257978</td>\n",
       "      <td>0.257978</td>\n",
       "      <td>0.135301</td>\n",
       "      <td>0.135301</td>\n",
       "      <td>...</td>\n",
       "      <td>0.0</td>\n",
       "      <td>0.0</td>\n",
       "      <td>0.49505</td>\n",
       "      <td>0.495050</td>\n",
       "      <td>0.0</td>\n",
       "      <td>0.000000</td>\n",
       "      <td>0.0</td>\n",
       "      <td>0.0</td>\n",
       "      <td>0.0</td>\n",
       "      <td>0.0</td>\n",
       "    </tr>\n",
       "    <tr>\n",
       "      <th>215256</th>\n",
       "      <td>129900</td>\n",
       "      <td>250669</td>\n",
       "      <td>0.000000</td>\n",
       "      <td>0.000000</td>\n",
       "      <td>0.001704</td>\n",
       "      <td>0.001704</td>\n",
       "      <td>0.101124</td>\n",
       "      <td>0.101124</td>\n",
       "      <td>0.065749</td>\n",
       "      <td>0.065749</td>\n",
       "      <td>...</td>\n",
       "      <td>0.0</td>\n",
       "      <td>0.0</td>\n",
       "      <td>0.00000</td>\n",
       "      <td>0.000000</td>\n",
       "      <td>0.0</td>\n",
       "      <td>0.000000</td>\n",
       "      <td>0.0</td>\n",
       "      <td>0.0</td>\n",
       "      <td>0.0</td>\n",
       "      <td>0.0</td>\n",
       "    </tr>\n",
       "  </tbody>\n",
       "</table>\n",
       "<p>215257 rows × 916 columns</p>\n",
       "</div>"
      ],
      "text/plain": [
       "         index  SK_ID_CURR  CNT_CHILDREN_mean  CNT_CHILDREN_median  \\\n",
       "0       172241      299604           0.099950             0.099950   \n",
       "1       144232      267231           0.000000             0.000000   \n",
       "2        89075      203425           0.000000             0.000000   \n",
       "3       250906      390318           0.049975             0.049975   \n",
       "4       229122      365381           0.049975             0.049975   \n",
       "...        ...         ...                ...                  ...   \n",
       "215252  105747      222703           0.000000             0.000000   \n",
       "215253  102486      218974           0.000000             0.000000   \n",
       "215254  135892      257621           0.000000             0.000000   \n",
       "215255   10196      111871           0.000000             0.000000   \n",
       "215256  129900      250669           0.000000             0.000000   \n",
       "\n",
       "        AMT_INCOME_TOTAL_mean  AMT_INCOME_TOTAL_median  AMT_CREDIT_mean  \\\n",
       "0                    0.001127                 0.001127         0.057747   \n",
       "1                    0.001704                 0.001704         0.325843   \n",
       "2                    0.001012                 0.001012         0.438202   \n",
       "3                    0.002858                 0.002858         0.323317   \n",
       "4                    0.000858                 0.000858         0.213483   \n",
       "...                       ...                      ...              ...   \n",
       "215252               0.000858                 0.000858         0.056180   \n",
       "215253               0.000858                 0.000858         0.054721   \n",
       "215254               0.000704                 0.000704         0.090517   \n",
       "215255               0.001396                 0.001396         0.257978   \n",
       "215256               0.001704                 0.001704         0.101124   \n",
       "\n",
       "        AMT_CREDIT_median  AMT_ANNUITY_mean  AMT_ANNUITY_median  ...  \\\n",
       "0                0.057747          0.083364            0.083364  ...   \n",
       "1                0.325843          0.261602            0.261602  ...   \n",
       "2                0.438202          0.258533            0.258533  ...   \n",
       "3                0.323317          0.152340            0.152340  ...   \n",
       "4                0.213483          0.101990            0.101990  ...   \n",
       "...                   ...               ...                 ...  ...   \n",
       "215252           0.056180          0.053925            0.053925  ...   \n",
       "215253           0.054721          0.080887            0.080887  ...   \n",
       "215254           0.090517          0.115436            0.115436  ...   \n",
       "215255           0.257978          0.135301            0.135301  ...   \n",
       "215256           0.101124          0.065749            0.065749  ...   \n",
       "\n",
       "        previous_application_ft_PRODUCT_COMBINATION_POSindustrywithoutinterest_median  \\\n",
       "0                                                     0.0                               \n",
       "1                                                     NaN                               \n",
       "2                                                     0.0                               \n",
       "3                                                     0.0                               \n",
       "4                                                     0.0                               \n",
       "...                                                   ...                               \n",
       "215252                                                0.0                               \n",
       "215253                                                0.0                               \n",
       "215254                                                0.0                               \n",
       "215255                                                0.0                               \n",
       "215256                                                0.0                               \n",
       "\n",
       "        previous_application_ft_PRODUCT_COMBINATION_POSindustrywithoutinterest_mean  \\\n",
       "0                                                     0.0                             \n",
       "1                                                     NaN                             \n",
       "2                                                     0.0                             \n",
       "3                                                     0.0                             \n",
       "4                                                     0.0                             \n",
       "...                                                   ...                             \n",
       "215252                                                0.0                             \n",
       "215253                                                0.0                             \n",
       "215254                                                0.0                             \n",
       "215255                                                0.0                             \n",
       "215256                                                0.0                             \n",
       "\n",
       "        previous_application_ft_PRODUCT_COMBINATION_POSmobilewithinterest_median  \\\n",
       "0                                                 0.00000                          \n",
       "1                                                     NaN                          \n",
       "2                                                 0.00000                          \n",
       "3                                                 0.00000                          \n",
       "4                                                 0.49505                          \n",
       "...                                                   ...                          \n",
       "215252                                            0.49505                          \n",
       "215253                                            0.00000                          \n",
       "215254                                            0.00000                          \n",
       "215255                                            0.49505                          \n",
       "215256                                            0.00000                          \n",
       "\n",
       "        previous_application_ft_PRODUCT_COMBINATION_POSmobilewithinterest_mean  \\\n",
       "0                                                0.247525                        \n",
       "1                                                     NaN                        \n",
       "2                                                0.000000                        \n",
       "3                                                0.000000                        \n",
       "4                                                0.495050                        \n",
       "...                                                   ...                        \n",
       "215252                                           0.495050                        \n",
       "215253                                           0.000000                        \n",
       "215254                                           0.000000                        \n",
       "215255                                           0.495050                        \n",
       "215256                                           0.000000                        \n",
       "\n",
       "        previous_application_ft_PRODUCT_COMBINATION_POSmobilewithoutinterest_median  \\\n",
       "0                                                     0.0                             \n",
       "1                                                     NaN                             \n",
       "2                                                     0.0                             \n",
       "3                                                     0.0                             \n",
       "4                                                     0.0                             \n",
       "...                                                   ...                             \n",
       "215252                                                0.0                             \n",
       "215253                                                0.0                             \n",
       "215254                                                0.0                             \n",
       "215255                                                0.0                             \n",
       "215256                                                0.0                             \n",
       "\n",
       "        previous_application_ft_PRODUCT_COMBINATION_POSmobilewithoutinterest_mean  \\\n",
       "0                                                0.247525                           \n",
       "1                                                     NaN                           \n",
       "2                                                0.000000                           \n",
       "3                                                0.000000                           \n",
       "4                                                0.000000                           \n",
       "...                                                   ...                           \n",
       "215252                                           0.000000                           \n",
       "215253                                           0.000000                           \n",
       "215254                                           0.000000                           \n",
       "215255                                           0.000000                           \n",
       "215256                                           0.000000                           \n",
       "\n",
       "        previous_application_ft_PRODUCT_COMBINATION_POSotherwithinterest_median  \\\n",
       "0                                                     0.0                         \n",
       "1                                                     NaN                         \n",
       "2                                                     0.0                         \n",
       "3                                                     0.0                         \n",
       "4                                                     0.0                         \n",
       "...                                                   ...                         \n",
       "215252                                                0.0                         \n",
       "215253                                                0.0                         \n",
       "215254                                                0.0                         \n",
       "215255                                                0.0                         \n",
       "215256                                                0.0                         \n",
       "\n",
       "        previous_application_ft_PRODUCT_COMBINATION_POSotherwithinterest_mean  \\\n",
       "0                                                     0.0                       \n",
       "1                                                     NaN                       \n",
       "2                                                     0.0                       \n",
       "3                                                     0.0                       \n",
       "4                                                     0.0                       \n",
       "...                                                   ...                       \n",
       "215252                                                0.0                       \n",
       "215253                                                0.0                       \n",
       "215254                                                0.0                       \n",
       "215255                                                0.0                       \n",
       "215256                                                0.0                       \n",
       "\n",
       "        previous_application_ft_PRODUCT_COMBINATION_POSotherswithoutinterest_median  \\\n",
       "0                                                     0.0                             \n",
       "1                                                     NaN                             \n",
       "2                                                     0.0                             \n",
       "3                                                     0.0                             \n",
       "4                                                     0.0                             \n",
       "...                                                   ...                             \n",
       "215252                                                0.0                             \n",
       "215253                                                0.0                             \n",
       "215254                                                0.0                             \n",
       "215255                                                0.0                             \n",
       "215256                                                0.0                             \n",
       "\n",
       "        previous_application_ft_PRODUCT_COMBINATION_POSotherswithoutinterest_mean  \n",
       "0                                                     0.0                          \n",
       "1                                                     NaN                          \n",
       "2                                                     0.0                          \n",
       "3                                                     0.0                          \n",
       "4                                                     0.0                          \n",
       "...                                                   ...                          \n",
       "215252                                                0.0                          \n",
       "215253                                                0.0                          \n",
       "215254                                                0.0                          \n",
       "215255                                                0.0                          \n",
       "215256                                                0.0                          \n",
       "\n",
       "[215257 rows x 916 columns]"
      ]
     },
     "execution_count": 25,
     "metadata": {},
     "output_type": "execute_result"
    }
   ],
   "source": [
    "data = pd.read_csv(\n",
    "  '../final/final_ft_application_train.csv'\n",
    ").rename(\n",
    "  columns = lambda x:re.sub('[^A-Za-z0-9_]+', '', x)\n",
    ")\n",
    "data = data.loc[:,~data.columns.duplicated()]\n",
    "predictor=[x for x in data.columns if x !='TARGET']\n",
    "data_train, X_test1, data_test, y_test1 = train_test_split(data[predictor], data.TARGET, test_size=0.3, random_state=111)\n",
    "data_train=data_train.dropna(axis=1,thresh=0.8*data_train.shape[0])\n",
    "data_test=data_test[data_train.index]\n",
    "data_test.reset_index()\n",
    "data_train.reset_index()"
   ]
  },
  {
   "cell_type": "code",
   "execution_count": 27,
   "metadata": {},
   "outputs": [],
   "source": [
    "def objective(trial, X, y):\n",
    "    # 参数网格\n",
    "    param_grid = {\n",
    "        \"objective\": \"binary\",\n",
    "        \"is_unbalance\": True,\n",
    "        \"metric\": \"auc\",\n",
    "        \"verbosity\": -1,\n",
    "        \"lambda_l1\": trial.suggest_float(\"lambda_l1\", 1e-8, 10.0, log=True),\n",
    "        \"lambda_l2\": trial.suggest_float(\"lambda_l2\", 1e-8, 10.0, log=True),\n",
    "        \"num_leaves\": trial.suggest_int(\"num_leaves\", 2, 256),\n",
    "        \"feature_fraction\": trial.suggest_float(\"feature_fraction\", 0.4, 1.0),\n",
    "        \"bagging_fraction\": trial.suggest_float(\"bagging_fraction\", 0.4, 1.0),\n",
    "        \"bagging_freq\": trial.suggest_int(\"bagging_freq\", 1, 7),\n",
    "        'learning_rate': trial.suggest_loguniform(\"learning_rate\", 1e-4, 1),\n",
    "        \"min_child_samples\": trial.suggest_int(\"min_child_samples\", 5, 100),\n",
    "        \"cat_smooth\": trial.suggest_int(\"cat_smooth\", 0, 100),\n",
    "        \"random_state\": 2021,\n",
    "    }\n",
    "    # 5折交叉验证\n",
    "    cv = StratifiedKFold(n_splits=5, shuffle=True, random_state=1121218)\n",
    "    cv_scores = np.empty(5)\n",
    "    \n",
    "    for idx, (train_idx, test_idx) in enumerate(cv.split(X, y)):\n",
    "        X_train, X_test = X.iloc[train_idx], X.iloc[test_idx]\n",
    "        y_train, y_test = y.iloc[train_idx], y.iloc[test_idx]\n",
    "        \n",
    "\n",
    "        # LGBM建模\n",
    "        model = lgbm.LGBMClassifier(**param_grid)\n",
    "        model.fit(\n",
    "            X_train,\n",
    "            y_train,\n",
    "            eval_set=[(X_test, y_test)],\n",
    "            eval_metric=\"roc_auc\",\n",
    "            early_stopping_rounds=100,\n",
    "            callbacks=[\n",
    "                LightGBMPruningCallback(trial, \"auc\")\n",
    "            ],\n",
    "        )\n",
    "        # 模型预测\n",
    "        preds = model.predict_proba(X_test)[:,1]\n",
    "        # 优化指标logloss最小\n",
    "        cv_scores[idx] = metrics.roc_auc_score(y_test, preds)\n",
    "\n",
    "    return np.mean(cv_scores)"
   ]
  },
  {
   "cell_type": "code",
   "execution_count": 29,
   "metadata": {
    "scrolled": true
   },
   "outputs": [
    {
     "name": "stderr",
     "output_type": "stream",
     "text": [
      "\u001b[32m[I 2021-10-19 23:03:57,526]\u001b[0m A new study created in memory with name: LGBM Classifier\u001b[0m\n",
      "/Users/brent/anaconda3/lib/python3.7/site-packages/optuna/progress_bar.py:47: ExperimentalWarning: Progress bar is experimental (supported from v1.2.0). The interface can change in the future.\n",
      "  self._init_valid()\n"
     ]
    },
    {
     "data": {
      "application/vnd.jupyter.widget-view+json": {
       "model_id": "149b7948031848e2b95ea6dd1cb820e7",
       "version_major": 2,
       "version_minor": 0
      },
      "text/plain": [
       "HBox(children=(FloatProgress(value=0.0, max=10.0), HTML(value='')))"
      ]
     },
     "metadata": {},
     "output_type": "display_data"
    },
    {
     "name": "stdout",
     "output_type": "stream",
     "text": [
      "[1]\tvalid_0's auc: 0.694737\n",
      "Training until validation scores don't improve for 100 rounds\n",
      "[2]\tvalid_0's auc: 0.706796\n",
      "[3]\tvalid_0's auc: 0.712423\n",
      "[4]\tvalid_0's auc: 0.71623\n",
      "[5]\tvalid_0's auc: 0.722133\n",
      "[6]\tvalid_0's auc: 0.725371\n",
      "[7]\tvalid_0's auc: 0.726452\n",
      "[8]\tvalid_0's auc: 0.728419\n",
      "[9]\tvalid_0's auc: 0.730559\n",
      "[10]\tvalid_0's auc: 0.731863\n",
      "[11]\tvalid_0's auc: 0.732806\n",
      "[12]\tvalid_0's auc: 0.733473\n",
      "[13]\tvalid_0's auc: 0.735035\n",
      "[14]\tvalid_0's auc: 0.736074\n",
      "[15]\tvalid_0's auc: 0.736691\n",
      "[16]\tvalid_0's auc: 0.737308\n",
      "[17]\tvalid_0's auc: 0.73798\n",
      "[18]\tvalid_0's auc: 0.738219\n",
      "[19]\tvalid_0's auc: 0.738477\n",
      "[20]\tvalid_0's auc: 0.738943\n",
      "[21]\tvalid_0's auc: 0.739443\n",
      "[22]\tvalid_0's auc: 0.739882\n",
      "[23]\tvalid_0's auc: 0.740043\n",
      "[24]\tvalid_0's auc: 0.739887\n",
      "[25]\tvalid_0's auc: 0.740218\n",
      "[26]\tvalid_0's auc: 0.740686\n",
      "[27]\tvalid_0's auc: 0.741035\n",
      "[28]\tvalid_0's auc: 0.741775\n",
      "[29]\tvalid_0's auc: 0.742002\n",
      "[30]\tvalid_0's auc: 0.741916\n",
      "[31]\tvalid_0's auc: 0.741988\n",
      "[32]\tvalid_0's auc: 0.742367\n",
      "[33]\tvalid_0's auc: 0.742648\n",
      "[34]\tvalid_0's auc: 0.742722\n",
      "[35]\tvalid_0's auc: 0.742716\n",
      "[36]\tvalid_0's auc: 0.742784\n",
      "[37]\tvalid_0's auc: 0.742929\n",
      "[38]\tvalid_0's auc: 0.743067\n",
      "[39]\tvalid_0's auc: 0.7432\n",
      "[40]\tvalid_0's auc: 0.74348\n",
      "[41]\tvalid_0's auc: 0.743557\n",
      "[42]\tvalid_0's auc: 0.74354\n",
      "[43]\tvalid_0's auc: 0.743612\n",
      "[44]\tvalid_0's auc: 0.743615\n",
      "[45]\tvalid_0's auc: 0.743777\n",
      "[46]\tvalid_0's auc: 0.7438\n",
      "[47]\tvalid_0's auc: 0.744024\n",
      "[48]\tvalid_0's auc: 0.744015\n",
      "[49]\tvalid_0's auc: 0.744164\n",
      "[50]\tvalid_0's auc: 0.744363\n",
      "[51]\tvalid_0's auc: 0.744368\n",
      "[52]\tvalid_0's auc: 0.744482\n",
      "[53]\tvalid_0's auc: 0.744457\n",
      "[54]\tvalid_0's auc: 0.744612\n",
      "[55]\tvalid_0's auc: 0.744718\n",
      "[56]\tvalid_0's auc: 0.745061\n",
      "[57]\tvalid_0's auc: 0.745117\n",
      "[58]\tvalid_0's auc: 0.745126\n",
      "[59]\tvalid_0's auc: 0.74522\n",
      "[60]\tvalid_0's auc: 0.745275\n",
      "[61]\tvalid_0's auc: 0.745343\n",
      "[62]\tvalid_0's auc: 0.745392\n",
      "[63]\tvalid_0's auc: 0.745418\n",
      "[64]\tvalid_0's auc: 0.74545\n",
      "[65]\tvalid_0's auc: 0.745495\n",
      "[66]\tvalid_0's auc: 0.745596\n",
      "[67]\tvalid_0's auc: 0.745581\n",
      "[68]\tvalid_0's auc: 0.74551\n",
      "[69]\tvalid_0's auc: 0.745498\n",
      "[70]\tvalid_0's auc: 0.745546\n",
      "[71]\tvalid_0's auc: 0.745642\n",
      "[72]\tvalid_0's auc: 0.745661\n",
      "[73]\tvalid_0's auc: 0.745752\n",
      "[74]\tvalid_0's auc: 0.745835\n",
      "[75]\tvalid_0's auc: 0.745809\n",
      "[76]\tvalid_0's auc: 0.745758\n",
      "[77]\tvalid_0's auc: 0.74595\n",
      "[78]\tvalid_0's auc: 0.746054\n",
      "[79]\tvalid_0's auc: 0.746161\n",
      "[80]\tvalid_0's auc: 0.746244\n",
      "[81]\tvalid_0's auc: 0.746318\n",
      "[82]\tvalid_0's auc: 0.746397\n",
      "[83]\tvalid_0's auc: 0.746453\n",
      "[84]\tvalid_0's auc: 0.746564\n",
      "[85]\tvalid_0's auc: 0.746674\n",
      "[86]\tvalid_0's auc: 0.746757\n",
      "[87]\tvalid_0's auc: 0.746862\n",
      "[88]\tvalid_0's auc: 0.746997\n",
      "[89]\tvalid_0's auc: 0.747056\n",
      "[90]\tvalid_0's auc: 0.747148\n",
      "[91]\tvalid_0's auc: 0.747186\n",
      "[92]\tvalid_0's auc: 0.747267\n",
      "[93]\tvalid_0's auc: 0.747339\n",
      "[94]\tvalid_0's auc: 0.747296\n",
      "[95]\tvalid_0's auc: 0.747313\n",
      "[96]\tvalid_0's auc: 0.747381\n",
      "[97]\tvalid_0's auc: 0.747471\n",
      "[98]\tvalid_0's auc: 0.747518\n",
      "[99]\tvalid_0's auc: 0.74752\n",
      "[100]\tvalid_0's auc: 0.747592\n",
      "Did not meet early stopping. Best iteration is:\n",
      "[100]\tvalid_0's auc: 0.747592\n",
      "[LightGBM] [Warning] bagging_freq is set=4, subsample_freq=0 will be ignored. Current value: bagging_freq=4\n",
      "[LightGBM] [Warning] lambda_l2 is set=4.933751695665716e-07, reg_lambda=0.0 will be ignored. Current value: lambda_l2=4.933751695665716e-07\n",
      "[LightGBM] [Warning] feature_fraction is set=0.7919946664722002, colsample_bytree=1.0 will be ignored. Current value: feature_fraction=0.7919946664722002\n",
      "[LightGBM] [Warning] bagging_fraction is set=0.6562859632656817, subsample=1.0 will be ignored. Current value: bagging_fraction=0.6562859632656817\n",
      "[LightGBM] [Warning] lambda_l1 is set=0.036654771066965894, reg_alpha=0.0 will be ignored. Current value: lambda_l1=0.036654771066965894\n"
     ]
    },
    {
     "name": "stderr",
     "output_type": "stream",
     "text": [
      "/Users/brent/anaconda3/lib/python3.7/site-packages/optuna/trial/_trial.py:592: UserWarning: The reported value is ignored because this `step` 0 is already reported.\n",
      "  step\n",
      "/Users/brent/anaconda3/lib/python3.7/site-packages/optuna/trial/_trial.py:592: UserWarning: The reported value is ignored because this `step` 1 is already reported.\n",
      "  step\n"
     ]
    },
    {
     "name": "stdout",
     "output_type": "stream",
     "text": [
      "[1]\tvalid_0's auc: 0.689812\n",
      "Training until validation scores don't improve for 100 rounds\n",
      "[2]\tvalid_0's auc: 0.706931\n"
     ]
    },
    {
     "name": "stderr",
     "output_type": "stream",
     "text": [
      "/Users/brent/anaconda3/lib/python3.7/site-packages/optuna/trial/_trial.py:592: UserWarning: The reported value is ignored because this `step` 2 is already reported.\n",
      "  step\n",
      "/Users/brent/anaconda3/lib/python3.7/site-packages/optuna/trial/_trial.py:592: UserWarning: The reported value is ignored because this `step` 3 is already reported.\n",
      "  step\n"
     ]
    },
    {
     "name": "stdout",
     "output_type": "stream",
     "text": [
      "[3]\tvalid_0's auc: 0.713548\n",
      "[4]\tvalid_0's auc: 0.717036\n"
     ]
    },
    {
     "name": "stderr",
     "output_type": "stream",
     "text": [
      "/Users/brent/anaconda3/lib/python3.7/site-packages/optuna/trial/_trial.py:592: UserWarning: The reported value is ignored because this `step` 4 is already reported.\n",
      "  step\n",
      "/Users/brent/anaconda3/lib/python3.7/site-packages/optuna/trial/_trial.py:592: UserWarning: The reported value is ignored because this `step` 5 is already reported.\n",
      "  step\n"
     ]
    },
    {
     "name": "stdout",
     "output_type": "stream",
     "text": [
      "[5]\tvalid_0's auc: 0.720905\n",
      "[6]\tvalid_0's auc: 0.723387\n"
     ]
    },
    {
     "name": "stderr",
     "output_type": "stream",
     "text": [
      "/Users/brent/anaconda3/lib/python3.7/site-packages/optuna/trial/_trial.py:592: UserWarning: The reported value is ignored because this `step` 6 is already reported.\n",
      "  step\n",
      "/Users/brent/anaconda3/lib/python3.7/site-packages/optuna/trial/_trial.py:592: UserWarning: The reported value is ignored because this `step` 7 is already reported.\n",
      "  step\n"
     ]
    },
    {
     "name": "stdout",
     "output_type": "stream",
     "text": [
      "[7]\tvalid_0's auc: 0.724711\n",
      "[8]\tvalid_0's auc: 0.726301\n"
     ]
    },
    {
     "name": "stderr",
     "output_type": "stream",
     "text": [
      "/Users/brent/anaconda3/lib/python3.7/site-packages/optuna/trial/_trial.py:592: UserWarning: The reported value is ignored because this `step` 8 is already reported.\n",
      "  step\n",
      "/Users/brent/anaconda3/lib/python3.7/site-packages/optuna/trial/_trial.py:592: UserWarning: The reported value is ignored because this `step` 9 is already reported.\n",
      "  step\n"
     ]
    },
    {
     "name": "stdout",
     "output_type": "stream",
     "text": [
      "[9]\tvalid_0's auc: 0.726812\n",
      "[10]\tvalid_0's auc: 0.726712\n"
     ]
    },
    {
     "name": "stderr",
     "output_type": "stream",
     "text": [
      "/Users/brent/anaconda3/lib/python3.7/site-packages/optuna/trial/_trial.py:592: UserWarning: The reported value is ignored because this `step` 10 is already reported.\n",
      "  step\n",
      "/Users/brent/anaconda3/lib/python3.7/site-packages/optuna/trial/_trial.py:592: UserWarning: The reported value is ignored because this `step` 11 is already reported.\n",
      "  step\n"
     ]
    },
    {
     "name": "stdout",
     "output_type": "stream",
     "text": [
      "[11]\tvalid_0's auc: 0.72711\n",
      "[12]\tvalid_0's auc: 0.726483\n"
     ]
    },
    {
     "name": "stderr",
     "output_type": "stream",
     "text": [
      "/Users/brent/anaconda3/lib/python3.7/site-packages/optuna/trial/_trial.py:592: UserWarning: The reported value is ignored because this `step` 12 is already reported.\n",
      "  step\n",
      "/Users/brent/anaconda3/lib/python3.7/site-packages/optuna/trial/_trial.py:592: UserWarning: The reported value is ignored because this `step` 13 is already reported.\n",
      "  step\n"
     ]
    },
    {
     "name": "stdout",
     "output_type": "stream",
     "text": [
      "[13]\tvalid_0's auc: 0.728151\n",
      "[14]\tvalid_0's auc: 0.728876\n"
     ]
    },
    {
     "name": "stderr",
     "output_type": "stream",
     "text": [
      "/Users/brent/anaconda3/lib/python3.7/site-packages/optuna/trial/_trial.py:592: UserWarning: The reported value is ignored because this `step` 14 is already reported.\n",
      "  step\n",
      "/Users/brent/anaconda3/lib/python3.7/site-packages/optuna/trial/_trial.py:592: UserWarning: The reported value is ignored because this `step` 15 is already reported.\n",
      "  step\n"
     ]
    },
    {
     "name": "stdout",
     "output_type": "stream",
     "text": [
      "[15]\tvalid_0's auc: 0.729007\n",
      "[16]\tvalid_0's auc: 0.729652\n"
     ]
    },
    {
     "name": "stderr",
     "output_type": "stream",
     "text": [
      "/Users/brent/anaconda3/lib/python3.7/site-packages/optuna/trial/_trial.py:592: UserWarning: The reported value is ignored because this `step` 16 is already reported.\n",
      "  step\n",
      "/Users/brent/anaconda3/lib/python3.7/site-packages/optuna/trial/_trial.py:592: UserWarning: The reported value is ignored because this `step` 17 is already reported.\n",
      "  step\n"
     ]
    },
    {
     "name": "stdout",
     "output_type": "stream",
     "text": [
      "[17]\tvalid_0's auc: 0.730053\n",
      "[18]\tvalid_0's auc: 0.730433\n"
     ]
    },
    {
     "name": "stderr",
     "output_type": "stream",
     "text": [
      "/Users/brent/anaconda3/lib/python3.7/site-packages/optuna/trial/_trial.py:592: UserWarning: The reported value is ignored because this `step` 18 is already reported.\n",
      "  step\n",
      "/Users/brent/anaconda3/lib/python3.7/site-packages/optuna/trial/_trial.py:592: UserWarning: The reported value is ignored because this `step` 19 is already reported.\n",
      "  step\n"
     ]
    },
    {
     "name": "stdout",
     "output_type": "stream",
     "text": [
      "[19]\tvalid_0's auc: 0.730947\n",
      "[20]\tvalid_0's auc: 0.73122\n"
     ]
    },
    {
     "name": "stderr",
     "output_type": "stream",
     "text": [
      "/Users/brent/anaconda3/lib/python3.7/site-packages/optuna/trial/_trial.py:592: UserWarning: The reported value is ignored because this `step` 20 is already reported.\n",
      "  step\n",
      "/Users/brent/anaconda3/lib/python3.7/site-packages/optuna/trial/_trial.py:592: UserWarning: The reported value is ignored because this `step` 21 is already reported.\n",
      "  step\n"
     ]
    },
    {
     "name": "stdout",
     "output_type": "stream",
     "text": [
      "[21]\tvalid_0's auc: 0.731751\n",
      "[22]\tvalid_0's auc: 0.731959\n"
     ]
    },
    {
     "name": "stderr",
     "output_type": "stream",
     "text": [
      "/Users/brent/anaconda3/lib/python3.7/site-packages/optuna/trial/_trial.py:592: UserWarning: The reported value is ignored because this `step` 22 is already reported.\n",
      "  step\n",
      "/Users/brent/anaconda3/lib/python3.7/site-packages/optuna/trial/_trial.py:592: UserWarning: The reported value is ignored because this `step` 23 is already reported.\n",
      "  step\n"
     ]
    },
    {
     "name": "stdout",
     "output_type": "stream",
     "text": [
      "[23]\tvalid_0's auc: 0.732278\n",
      "[24]\tvalid_0's auc: 0.732492\n"
     ]
    },
    {
     "name": "stderr",
     "output_type": "stream",
     "text": [
      "/Users/brent/anaconda3/lib/python3.7/site-packages/optuna/trial/_trial.py:592: UserWarning: The reported value is ignored because this `step` 24 is already reported.\n",
      "  step\n",
      "/Users/brent/anaconda3/lib/python3.7/site-packages/optuna/trial/_trial.py:592: UserWarning: The reported value is ignored because this `step` 25 is already reported.\n",
      "  step\n"
     ]
    },
    {
     "name": "stdout",
     "output_type": "stream",
     "text": [
      "[25]\tvalid_0's auc: 0.732856\n",
      "[26]\tvalid_0's auc: 0.732985\n"
     ]
    },
    {
     "name": "stderr",
     "output_type": "stream",
     "text": [
      "/Users/brent/anaconda3/lib/python3.7/site-packages/optuna/trial/_trial.py:592: UserWarning: The reported value is ignored because this `step` 26 is already reported.\n",
      "  step\n",
      "/Users/brent/anaconda3/lib/python3.7/site-packages/optuna/trial/_trial.py:592: UserWarning: The reported value is ignored because this `step` 27 is already reported.\n",
      "  step\n"
     ]
    },
    {
     "name": "stdout",
     "output_type": "stream",
     "text": [
      "[27]\tvalid_0's auc: 0.733276\n",
      "[28]\tvalid_0's auc: 0.734054\n"
     ]
    },
    {
     "name": "stderr",
     "output_type": "stream",
     "text": [
      "/Users/brent/anaconda3/lib/python3.7/site-packages/optuna/trial/_trial.py:592: UserWarning: The reported value is ignored because this `step` 28 is already reported.\n",
      "  step\n",
      "/Users/brent/anaconda3/lib/python3.7/site-packages/optuna/trial/_trial.py:592: UserWarning: The reported value is ignored because this `step` 29 is already reported.\n",
      "  step\n"
     ]
    },
    {
     "name": "stdout",
     "output_type": "stream",
     "text": [
      "[29]\tvalid_0's auc: 0.734296\n",
      "[30]\tvalid_0's auc: 0.734487\n"
     ]
    },
    {
     "name": "stderr",
     "output_type": "stream",
     "text": [
      "/Users/brent/anaconda3/lib/python3.7/site-packages/optuna/trial/_trial.py:592: UserWarning: The reported value is ignored because this `step` 30 is already reported.\n",
      "  step\n",
      "/Users/brent/anaconda3/lib/python3.7/site-packages/optuna/trial/_trial.py:592: UserWarning: The reported value is ignored because this `step` 31 is already reported.\n",
      "  step\n"
     ]
    },
    {
     "name": "stdout",
     "output_type": "stream",
     "text": [
      "[31]\tvalid_0's auc: 0.734876\n",
      "[32]\tvalid_0's auc: 0.735396\n"
     ]
    },
    {
     "name": "stderr",
     "output_type": "stream",
     "text": [
      "/Users/brent/anaconda3/lib/python3.7/site-packages/optuna/trial/_trial.py:592: UserWarning: The reported value is ignored because this `step` 32 is already reported.\n",
      "  step\n",
      "/Users/brent/anaconda3/lib/python3.7/site-packages/optuna/trial/_trial.py:592: UserWarning: The reported value is ignored because this `step` 33 is already reported.\n",
      "  step\n"
     ]
    },
    {
     "name": "stdout",
     "output_type": "stream",
     "text": [
      "[33]\tvalid_0's auc: 0.735685\n",
      "[34]\tvalid_0's auc: 0.735897\n"
     ]
    },
    {
     "name": "stderr",
     "output_type": "stream",
     "text": [
      "/Users/brent/anaconda3/lib/python3.7/site-packages/optuna/trial/_trial.py:592: UserWarning: The reported value is ignored because this `step` 34 is already reported.\n",
      "  step\n"
     ]
    },
    {
     "name": "stdout",
     "output_type": "stream",
     "text": [
      "[35]\tvalid_0's auc: 0.735961\n"
     ]
    },
    {
     "name": "stderr",
     "output_type": "stream",
     "text": [
      "/Users/brent/anaconda3/lib/python3.7/site-packages/optuna/trial/_trial.py:592: UserWarning: The reported value is ignored because this `step` 35 is already reported.\n",
      "  step\n",
      "/Users/brent/anaconda3/lib/python3.7/site-packages/optuna/trial/_trial.py:592: UserWarning: The reported value is ignored because this `step` 36 is already reported.\n",
      "  step\n"
     ]
    },
    {
     "name": "stdout",
     "output_type": "stream",
     "text": [
      "[36]\tvalid_0's auc: 0.736068\n",
      "[37]\tvalid_0's auc: 0.736168\n"
     ]
    },
    {
     "name": "stderr",
     "output_type": "stream",
     "text": [
      "/Users/brent/anaconda3/lib/python3.7/site-packages/optuna/trial/_trial.py:592: UserWarning: The reported value is ignored because this `step` 37 is already reported.\n",
      "  step\n",
      "/Users/brent/anaconda3/lib/python3.7/site-packages/optuna/trial/_trial.py:592: UserWarning: The reported value is ignored because this `step` 38 is already reported.\n",
      "  step\n"
     ]
    },
    {
     "name": "stdout",
     "output_type": "stream",
     "text": [
      "[38]\tvalid_0's auc: 0.736382\n",
      "[39]\tvalid_0's auc: 0.736462\n"
     ]
    },
    {
     "name": "stderr",
     "output_type": "stream",
     "text": [
      "/Users/brent/anaconda3/lib/python3.7/site-packages/optuna/trial/_trial.py:592: UserWarning: The reported value is ignored because this `step` 39 is already reported.\n",
      "  step\n"
     ]
    },
    {
     "name": "stdout",
     "output_type": "stream",
     "text": [
      "[40]\tvalid_0's auc: 0.736843\n"
     ]
    },
    {
     "name": "stderr",
     "output_type": "stream",
     "text": [
      "/Users/brent/anaconda3/lib/python3.7/site-packages/optuna/trial/_trial.py:592: UserWarning: The reported value is ignored because this `step` 40 is already reported.\n",
      "  step\n",
      "/Users/brent/anaconda3/lib/python3.7/site-packages/optuna/trial/_trial.py:592: UserWarning: The reported value is ignored because this `step` 41 is already reported.\n",
      "  step\n"
     ]
    },
    {
     "name": "stdout",
     "output_type": "stream",
     "text": [
      "[41]\tvalid_0's auc: 0.737149\n",
      "[42]\tvalid_0's auc: 0.737371\n"
     ]
    },
    {
     "name": "stderr",
     "output_type": "stream",
     "text": [
      "/Users/brent/anaconda3/lib/python3.7/site-packages/optuna/trial/_trial.py:592: UserWarning: The reported value is ignored because this `step` 42 is already reported.\n",
      "  step\n"
     ]
    },
    {
     "name": "stdout",
     "output_type": "stream",
     "text": [
      "[43]\tvalid_0's auc: 0.737569\n"
     ]
    },
    {
     "name": "stderr",
     "output_type": "stream",
     "text": [
      "/Users/brent/anaconda3/lib/python3.7/site-packages/optuna/trial/_trial.py:592: UserWarning: The reported value is ignored because this `step` 43 is already reported.\n",
      "  step\n"
     ]
    },
    {
     "name": "stdout",
     "output_type": "stream",
     "text": [
      "[44]\tvalid_0's auc: 0.737631\n"
     ]
    },
    {
     "name": "stderr",
     "output_type": "stream",
     "text": [
      "/Users/brent/anaconda3/lib/python3.7/site-packages/optuna/trial/_trial.py:592: UserWarning: The reported value is ignored because this `step` 44 is already reported.\n",
      "  step\n",
      "/Users/brent/anaconda3/lib/python3.7/site-packages/optuna/trial/_trial.py:592: UserWarning: The reported value is ignored because this `step` 45 is already reported.\n",
      "  step\n"
     ]
    },
    {
     "name": "stdout",
     "output_type": "stream",
     "text": [
      "[45]\tvalid_0's auc: 0.737721\n",
      "[46]\tvalid_0's auc: 0.737836\n"
     ]
    },
    {
     "name": "stderr",
     "output_type": "stream",
     "text": [
      "/Users/brent/anaconda3/lib/python3.7/site-packages/optuna/trial/_trial.py:592: UserWarning: The reported value is ignored because this `step` 46 is already reported.\n",
      "  step\n"
     ]
    },
    {
     "name": "stdout",
     "output_type": "stream",
     "text": [
      "[47]\tvalid_0's auc: 0.737895\n"
     ]
    },
    {
     "name": "stderr",
     "output_type": "stream",
     "text": [
      "/Users/brent/anaconda3/lib/python3.7/site-packages/optuna/trial/_trial.py:592: UserWarning: The reported value is ignored because this `step` 47 is already reported.\n",
      "  step\n"
     ]
    },
    {
     "name": "stdout",
     "output_type": "stream",
     "text": [
      "[48]\tvalid_0's auc: 0.737888\n"
     ]
    },
    {
     "name": "stderr",
     "output_type": "stream",
     "text": [
      "/Users/brent/anaconda3/lib/python3.7/site-packages/optuna/trial/_trial.py:592: UserWarning: The reported value is ignored because this `step` 48 is already reported.\n",
      "  step\n",
      "/Users/brent/anaconda3/lib/python3.7/site-packages/optuna/trial/_trial.py:592: UserWarning: The reported value is ignored because this `step` 49 is already reported.\n",
      "  step\n"
     ]
    },
    {
     "name": "stdout",
     "output_type": "stream",
     "text": [
      "[49]\tvalid_0's auc: 0.737994\n",
      "[50]\tvalid_0's auc: 0.738047\n"
     ]
    },
    {
     "name": "stderr",
     "output_type": "stream",
     "text": [
      "/Users/brent/anaconda3/lib/python3.7/site-packages/optuna/trial/_trial.py:592: UserWarning: The reported value is ignored because this `step` 50 is already reported.\n",
      "  step\n",
      "/Users/brent/anaconda3/lib/python3.7/site-packages/optuna/trial/_trial.py:592: UserWarning: The reported value is ignored because this `step` 51 is already reported.\n",
      "  step\n"
     ]
    },
    {
     "name": "stdout",
     "output_type": "stream",
     "text": [
      "[51]\tvalid_0's auc: 0.738097\n",
      "[52]\tvalid_0's auc: 0.738202\n"
     ]
    },
    {
     "name": "stderr",
     "output_type": "stream",
     "text": [
      "/Users/brent/anaconda3/lib/python3.7/site-packages/optuna/trial/_trial.py:592: UserWarning: The reported value is ignored because this `step` 52 is already reported.\n",
      "  step\n",
      "/Users/brent/anaconda3/lib/python3.7/site-packages/optuna/trial/_trial.py:592: UserWarning: The reported value is ignored because this `step` 53 is already reported.\n",
      "  step\n"
     ]
    },
    {
     "name": "stdout",
     "output_type": "stream",
     "text": [
      "[53]\tvalid_0's auc: 0.738427\n",
      "[54]\tvalid_0's auc: 0.738534\n"
     ]
    },
    {
     "name": "stderr",
     "output_type": "stream",
     "text": [
      "/Users/brent/anaconda3/lib/python3.7/site-packages/optuna/trial/_trial.py:592: UserWarning: The reported value is ignored because this `step` 54 is already reported.\n",
      "  step\n",
      "/Users/brent/anaconda3/lib/python3.7/site-packages/optuna/trial/_trial.py:592: UserWarning: The reported value is ignored because this `step` 55 is already reported.\n",
      "  step\n"
     ]
    },
    {
     "name": "stdout",
     "output_type": "stream",
     "text": [
      "[55]\tvalid_0's auc: 0.738631\n",
      "[56]\tvalid_0's auc: 0.739077\n"
     ]
    },
    {
     "name": "stderr",
     "output_type": "stream",
     "text": [
      "/Users/brent/anaconda3/lib/python3.7/site-packages/optuna/trial/_trial.py:592: UserWarning: The reported value is ignored because this `step` 56 is already reported.\n",
      "  step\n",
      "/Users/brent/anaconda3/lib/python3.7/site-packages/optuna/trial/_trial.py:592: UserWarning: The reported value is ignored because this `step` 57 is already reported.\n",
      "  step\n"
     ]
    },
    {
     "name": "stdout",
     "output_type": "stream",
     "text": [
      "[57]\tvalid_0's auc: 0.7393\n",
      "[58]\tvalid_0's auc: 0.739487\n"
     ]
    },
    {
     "name": "stderr",
     "output_type": "stream",
     "text": [
      "/Users/brent/anaconda3/lib/python3.7/site-packages/optuna/trial/_trial.py:592: UserWarning: The reported value is ignored because this `step` 58 is already reported.\n",
      "  step\n",
      "/Users/brent/anaconda3/lib/python3.7/site-packages/optuna/trial/_trial.py:592: UserWarning: The reported value is ignored because this `step` 59 is already reported.\n",
      "  step\n"
     ]
    },
    {
     "name": "stdout",
     "output_type": "stream",
     "text": [
      "[59]\tvalid_0's auc: 0.739641\n",
      "[60]\tvalid_0's auc: 0.739828\n"
     ]
    },
    {
     "name": "stderr",
     "output_type": "stream",
     "text": [
      "/Users/brent/anaconda3/lib/python3.7/site-packages/optuna/trial/_trial.py:592: UserWarning: The reported value is ignored because this `step` 60 is already reported.\n",
      "  step\n",
      "/Users/brent/anaconda3/lib/python3.7/site-packages/optuna/trial/_trial.py:592: UserWarning: The reported value is ignored because this `step` 61 is already reported.\n",
      "  step\n"
     ]
    },
    {
     "name": "stdout",
     "output_type": "stream",
     "text": [
      "[61]\tvalid_0's auc: 0.739878\n",
      "[62]\tvalid_0's auc: 0.739812\n"
     ]
    },
    {
     "name": "stderr",
     "output_type": "stream",
     "text": [
      "/Users/brent/anaconda3/lib/python3.7/site-packages/optuna/trial/_trial.py:592: UserWarning: The reported value is ignored because this `step` 62 is already reported.\n",
      "  step\n",
      "/Users/brent/anaconda3/lib/python3.7/site-packages/optuna/trial/_trial.py:592: UserWarning: The reported value is ignored because this `step` 63 is already reported.\n",
      "  step\n"
     ]
    },
    {
     "name": "stdout",
     "output_type": "stream",
     "text": [
      "[63]\tvalid_0's auc: 0.739816\n",
      "[64]\tvalid_0's auc: 0.739917\n"
     ]
    },
    {
     "name": "stderr",
     "output_type": "stream",
     "text": [
      "/Users/brent/anaconda3/lib/python3.7/site-packages/optuna/trial/_trial.py:592: UserWarning: The reported value is ignored because this `step` 64 is already reported.\n",
      "  step\n",
      "/Users/brent/anaconda3/lib/python3.7/site-packages/optuna/trial/_trial.py:592: UserWarning: The reported value is ignored because this `step` 65 is already reported.\n",
      "  step\n"
     ]
    },
    {
     "name": "stdout",
     "output_type": "stream",
     "text": [
      "[65]\tvalid_0's auc: 0.740078\n",
      "[66]\tvalid_0's auc: 0.74025\n"
     ]
    },
    {
     "name": "stderr",
     "output_type": "stream",
     "text": [
      "/Users/brent/anaconda3/lib/python3.7/site-packages/optuna/trial/_trial.py:592: UserWarning: The reported value is ignored because this `step` 66 is already reported.\n",
      "  step\n",
      "/Users/brent/anaconda3/lib/python3.7/site-packages/optuna/trial/_trial.py:592: UserWarning: The reported value is ignored because this `step` 67 is already reported.\n",
      "  step\n"
     ]
    },
    {
     "name": "stdout",
     "output_type": "stream",
     "text": [
      "[67]\tvalid_0's auc: 0.740465\n",
      "[68]\tvalid_0's auc: 0.740482\n"
     ]
    },
    {
     "name": "stderr",
     "output_type": "stream",
     "text": [
      "/Users/brent/anaconda3/lib/python3.7/site-packages/optuna/trial/_trial.py:592: UserWarning: The reported value is ignored because this `step` 68 is already reported.\n",
      "  step\n",
      "/Users/brent/anaconda3/lib/python3.7/site-packages/optuna/trial/_trial.py:592: UserWarning: The reported value is ignored because this `step` 69 is already reported.\n",
      "  step\n"
     ]
    },
    {
     "name": "stdout",
     "output_type": "stream",
     "text": [
      "[69]\tvalid_0's auc: 0.74072\n",
      "[70]\tvalid_0's auc: 0.740796\n"
     ]
    },
    {
     "name": "stderr",
     "output_type": "stream",
     "text": [
      "/Users/brent/anaconda3/lib/python3.7/site-packages/optuna/trial/_trial.py:592: UserWarning: The reported value is ignored because this `step` 70 is already reported.\n",
      "  step\n",
      "/Users/brent/anaconda3/lib/python3.7/site-packages/optuna/trial/_trial.py:592: UserWarning: The reported value is ignored because this `step` 71 is already reported.\n",
      "  step\n"
     ]
    },
    {
     "name": "stdout",
     "output_type": "stream",
     "text": [
      "[71]\tvalid_0's auc: 0.74094\n",
      "[72]\tvalid_0's auc: 0.741122\n"
     ]
    },
    {
     "name": "stderr",
     "output_type": "stream",
     "text": [
      "/Users/brent/anaconda3/lib/python3.7/site-packages/optuna/trial/_trial.py:592: UserWarning: The reported value is ignored because this `step` 72 is already reported.\n",
      "  step\n"
     ]
    },
    {
     "name": "stdout",
     "output_type": "stream",
     "text": [
      "[73]\tvalid_0's auc: 0.741197\n"
     ]
    },
    {
     "name": "stderr",
     "output_type": "stream",
     "text": [
      "/Users/brent/anaconda3/lib/python3.7/site-packages/optuna/trial/_trial.py:592: UserWarning: The reported value is ignored because this `step` 73 is already reported.\n",
      "  step\n",
      "/Users/brent/anaconda3/lib/python3.7/site-packages/optuna/trial/_trial.py:592: UserWarning: The reported value is ignored because this `step` 74 is already reported.\n",
      "  step\n"
     ]
    },
    {
     "name": "stdout",
     "output_type": "stream",
     "text": [
      "[74]\tvalid_0's auc: 0.741263\n",
      "[75]\tvalid_0's auc: 0.741341\n"
     ]
    },
    {
     "name": "stderr",
     "output_type": "stream",
     "text": [
      "/Users/brent/anaconda3/lib/python3.7/site-packages/optuna/trial/_trial.py:592: UserWarning: The reported value is ignored because this `step` 75 is already reported.\n",
      "  step\n",
      "/Users/brent/anaconda3/lib/python3.7/site-packages/optuna/trial/_trial.py:592: UserWarning: The reported value is ignored because this `step` 76 is already reported.\n",
      "  step\n"
     ]
    },
    {
     "name": "stdout",
     "output_type": "stream",
     "text": [
      "[76]\tvalid_0's auc: 0.741446\n",
      "[77]\tvalid_0's auc: 0.741514\n"
     ]
    },
    {
     "name": "stderr",
     "output_type": "stream",
     "text": [
      "/Users/brent/anaconda3/lib/python3.7/site-packages/optuna/trial/_trial.py:592: UserWarning: The reported value is ignored because this `step` 77 is already reported.\n",
      "  step\n",
      "/Users/brent/anaconda3/lib/python3.7/site-packages/optuna/trial/_trial.py:592: UserWarning: The reported value is ignored because this `step` 78 is already reported.\n",
      "  step\n"
     ]
    },
    {
     "name": "stdout",
     "output_type": "stream",
     "text": [
      "[78]\tvalid_0's auc: 0.741612\n",
      "[79]\tvalid_0's auc: 0.741727\n"
     ]
    },
    {
     "name": "stderr",
     "output_type": "stream",
     "text": [
      "/Users/brent/anaconda3/lib/python3.7/site-packages/optuna/trial/_trial.py:592: UserWarning: The reported value is ignored because this `step` 79 is already reported.\n",
      "  step\n",
      "/Users/brent/anaconda3/lib/python3.7/site-packages/optuna/trial/_trial.py:592: UserWarning: The reported value is ignored because this `step` 80 is already reported.\n",
      "  step\n"
     ]
    },
    {
     "name": "stdout",
     "output_type": "stream",
     "text": [
      "[80]\tvalid_0's auc: 0.741796\n",
      "[81]\tvalid_0's auc: 0.741853\n"
     ]
    },
    {
     "name": "stderr",
     "output_type": "stream",
     "text": [
      "/Users/brent/anaconda3/lib/python3.7/site-packages/optuna/trial/_trial.py:592: UserWarning: The reported value is ignored because this `step` 81 is already reported.\n",
      "  step\n",
      "/Users/brent/anaconda3/lib/python3.7/site-packages/optuna/trial/_trial.py:592: UserWarning: The reported value is ignored because this `step` 82 is already reported.\n",
      "  step\n"
     ]
    },
    {
     "name": "stdout",
     "output_type": "stream",
     "text": [
      "[82]\tvalid_0's auc: 0.741946\n",
      "[83]\tvalid_0's auc: 0.741953\n"
     ]
    },
    {
     "name": "stderr",
     "output_type": "stream",
     "text": [
      "/Users/brent/anaconda3/lib/python3.7/site-packages/optuna/trial/_trial.py:592: UserWarning: The reported value is ignored because this `step` 83 is already reported.\n",
      "  step\n"
     ]
    },
    {
     "name": "stdout",
     "output_type": "stream",
     "text": [
      "[84]\tvalid_0's auc: 0.741997\n"
     ]
    },
    {
     "name": "stderr",
     "output_type": "stream",
     "text": [
      "/Users/brent/anaconda3/lib/python3.7/site-packages/optuna/trial/_trial.py:592: UserWarning: The reported value is ignored because this `step` 84 is already reported.\n",
      "  step\n"
     ]
    },
    {
     "name": "stdout",
     "output_type": "stream",
     "text": [
      "[85]\tvalid_0's auc: 0.742036\n"
     ]
    },
    {
     "name": "stderr",
     "output_type": "stream",
     "text": [
      "/Users/brent/anaconda3/lib/python3.7/site-packages/optuna/trial/_trial.py:592: UserWarning: The reported value is ignored because this `step` 85 is already reported.\n",
      "  step\n",
      "/Users/brent/anaconda3/lib/python3.7/site-packages/optuna/trial/_trial.py:592: UserWarning: The reported value is ignored because this `step` 86 is already reported.\n",
      "  step\n"
     ]
    },
    {
     "name": "stdout",
     "output_type": "stream",
     "text": [
      "[86]\tvalid_0's auc: 0.742087\n",
      "[87]\tvalid_0's auc: 0.742157\n"
     ]
    },
    {
     "name": "stderr",
     "output_type": "stream",
     "text": [
      "/Users/brent/anaconda3/lib/python3.7/site-packages/optuna/trial/_trial.py:592: UserWarning: The reported value is ignored because this `step` 87 is already reported.\n",
      "  step\n",
      "/Users/brent/anaconda3/lib/python3.7/site-packages/optuna/trial/_trial.py:592: UserWarning: The reported value is ignored because this `step` 88 is already reported.\n",
      "  step\n"
     ]
    },
    {
     "name": "stdout",
     "output_type": "stream",
     "text": [
      "[88]\tvalid_0's auc: 0.74216\n",
      "[89]\tvalid_0's auc: 0.74224\n"
     ]
    },
    {
     "name": "stderr",
     "output_type": "stream",
     "text": [
      "/Users/brent/anaconda3/lib/python3.7/site-packages/optuna/trial/_trial.py:592: UserWarning: The reported value is ignored because this `step` 89 is already reported.\n",
      "  step\n",
      "/Users/brent/anaconda3/lib/python3.7/site-packages/optuna/trial/_trial.py:592: UserWarning: The reported value is ignored because this `step` 90 is already reported.\n",
      "  step\n"
     ]
    },
    {
     "name": "stdout",
     "output_type": "stream",
     "text": [
      "[90]\tvalid_0's auc: 0.742356\n",
      "[91]\tvalid_0's auc: 0.742448\n"
     ]
    },
    {
     "name": "stderr",
     "output_type": "stream",
     "text": [
      "/Users/brent/anaconda3/lib/python3.7/site-packages/optuna/trial/_trial.py:592: UserWarning: The reported value is ignored because this `step` 91 is already reported.\n",
      "  step\n",
      "/Users/brent/anaconda3/lib/python3.7/site-packages/optuna/trial/_trial.py:592: UserWarning: The reported value is ignored because this `step` 92 is already reported.\n",
      "  step\n"
     ]
    },
    {
     "name": "stdout",
     "output_type": "stream",
     "text": [
      "[92]\tvalid_0's auc: 0.742571\n",
      "[93]\tvalid_0's auc: 0.742609\n"
     ]
    },
    {
     "name": "stderr",
     "output_type": "stream",
     "text": [
      "/Users/brent/anaconda3/lib/python3.7/site-packages/optuna/trial/_trial.py:592: UserWarning: The reported value is ignored because this `step` 93 is already reported.\n",
      "  step\n",
      "/Users/brent/anaconda3/lib/python3.7/site-packages/optuna/trial/_trial.py:592: UserWarning: The reported value is ignored because this `step` 94 is already reported.\n",
      "  step\n"
     ]
    },
    {
     "name": "stdout",
     "output_type": "stream",
     "text": [
      "[94]\tvalid_0's auc: 0.742628\n",
      "[95]\tvalid_0's auc: 0.742627\n"
     ]
    },
    {
     "name": "stderr",
     "output_type": "stream",
     "text": [
      "/Users/brent/anaconda3/lib/python3.7/site-packages/optuna/trial/_trial.py:592: UserWarning: The reported value is ignored because this `step` 95 is already reported.\n",
      "  step\n",
      "/Users/brent/anaconda3/lib/python3.7/site-packages/optuna/trial/_trial.py:592: UserWarning: The reported value is ignored because this `step` 96 is already reported.\n",
      "  step\n"
     ]
    },
    {
     "name": "stdout",
     "output_type": "stream",
     "text": [
      "[96]\tvalid_0's auc: 0.742707\n",
      "[97]\tvalid_0's auc: 0.742711\n"
     ]
    },
    {
     "name": "stderr",
     "output_type": "stream",
     "text": [
      "/Users/brent/anaconda3/lib/python3.7/site-packages/optuna/trial/_trial.py:592: UserWarning: The reported value is ignored because this `step` 97 is already reported.\n",
      "  step\n",
      "/Users/brent/anaconda3/lib/python3.7/site-packages/optuna/trial/_trial.py:592: UserWarning: The reported value is ignored because this `step` 98 is already reported.\n",
      "  step\n"
     ]
    },
    {
     "name": "stdout",
     "output_type": "stream",
     "text": [
      "[98]\tvalid_0's auc: 0.742698\n",
      "[99]\tvalid_0's auc: 0.742681\n"
     ]
    },
    {
     "name": "stderr",
     "output_type": "stream",
     "text": [
      "/Users/brent/anaconda3/lib/python3.7/site-packages/optuna/trial/_trial.py:592: UserWarning: The reported value is ignored because this `step` 99 is already reported.\n",
      "  step\n"
     ]
    },
    {
     "name": "stdout",
     "output_type": "stream",
     "text": [
      "[100]\tvalid_0's auc: 0.742807\n",
      "Did not meet early stopping. Best iteration is:\n",
      "[100]\tvalid_0's auc: 0.742807\n",
      "[LightGBM] [Warning] bagging_freq is set=4, subsample_freq=0 will be ignored. Current value: bagging_freq=4\n",
      "[LightGBM] [Warning] lambda_l2 is set=4.933751695665716e-07, reg_lambda=0.0 will be ignored. Current value: lambda_l2=4.933751695665716e-07\n",
      "[LightGBM] [Warning] feature_fraction is set=0.7919946664722002, colsample_bytree=1.0 will be ignored. Current value: feature_fraction=0.7919946664722002\n",
      "[LightGBM] [Warning] bagging_fraction is set=0.6562859632656817, subsample=1.0 will be ignored. Current value: bagging_fraction=0.6562859632656817\n",
      "[LightGBM] [Warning] lambda_l1 is set=0.036654771066965894, reg_alpha=0.0 will be ignored. Current value: lambda_l1=0.036654771066965894\n"
     ]
    },
    {
     "name": "stderr",
     "output_type": "stream",
     "text": [
      "/Users/brent/anaconda3/lib/python3.7/site-packages/optuna/trial/_trial.py:592: UserWarning: The reported value is ignored because this `step` 0 is already reported.\n",
      "  step\n",
      "/Users/brent/anaconda3/lib/python3.7/site-packages/optuna/trial/_trial.py:592: UserWarning: The reported value is ignored because this `step` 1 is already reported.\n",
      "  step\n"
     ]
    },
    {
     "name": "stdout",
     "output_type": "stream",
     "text": [
      "[1]\tvalid_0's auc: 0.693424\n",
      "Training until validation scores don't improve for 100 rounds\n",
      "[2]\tvalid_0's auc: 0.708104\n"
     ]
    },
    {
     "name": "stderr",
     "output_type": "stream",
     "text": [
      "/Users/brent/anaconda3/lib/python3.7/site-packages/optuna/trial/_trial.py:592: UserWarning: The reported value is ignored because this `step` 2 is already reported.\n",
      "  step\n",
      "/Users/brent/anaconda3/lib/python3.7/site-packages/optuna/trial/_trial.py:592: UserWarning: The reported value is ignored because this `step` 3 is already reported.\n",
      "  step\n"
     ]
    },
    {
     "name": "stdout",
     "output_type": "stream",
     "text": [
      "[3]\tvalid_0's auc: 0.715375\n",
      "[4]\tvalid_0's auc: 0.719711\n"
     ]
    },
    {
     "name": "stderr",
     "output_type": "stream",
     "text": [
      "/Users/brent/anaconda3/lib/python3.7/site-packages/optuna/trial/_trial.py:592: UserWarning: The reported value is ignored because this `step` 4 is already reported.\n",
      "  step\n",
      "/Users/brent/anaconda3/lib/python3.7/site-packages/optuna/trial/_trial.py:592: UserWarning: The reported value is ignored because this `step` 5 is already reported.\n",
      "  step\n"
     ]
    },
    {
     "name": "stdout",
     "output_type": "stream",
     "text": [
      "[5]\tvalid_0's auc: 0.724532\n",
      "[6]\tvalid_0's auc: 0.726453\n"
     ]
    },
    {
     "name": "stderr",
     "output_type": "stream",
     "text": [
      "/Users/brent/anaconda3/lib/python3.7/site-packages/optuna/trial/_trial.py:592: UserWarning: The reported value is ignored because this `step` 6 is already reported.\n",
      "  step\n",
      "/Users/brent/anaconda3/lib/python3.7/site-packages/optuna/trial/_trial.py:592: UserWarning: The reported value is ignored because this `step` 7 is already reported.\n",
      "  step\n"
     ]
    },
    {
     "name": "stdout",
     "output_type": "stream",
     "text": [
      "[7]\tvalid_0's auc: 0.72759\n",
      "[8]\tvalid_0's auc: 0.728635\n"
     ]
    },
    {
     "name": "stderr",
     "output_type": "stream",
     "text": [
      "/Users/brent/anaconda3/lib/python3.7/site-packages/optuna/trial/_trial.py:592: UserWarning: The reported value is ignored because this `step` 8 is already reported.\n",
      "  step\n",
      "/Users/brent/anaconda3/lib/python3.7/site-packages/optuna/trial/_trial.py:592: UserWarning: The reported value is ignored because this `step` 9 is already reported.\n",
      "  step\n"
     ]
    },
    {
     "name": "stdout",
     "output_type": "stream",
     "text": [
      "[9]\tvalid_0's auc: 0.730316\n",
      "[10]\tvalid_0's auc: 0.730953\n"
     ]
    },
    {
     "name": "stderr",
     "output_type": "stream",
     "text": [
      "/Users/brent/anaconda3/lib/python3.7/site-packages/optuna/trial/_trial.py:592: UserWarning: The reported value is ignored because this `step` 10 is already reported.\n",
      "  step\n",
      "/Users/brent/anaconda3/lib/python3.7/site-packages/optuna/trial/_trial.py:592: UserWarning: The reported value is ignored because this `step` 11 is already reported.\n",
      "  step\n"
     ]
    },
    {
     "name": "stdout",
     "output_type": "stream",
     "text": [
      "[11]\tvalid_0's auc: 0.731169\n",
      "[12]\tvalid_0's auc: 0.731652\n"
     ]
    },
    {
     "name": "stderr",
     "output_type": "stream",
     "text": [
      "/Users/brent/anaconda3/lib/python3.7/site-packages/optuna/trial/_trial.py:592: UserWarning: The reported value is ignored because this `step` 12 is already reported.\n",
      "  step\n",
      "/Users/brent/anaconda3/lib/python3.7/site-packages/optuna/trial/_trial.py:592: UserWarning: The reported value is ignored because this `step` 13 is already reported.\n",
      "  step\n"
     ]
    },
    {
     "name": "stdout",
     "output_type": "stream",
     "text": [
      "[13]\tvalid_0's auc: 0.732654\n",
      "[14]\tvalid_0's auc: 0.733761\n"
     ]
    },
    {
     "name": "stderr",
     "output_type": "stream",
     "text": [
      "/Users/brent/anaconda3/lib/python3.7/site-packages/optuna/trial/_trial.py:592: UserWarning: The reported value is ignored because this `step` 14 is already reported.\n",
      "  step\n",
      "/Users/brent/anaconda3/lib/python3.7/site-packages/optuna/trial/_trial.py:592: UserWarning: The reported value is ignored because this `step` 15 is already reported.\n",
      "  step\n"
     ]
    },
    {
     "name": "stdout",
     "output_type": "stream",
     "text": [
      "[15]\tvalid_0's auc: 0.734531\n",
      "[16]\tvalid_0's auc: 0.734712\n"
     ]
    },
    {
     "name": "stderr",
     "output_type": "stream",
     "text": [
      "/Users/brent/anaconda3/lib/python3.7/site-packages/optuna/trial/_trial.py:592: UserWarning: The reported value is ignored because this `step` 16 is already reported.\n",
      "  step\n"
     ]
    },
    {
     "name": "stdout",
     "output_type": "stream",
     "text": [
      "[17]\tvalid_0's auc: 0.735365\n"
     ]
    },
    {
     "name": "stderr",
     "output_type": "stream",
     "text": [
      "/Users/brent/anaconda3/lib/python3.7/site-packages/optuna/trial/_trial.py:592: UserWarning: The reported value is ignored because this `step` 17 is already reported.\n",
      "  step\n",
      "/Users/brent/anaconda3/lib/python3.7/site-packages/optuna/trial/_trial.py:592: UserWarning: The reported value is ignored because this `step` 18 is already reported.\n",
      "  step\n"
     ]
    },
    {
     "name": "stdout",
     "output_type": "stream",
     "text": [
      "[18]\tvalid_0's auc: 0.736213\n",
      "[19]\tvalid_0's auc: 0.736371\n"
     ]
    },
    {
     "name": "stderr",
     "output_type": "stream",
     "text": [
      "/Users/brent/anaconda3/lib/python3.7/site-packages/optuna/trial/_trial.py:592: UserWarning: The reported value is ignored because this `step` 19 is already reported.\n",
      "  step\n",
      "/Users/brent/anaconda3/lib/python3.7/site-packages/optuna/trial/_trial.py:592: UserWarning: The reported value is ignored because this `step` 20 is already reported.\n",
      "  step\n"
     ]
    },
    {
     "name": "stdout",
     "output_type": "stream",
     "text": [
      "[20]\tvalid_0's auc: 0.73629\n",
      "[21]\tvalid_0's auc: 0.73653\n"
     ]
    },
    {
     "name": "stderr",
     "output_type": "stream",
     "text": [
      "/Users/brent/anaconda3/lib/python3.7/site-packages/optuna/trial/_trial.py:592: UserWarning: The reported value is ignored because this `step` 21 is already reported.\n",
      "  step\n",
      "/Users/brent/anaconda3/lib/python3.7/site-packages/optuna/trial/_trial.py:592: UserWarning: The reported value is ignored because this `step` 22 is already reported.\n",
      "  step\n"
     ]
    },
    {
     "name": "stdout",
     "output_type": "stream",
     "text": [
      "[22]\tvalid_0's auc: 0.736789\n",
      "[23]\tvalid_0's auc: 0.737206\n"
     ]
    },
    {
     "name": "stderr",
     "output_type": "stream",
     "text": [
      "/Users/brent/anaconda3/lib/python3.7/site-packages/optuna/trial/_trial.py:592: UserWarning: The reported value is ignored because this `step` 23 is already reported.\n",
      "  step\n",
      "/Users/brent/anaconda3/lib/python3.7/site-packages/optuna/trial/_trial.py:592: UserWarning: The reported value is ignored because this `step` 24 is already reported.\n",
      "  step\n"
     ]
    },
    {
     "name": "stdout",
     "output_type": "stream",
     "text": [
      "[24]\tvalid_0's auc: 0.737261\n",
      "[25]\tvalid_0's auc: 0.737735\n"
     ]
    },
    {
     "name": "stderr",
     "output_type": "stream",
     "text": [
      "/Users/brent/anaconda3/lib/python3.7/site-packages/optuna/trial/_trial.py:592: UserWarning: The reported value is ignored because this `step` 25 is already reported.\n",
      "  step\n",
      "/Users/brent/anaconda3/lib/python3.7/site-packages/optuna/trial/_trial.py:592: UserWarning: The reported value is ignored because this `step` 26 is already reported.\n",
      "  step\n"
     ]
    },
    {
     "name": "stdout",
     "output_type": "stream",
     "text": [
      "[26]\tvalid_0's auc: 0.738278\n",
      "[27]\tvalid_0's auc: 0.738688\n"
     ]
    },
    {
     "name": "stderr",
     "output_type": "stream",
     "text": [
      "/Users/brent/anaconda3/lib/python3.7/site-packages/optuna/trial/_trial.py:592: UserWarning: The reported value is ignored because this `step` 27 is already reported.\n",
      "  step\n",
      "/Users/brent/anaconda3/lib/python3.7/site-packages/optuna/trial/_trial.py:592: UserWarning: The reported value is ignored because this `step` 28 is already reported.\n",
      "  step\n"
     ]
    },
    {
     "name": "stdout",
     "output_type": "stream",
     "text": [
      "[28]\tvalid_0's auc: 0.739466\n",
      "[29]\tvalid_0's auc: 0.739778\n"
     ]
    },
    {
     "name": "stderr",
     "output_type": "stream",
     "text": [
      "/Users/brent/anaconda3/lib/python3.7/site-packages/optuna/trial/_trial.py:592: UserWarning: The reported value is ignored because this `step` 29 is already reported.\n",
      "  step\n",
      "/Users/brent/anaconda3/lib/python3.7/site-packages/optuna/trial/_trial.py:592: UserWarning: The reported value is ignored because this `step` 30 is already reported.\n",
      "  step\n"
     ]
    },
    {
     "name": "stdout",
     "output_type": "stream",
     "text": [
      "[30]\tvalid_0's auc: 0.739922\n",
      "[31]\tvalid_0's auc: 0.740284\n"
     ]
    },
    {
     "name": "stderr",
     "output_type": "stream",
     "text": [
      "/Users/brent/anaconda3/lib/python3.7/site-packages/optuna/trial/_trial.py:592: UserWarning: The reported value is ignored because this `step` 31 is already reported.\n",
      "  step\n",
      "/Users/brent/anaconda3/lib/python3.7/site-packages/optuna/trial/_trial.py:592: UserWarning: The reported value is ignored because this `step` 32 is already reported.\n",
      "  step\n"
     ]
    },
    {
     "name": "stdout",
     "output_type": "stream",
     "text": [
      "[32]\tvalid_0's auc: 0.740832\n",
      "[33]\tvalid_0's auc: 0.740957\n"
     ]
    },
    {
     "name": "stderr",
     "output_type": "stream",
     "text": [
      "/Users/brent/anaconda3/lib/python3.7/site-packages/optuna/trial/_trial.py:592: UserWarning: The reported value is ignored because this `step` 33 is already reported.\n",
      "  step\n",
      "/Users/brent/anaconda3/lib/python3.7/site-packages/optuna/trial/_trial.py:592: UserWarning: The reported value is ignored because this `step` 34 is already reported.\n",
      "  step\n"
     ]
    },
    {
     "name": "stdout",
     "output_type": "stream",
     "text": [
      "[34]\tvalid_0's auc: 0.741009\n",
      "[35]\tvalid_0's auc: 0.74116\n"
     ]
    },
    {
     "name": "stderr",
     "output_type": "stream",
     "text": [
      "/Users/brent/anaconda3/lib/python3.7/site-packages/optuna/trial/_trial.py:592: UserWarning: The reported value is ignored because this `step` 35 is already reported.\n",
      "  step\n",
      "/Users/brent/anaconda3/lib/python3.7/site-packages/optuna/trial/_trial.py:592: UserWarning: The reported value is ignored because this `step` 36 is already reported.\n",
      "  step\n"
     ]
    },
    {
     "name": "stdout",
     "output_type": "stream",
     "text": [
      "[36]\tvalid_0's auc: 0.741159\n",
      "[37]\tvalid_0's auc: 0.741356\n"
     ]
    },
    {
     "name": "stderr",
     "output_type": "stream",
     "text": [
      "/Users/brent/anaconda3/lib/python3.7/site-packages/optuna/trial/_trial.py:592: UserWarning: The reported value is ignored because this `step` 37 is already reported.\n",
      "  step\n"
     ]
    },
    {
     "name": "stdout",
     "output_type": "stream",
     "text": [
      "[38]\tvalid_0's auc: 0.741401\n"
     ]
    },
    {
     "name": "stderr",
     "output_type": "stream",
     "text": [
      "/Users/brent/anaconda3/lib/python3.7/site-packages/optuna/trial/_trial.py:592: UserWarning: The reported value is ignored because this `step` 38 is already reported.\n",
      "  step\n",
      "/Users/brent/anaconda3/lib/python3.7/site-packages/optuna/trial/_trial.py:592: UserWarning: The reported value is ignored because this `step` 39 is already reported.\n",
      "  step\n"
     ]
    },
    {
     "name": "stdout",
     "output_type": "stream",
     "text": [
      "[39]\tvalid_0's auc: 0.74161\n",
      "[40]\tvalid_0's auc: 0.741966\n"
     ]
    },
    {
     "name": "stderr",
     "output_type": "stream",
     "text": [
      "/Users/brent/anaconda3/lib/python3.7/site-packages/optuna/trial/_trial.py:592: UserWarning: The reported value is ignored because this `step` 40 is already reported.\n",
      "  step\n",
      "/Users/brent/anaconda3/lib/python3.7/site-packages/optuna/trial/_trial.py:592: UserWarning: The reported value is ignored because this `step` 41 is already reported.\n",
      "  step\n"
     ]
    },
    {
     "name": "stdout",
     "output_type": "stream",
     "text": [
      "[41]\tvalid_0's auc: 0.741975\n",
      "[42]\tvalid_0's auc: 0.742081\n"
     ]
    },
    {
     "name": "stderr",
     "output_type": "stream",
     "text": [
      "/Users/brent/anaconda3/lib/python3.7/site-packages/optuna/trial/_trial.py:592: UserWarning: The reported value is ignored because this `step` 42 is already reported.\n",
      "  step\n",
      "/Users/brent/anaconda3/lib/python3.7/site-packages/optuna/trial/_trial.py:592: UserWarning: The reported value is ignored because this `step` 43 is already reported.\n",
      "  step\n"
     ]
    },
    {
     "name": "stdout",
     "output_type": "stream",
     "text": [
      "[43]\tvalid_0's auc: 0.742351\n",
      "[44]\tvalid_0's auc: 0.742302\n"
     ]
    },
    {
     "name": "stderr",
     "output_type": "stream",
     "text": [
      "/Users/brent/anaconda3/lib/python3.7/site-packages/optuna/trial/_trial.py:592: UserWarning: The reported value is ignored because this `step` 44 is already reported.\n",
      "  step\n",
      "/Users/brent/anaconda3/lib/python3.7/site-packages/optuna/trial/_trial.py:592: UserWarning: The reported value is ignored because this `step` 45 is already reported.\n",
      "  step\n"
     ]
    },
    {
     "name": "stdout",
     "output_type": "stream",
     "text": [
      "[45]\tvalid_0's auc: 0.742432\n",
      "[46]\tvalid_0's auc: 0.742552\n"
     ]
    },
    {
     "name": "stderr",
     "output_type": "stream",
     "text": [
      "/Users/brent/anaconda3/lib/python3.7/site-packages/optuna/trial/_trial.py:592: UserWarning: The reported value is ignored because this `step` 46 is already reported.\n",
      "  step\n",
      "/Users/brent/anaconda3/lib/python3.7/site-packages/optuna/trial/_trial.py:592: UserWarning: The reported value is ignored because this `step` 47 is already reported.\n",
      "  step\n"
     ]
    },
    {
     "name": "stdout",
     "output_type": "stream",
     "text": [
      "[47]\tvalid_0's auc: 0.742611\n",
      "[48]\tvalid_0's auc: 0.74268\n"
     ]
    },
    {
     "name": "stderr",
     "output_type": "stream",
     "text": [
      "/Users/brent/anaconda3/lib/python3.7/site-packages/optuna/trial/_trial.py:592: UserWarning: The reported value is ignored because this `step` 48 is already reported.\n",
      "  step\n",
      "/Users/brent/anaconda3/lib/python3.7/site-packages/optuna/trial/_trial.py:592: UserWarning: The reported value is ignored because this `step` 49 is already reported.\n",
      "  step\n"
     ]
    },
    {
     "name": "stdout",
     "output_type": "stream",
     "text": [
      "[49]\tvalid_0's auc: 0.742788\n",
      "[50]\tvalid_0's auc: 0.742881\n"
     ]
    },
    {
     "name": "stderr",
     "output_type": "stream",
     "text": [
      "/Users/brent/anaconda3/lib/python3.7/site-packages/optuna/trial/_trial.py:592: UserWarning: The reported value is ignored because this `step` 50 is already reported.\n",
      "  step\n"
     ]
    },
    {
     "name": "stdout",
     "output_type": "stream",
     "text": [
      "[51]\tvalid_0's auc: 0.742992\n"
     ]
    },
    {
     "name": "stderr",
     "output_type": "stream",
     "text": [
      "/Users/brent/anaconda3/lib/python3.7/site-packages/optuna/trial/_trial.py:592: UserWarning: The reported value is ignored because this `step` 51 is already reported.\n",
      "  step\n",
      "/Users/brent/anaconda3/lib/python3.7/site-packages/optuna/trial/_trial.py:592: UserWarning: The reported value is ignored because this `step` 52 is already reported.\n",
      "  step\n"
     ]
    },
    {
     "name": "stdout",
     "output_type": "stream",
     "text": [
      "[52]\tvalid_0's auc: 0.743071\n",
      "[53]\tvalid_0's auc: 0.743193\n"
     ]
    },
    {
     "name": "stderr",
     "output_type": "stream",
     "text": [
      "/Users/brent/anaconda3/lib/python3.7/site-packages/optuna/trial/_trial.py:592: UserWarning: The reported value is ignored because this `step` 53 is already reported.\n",
      "  step\n"
     ]
    },
    {
     "name": "stdout",
     "output_type": "stream",
     "text": [
      "[54]\tvalid_0's auc: 0.743268\n"
     ]
    },
    {
     "name": "stderr",
     "output_type": "stream",
     "text": [
      "/Users/brent/anaconda3/lib/python3.7/site-packages/optuna/trial/_trial.py:592: UserWarning: The reported value is ignored because this `step` 54 is already reported.\n",
      "  step\n",
      "/Users/brent/anaconda3/lib/python3.7/site-packages/optuna/trial/_trial.py:592: UserWarning: The reported value is ignored because this `step` 55 is already reported.\n",
      "  step\n"
     ]
    },
    {
     "name": "stdout",
     "output_type": "stream",
     "text": [
      "[55]\tvalid_0's auc: 0.743308\n",
      "[56]\tvalid_0's auc: 0.743577\n"
     ]
    },
    {
     "name": "stderr",
     "output_type": "stream",
     "text": [
      "/Users/brent/anaconda3/lib/python3.7/site-packages/optuna/trial/_trial.py:592: UserWarning: The reported value is ignored because this `step` 56 is already reported.\n",
      "  step\n",
      "/Users/brent/anaconda3/lib/python3.7/site-packages/optuna/trial/_trial.py:592: UserWarning: The reported value is ignored because this `step` 57 is already reported.\n",
      "  step\n"
     ]
    },
    {
     "name": "stdout",
     "output_type": "stream",
     "text": [
      "[57]\tvalid_0's auc: 0.743852\n",
      "[58]\tvalid_0's auc: 0.744031\n"
     ]
    },
    {
     "name": "stderr",
     "output_type": "stream",
     "text": [
      "/Users/brent/anaconda3/lib/python3.7/site-packages/optuna/trial/_trial.py:592: UserWarning: The reported value is ignored because this `step` 58 is already reported.\n",
      "  step\n",
      "/Users/brent/anaconda3/lib/python3.7/site-packages/optuna/trial/_trial.py:592: UserWarning: The reported value is ignored because this `step` 59 is already reported.\n",
      "  step\n"
     ]
    },
    {
     "name": "stdout",
     "output_type": "stream",
     "text": [
      "[59]\tvalid_0's auc: 0.74433\n",
      "[60]\tvalid_0's auc: 0.744521\n"
     ]
    },
    {
     "name": "stderr",
     "output_type": "stream",
     "text": [
      "/Users/brent/anaconda3/lib/python3.7/site-packages/optuna/trial/_trial.py:592: UserWarning: The reported value is ignored because this `step` 60 is already reported.\n",
      "  step\n",
      "/Users/brent/anaconda3/lib/python3.7/site-packages/optuna/trial/_trial.py:592: UserWarning: The reported value is ignored because this `step` 61 is already reported.\n",
      "  step\n"
     ]
    },
    {
     "name": "stdout",
     "output_type": "stream",
     "text": [
      "[61]\tvalid_0's auc: 0.744661\n",
      "[62]\tvalid_0's auc: 0.744651\n"
     ]
    },
    {
     "name": "stderr",
     "output_type": "stream",
     "text": [
      "/Users/brent/anaconda3/lib/python3.7/site-packages/optuna/trial/_trial.py:592: UserWarning: The reported value is ignored because this `step` 62 is already reported.\n",
      "  step\n",
      "/Users/brent/anaconda3/lib/python3.7/site-packages/optuna/trial/_trial.py:592: UserWarning: The reported value is ignored because this `step` 63 is already reported.\n",
      "  step\n"
     ]
    },
    {
     "name": "stdout",
     "output_type": "stream",
     "text": [
      "[63]\tvalid_0's auc: 0.744769\n",
      "[64]\tvalid_0's auc: 0.74486\n"
     ]
    },
    {
     "name": "stderr",
     "output_type": "stream",
     "text": [
      "/Users/brent/anaconda3/lib/python3.7/site-packages/optuna/trial/_trial.py:592: UserWarning: The reported value is ignored because this `step` 64 is already reported.\n",
      "  step\n",
      "/Users/brent/anaconda3/lib/python3.7/site-packages/optuna/trial/_trial.py:592: UserWarning: The reported value is ignored because this `step` 65 is already reported.\n",
      "  step\n"
     ]
    },
    {
     "name": "stdout",
     "output_type": "stream",
     "text": [
      "[65]\tvalid_0's auc: 0.744882\n",
      "[66]\tvalid_0's auc: 0.744891\n"
     ]
    },
    {
     "name": "stderr",
     "output_type": "stream",
     "text": [
      "/Users/brent/anaconda3/lib/python3.7/site-packages/optuna/trial/_trial.py:592: UserWarning: The reported value is ignored because this `step` 66 is already reported.\n",
      "  step\n",
      "/Users/brent/anaconda3/lib/python3.7/site-packages/optuna/trial/_trial.py:592: UserWarning: The reported value is ignored because this `step` 67 is already reported.\n",
      "  step\n"
     ]
    },
    {
     "name": "stdout",
     "output_type": "stream",
     "text": [
      "[67]\tvalid_0's auc: 0.744913\n",
      "[68]\tvalid_0's auc: 0.744927\n"
     ]
    },
    {
     "name": "stderr",
     "output_type": "stream",
     "text": [
      "/Users/brent/anaconda3/lib/python3.7/site-packages/optuna/trial/_trial.py:592: UserWarning: The reported value is ignored because this `step` 68 is already reported.\n",
      "  step\n",
      "/Users/brent/anaconda3/lib/python3.7/site-packages/optuna/trial/_trial.py:592: UserWarning: The reported value is ignored because this `step` 69 is already reported.\n",
      "  step\n"
     ]
    },
    {
     "name": "stdout",
     "output_type": "stream",
     "text": [
      "[69]\tvalid_0's auc: 0.745012\n",
      "[70]\tvalid_0's auc: 0.745125\n"
     ]
    },
    {
     "name": "stderr",
     "output_type": "stream",
     "text": [
      "/Users/brent/anaconda3/lib/python3.7/site-packages/optuna/trial/_trial.py:592: UserWarning: The reported value is ignored because this `step` 70 is already reported.\n",
      "  step\n",
      "/Users/brent/anaconda3/lib/python3.7/site-packages/optuna/trial/_trial.py:592: UserWarning: The reported value is ignored because this `step` 71 is already reported.\n",
      "  step\n"
     ]
    },
    {
     "name": "stdout",
     "output_type": "stream",
     "text": [
      "[71]\tvalid_0's auc: 0.745155\n",
      "[72]\tvalid_0's auc: 0.745232\n"
     ]
    },
    {
     "name": "stderr",
     "output_type": "stream",
     "text": [
      "/Users/brent/anaconda3/lib/python3.7/site-packages/optuna/trial/_trial.py:592: UserWarning: The reported value is ignored because this `step` 72 is already reported.\n",
      "  step\n",
      "/Users/brent/anaconda3/lib/python3.7/site-packages/optuna/trial/_trial.py:592: UserWarning: The reported value is ignored because this `step` 73 is already reported.\n",
      "  step\n"
     ]
    },
    {
     "name": "stdout",
     "output_type": "stream",
     "text": [
      "[73]\tvalid_0's auc: 0.745319\n",
      "[74]\tvalid_0's auc: 0.745395\n"
     ]
    },
    {
     "name": "stderr",
     "output_type": "stream",
     "text": [
      "/Users/brent/anaconda3/lib/python3.7/site-packages/optuna/trial/_trial.py:592: UserWarning: The reported value is ignored because this `step` 74 is already reported.\n",
      "  step\n",
      "/Users/brent/anaconda3/lib/python3.7/site-packages/optuna/trial/_trial.py:592: UserWarning: The reported value is ignored because this `step` 75 is already reported.\n",
      "  step\n"
     ]
    },
    {
     "name": "stdout",
     "output_type": "stream",
     "text": [
      "[75]\tvalid_0's auc: 0.745401\n",
      "[76]\tvalid_0's auc: 0.745471\n"
     ]
    },
    {
     "name": "stderr",
     "output_type": "stream",
     "text": [
      "/Users/brent/anaconda3/lib/python3.7/site-packages/optuna/trial/_trial.py:592: UserWarning: The reported value is ignored because this `step` 76 is already reported.\n",
      "  step\n",
      "/Users/brent/anaconda3/lib/python3.7/site-packages/optuna/trial/_trial.py:592: UserWarning: The reported value is ignored because this `step` 77 is already reported.\n",
      "  step\n"
     ]
    },
    {
     "name": "stdout",
     "output_type": "stream",
     "text": [
      "[77]\tvalid_0's auc: 0.745665\n",
      "[78]\tvalid_0's auc: 0.745782\n"
     ]
    },
    {
     "name": "stderr",
     "output_type": "stream",
     "text": [
      "/Users/brent/anaconda3/lib/python3.7/site-packages/optuna/trial/_trial.py:592: UserWarning: The reported value is ignored because this `step` 78 is already reported.\n",
      "  step\n",
      "/Users/brent/anaconda3/lib/python3.7/site-packages/optuna/trial/_trial.py:592: UserWarning: The reported value is ignored because this `step` 79 is already reported.\n",
      "  step\n"
     ]
    },
    {
     "name": "stdout",
     "output_type": "stream",
     "text": [
      "[79]\tvalid_0's auc: 0.745912\n",
      "[80]\tvalid_0's auc: 0.745994\n"
     ]
    },
    {
     "name": "stderr",
     "output_type": "stream",
     "text": [
      "/Users/brent/anaconda3/lib/python3.7/site-packages/optuna/trial/_trial.py:592: UserWarning: The reported value is ignored because this `step` 80 is already reported.\n",
      "  step\n",
      "/Users/brent/anaconda3/lib/python3.7/site-packages/optuna/trial/_trial.py:592: UserWarning: The reported value is ignored because this `step` 81 is already reported.\n",
      "  step\n"
     ]
    },
    {
     "name": "stdout",
     "output_type": "stream",
     "text": [
      "[81]\tvalid_0's auc: 0.746094\n",
      "[82]\tvalid_0's auc: 0.74611\n"
     ]
    },
    {
     "name": "stderr",
     "output_type": "stream",
     "text": [
      "/Users/brent/anaconda3/lib/python3.7/site-packages/optuna/trial/_trial.py:592: UserWarning: The reported value is ignored because this `step` 82 is already reported.\n",
      "  step\n",
      "/Users/brent/anaconda3/lib/python3.7/site-packages/optuna/trial/_trial.py:592: UserWarning: The reported value is ignored because this `step` 83 is already reported.\n",
      "  step\n"
     ]
    },
    {
     "name": "stdout",
     "output_type": "stream",
     "text": [
      "[83]\tvalid_0's auc: 0.746123\n",
      "[84]\tvalid_0's auc: 0.746168\n"
     ]
    },
    {
     "name": "stderr",
     "output_type": "stream",
     "text": [
      "/Users/brent/anaconda3/lib/python3.7/site-packages/optuna/trial/_trial.py:592: UserWarning: The reported value is ignored because this `step` 84 is already reported.\n",
      "  step\n",
      "/Users/brent/anaconda3/lib/python3.7/site-packages/optuna/trial/_trial.py:592: UserWarning: The reported value is ignored because this `step` 85 is already reported.\n",
      "  step\n"
     ]
    },
    {
     "name": "stdout",
     "output_type": "stream",
     "text": [
      "[85]\tvalid_0's auc: 0.74627\n",
      "[86]\tvalid_0's auc: 0.746328\n"
     ]
    },
    {
     "name": "stderr",
     "output_type": "stream",
     "text": [
      "/Users/brent/anaconda3/lib/python3.7/site-packages/optuna/trial/_trial.py:592: UserWarning: The reported value is ignored because this `step` 86 is already reported.\n",
      "  step\n",
      "/Users/brent/anaconda3/lib/python3.7/site-packages/optuna/trial/_trial.py:592: UserWarning: The reported value is ignored because this `step` 87 is already reported.\n",
      "  step\n"
     ]
    },
    {
     "name": "stdout",
     "output_type": "stream",
     "text": [
      "[87]\tvalid_0's auc: 0.746413\n",
      "[88]\tvalid_0's auc: 0.74643\n"
     ]
    },
    {
     "name": "stderr",
     "output_type": "stream",
     "text": [
      "/Users/brent/anaconda3/lib/python3.7/site-packages/optuna/trial/_trial.py:592: UserWarning: The reported value is ignored because this `step` 88 is already reported.\n",
      "  step\n",
      "/Users/brent/anaconda3/lib/python3.7/site-packages/optuna/trial/_trial.py:592: UserWarning: The reported value is ignored because this `step` 89 is already reported.\n",
      "  step\n"
     ]
    },
    {
     "name": "stdout",
     "output_type": "stream",
     "text": [
      "[89]\tvalid_0's auc: 0.746503\n",
      "[90]\tvalid_0's auc: 0.746531\n"
     ]
    },
    {
     "name": "stderr",
     "output_type": "stream",
     "text": [
      "/Users/brent/anaconda3/lib/python3.7/site-packages/optuna/trial/_trial.py:592: UserWarning: The reported value is ignored because this `step` 90 is already reported.\n",
      "  step\n",
      "/Users/brent/anaconda3/lib/python3.7/site-packages/optuna/trial/_trial.py:592: UserWarning: The reported value is ignored because this `step` 91 is already reported.\n",
      "  step\n"
     ]
    },
    {
     "name": "stdout",
     "output_type": "stream",
     "text": [
      "[91]\tvalid_0's auc: 0.746553\n",
      "[92]\tvalid_0's auc: 0.746644\n"
     ]
    },
    {
     "name": "stderr",
     "output_type": "stream",
     "text": [
      "/Users/brent/anaconda3/lib/python3.7/site-packages/optuna/trial/_trial.py:592: UserWarning: The reported value is ignored because this `step` 92 is already reported.\n",
      "  step\n",
      "/Users/brent/anaconda3/lib/python3.7/site-packages/optuna/trial/_trial.py:592: UserWarning: The reported value is ignored because this `step` 93 is already reported.\n",
      "  step\n"
     ]
    },
    {
     "name": "stdout",
     "output_type": "stream",
     "text": [
      "[93]\tvalid_0's auc: 0.746754\n",
      "[94]\tvalid_0's auc: 0.746848\n"
     ]
    },
    {
     "name": "stderr",
     "output_type": "stream",
     "text": [
      "/Users/brent/anaconda3/lib/python3.7/site-packages/optuna/trial/_trial.py:592: UserWarning: The reported value is ignored because this `step` 94 is already reported.\n",
      "  step\n",
      "/Users/brent/anaconda3/lib/python3.7/site-packages/optuna/trial/_trial.py:592: UserWarning: The reported value is ignored because this `step` 95 is already reported.\n",
      "  step\n"
     ]
    },
    {
     "name": "stdout",
     "output_type": "stream",
     "text": [
      "[95]\tvalid_0's auc: 0.746927\n",
      "[96]\tvalid_0's auc: 0.747041\n"
     ]
    },
    {
     "name": "stderr",
     "output_type": "stream",
     "text": [
      "/Users/brent/anaconda3/lib/python3.7/site-packages/optuna/trial/_trial.py:592: UserWarning: The reported value is ignored because this `step` 96 is already reported.\n",
      "  step\n",
      "/Users/brent/anaconda3/lib/python3.7/site-packages/optuna/trial/_trial.py:592: UserWarning: The reported value is ignored because this `step` 97 is already reported.\n",
      "  step\n"
     ]
    },
    {
     "name": "stdout",
     "output_type": "stream",
     "text": [
      "[97]\tvalid_0's auc: 0.747092\n",
      "[98]\tvalid_0's auc: 0.747129\n"
     ]
    },
    {
     "name": "stderr",
     "output_type": "stream",
     "text": [
      "/Users/brent/anaconda3/lib/python3.7/site-packages/optuna/trial/_trial.py:592: UserWarning: The reported value is ignored because this `step` 98 is already reported.\n",
      "  step\n",
      "/Users/brent/anaconda3/lib/python3.7/site-packages/optuna/trial/_trial.py:592: UserWarning: The reported value is ignored because this `step` 99 is already reported.\n",
      "  step\n"
     ]
    },
    {
     "name": "stdout",
     "output_type": "stream",
     "text": [
      "[99]\tvalid_0's auc: 0.747211\n",
      "[100]\tvalid_0's auc: 0.747272\n",
      "Did not meet early stopping. Best iteration is:\n",
      "[100]\tvalid_0's auc: 0.747272\n",
      "[LightGBM] [Warning] bagging_freq is set=4, subsample_freq=0 will be ignored. Current value: bagging_freq=4\n",
      "[LightGBM] [Warning] lambda_l2 is set=4.933751695665716e-07, reg_lambda=0.0 will be ignored. Current value: lambda_l2=4.933751695665716e-07\n",
      "[LightGBM] [Warning] feature_fraction is set=0.7919946664722002, colsample_bytree=1.0 will be ignored. Current value: feature_fraction=0.7919946664722002\n",
      "[LightGBM] [Warning] bagging_fraction is set=0.6562859632656817, subsample=1.0 will be ignored. Current value: bagging_fraction=0.6562859632656817\n",
      "[LightGBM] [Warning] lambda_l1 is set=0.036654771066965894, reg_alpha=0.0 will be ignored. Current value: lambda_l1=0.036654771066965894\n"
     ]
    },
    {
     "name": "stderr",
     "output_type": "stream",
     "text": [
      "/Users/brent/anaconda3/lib/python3.7/site-packages/optuna/trial/_trial.py:592: UserWarning: The reported value is ignored because this `step` 0 is already reported.\n",
      "  step\n",
      "/Users/brent/anaconda3/lib/python3.7/site-packages/optuna/trial/_trial.py:592: UserWarning: The reported value is ignored because this `step` 1 is already reported.\n",
      "  step\n"
     ]
    },
    {
     "name": "stdout",
     "output_type": "stream",
     "text": [
      "[1]\tvalid_0's auc: 0.696979\n",
      "Training until validation scores don't improve for 100 rounds\n",
      "[2]\tvalid_0's auc: 0.712054\n"
     ]
    },
    {
     "name": "stderr",
     "output_type": "stream",
     "text": [
      "/Users/brent/anaconda3/lib/python3.7/site-packages/optuna/trial/_trial.py:592: UserWarning: The reported value is ignored because this `step` 2 is already reported.\n",
      "  step\n",
      "/Users/brent/anaconda3/lib/python3.7/site-packages/optuna/trial/_trial.py:592: UserWarning: The reported value is ignored because this `step` 3 is already reported.\n",
      "  step\n"
     ]
    },
    {
     "name": "stdout",
     "output_type": "stream",
     "text": [
      "[3]\tvalid_0's auc: 0.717965\n",
      "[4]\tvalid_0's auc: 0.719575\n"
     ]
    },
    {
     "name": "stderr",
     "output_type": "stream",
     "text": [
      "/Users/brent/anaconda3/lib/python3.7/site-packages/optuna/trial/_trial.py:592: UserWarning: The reported value is ignored because this `step` 4 is already reported.\n",
      "  step\n",
      "/Users/brent/anaconda3/lib/python3.7/site-packages/optuna/trial/_trial.py:592: UserWarning: The reported value is ignored because this `step` 5 is already reported.\n",
      "  step\n"
     ]
    },
    {
     "name": "stdout",
     "output_type": "stream",
     "text": [
      "[5]\tvalid_0's auc: 0.725091\n",
      "[6]\tvalid_0's auc: 0.727992\n"
     ]
    },
    {
     "name": "stderr",
     "output_type": "stream",
     "text": [
      "/Users/brent/anaconda3/lib/python3.7/site-packages/optuna/trial/_trial.py:592: UserWarning: The reported value is ignored because this `step` 6 is already reported.\n",
      "  step\n",
      "/Users/brent/anaconda3/lib/python3.7/site-packages/optuna/trial/_trial.py:592: UserWarning: The reported value is ignored because this `step` 7 is already reported.\n",
      "  step\n"
     ]
    },
    {
     "name": "stdout",
     "output_type": "stream",
     "text": [
      "[7]\tvalid_0's auc: 0.729959\n",
      "[8]\tvalid_0's auc: 0.731208\n"
     ]
    },
    {
     "name": "stderr",
     "output_type": "stream",
     "text": [
      "/Users/brent/anaconda3/lib/python3.7/site-packages/optuna/trial/_trial.py:592: UserWarning: The reported value is ignored because this `step` 8 is already reported.\n",
      "  step\n",
      "/Users/brent/anaconda3/lib/python3.7/site-packages/optuna/trial/_trial.py:592: UserWarning: The reported value is ignored because this `step` 9 is already reported.\n",
      "  step\n"
     ]
    },
    {
     "name": "stdout",
     "output_type": "stream",
     "text": [
      "[9]\tvalid_0's auc: 0.733327\n",
      "[10]\tvalid_0's auc: 0.734213\n"
     ]
    },
    {
     "name": "stderr",
     "output_type": "stream",
     "text": [
      "/Users/brent/anaconda3/lib/python3.7/site-packages/optuna/trial/_trial.py:592: UserWarning: The reported value is ignored because this `step` 10 is already reported.\n",
      "  step\n",
      "/Users/brent/anaconda3/lib/python3.7/site-packages/optuna/trial/_trial.py:592: UserWarning: The reported value is ignored because this `step` 11 is already reported.\n",
      "  step\n"
     ]
    },
    {
     "name": "stdout",
     "output_type": "stream",
     "text": [
      "[11]\tvalid_0's auc: 0.735038\n",
      "[12]\tvalid_0's auc: 0.735047\n"
     ]
    },
    {
     "name": "stderr",
     "output_type": "stream",
     "text": [
      "/Users/brent/anaconda3/lib/python3.7/site-packages/optuna/trial/_trial.py:592: UserWarning: The reported value is ignored because this `step` 12 is already reported.\n",
      "  step\n",
      "/Users/brent/anaconda3/lib/python3.7/site-packages/optuna/trial/_trial.py:592: UserWarning: The reported value is ignored because this `step` 13 is already reported.\n",
      "  step\n"
     ]
    },
    {
     "name": "stdout",
     "output_type": "stream",
     "text": [
      "[13]\tvalid_0's auc: 0.736143\n",
      "[14]\tvalid_0's auc: 0.736892\n"
     ]
    },
    {
     "name": "stderr",
     "output_type": "stream",
     "text": [
      "/Users/brent/anaconda3/lib/python3.7/site-packages/optuna/trial/_trial.py:592: UserWarning: The reported value is ignored because this `step` 14 is already reported.\n",
      "  step\n",
      "/Users/brent/anaconda3/lib/python3.7/site-packages/optuna/trial/_trial.py:592: UserWarning: The reported value is ignored because this `step` 15 is already reported.\n",
      "  step\n"
     ]
    },
    {
     "name": "stdout",
     "output_type": "stream",
     "text": [
      "[15]\tvalid_0's auc: 0.737912\n",
      "[16]\tvalid_0's auc: 0.737731\n"
     ]
    },
    {
     "name": "stderr",
     "output_type": "stream",
     "text": [
      "/Users/brent/anaconda3/lib/python3.7/site-packages/optuna/trial/_trial.py:592: UserWarning: The reported value is ignored because this `step` 16 is already reported.\n",
      "  step\n",
      "/Users/brent/anaconda3/lib/python3.7/site-packages/optuna/trial/_trial.py:592: UserWarning: The reported value is ignored because this `step` 17 is already reported.\n",
      "  step\n"
     ]
    },
    {
     "name": "stdout",
     "output_type": "stream",
     "text": [
      "[17]\tvalid_0's auc: 0.738395\n",
      "[18]\tvalid_0's auc: 0.738842\n"
     ]
    },
    {
     "name": "stderr",
     "output_type": "stream",
     "text": [
      "/Users/brent/anaconda3/lib/python3.7/site-packages/optuna/trial/_trial.py:592: UserWarning: The reported value is ignored because this `step` 18 is already reported.\n",
      "  step\n",
      "/Users/brent/anaconda3/lib/python3.7/site-packages/optuna/trial/_trial.py:592: UserWarning: The reported value is ignored because this `step` 19 is already reported.\n",
      "  step\n"
     ]
    },
    {
     "name": "stdout",
     "output_type": "stream",
     "text": [
      "[19]\tvalid_0's auc: 0.739005\n",
      "[20]\tvalid_0's auc: 0.739162\n"
     ]
    },
    {
     "name": "stderr",
     "output_type": "stream",
     "text": [
      "/Users/brent/anaconda3/lib/python3.7/site-packages/optuna/trial/_trial.py:592: UserWarning: The reported value is ignored because this `step` 20 is already reported.\n",
      "  step\n",
      "/Users/brent/anaconda3/lib/python3.7/site-packages/optuna/trial/_trial.py:592: UserWarning: The reported value is ignored because this `step` 21 is already reported.\n",
      "  step\n"
     ]
    },
    {
     "name": "stdout",
     "output_type": "stream",
     "text": [
      "[21]\tvalid_0's auc: 0.739784\n",
      "[22]\tvalid_0's auc: 0.740078\n"
     ]
    },
    {
     "name": "stderr",
     "output_type": "stream",
     "text": [
      "/Users/brent/anaconda3/lib/python3.7/site-packages/optuna/trial/_trial.py:592: UserWarning: The reported value is ignored because this `step` 22 is already reported.\n",
      "  step\n",
      "/Users/brent/anaconda3/lib/python3.7/site-packages/optuna/trial/_trial.py:592: UserWarning: The reported value is ignored because this `step` 23 is already reported.\n",
      "  step\n"
     ]
    },
    {
     "name": "stdout",
     "output_type": "stream",
     "text": [
      "[23]\tvalid_0's auc: 0.740344\n",
      "[24]\tvalid_0's auc: 0.740262\n"
     ]
    },
    {
     "name": "stderr",
     "output_type": "stream",
     "text": [
      "/Users/brent/anaconda3/lib/python3.7/site-packages/optuna/trial/_trial.py:592: UserWarning: The reported value is ignored because this `step` 24 is already reported.\n",
      "  step\n",
      "/Users/brent/anaconda3/lib/python3.7/site-packages/optuna/trial/_trial.py:592: UserWarning: The reported value is ignored because this `step` 25 is already reported.\n",
      "  step\n"
     ]
    },
    {
     "name": "stdout",
     "output_type": "stream",
     "text": [
      "[25]\tvalid_0's auc: 0.740679\n",
      "[26]\tvalid_0's auc: 0.741098\n"
     ]
    },
    {
     "name": "stderr",
     "output_type": "stream",
     "text": [
      "/Users/brent/anaconda3/lib/python3.7/site-packages/optuna/trial/_trial.py:592: UserWarning: The reported value is ignored because this `step` 26 is already reported.\n",
      "  step\n",
      "/Users/brent/anaconda3/lib/python3.7/site-packages/optuna/trial/_trial.py:592: UserWarning: The reported value is ignored because this `step` 27 is already reported.\n",
      "  step\n"
     ]
    },
    {
     "name": "stdout",
     "output_type": "stream",
     "text": [
      "[27]\tvalid_0's auc: 0.741223\n",
      "[28]\tvalid_0's auc: 0.741765\n"
     ]
    },
    {
     "name": "stderr",
     "output_type": "stream",
     "text": [
      "/Users/brent/anaconda3/lib/python3.7/site-packages/optuna/trial/_trial.py:592: UserWarning: The reported value is ignored because this `step` 28 is already reported.\n",
      "  step\n",
      "/Users/brent/anaconda3/lib/python3.7/site-packages/optuna/trial/_trial.py:592: UserWarning: The reported value is ignored because this `step` 29 is already reported.\n",
      "  step\n"
     ]
    },
    {
     "name": "stdout",
     "output_type": "stream",
     "text": [
      "[29]\tvalid_0's auc: 0.742009\n",
      "[30]\tvalid_0's auc: 0.742027\n"
     ]
    },
    {
     "name": "stderr",
     "output_type": "stream",
     "text": [
      "/Users/brent/anaconda3/lib/python3.7/site-packages/optuna/trial/_trial.py:592: UserWarning: The reported value is ignored because this `step` 30 is already reported.\n",
      "  step\n",
      "/Users/brent/anaconda3/lib/python3.7/site-packages/optuna/trial/_trial.py:592: UserWarning: The reported value is ignored because this `step` 31 is already reported.\n",
      "  step\n"
     ]
    },
    {
     "name": "stdout",
     "output_type": "stream",
     "text": [
      "[31]\tvalid_0's auc: 0.742237\n",
      "[32]\tvalid_0's auc: 0.74275\n"
     ]
    },
    {
     "name": "stderr",
     "output_type": "stream",
     "text": [
      "/Users/brent/anaconda3/lib/python3.7/site-packages/optuna/trial/_trial.py:592: UserWarning: The reported value is ignored because this `step` 32 is already reported.\n",
      "  step\n",
      "/Users/brent/anaconda3/lib/python3.7/site-packages/optuna/trial/_trial.py:592: UserWarning: The reported value is ignored because this `step` 33 is already reported.\n",
      "  step\n"
     ]
    },
    {
     "name": "stdout",
     "output_type": "stream",
     "text": [
      "[33]\tvalid_0's auc: 0.742816\n",
      "[34]\tvalid_0's auc: 0.742751\n"
     ]
    },
    {
     "name": "stderr",
     "output_type": "stream",
     "text": [
      "/Users/brent/anaconda3/lib/python3.7/site-packages/optuna/trial/_trial.py:592: UserWarning: The reported value is ignored because this `step` 34 is already reported.\n",
      "  step\n",
      "/Users/brent/anaconda3/lib/python3.7/site-packages/optuna/trial/_trial.py:592: UserWarning: The reported value is ignored because this `step` 35 is already reported.\n",
      "  step\n"
     ]
    },
    {
     "name": "stdout",
     "output_type": "stream",
     "text": [
      "[35]\tvalid_0's auc: 0.743015\n",
      "[36]\tvalid_0's auc: 0.7431\n"
     ]
    },
    {
     "name": "stderr",
     "output_type": "stream",
     "text": [
      "/Users/brent/anaconda3/lib/python3.7/site-packages/optuna/trial/_trial.py:592: UserWarning: The reported value is ignored because this `step` 36 is already reported.\n",
      "  step\n",
      "/Users/brent/anaconda3/lib/python3.7/site-packages/optuna/trial/_trial.py:592: UserWarning: The reported value is ignored because this `step` 37 is already reported.\n",
      "  step\n"
     ]
    },
    {
     "name": "stdout",
     "output_type": "stream",
     "text": [
      "[37]\tvalid_0's auc: 0.743246\n",
      "[38]\tvalid_0's auc: 0.743309\n"
     ]
    },
    {
     "name": "stderr",
     "output_type": "stream",
     "text": [
      "/Users/brent/anaconda3/lib/python3.7/site-packages/optuna/trial/_trial.py:592: UserWarning: The reported value is ignored because this `step` 38 is already reported.\n",
      "  step\n",
      "/Users/brent/anaconda3/lib/python3.7/site-packages/optuna/trial/_trial.py:592: UserWarning: The reported value is ignored because this `step` 39 is already reported.\n",
      "  step\n"
     ]
    },
    {
     "name": "stdout",
     "output_type": "stream",
     "text": [
      "[39]\tvalid_0's auc: 0.743403\n",
      "[40]\tvalid_0's auc: 0.743937\n"
     ]
    },
    {
     "name": "stderr",
     "output_type": "stream",
     "text": [
      "/Users/brent/anaconda3/lib/python3.7/site-packages/optuna/trial/_trial.py:592: UserWarning: The reported value is ignored because this `step` 40 is already reported.\n",
      "  step\n",
      "/Users/brent/anaconda3/lib/python3.7/site-packages/optuna/trial/_trial.py:592: UserWarning: The reported value is ignored because this `step` 41 is already reported.\n",
      "  step\n"
     ]
    },
    {
     "name": "stdout",
     "output_type": "stream",
     "text": [
      "[41]\tvalid_0's auc: 0.744361\n",
      "[42]\tvalid_0's auc: 0.744493\n"
     ]
    },
    {
     "name": "stderr",
     "output_type": "stream",
     "text": [
      "/Users/brent/anaconda3/lib/python3.7/site-packages/optuna/trial/_trial.py:592: UserWarning: The reported value is ignored because this `step` 42 is already reported.\n",
      "  step\n",
      "/Users/brent/anaconda3/lib/python3.7/site-packages/optuna/trial/_trial.py:592: UserWarning: The reported value is ignored because this `step` 43 is already reported.\n",
      "  step\n"
     ]
    },
    {
     "name": "stdout",
     "output_type": "stream",
     "text": [
      "[43]\tvalid_0's auc: 0.744842\n",
      "[44]\tvalid_0's auc: 0.744966\n"
     ]
    },
    {
     "name": "stderr",
     "output_type": "stream",
     "text": [
      "/Users/brent/anaconda3/lib/python3.7/site-packages/optuna/trial/_trial.py:592: UserWarning: The reported value is ignored because this `step` 44 is already reported.\n",
      "  step\n",
      "/Users/brent/anaconda3/lib/python3.7/site-packages/optuna/trial/_trial.py:592: UserWarning: The reported value is ignored because this `step` 45 is already reported.\n",
      "  step\n"
     ]
    },
    {
     "name": "stdout",
     "output_type": "stream",
     "text": [
      "[45]\tvalid_0's auc: 0.745169\n",
      "[46]\tvalid_0's auc: 0.745328\n"
     ]
    },
    {
     "name": "stderr",
     "output_type": "stream",
     "text": [
      "/Users/brent/anaconda3/lib/python3.7/site-packages/optuna/trial/_trial.py:592: UserWarning: The reported value is ignored because this `step` 46 is already reported.\n",
      "  step\n",
      "/Users/brent/anaconda3/lib/python3.7/site-packages/optuna/trial/_trial.py:592: UserWarning: The reported value is ignored because this `step` 47 is already reported.\n",
      "  step\n"
     ]
    },
    {
     "name": "stdout",
     "output_type": "stream",
     "text": [
      "[47]\tvalid_0's auc: 0.745439\n",
      "[48]\tvalid_0's auc: 0.745612\n"
     ]
    },
    {
     "name": "stderr",
     "output_type": "stream",
     "text": [
      "/Users/brent/anaconda3/lib/python3.7/site-packages/optuna/trial/_trial.py:592: UserWarning: The reported value is ignored because this `step` 48 is already reported.\n",
      "  step\n",
      "/Users/brent/anaconda3/lib/python3.7/site-packages/optuna/trial/_trial.py:592: UserWarning: The reported value is ignored because this `step` 49 is already reported.\n",
      "  step\n"
     ]
    },
    {
     "name": "stdout",
     "output_type": "stream",
     "text": [
      "[49]\tvalid_0's auc: 0.745592\n",
      "[50]\tvalid_0's auc: 0.745594\n"
     ]
    },
    {
     "name": "stderr",
     "output_type": "stream",
     "text": [
      "/Users/brent/anaconda3/lib/python3.7/site-packages/optuna/trial/_trial.py:592: UserWarning: The reported value is ignored because this `step` 50 is already reported.\n",
      "  step\n",
      "/Users/brent/anaconda3/lib/python3.7/site-packages/optuna/trial/_trial.py:592: UserWarning: The reported value is ignored because this `step` 51 is already reported.\n",
      "  step\n"
     ]
    },
    {
     "name": "stdout",
     "output_type": "stream",
     "text": [
      "[51]\tvalid_0's auc: 0.74566\n",
      "[52]\tvalid_0's auc: 0.745625\n"
     ]
    },
    {
     "name": "stderr",
     "output_type": "stream",
     "text": [
      "/Users/brent/anaconda3/lib/python3.7/site-packages/optuna/trial/_trial.py:592: UserWarning: The reported value is ignored because this `step` 52 is already reported.\n",
      "  step\n",
      "/Users/brent/anaconda3/lib/python3.7/site-packages/optuna/trial/_trial.py:592: UserWarning: The reported value is ignored because this `step` 53 is already reported.\n",
      "  step\n"
     ]
    },
    {
     "name": "stdout",
     "output_type": "stream",
     "text": [
      "[53]\tvalid_0's auc: 0.745673\n",
      "[54]\tvalid_0's auc: 0.745639\n"
     ]
    },
    {
     "name": "stderr",
     "output_type": "stream",
     "text": [
      "/Users/brent/anaconda3/lib/python3.7/site-packages/optuna/trial/_trial.py:592: UserWarning: The reported value is ignored because this `step` 54 is already reported.\n",
      "  step\n",
      "/Users/brent/anaconda3/lib/python3.7/site-packages/optuna/trial/_trial.py:592: UserWarning: The reported value is ignored because this `step` 55 is already reported.\n",
      "  step\n"
     ]
    },
    {
     "name": "stdout",
     "output_type": "stream",
     "text": [
      "[55]\tvalid_0's auc: 0.745643\n",
      "[56]\tvalid_0's auc: 0.745816\n"
     ]
    },
    {
     "name": "stderr",
     "output_type": "stream",
     "text": [
      "/Users/brent/anaconda3/lib/python3.7/site-packages/optuna/trial/_trial.py:592: UserWarning: The reported value is ignored because this `step` 56 is already reported.\n",
      "  step\n",
      "/Users/brent/anaconda3/lib/python3.7/site-packages/optuna/trial/_trial.py:592: UserWarning: The reported value is ignored because this `step` 57 is already reported.\n",
      "  step\n"
     ]
    },
    {
     "name": "stdout",
     "output_type": "stream",
     "text": [
      "[57]\tvalid_0's auc: 0.745798\n",
      "[58]\tvalid_0's auc: 0.745804\n"
     ]
    },
    {
     "name": "stderr",
     "output_type": "stream",
     "text": [
      "/Users/brent/anaconda3/lib/python3.7/site-packages/optuna/trial/_trial.py:592: UserWarning: The reported value is ignored because this `step` 58 is already reported.\n",
      "  step\n",
      "/Users/brent/anaconda3/lib/python3.7/site-packages/optuna/trial/_trial.py:592: UserWarning: The reported value is ignored because this `step` 59 is already reported.\n",
      "  step\n"
     ]
    },
    {
     "name": "stdout",
     "output_type": "stream",
     "text": [
      "[59]\tvalid_0's auc: 0.745822\n",
      "[60]\tvalid_0's auc: 0.745809\n"
     ]
    },
    {
     "name": "stderr",
     "output_type": "stream",
     "text": [
      "/Users/brent/anaconda3/lib/python3.7/site-packages/optuna/trial/_trial.py:592: UserWarning: The reported value is ignored because this `step` 60 is already reported.\n",
      "  step\n",
      "/Users/brent/anaconda3/lib/python3.7/site-packages/optuna/trial/_trial.py:592: UserWarning: The reported value is ignored because this `step` 61 is already reported.\n",
      "  step\n"
     ]
    },
    {
     "name": "stdout",
     "output_type": "stream",
     "text": [
      "[61]\tvalid_0's auc: 0.745767\n",
      "[62]\tvalid_0's auc: 0.745782\n"
     ]
    },
    {
     "name": "stderr",
     "output_type": "stream",
     "text": [
      "/Users/brent/anaconda3/lib/python3.7/site-packages/optuna/trial/_trial.py:592: UserWarning: The reported value is ignored because this `step` 62 is already reported.\n",
      "  step\n",
      "/Users/brent/anaconda3/lib/python3.7/site-packages/optuna/trial/_trial.py:592: UserWarning: The reported value is ignored because this `step` 63 is already reported.\n",
      "  step\n"
     ]
    },
    {
     "name": "stdout",
     "output_type": "stream",
     "text": [
      "[63]\tvalid_0's auc: 0.745751\n",
      "[64]\tvalid_0's auc: 0.74575\n"
     ]
    },
    {
     "name": "stderr",
     "output_type": "stream",
     "text": [
      "/Users/brent/anaconda3/lib/python3.7/site-packages/optuna/trial/_trial.py:592: UserWarning: The reported value is ignored because this `step` 64 is already reported.\n",
      "  step\n",
      "/Users/brent/anaconda3/lib/python3.7/site-packages/optuna/trial/_trial.py:592: UserWarning: The reported value is ignored because this `step` 65 is already reported.\n",
      "  step\n"
     ]
    },
    {
     "name": "stdout",
     "output_type": "stream",
     "text": [
      "[65]\tvalid_0's auc: 0.745773\n",
      "[66]\tvalid_0's auc: 0.745913\n"
     ]
    },
    {
     "name": "stderr",
     "output_type": "stream",
     "text": [
      "/Users/brent/anaconda3/lib/python3.7/site-packages/optuna/trial/_trial.py:592: UserWarning: The reported value is ignored because this `step` 66 is already reported.\n",
      "  step\n",
      "/Users/brent/anaconda3/lib/python3.7/site-packages/optuna/trial/_trial.py:592: UserWarning: The reported value is ignored because this `step` 67 is already reported.\n",
      "  step\n"
     ]
    },
    {
     "name": "stdout",
     "output_type": "stream",
     "text": [
      "[67]\tvalid_0's auc: 0.746075\n",
      "[68]\tvalid_0's auc: 0.746179\n"
     ]
    },
    {
     "name": "stderr",
     "output_type": "stream",
     "text": [
      "/Users/brent/anaconda3/lib/python3.7/site-packages/optuna/trial/_trial.py:592: UserWarning: The reported value is ignored because this `step` 68 is already reported.\n",
      "  step\n",
      "/Users/brent/anaconda3/lib/python3.7/site-packages/optuna/trial/_trial.py:592: UserWarning: The reported value is ignored because this `step` 69 is already reported.\n",
      "  step\n"
     ]
    },
    {
     "name": "stdout",
     "output_type": "stream",
     "text": [
      "[69]\tvalid_0's auc: 0.746318\n",
      "[70]\tvalid_0's auc: 0.746383\n"
     ]
    },
    {
     "name": "stderr",
     "output_type": "stream",
     "text": [
      "/Users/brent/anaconda3/lib/python3.7/site-packages/optuna/trial/_trial.py:592: UserWarning: The reported value is ignored because this `step` 70 is already reported.\n",
      "  step\n",
      "/Users/brent/anaconda3/lib/python3.7/site-packages/optuna/trial/_trial.py:592: UserWarning: The reported value is ignored because this `step` 71 is already reported.\n",
      "  step\n"
     ]
    },
    {
     "name": "stdout",
     "output_type": "stream",
     "text": [
      "[71]\tvalid_0's auc: 0.746542\n",
      "[72]\tvalid_0's auc: 0.746569\n"
     ]
    },
    {
     "name": "stderr",
     "output_type": "stream",
     "text": [
      "/Users/brent/anaconda3/lib/python3.7/site-packages/optuna/trial/_trial.py:592: UserWarning: The reported value is ignored because this `step` 72 is already reported.\n",
      "  step\n",
      "/Users/brent/anaconda3/lib/python3.7/site-packages/optuna/trial/_trial.py:592: UserWarning: The reported value is ignored because this `step` 73 is already reported.\n",
      "  step\n"
     ]
    },
    {
     "name": "stdout",
     "output_type": "stream",
     "text": [
      "[73]\tvalid_0's auc: 0.746646\n",
      "[74]\tvalid_0's auc: 0.746683\n"
     ]
    },
    {
     "name": "stderr",
     "output_type": "stream",
     "text": [
      "/Users/brent/anaconda3/lib/python3.7/site-packages/optuna/trial/_trial.py:592: UserWarning: The reported value is ignored because this `step` 74 is already reported.\n",
      "  step\n",
      "/Users/brent/anaconda3/lib/python3.7/site-packages/optuna/trial/_trial.py:592: UserWarning: The reported value is ignored because this `step` 75 is already reported.\n",
      "  step\n"
     ]
    },
    {
     "name": "stdout",
     "output_type": "stream",
     "text": [
      "[75]\tvalid_0's auc: 0.746664\n",
      "[76]\tvalid_0's auc: 0.746718\n"
     ]
    },
    {
     "name": "stderr",
     "output_type": "stream",
     "text": [
      "/Users/brent/anaconda3/lib/python3.7/site-packages/optuna/trial/_trial.py:592: UserWarning: The reported value is ignored because this `step` 76 is already reported.\n",
      "  step\n",
      "/Users/brent/anaconda3/lib/python3.7/site-packages/optuna/trial/_trial.py:592: UserWarning: The reported value is ignored because this `step` 77 is already reported.\n",
      "  step\n"
     ]
    },
    {
     "name": "stdout",
     "output_type": "stream",
     "text": [
      "[77]\tvalid_0's auc: 0.746809\n",
      "[78]\tvalid_0's auc: 0.746853\n"
     ]
    },
    {
     "name": "stderr",
     "output_type": "stream",
     "text": [
      "/Users/brent/anaconda3/lib/python3.7/site-packages/optuna/trial/_trial.py:592: UserWarning: The reported value is ignored because this `step` 78 is already reported.\n",
      "  step\n",
      "/Users/brent/anaconda3/lib/python3.7/site-packages/optuna/trial/_trial.py:592: UserWarning: The reported value is ignored because this `step` 79 is already reported.\n",
      "  step\n"
     ]
    },
    {
     "name": "stdout",
     "output_type": "stream",
     "text": [
      "[79]\tvalid_0's auc: 0.74697\n",
      "[80]\tvalid_0's auc: 0.747074\n"
     ]
    },
    {
     "name": "stderr",
     "output_type": "stream",
     "text": [
      "/Users/brent/anaconda3/lib/python3.7/site-packages/optuna/trial/_trial.py:592: UserWarning: The reported value is ignored because this `step` 80 is already reported.\n",
      "  step\n",
      "/Users/brent/anaconda3/lib/python3.7/site-packages/optuna/trial/_trial.py:592: UserWarning: The reported value is ignored because this `step` 81 is already reported.\n",
      "  step\n"
     ]
    },
    {
     "name": "stdout",
     "output_type": "stream",
     "text": [
      "[81]\tvalid_0's auc: 0.747207\n",
      "[82]\tvalid_0's auc: 0.747334\n"
     ]
    },
    {
     "name": "stderr",
     "output_type": "stream",
     "text": [
      "/Users/brent/anaconda3/lib/python3.7/site-packages/optuna/trial/_trial.py:592: UserWarning: The reported value is ignored because this `step` 82 is already reported.\n",
      "  step\n",
      "/Users/brent/anaconda3/lib/python3.7/site-packages/optuna/trial/_trial.py:592: UserWarning: The reported value is ignored because this `step` 83 is already reported.\n",
      "  step\n"
     ]
    },
    {
     "name": "stdout",
     "output_type": "stream",
     "text": [
      "[83]\tvalid_0's auc: 0.747479\n",
      "[84]\tvalid_0's auc: 0.747587\n"
     ]
    },
    {
     "name": "stderr",
     "output_type": "stream",
     "text": [
      "/Users/brent/anaconda3/lib/python3.7/site-packages/optuna/trial/_trial.py:592: UserWarning: The reported value is ignored because this `step` 84 is already reported.\n",
      "  step\n",
      "/Users/brent/anaconda3/lib/python3.7/site-packages/optuna/trial/_trial.py:592: UserWarning: The reported value is ignored because this `step` 85 is already reported.\n",
      "  step\n"
     ]
    },
    {
     "name": "stdout",
     "output_type": "stream",
     "text": [
      "[85]\tvalid_0's auc: 0.747778\n",
      "[86]\tvalid_0's auc: 0.747842\n"
     ]
    },
    {
     "name": "stderr",
     "output_type": "stream",
     "text": [
      "/Users/brent/anaconda3/lib/python3.7/site-packages/optuna/trial/_trial.py:592: UserWarning: The reported value is ignored because this `step` 86 is already reported.\n",
      "  step\n",
      "/Users/brent/anaconda3/lib/python3.7/site-packages/optuna/trial/_trial.py:592: UserWarning: The reported value is ignored because this `step` 87 is already reported.\n",
      "  step\n"
     ]
    },
    {
     "name": "stdout",
     "output_type": "stream",
     "text": [
      "[87]\tvalid_0's auc: 0.74791\n",
      "[88]\tvalid_0's auc: 0.748021\n"
     ]
    },
    {
     "name": "stderr",
     "output_type": "stream",
     "text": [
      "/Users/brent/anaconda3/lib/python3.7/site-packages/optuna/trial/_trial.py:592: UserWarning: The reported value is ignored because this `step` 88 is already reported.\n",
      "  step\n",
      "/Users/brent/anaconda3/lib/python3.7/site-packages/optuna/trial/_trial.py:592: UserWarning: The reported value is ignored because this `step` 89 is already reported.\n",
      "  step\n"
     ]
    },
    {
     "name": "stdout",
     "output_type": "stream",
     "text": [
      "[89]\tvalid_0's auc: 0.748057\n",
      "[90]\tvalid_0's auc: 0.748029\n"
     ]
    },
    {
     "name": "stderr",
     "output_type": "stream",
     "text": [
      "/Users/brent/anaconda3/lib/python3.7/site-packages/optuna/trial/_trial.py:592: UserWarning: The reported value is ignored because this `step` 90 is already reported.\n",
      "  step\n",
      "/Users/brent/anaconda3/lib/python3.7/site-packages/optuna/trial/_trial.py:592: UserWarning: The reported value is ignored because this `step` 91 is already reported.\n",
      "  step\n"
     ]
    },
    {
     "name": "stdout",
     "output_type": "stream",
     "text": [
      "[91]\tvalid_0's auc: 0.748074\n",
      "[92]\tvalid_0's auc: 0.748093\n"
     ]
    },
    {
     "name": "stderr",
     "output_type": "stream",
     "text": [
      "/Users/brent/anaconda3/lib/python3.7/site-packages/optuna/trial/_trial.py:592: UserWarning: The reported value is ignored because this `step` 92 is already reported.\n",
      "  step\n"
     ]
    },
    {
     "name": "stdout",
     "output_type": "stream",
     "text": [
      "[93]\tvalid_0's auc: 0.748186\n"
     ]
    },
    {
     "name": "stderr",
     "output_type": "stream",
     "text": [
      "/Users/brent/anaconda3/lib/python3.7/site-packages/optuna/trial/_trial.py:592: UserWarning: The reported value is ignored because this `step` 93 is already reported.\n",
      "  step\n"
     ]
    },
    {
     "name": "stdout",
     "output_type": "stream",
     "text": [
      "[94]\tvalid_0's auc: 0.748334\n"
     ]
    },
    {
     "name": "stderr",
     "output_type": "stream",
     "text": [
      "/Users/brent/anaconda3/lib/python3.7/site-packages/optuna/trial/_trial.py:592: UserWarning: The reported value is ignored because this `step` 94 is already reported.\n",
      "  step\n"
     ]
    },
    {
     "name": "stdout",
     "output_type": "stream",
     "text": [
      "[95]\tvalid_0's auc: 0.748429\n"
     ]
    },
    {
     "name": "stderr",
     "output_type": "stream",
     "text": [
      "/Users/brent/anaconda3/lib/python3.7/site-packages/optuna/trial/_trial.py:592: UserWarning: The reported value is ignored because this `step` 95 is already reported.\n",
      "  step\n",
      "/Users/brent/anaconda3/lib/python3.7/site-packages/optuna/trial/_trial.py:592: UserWarning: The reported value is ignored because this `step` 96 is already reported.\n",
      "  step\n"
     ]
    },
    {
     "name": "stdout",
     "output_type": "stream",
     "text": [
      "[96]\tvalid_0's auc: 0.748571\n",
      "[97]\tvalid_0's auc: 0.748573\n"
     ]
    },
    {
     "name": "stderr",
     "output_type": "stream",
     "text": [
      "/Users/brent/anaconda3/lib/python3.7/site-packages/optuna/trial/_trial.py:592: UserWarning: The reported value is ignored because this `step` 97 is already reported.\n",
      "  step\n",
      "/Users/brent/anaconda3/lib/python3.7/site-packages/optuna/trial/_trial.py:592: UserWarning: The reported value is ignored because this `step` 98 is already reported.\n",
      "  step\n"
     ]
    },
    {
     "name": "stdout",
     "output_type": "stream",
     "text": [
      "[98]\tvalid_0's auc: 0.748636\n",
      "[99]\tvalid_0's auc: 0.748691\n"
     ]
    },
    {
     "name": "stderr",
     "output_type": "stream",
     "text": [
      "/Users/brent/anaconda3/lib/python3.7/site-packages/optuna/trial/_trial.py:592: UserWarning: The reported value is ignored because this `step` 99 is already reported.\n",
      "  step\n"
     ]
    },
    {
     "name": "stdout",
     "output_type": "stream",
     "text": [
      "[100]\tvalid_0's auc: 0.748734\n",
      "Did not meet early stopping. Best iteration is:\n",
      "[100]\tvalid_0's auc: 0.748734\n",
      "[LightGBM] [Warning] bagging_freq is set=4, subsample_freq=0 will be ignored. Current value: bagging_freq=4\n",
      "[LightGBM] [Warning] lambda_l2 is set=4.933751695665716e-07, reg_lambda=0.0 will be ignored. Current value: lambda_l2=4.933751695665716e-07\n",
      "[LightGBM] [Warning] feature_fraction is set=0.7919946664722002, colsample_bytree=1.0 will be ignored. Current value: feature_fraction=0.7919946664722002\n",
      "[LightGBM] [Warning] bagging_fraction is set=0.6562859632656817, subsample=1.0 will be ignored. Current value: bagging_fraction=0.6562859632656817\n",
      "[LightGBM] [Warning] lambda_l1 is set=0.036654771066965894, reg_alpha=0.0 will be ignored. Current value: lambda_l1=0.036654771066965894\n"
     ]
    },
    {
     "name": "stderr",
     "output_type": "stream",
     "text": [
      "/Users/brent/anaconda3/lib/python3.7/site-packages/optuna/trial/_trial.py:592: UserWarning: The reported value is ignored because this `step` 0 is already reported.\n",
      "  step\n",
      "/Users/brent/anaconda3/lib/python3.7/site-packages/optuna/trial/_trial.py:592: UserWarning: The reported value is ignored because this `step` 1 is already reported.\n",
      "  step\n"
     ]
    },
    {
     "name": "stdout",
     "output_type": "stream",
     "text": [
      "[1]\tvalid_0's auc: 0.686762\n",
      "Training until validation scores don't improve for 100 rounds\n",
      "[2]\tvalid_0's auc: 0.698634\n"
     ]
    },
    {
     "name": "stderr",
     "output_type": "stream",
     "text": [
      "/Users/brent/anaconda3/lib/python3.7/site-packages/optuna/trial/_trial.py:592: UserWarning: The reported value is ignored because this `step` 2 is already reported.\n",
      "  step\n",
      "/Users/brent/anaconda3/lib/python3.7/site-packages/optuna/trial/_trial.py:592: UserWarning: The reported value is ignored because this `step` 3 is already reported.\n",
      "  step\n"
     ]
    },
    {
     "name": "stdout",
     "output_type": "stream",
     "text": [
      "[3]\tvalid_0's auc: 0.702578\n",
      "[4]\tvalid_0's auc: 0.703639\n"
     ]
    },
    {
     "name": "stderr",
     "output_type": "stream",
     "text": [
      "/Users/brent/anaconda3/lib/python3.7/site-packages/optuna/trial/_trial.py:592: UserWarning: The reported value is ignored because this `step` 4 is already reported.\n",
      "  step\n",
      "/Users/brent/anaconda3/lib/python3.7/site-packages/optuna/trial/_trial.py:592: UserWarning: The reported value is ignored because this `step` 5 is already reported.\n",
      "  step\n"
     ]
    },
    {
     "name": "stdout",
     "output_type": "stream",
     "text": [
      "[5]\tvalid_0's auc: 0.711142\n",
      "[6]\tvalid_0's auc: 0.715369\n"
     ]
    },
    {
     "name": "stderr",
     "output_type": "stream",
     "text": [
      "/Users/brent/anaconda3/lib/python3.7/site-packages/optuna/trial/_trial.py:592: UserWarning: The reported value is ignored because this `step` 6 is already reported.\n",
      "  step\n",
      "/Users/brent/anaconda3/lib/python3.7/site-packages/optuna/trial/_trial.py:592: UserWarning: The reported value is ignored because this `step` 7 is already reported.\n",
      "  step\n"
     ]
    },
    {
     "name": "stdout",
     "output_type": "stream",
     "text": [
      "[7]\tvalid_0's auc: 0.718131\n",
      "[8]\tvalid_0's auc: 0.7198\n"
     ]
    },
    {
     "name": "stderr",
     "output_type": "stream",
     "text": [
      "/Users/brent/anaconda3/lib/python3.7/site-packages/optuna/trial/_trial.py:592: UserWarning: The reported value is ignored because this `step` 8 is already reported.\n",
      "  step\n",
      "/Users/brent/anaconda3/lib/python3.7/site-packages/optuna/trial/_trial.py:592: UserWarning: The reported value is ignored because this `step` 9 is already reported.\n",
      "  step\n"
     ]
    },
    {
     "name": "stdout",
     "output_type": "stream",
     "text": [
      "[9]\tvalid_0's auc: 0.72168\n",
      "[10]\tvalid_0's auc: 0.722544\n"
     ]
    },
    {
     "name": "stderr",
     "output_type": "stream",
     "text": [
      "/Users/brent/anaconda3/lib/python3.7/site-packages/optuna/trial/_trial.py:592: UserWarning: The reported value is ignored because this `step` 10 is already reported.\n",
      "  step\n",
      "/Users/brent/anaconda3/lib/python3.7/site-packages/optuna/trial/_trial.py:592: UserWarning: The reported value is ignored because this `step` 11 is already reported.\n",
      "  step\n"
     ]
    },
    {
     "name": "stdout",
     "output_type": "stream",
     "text": [
      "[11]\tvalid_0's auc: 0.723344\n",
      "[12]\tvalid_0's auc: 0.723048\n"
     ]
    },
    {
     "name": "stderr",
     "output_type": "stream",
     "text": [
      "/Users/brent/anaconda3/lib/python3.7/site-packages/optuna/trial/_trial.py:592: UserWarning: The reported value is ignored because this `step` 12 is already reported.\n",
      "  step\n",
      "/Users/brent/anaconda3/lib/python3.7/site-packages/optuna/trial/_trial.py:592: UserWarning: The reported value is ignored because this `step` 13 is already reported.\n",
      "  step\n"
     ]
    },
    {
     "name": "stdout",
     "output_type": "stream",
     "text": [
      "[13]\tvalid_0's auc: 0.724433\n",
      "[14]\tvalid_0's auc: 0.725972\n"
     ]
    },
    {
     "name": "stderr",
     "output_type": "stream",
     "text": [
      "/Users/brent/anaconda3/lib/python3.7/site-packages/optuna/trial/_trial.py:592: UserWarning: The reported value is ignored because this `step` 14 is already reported.\n",
      "  step\n",
      "/Users/brent/anaconda3/lib/python3.7/site-packages/optuna/trial/_trial.py:592: UserWarning: The reported value is ignored because this `step` 15 is already reported.\n",
      "  step\n"
     ]
    },
    {
     "name": "stdout",
     "output_type": "stream",
     "text": [
      "[15]\tvalid_0's auc: 0.726834\n",
      "[16]\tvalid_0's auc: 0.727108\n"
     ]
    },
    {
     "name": "stderr",
     "output_type": "stream",
     "text": [
      "/Users/brent/anaconda3/lib/python3.7/site-packages/optuna/trial/_trial.py:592: UserWarning: The reported value is ignored because this `step` 16 is already reported.\n",
      "  step\n",
      "/Users/brent/anaconda3/lib/python3.7/site-packages/optuna/trial/_trial.py:592: UserWarning: The reported value is ignored because this `step` 17 is already reported.\n",
      "  step\n"
     ]
    },
    {
     "name": "stdout",
     "output_type": "stream",
     "text": [
      "[17]\tvalid_0's auc: 0.727724\n",
      "[18]\tvalid_0's auc: 0.727997\n"
     ]
    },
    {
     "name": "stderr",
     "output_type": "stream",
     "text": [
      "/Users/brent/anaconda3/lib/python3.7/site-packages/optuna/trial/_trial.py:592: UserWarning: The reported value is ignored because this `step` 18 is already reported.\n",
      "  step\n",
      "/Users/brent/anaconda3/lib/python3.7/site-packages/optuna/trial/_trial.py:592: UserWarning: The reported value is ignored because this `step` 19 is already reported.\n",
      "  step\n"
     ]
    },
    {
     "name": "stdout",
     "output_type": "stream",
     "text": [
      "[19]\tvalid_0's auc: 0.728373\n",
      "[20]\tvalid_0's auc: 0.728452\n"
     ]
    },
    {
     "name": "stderr",
     "output_type": "stream",
     "text": [
      "/Users/brent/anaconda3/lib/python3.7/site-packages/optuna/trial/_trial.py:592: UserWarning: The reported value is ignored because this `step` 20 is already reported.\n",
      "  step\n",
      "/Users/brent/anaconda3/lib/python3.7/site-packages/optuna/trial/_trial.py:592: UserWarning: The reported value is ignored because this `step` 21 is already reported.\n",
      "  step\n"
     ]
    },
    {
     "name": "stdout",
     "output_type": "stream",
     "text": [
      "[21]\tvalid_0's auc: 0.729036\n",
      "[22]\tvalid_0's auc: 0.729187\n"
     ]
    },
    {
     "name": "stderr",
     "output_type": "stream",
     "text": [
      "/Users/brent/anaconda3/lib/python3.7/site-packages/optuna/trial/_trial.py:592: UserWarning: The reported value is ignored because this `step` 22 is already reported.\n",
      "  step\n",
      "/Users/brent/anaconda3/lib/python3.7/site-packages/optuna/trial/_trial.py:592: UserWarning: The reported value is ignored because this `step` 23 is already reported.\n",
      "  step\n"
     ]
    },
    {
     "name": "stdout",
     "output_type": "stream",
     "text": [
      "[23]\tvalid_0's auc: 0.729267\n",
      "[24]\tvalid_0's auc: 0.729166\n"
     ]
    },
    {
     "name": "stderr",
     "output_type": "stream",
     "text": [
      "/Users/brent/anaconda3/lib/python3.7/site-packages/optuna/trial/_trial.py:592: UserWarning: The reported value is ignored because this `step` 24 is already reported.\n",
      "  step\n",
      "/Users/brent/anaconda3/lib/python3.7/site-packages/optuna/trial/_trial.py:592: UserWarning: The reported value is ignored because this `step` 25 is already reported.\n",
      "  step\n"
     ]
    },
    {
     "name": "stdout",
     "output_type": "stream",
     "text": [
      "[25]\tvalid_0's auc: 0.729791\n",
      "[26]\tvalid_0's auc: 0.729922\n"
     ]
    },
    {
     "name": "stderr",
     "output_type": "stream",
     "text": [
      "/Users/brent/anaconda3/lib/python3.7/site-packages/optuna/trial/_trial.py:592: UserWarning: The reported value is ignored because this `step` 26 is already reported.\n",
      "  step\n",
      "/Users/brent/anaconda3/lib/python3.7/site-packages/optuna/trial/_trial.py:592: UserWarning: The reported value is ignored because this `step` 27 is already reported.\n",
      "  step\n"
     ]
    },
    {
     "name": "stdout",
     "output_type": "stream",
     "text": [
      "[27]\tvalid_0's auc: 0.730334\n",
      "[28]\tvalid_0's auc: 0.731323\n"
     ]
    },
    {
     "name": "stderr",
     "output_type": "stream",
     "text": [
      "/Users/brent/anaconda3/lib/python3.7/site-packages/optuna/trial/_trial.py:592: UserWarning: The reported value is ignored because this `step` 28 is already reported.\n",
      "  step\n",
      "/Users/brent/anaconda3/lib/python3.7/site-packages/optuna/trial/_trial.py:592: UserWarning: The reported value is ignored because this `step` 29 is already reported.\n",
      "  step\n"
     ]
    },
    {
     "name": "stdout",
     "output_type": "stream",
     "text": [
      "[29]\tvalid_0's auc: 0.731592\n",
      "[30]\tvalid_0's auc: 0.731678\n"
     ]
    },
    {
     "name": "stderr",
     "output_type": "stream",
     "text": [
      "/Users/brent/anaconda3/lib/python3.7/site-packages/optuna/trial/_trial.py:592: UserWarning: The reported value is ignored because this `step` 30 is already reported.\n",
      "  step\n",
      "/Users/brent/anaconda3/lib/python3.7/site-packages/optuna/trial/_trial.py:592: UserWarning: The reported value is ignored because this `step` 31 is already reported.\n",
      "  step\n"
     ]
    },
    {
     "name": "stdout",
     "output_type": "stream",
     "text": [
      "[31]\tvalid_0's auc: 0.732075\n",
      "[32]\tvalid_0's auc: 0.732605\n"
     ]
    },
    {
     "name": "stderr",
     "output_type": "stream",
     "text": [
      "/Users/brent/anaconda3/lib/python3.7/site-packages/optuna/trial/_trial.py:592: UserWarning: The reported value is ignored because this `step` 32 is already reported.\n",
      "  step\n",
      "/Users/brent/anaconda3/lib/python3.7/site-packages/optuna/trial/_trial.py:592: UserWarning: The reported value is ignored because this `step` 33 is already reported.\n",
      "  step\n"
     ]
    },
    {
     "name": "stdout",
     "output_type": "stream",
     "text": [
      "[33]\tvalid_0's auc: 0.73296\n",
      "[34]\tvalid_0's auc: 0.733372\n"
     ]
    },
    {
     "name": "stderr",
     "output_type": "stream",
     "text": [
      "/Users/brent/anaconda3/lib/python3.7/site-packages/optuna/trial/_trial.py:592: UserWarning: The reported value is ignored because this `step` 34 is already reported.\n",
      "  step\n",
      "/Users/brent/anaconda3/lib/python3.7/site-packages/optuna/trial/_trial.py:592: UserWarning: The reported value is ignored because this `step` 35 is already reported.\n",
      "  step\n"
     ]
    },
    {
     "name": "stdout",
     "output_type": "stream",
     "text": [
      "[35]\tvalid_0's auc: 0.733635\n",
      "[36]\tvalid_0's auc: 0.733873\n"
     ]
    },
    {
     "name": "stderr",
     "output_type": "stream",
     "text": [
      "/Users/brent/anaconda3/lib/python3.7/site-packages/optuna/trial/_trial.py:592: UserWarning: The reported value is ignored because this `step` 36 is already reported.\n",
      "  step\n",
      "/Users/brent/anaconda3/lib/python3.7/site-packages/optuna/trial/_trial.py:592: UserWarning: The reported value is ignored because this `step` 37 is already reported.\n",
      "  step\n"
     ]
    },
    {
     "name": "stdout",
     "output_type": "stream",
     "text": [
      "[37]\tvalid_0's auc: 0.734183\n",
      "[38]\tvalid_0's auc: 0.734201\n"
     ]
    },
    {
     "name": "stderr",
     "output_type": "stream",
     "text": [
      "/Users/brent/anaconda3/lib/python3.7/site-packages/optuna/trial/_trial.py:592: UserWarning: The reported value is ignored because this `step` 38 is already reported.\n",
      "  step\n",
      "/Users/brent/anaconda3/lib/python3.7/site-packages/optuna/trial/_trial.py:592: UserWarning: The reported value is ignored because this `step` 39 is already reported.\n",
      "  step\n"
     ]
    },
    {
     "name": "stdout",
     "output_type": "stream",
     "text": [
      "[39]\tvalid_0's auc: 0.734152\n",
      "[40]\tvalid_0's auc: 0.734308\n"
     ]
    },
    {
     "name": "stderr",
     "output_type": "stream",
     "text": [
      "/Users/brent/anaconda3/lib/python3.7/site-packages/optuna/trial/_trial.py:592: UserWarning: The reported value is ignored because this `step` 40 is already reported.\n",
      "  step\n",
      "/Users/brent/anaconda3/lib/python3.7/site-packages/optuna/trial/_trial.py:592: UserWarning: The reported value is ignored because this `step` 41 is already reported.\n",
      "  step\n"
     ]
    },
    {
     "name": "stdout",
     "output_type": "stream",
     "text": [
      "[41]\tvalid_0's auc: 0.734621\n",
      "[42]\tvalid_0's auc: 0.734737\n"
     ]
    },
    {
     "name": "stderr",
     "output_type": "stream",
     "text": [
      "/Users/brent/anaconda3/lib/python3.7/site-packages/optuna/trial/_trial.py:592: UserWarning: The reported value is ignored because this `step` 42 is already reported.\n",
      "  step\n",
      "/Users/brent/anaconda3/lib/python3.7/site-packages/optuna/trial/_trial.py:592: UserWarning: The reported value is ignored because this `step` 43 is already reported.\n",
      "  step\n"
     ]
    },
    {
     "name": "stdout",
     "output_type": "stream",
     "text": [
      "[43]\tvalid_0's auc: 0.735021\n",
      "[44]\tvalid_0's auc: 0.735188\n"
     ]
    },
    {
     "name": "stderr",
     "output_type": "stream",
     "text": [
      "/Users/brent/anaconda3/lib/python3.7/site-packages/optuna/trial/_trial.py:592: UserWarning: The reported value is ignored because this `step` 44 is already reported.\n",
      "  step\n",
      "/Users/brent/anaconda3/lib/python3.7/site-packages/optuna/trial/_trial.py:592: UserWarning: The reported value is ignored because this `step` 45 is already reported.\n",
      "  step\n"
     ]
    },
    {
     "name": "stdout",
     "output_type": "stream",
     "text": [
      "[45]\tvalid_0's auc: 0.735342\n",
      "[46]\tvalid_0's auc: 0.73559\n"
     ]
    },
    {
     "name": "stderr",
     "output_type": "stream",
     "text": [
      "/Users/brent/anaconda3/lib/python3.7/site-packages/optuna/trial/_trial.py:592: UserWarning: The reported value is ignored because this `step` 46 is already reported.\n",
      "  step\n",
      "/Users/brent/anaconda3/lib/python3.7/site-packages/optuna/trial/_trial.py:592: UserWarning: The reported value is ignored because this `step` 47 is already reported.\n",
      "  step\n"
     ]
    },
    {
     "name": "stdout",
     "output_type": "stream",
     "text": [
      "[47]\tvalid_0's auc: 0.73573\n",
      "[48]\tvalid_0's auc: 0.735886\n"
     ]
    },
    {
     "name": "stderr",
     "output_type": "stream",
     "text": [
      "/Users/brent/anaconda3/lib/python3.7/site-packages/optuna/trial/_trial.py:592: UserWarning: The reported value is ignored because this `step` 48 is already reported.\n",
      "  step\n",
      "/Users/brent/anaconda3/lib/python3.7/site-packages/optuna/trial/_trial.py:592: UserWarning: The reported value is ignored because this `step` 49 is already reported.\n",
      "  step\n"
     ]
    },
    {
     "name": "stdout",
     "output_type": "stream",
     "text": [
      "[49]\tvalid_0's auc: 0.735926\n",
      "[50]\tvalid_0's auc: 0.735855\n"
     ]
    },
    {
     "name": "stderr",
     "output_type": "stream",
     "text": [
      "/Users/brent/anaconda3/lib/python3.7/site-packages/optuna/trial/_trial.py:592: UserWarning: The reported value is ignored because this `step` 50 is already reported.\n",
      "  step\n",
      "/Users/brent/anaconda3/lib/python3.7/site-packages/optuna/trial/_trial.py:592: UserWarning: The reported value is ignored because this `step` 51 is already reported.\n",
      "  step\n"
     ]
    },
    {
     "name": "stdout",
     "output_type": "stream",
     "text": [
      "[51]\tvalid_0's auc: 0.735997\n",
      "[52]\tvalid_0's auc: 0.736043\n"
     ]
    },
    {
     "name": "stderr",
     "output_type": "stream",
     "text": [
      "/Users/brent/anaconda3/lib/python3.7/site-packages/optuna/trial/_trial.py:592: UserWarning: The reported value is ignored because this `step` 52 is already reported.\n",
      "  step\n",
      "/Users/brent/anaconda3/lib/python3.7/site-packages/optuna/trial/_trial.py:592: UserWarning: The reported value is ignored because this `step` 53 is already reported.\n",
      "  step\n"
     ]
    },
    {
     "name": "stdout",
     "output_type": "stream",
     "text": [
      "[53]\tvalid_0's auc: 0.736071\n",
      "[54]\tvalid_0's auc: 0.736132\n"
     ]
    },
    {
     "name": "stderr",
     "output_type": "stream",
     "text": [
      "/Users/brent/anaconda3/lib/python3.7/site-packages/optuna/trial/_trial.py:592: UserWarning: The reported value is ignored because this `step` 54 is already reported.\n",
      "  step\n",
      "/Users/brent/anaconda3/lib/python3.7/site-packages/optuna/trial/_trial.py:592: UserWarning: The reported value is ignored because this `step` 55 is already reported.\n",
      "  step\n"
     ]
    },
    {
     "name": "stdout",
     "output_type": "stream",
     "text": [
      "[55]\tvalid_0's auc: 0.736258\n",
      "[56]\tvalid_0's auc: 0.736536\n"
     ]
    },
    {
     "name": "stderr",
     "output_type": "stream",
     "text": [
      "/Users/brent/anaconda3/lib/python3.7/site-packages/optuna/trial/_trial.py:592: UserWarning: The reported value is ignored because this `step` 56 is already reported.\n",
      "  step\n",
      "/Users/brent/anaconda3/lib/python3.7/site-packages/optuna/trial/_trial.py:592: UserWarning: The reported value is ignored because this `step` 57 is already reported.\n",
      "  step\n"
     ]
    },
    {
     "name": "stdout",
     "output_type": "stream",
     "text": [
      "[57]\tvalid_0's auc: 0.736796\n",
      "[58]\tvalid_0's auc: 0.736973\n"
     ]
    },
    {
     "name": "stderr",
     "output_type": "stream",
     "text": [
      "/Users/brent/anaconda3/lib/python3.7/site-packages/optuna/trial/_trial.py:592: UserWarning: The reported value is ignored because this `step` 58 is already reported.\n",
      "  step\n",
      "/Users/brent/anaconda3/lib/python3.7/site-packages/optuna/trial/_trial.py:592: UserWarning: The reported value is ignored because this `step` 59 is already reported.\n",
      "  step\n"
     ]
    },
    {
     "name": "stdout",
     "output_type": "stream",
     "text": [
      "[59]\tvalid_0's auc: 0.737131\n",
      "[60]\tvalid_0's auc: 0.737321\n"
     ]
    },
    {
     "name": "stderr",
     "output_type": "stream",
     "text": [
      "/Users/brent/anaconda3/lib/python3.7/site-packages/optuna/trial/_trial.py:592: UserWarning: The reported value is ignored because this `step` 60 is already reported.\n",
      "  step\n",
      "/Users/brent/anaconda3/lib/python3.7/site-packages/optuna/trial/_trial.py:592: UserWarning: The reported value is ignored because this `step` 61 is already reported.\n",
      "  step\n"
     ]
    },
    {
     "name": "stdout",
     "output_type": "stream",
     "text": [
      "[61]\tvalid_0's auc: 0.737508\n",
      "[62]\tvalid_0's auc: 0.737558\n"
     ]
    },
    {
     "name": "stderr",
     "output_type": "stream",
     "text": [
      "/Users/brent/anaconda3/lib/python3.7/site-packages/optuna/trial/_trial.py:592: UserWarning: The reported value is ignored because this `step` 62 is already reported.\n",
      "  step\n",
      "/Users/brent/anaconda3/lib/python3.7/site-packages/optuna/trial/_trial.py:592: UserWarning: The reported value is ignored because this `step` 63 is already reported.\n",
      "  step\n"
     ]
    },
    {
     "name": "stdout",
     "output_type": "stream",
     "text": [
      "[63]\tvalid_0's auc: 0.737548\n",
      "[64]\tvalid_0's auc: 0.737618\n"
     ]
    },
    {
     "name": "stderr",
     "output_type": "stream",
     "text": [
      "/Users/brent/anaconda3/lib/python3.7/site-packages/optuna/trial/_trial.py:592: UserWarning: The reported value is ignored because this `step` 64 is already reported.\n",
      "  step\n",
      "/Users/brent/anaconda3/lib/python3.7/site-packages/optuna/trial/_trial.py:592: UserWarning: The reported value is ignored because this `step` 65 is already reported.\n",
      "  step\n"
     ]
    },
    {
     "name": "stdout",
     "output_type": "stream",
     "text": [
      "[65]\tvalid_0's auc: 0.737844\n",
      "[66]\tvalid_0's auc: 0.738053\n"
     ]
    },
    {
     "name": "stderr",
     "output_type": "stream",
     "text": [
      "/Users/brent/anaconda3/lib/python3.7/site-packages/optuna/trial/_trial.py:592: UserWarning: The reported value is ignored because this `step` 66 is already reported.\n",
      "  step\n",
      "/Users/brent/anaconda3/lib/python3.7/site-packages/optuna/trial/_trial.py:592: UserWarning: The reported value is ignored because this `step` 67 is already reported.\n",
      "  step\n"
     ]
    },
    {
     "name": "stdout",
     "output_type": "stream",
     "text": [
      "[67]\tvalid_0's auc: 0.738253\n",
      "[68]\tvalid_0's auc: 0.738321\n"
     ]
    },
    {
     "name": "stderr",
     "output_type": "stream",
     "text": [
      "/Users/brent/anaconda3/lib/python3.7/site-packages/optuna/trial/_trial.py:592: UserWarning: The reported value is ignored because this `step` 68 is already reported.\n",
      "  step\n",
      "/Users/brent/anaconda3/lib/python3.7/site-packages/optuna/trial/_trial.py:592: UserWarning: The reported value is ignored because this `step` 69 is already reported.\n",
      "  step\n"
     ]
    },
    {
     "name": "stdout",
     "output_type": "stream",
     "text": [
      "[69]\tvalid_0's auc: 0.738426\n",
      "[70]\tvalid_0's auc: 0.738458\n"
     ]
    },
    {
     "name": "stderr",
     "output_type": "stream",
     "text": [
      "/Users/brent/anaconda3/lib/python3.7/site-packages/optuna/trial/_trial.py:592: UserWarning: The reported value is ignored because this `step` 70 is already reported.\n",
      "  step\n",
      "/Users/brent/anaconda3/lib/python3.7/site-packages/optuna/trial/_trial.py:592: UserWarning: The reported value is ignored because this `step` 71 is already reported.\n",
      "  step\n"
     ]
    },
    {
     "name": "stdout",
     "output_type": "stream",
     "text": [
      "[71]\tvalid_0's auc: 0.738492\n",
      "[72]\tvalid_0's auc: 0.738565\n"
     ]
    },
    {
     "name": "stderr",
     "output_type": "stream",
     "text": [
      "/Users/brent/anaconda3/lib/python3.7/site-packages/optuna/trial/_trial.py:592: UserWarning: The reported value is ignored because this `step` 72 is already reported.\n",
      "  step\n",
      "/Users/brent/anaconda3/lib/python3.7/site-packages/optuna/trial/_trial.py:592: UserWarning: The reported value is ignored because this `step` 73 is already reported.\n",
      "  step\n"
     ]
    },
    {
     "name": "stdout",
     "output_type": "stream",
     "text": [
      "[73]\tvalid_0's auc: 0.738697\n",
      "[74]\tvalid_0's auc: 0.738785\n"
     ]
    },
    {
     "name": "stderr",
     "output_type": "stream",
     "text": [
      "/Users/brent/anaconda3/lib/python3.7/site-packages/optuna/trial/_trial.py:592: UserWarning: The reported value is ignored because this `step` 74 is already reported.\n",
      "  step\n",
      "/Users/brent/anaconda3/lib/python3.7/site-packages/optuna/trial/_trial.py:592: UserWarning: The reported value is ignored because this `step` 75 is already reported.\n",
      "  step\n"
     ]
    },
    {
     "name": "stdout",
     "output_type": "stream",
     "text": [
      "[75]\tvalid_0's auc: 0.738939\n",
      "[76]\tvalid_0's auc: 0.739012\n"
     ]
    },
    {
     "name": "stderr",
     "output_type": "stream",
     "text": [
      "/Users/brent/anaconda3/lib/python3.7/site-packages/optuna/trial/_trial.py:592: UserWarning: The reported value is ignored because this `step` 76 is already reported.\n",
      "  step\n",
      "/Users/brent/anaconda3/lib/python3.7/site-packages/optuna/trial/_trial.py:592: UserWarning: The reported value is ignored because this `step` 77 is already reported.\n",
      "  step\n"
     ]
    },
    {
     "name": "stdout",
     "output_type": "stream",
     "text": [
      "[77]\tvalid_0's auc: 0.739147\n",
      "[78]\tvalid_0's auc: 0.73921\n"
     ]
    },
    {
     "name": "stderr",
     "output_type": "stream",
     "text": [
      "/Users/brent/anaconda3/lib/python3.7/site-packages/optuna/trial/_trial.py:592: UserWarning: The reported value is ignored because this `step` 78 is already reported.\n",
      "  step\n",
      "/Users/brent/anaconda3/lib/python3.7/site-packages/optuna/trial/_trial.py:592: UserWarning: The reported value is ignored because this `step` 79 is already reported.\n",
      "  step\n"
     ]
    },
    {
     "name": "stdout",
     "output_type": "stream",
     "text": [
      "[79]\tvalid_0's auc: 0.739264\n",
      "[80]\tvalid_0's auc: 0.73928\n"
     ]
    },
    {
     "name": "stderr",
     "output_type": "stream",
     "text": [
      "/Users/brent/anaconda3/lib/python3.7/site-packages/optuna/trial/_trial.py:592: UserWarning: The reported value is ignored because this `step` 80 is already reported.\n",
      "  step\n",
      "/Users/brent/anaconda3/lib/python3.7/site-packages/optuna/trial/_trial.py:592: UserWarning: The reported value is ignored because this `step` 81 is already reported.\n",
      "  step\n"
     ]
    },
    {
     "name": "stdout",
     "output_type": "stream",
     "text": [
      "[81]\tvalid_0's auc: 0.739331\n",
      "[82]\tvalid_0's auc: 0.739451\n"
     ]
    },
    {
     "name": "stderr",
     "output_type": "stream",
     "text": [
      "/Users/brent/anaconda3/lib/python3.7/site-packages/optuna/trial/_trial.py:592: UserWarning: The reported value is ignored because this `step` 82 is already reported.\n",
      "  step\n",
      "/Users/brent/anaconda3/lib/python3.7/site-packages/optuna/trial/_trial.py:592: UserWarning: The reported value is ignored because this `step` 83 is already reported.\n",
      "  step\n"
     ]
    },
    {
     "name": "stdout",
     "output_type": "stream",
     "text": [
      "[83]\tvalid_0's auc: 0.739503\n",
      "[84]\tvalid_0's auc: 0.739567\n"
     ]
    },
    {
     "name": "stderr",
     "output_type": "stream",
     "text": [
      "/Users/brent/anaconda3/lib/python3.7/site-packages/optuna/trial/_trial.py:592: UserWarning: The reported value is ignored because this `step` 84 is already reported.\n",
      "  step\n"
     ]
    },
    {
     "name": "stdout",
     "output_type": "stream",
     "text": [
      "[85]\tvalid_0's auc: 0.739707\n"
     ]
    },
    {
     "name": "stderr",
     "output_type": "stream",
     "text": [
      "/Users/brent/anaconda3/lib/python3.7/site-packages/optuna/trial/_trial.py:592: UserWarning: The reported value is ignored because this `step` 85 is already reported.\n",
      "  step\n"
     ]
    },
    {
     "name": "stdout",
     "output_type": "stream",
     "text": [
      "[86]\tvalid_0's auc: 0.739788\n"
     ]
    },
    {
     "name": "stderr",
     "output_type": "stream",
     "text": [
      "/Users/brent/anaconda3/lib/python3.7/site-packages/optuna/trial/_trial.py:592: UserWarning: The reported value is ignored because this `step` 86 is already reported.\n",
      "  step\n"
     ]
    },
    {
     "name": "stdout",
     "output_type": "stream",
     "text": [
      "[87]\tvalid_0's auc: 0.73981\n"
     ]
    },
    {
     "name": "stderr",
     "output_type": "stream",
     "text": [
      "/Users/brent/anaconda3/lib/python3.7/site-packages/optuna/trial/_trial.py:592: UserWarning: The reported value is ignored because this `step` 87 is already reported.\n",
      "  step\n"
     ]
    },
    {
     "name": "stdout",
     "output_type": "stream",
     "text": [
      "[88]\tvalid_0's auc: 0.73989\n"
     ]
    },
    {
     "name": "stderr",
     "output_type": "stream",
     "text": [
      "/Users/brent/anaconda3/lib/python3.7/site-packages/optuna/trial/_trial.py:592: UserWarning: The reported value is ignored because this `step` 88 is already reported.\n",
      "  step\n"
     ]
    },
    {
     "name": "stdout",
     "output_type": "stream",
     "text": [
      "[89]\tvalid_0's auc: 0.739953\n"
     ]
    },
    {
     "name": "stderr",
     "output_type": "stream",
     "text": [
      "/Users/brent/anaconda3/lib/python3.7/site-packages/optuna/trial/_trial.py:592: UserWarning: The reported value is ignored because this `step` 89 is already reported.\n",
      "  step\n",
      "/Users/brent/anaconda3/lib/python3.7/site-packages/optuna/trial/_trial.py:592: UserWarning: The reported value is ignored because this `step` 90 is already reported.\n",
      "  step\n"
     ]
    },
    {
     "name": "stdout",
     "output_type": "stream",
     "text": [
      "[90]\tvalid_0's auc: 0.739966\n",
      "[91]\tvalid_0's auc: 0.740035\n"
     ]
    },
    {
     "name": "stderr",
     "output_type": "stream",
     "text": [
      "/Users/brent/anaconda3/lib/python3.7/site-packages/optuna/trial/_trial.py:592: UserWarning: The reported value is ignored because this `step` 91 is already reported.\n",
      "  step\n",
      "/Users/brent/anaconda3/lib/python3.7/site-packages/optuna/trial/_trial.py:592: UserWarning: The reported value is ignored because this `step` 92 is already reported.\n",
      "  step\n"
     ]
    },
    {
     "name": "stdout",
     "output_type": "stream",
     "text": [
      "[92]\tvalid_0's auc: 0.740125\n",
      "[93]\tvalid_0's auc: 0.740187\n"
     ]
    },
    {
     "name": "stderr",
     "output_type": "stream",
     "text": [
      "/Users/brent/anaconda3/lib/python3.7/site-packages/optuna/trial/_trial.py:592: UserWarning: The reported value is ignored because this `step` 93 is already reported.\n",
      "  step\n",
      "/Users/brent/anaconda3/lib/python3.7/site-packages/optuna/trial/_trial.py:592: UserWarning: The reported value is ignored because this `step` 94 is already reported.\n",
      "  step\n"
     ]
    },
    {
     "name": "stdout",
     "output_type": "stream",
     "text": [
      "[94]\tvalid_0's auc: 0.740268\n",
      "[95]\tvalid_0's auc: 0.740339\n"
     ]
    },
    {
     "name": "stderr",
     "output_type": "stream",
     "text": [
      "/Users/brent/anaconda3/lib/python3.7/site-packages/optuna/trial/_trial.py:592: UserWarning: The reported value is ignored because this `step` 95 is already reported.\n",
      "  step\n",
      "/Users/brent/anaconda3/lib/python3.7/site-packages/optuna/trial/_trial.py:592: UserWarning: The reported value is ignored because this `step` 96 is already reported.\n",
      "  step\n"
     ]
    },
    {
     "name": "stdout",
     "output_type": "stream",
     "text": [
      "[96]\tvalid_0's auc: 0.740492\n",
      "[97]\tvalid_0's auc: 0.740528\n"
     ]
    },
    {
     "name": "stderr",
     "output_type": "stream",
     "text": [
      "/Users/brent/anaconda3/lib/python3.7/site-packages/optuna/trial/_trial.py:592: UserWarning: The reported value is ignored because this `step` 97 is already reported.\n",
      "  step\n",
      "/Users/brent/anaconda3/lib/python3.7/site-packages/optuna/trial/_trial.py:592: UserWarning: The reported value is ignored because this `step` 98 is already reported.\n",
      "  step\n"
     ]
    },
    {
     "name": "stdout",
     "output_type": "stream",
     "text": [
      "[98]\tvalid_0's auc: 0.740527\n",
      "[99]\tvalid_0's auc: 0.74056\n"
     ]
    },
    {
     "name": "stderr",
     "output_type": "stream",
     "text": [
      "/Users/brent/anaconda3/lib/python3.7/site-packages/optuna/trial/_trial.py:592: UserWarning: The reported value is ignored because this `step` 99 is already reported.\n",
      "  step\n"
     ]
    },
    {
     "name": "stdout",
     "output_type": "stream",
     "text": [
      "[100]\tvalid_0's auc: 0.740612\n",
      "Did not meet early stopping. Best iteration is:\n",
      "[100]\tvalid_0's auc: 0.740612\n",
      "\u001b[32m[I 2021-10-19 23:05:49,373]\u001b[0m Trial 0 finished with value: 0.7454035427301393 and parameters: {'lambda_l1': 0.036654771066965894, 'lambda_l2': 4.933751695665716e-07, 'num_leaves': 209, 'feature_fraction': 0.7919946664722002, 'bagging_fraction': 0.6562859632656817, 'bagging_freq': 4, 'learning_rate': 0.0024022399929191193, 'min_child_samples': 79, 'cat_smooth': 7}. Best is trial 0 with value: 0.7454035427301393.\u001b[0m\n",
      "[LightGBM] [Warning] bagging_freq is set=3, subsample_freq=0 will be ignored. Current value: bagging_freq=3\n",
      "[LightGBM] [Warning] lambda_l2 is set=0.0001405096536789965, reg_lambda=0.0 will be ignored. Current value: lambda_l2=0.0001405096536789965\n",
      "[LightGBM] [Warning] feature_fraction is set=0.574322285801923, colsample_bytree=1.0 will be ignored. Current value: feature_fraction=0.574322285801923\n",
      "[LightGBM] [Warning] bagging_fraction is set=0.9556009191065077, subsample=1.0 will be ignored. Current value: bagging_fraction=0.9556009191065077\n",
      "[LightGBM] [Warning] lambda_l1 is set=2.612000848924171e-06, reg_alpha=0.0 will be ignored. Current value: lambda_l1=2.612000848924171e-06\n",
      "[1]\tvalid_0's auc: 0.700252\n",
      "Training until validation scores don't improve for 100 rounds\n",
      "[2]\tvalid_0's auc: 0.702829\n",
      "[3]\tvalid_0's auc: 0.705098\n",
      "[4]\tvalid_0's auc: 0.708565\n",
      "[5]\tvalid_0's auc: 0.711299\n",
      "[6]\tvalid_0's auc: 0.710816\n",
      "[7]\tvalid_0's auc: 0.711965\n",
      "[8]\tvalid_0's auc: 0.714694\n",
      "[9]\tvalid_0's auc: 0.712369\n",
      "[10]\tvalid_0's auc: 0.71362\n",
      "[11]\tvalid_0's auc: 0.712922\n",
      "[12]\tvalid_0's auc: 0.713811\n",
      "[13]\tvalid_0's auc: 0.714679\n",
      "[14]\tvalid_0's auc: 0.715968\n",
      "[15]\tvalid_0's auc: 0.715943\n",
      "[16]\tvalid_0's auc: 0.716\n",
      "[17]\tvalid_0's auc: 0.716309\n",
      "[18]\tvalid_0's auc: 0.716593\n",
      "[19]\tvalid_0's auc: 0.7159\n",
      "[20]\tvalid_0's auc: 0.71557\n",
      "[21]\tvalid_0's auc: 0.715591\n",
      "[22]\tvalid_0's auc: 0.716533\n",
      "[23]\tvalid_0's auc: 0.716375\n",
      "[24]\tvalid_0's auc: 0.715558\n",
      "[25]\tvalid_0's auc: 0.715166\n",
      "[26]\tvalid_0's auc: 0.715423\n",
      "[27]\tvalid_0's auc: 0.714612\n",
      "[28]\tvalid_0's auc: 0.71382\n",
      "[29]\tvalid_0's auc: 0.713148\n",
      "[30]\tvalid_0's auc: 0.713346\n",
      "[31]\tvalid_0's auc: 0.714329\n",
      "[32]\tvalid_0's auc: 0.714278\n",
      "[33]\tvalid_0's auc: 0.713716\n",
      "[34]\tvalid_0's auc: 0.713348\n",
      "[35]\tvalid_0's auc: 0.713452\n",
      "[36]\tvalid_0's auc: 0.712484\n",
      "[37]\tvalid_0's auc: 0.712012\n",
      "[38]\tvalid_0's auc: 0.712075\n",
      "[39]\tvalid_0's auc: 0.711765\n",
      "[40]\tvalid_0's auc: 0.712662\n",
      "[41]\tvalid_0's auc: 0.712241\n",
      "[42]\tvalid_0's auc: 0.711311\n",
      "[43]\tvalid_0's auc: 0.711124\n",
      "[44]\tvalid_0's auc: 0.710913\n",
      "[45]\tvalid_0's auc: 0.710946\n",
      "[46]\tvalid_0's auc: 0.710334\n",
      "[47]\tvalid_0's auc: 0.709855\n",
      "[48]\tvalid_0's auc: 0.710751\n",
      "[49]\tvalid_0's auc: 0.710041\n",
      "[50]\tvalid_0's auc: 0.708906\n",
      "[51]\tvalid_0's auc: 0.708842\n",
      "[52]\tvalid_0's auc: 0.708519\n",
      "[53]\tvalid_0's auc: 0.708004\n",
      "[54]\tvalid_0's auc: 0.707619\n",
      "[55]\tvalid_0's auc: 0.707903\n",
      "[56]\tvalid_0's auc: 0.707796\n",
      "[57]\tvalid_0's auc: 0.707761\n",
      "[58]\tvalid_0's auc: 0.707631\n",
      "[59]\tvalid_0's auc: 0.708138\n",
      "[60]\tvalid_0's auc: 0.708342\n",
      "[61]\tvalid_0's auc: 0.708119\n",
      "[62]\tvalid_0's auc: 0.707659\n",
      "[63]\tvalid_0's auc: 0.707495\n",
      "[64]\tvalid_0's auc: 0.706623\n",
      "[65]\tvalid_0's auc: 0.70625\n",
      "[66]\tvalid_0's auc: 0.705717\n",
      "[67]\tvalid_0's auc: 0.705664\n",
      "[68]\tvalid_0's auc: 0.705173\n",
      "[69]\tvalid_0's auc: 0.704409\n",
      "[70]\tvalid_0's auc: 0.704606\n",
      "[71]\tvalid_0's auc: 0.704232\n",
      "[72]\tvalid_0's auc: 0.703681\n",
      "[73]\tvalid_0's auc: 0.703407\n",
      "[74]\tvalid_0's auc: 0.703335\n",
      "[75]\tvalid_0's auc: 0.702793\n",
      "[76]\tvalid_0's auc: 0.702716\n",
      "[77]\tvalid_0's auc: 0.70227\n",
      "[78]\tvalid_0's auc: 0.702052\n",
      "[79]\tvalid_0's auc: 0.70179\n",
      "[80]\tvalid_0's auc: 0.702207\n",
      "[81]\tvalid_0's auc: 0.701448\n",
      "[82]\tvalid_0's auc: 0.701532\n",
      "[83]\tvalid_0's auc: 0.701328\n",
      "[84]\tvalid_0's auc: 0.701199\n",
      "[85]\tvalid_0's auc: 0.70103\n",
      "[86]\tvalid_0's auc: 0.700712\n",
      "[87]\tvalid_0's auc: 0.700302\n",
      "[88]\tvalid_0's auc: 0.700026\n",
      "[89]\tvalid_0's auc: 0.69952\n",
      "[90]\tvalid_0's auc: 0.699153\n",
      "[91]\tvalid_0's auc: 0.699362\n",
      "[92]\tvalid_0's auc: 0.698897\n",
      "[93]\tvalid_0's auc: 0.698381\n",
      "[94]\tvalid_0's auc: 0.698246\n",
      "[95]\tvalid_0's auc: 0.698824\n",
      "[96]\tvalid_0's auc: 0.698522\n",
      "[97]\tvalid_0's auc: 0.698415\n",
      "[98]\tvalid_0's auc: 0.697998\n",
      "[99]\tvalid_0's auc: 0.698193\n",
      "[100]\tvalid_0's auc: 0.699216\n",
      "Did not meet early stopping. Best iteration is:\n",
      "[18]\tvalid_0's auc: 0.716593\n",
      "[LightGBM] [Warning] bagging_freq is set=3, subsample_freq=0 will be ignored. Current value: bagging_freq=3\n",
      "[LightGBM] [Warning] lambda_l2 is set=0.0001405096536789965, reg_lambda=0.0 will be ignored. Current value: lambda_l2=0.0001405096536789965\n",
      "[LightGBM] [Warning] feature_fraction is set=0.574322285801923, colsample_bytree=1.0 will be ignored. Current value: feature_fraction=0.574322285801923\n",
      "[LightGBM] [Warning] bagging_fraction is set=0.9556009191065077, subsample=1.0 will be ignored. Current value: bagging_fraction=0.9556009191065077\n",
      "[LightGBM] [Warning] lambda_l1 is set=2.612000848924171e-06, reg_alpha=0.0 will be ignored. Current value: lambda_l1=2.612000848924171e-06\n"
     ]
    },
    {
     "name": "stderr",
     "output_type": "stream",
     "text": [
      "/Users/brent/anaconda3/lib/python3.7/site-packages/optuna/trial/_trial.py:592: UserWarning: The reported value is ignored because this `step` 0 is already reported.\n",
      "  step\n",
      "/Users/brent/anaconda3/lib/python3.7/site-packages/optuna/trial/_trial.py:592: UserWarning: The reported value is ignored because this `step` 1 is already reported.\n",
      "  step\n"
     ]
    },
    {
     "name": "stdout",
     "output_type": "stream",
     "text": [
      "[1]\tvalid_0's auc: 0.697444\n",
      "Training until validation scores don't improve for 100 rounds\n",
      "[2]\tvalid_0's auc: 0.701899\n"
     ]
    },
    {
     "name": "stderr",
     "output_type": "stream",
     "text": [
      "/Users/brent/anaconda3/lib/python3.7/site-packages/optuna/trial/_trial.py:592: UserWarning: The reported value is ignored because this `step` 2 is already reported.\n",
      "  step\n",
      "/Users/brent/anaconda3/lib/python3.7/site-packages/optuna/trial/_trial.py:592: UserWarning: The reported value is ignored because this `step` 3 is already reported.\n",
      "  step\n"
     ]
    },
    {
     "name": "stdout",
     "output_type": "stream",
     "text": [
      "[3]\tvalid_0's auc: 0.705515\n",
      "[4]\tvalid_0's auc: 0.707299\n"
     ]
    },
    {
     "name": "stderr",
     "output_type": "stream",
     "text": [
      "/Users/brent/anaconda3/lib/python3.7/site-packages/optuna/trial/_trial.py:592: UserWarning: The reported value is ignored because this `step` 4 is already reported.\n",
      "  step\n",
      "/Users/brent/anaconda3/lib/python3.7/site-packages/optuna/trial/_trial.py:592: UserWarning: The reported value is ignored because this `step` 5 is already reported.\n",
      "  step\n"
     ]
    },
    {
     "name": "stdout",
     "output_type": "stream",
     "text": [
      "[5]\tvalid_0's auc: 0.708673\n",
      "[6]\tvalid_0's auc: 0.71101\n"
     ]
    },
    {
     "name": "stderr",
     "output_type": "stream",
     "text": [
      "/Users/brent/anaconda3/lib/python3.7/site-packages/optuna/trial/_trial.py:592: UserWarning: The reported value is ignored because this `step` 6 is already reported.\n",
      "  step\n",
      "/Users/brent/anaconda3/lib/python3.7/site-packages/optuna/trial/_trial.py:592: UserWarning: The reported value is ignored because this `step` 7 is already reported.\n",
      "  step\n",
      "/Users/brent/anaconda3/lib/python3.7/site-packages/optuna/trial/_trial.py:592: UserWarning: The reported value is ignored because this `step` 8 is already reported.\n",
      "  step\n"
     ]
    },
    {
     "name": "stdout",
     "output_type": "stream",
     "text": [
      "[7]\tvalid_0's auc: 0.711678\n",
      "[8]\tvalid_0's auc: 0.712074\n",
      "[9]\tvalid_0's auc: 0.711968\n"
     ]
    },
    {
     "name": "stderr",
     "output_type": "stream",
     "text": [
      "/Users/brent/anaconda3/lib/python3.7/site-packages/optuna/trial/_trial.py:592: UserWarning: The reported value is ignored because this `step` 9 is already reported.\n",
      "  step\n",
      "/Users/brent/anaconda3/lib/python3.7/site-packages/optuna/trial/_trial.py:592: UserWarning: The reported value is ignored because this `step` 10 is already reported.\n",
      "  step\n"
     ]
    },
    {
     "name": "stdout",
     "output_type": "stream",
     "text": [
      "[10]\tvalid_0's auc: 0.711954\n",
      "[11]\tvalid_0's auc: 0.711877\n"
     ]
    },
    {
     "name": "stderr",
     "output_type": "stream",
     "text": [
      "/Users/brent/anaconda3/lib/python3.7/site-packages/optuna/trial/_trial.py:592: UserWarning: The reported value is ignored because this `step` 11 is already reported.\n",
      "  step\n",
      "/Users/brent/anaconda3/lib/python3.7/site-packages/optuna/trial/_trial.py:592: UserWarning: The reported value is ignored because this `step` 12 is already reported.\n",
      "  step\n",
      "/Users/brent/anaconda3/lib/python3.7/site-packages/optuna/trial/_trial.py:592: UserWarning: The reported value is ignored because this `step` 13 is already reported.\n",
      "  step\n"
     ]
    },
    {
     "name": "stdout",
     "output_type": "stream",
     "text": [
      "[12]\tvalid_0's auc: 0.711781\n",
      "[13]\tvalid_0's auc: 0.711614\n",
      "[14]\tvalid_0's auc: 0.712176\n"
     ]
    },
    {
     "name": "stderr",
     "output_type": "stream",
     "text": [
      "/Users/brent/anaconda3/lib/python3.7/site-packages/optuna/trial/_trial.py:592: UserWarning: The reported value is ignored because this `step` 14 is already reported.\n",
      "  step\n",
      "/Users/brent/anaconda3/lib/python3.7/site-packages/optuna/trial/_trial.py:592: UserWarning: The reported value is ignored because this `step` 15 is already reported.\n",
      "  step\n",
      "/Users/brent/anaconda3/lib/python3.7/site-packages/optuna/trial/_trial.py:592: UserWarning: The reported value is ignored because this `step` 16 is already reported.\n",
      "  step\n"
     ]
    },
    {
     "name": "stdout",
     "output_type": "stream",
     "text": [
      "[15]\tvalid_0's auc: 0.713616\n",
      "[16]\tvalid_0's auc: 0.713729\n",
      "[17]\tvalid_0's auc: 0.714316\n"
     ]
    },
    {
     "name": "stderr",
     "output_type": "stream",
     "text": [
      "/Users/brent/anaconda3/lib/python3.7/site-packages/optuna/trial/_trial.py:592: UserWarning: The reported value is ignored because this `step` 17 is already reported.\n",
      "  step\n",
      "/Users/brent/anaconda3/lib/python3.7/site-packages/optuna/trial/_trial.py:592: UserWarning: The reported value is ignored because this `step` 18 is already reported.\n",
      "  step\n"
     ]
    },
    {
     "name": "stdout",
     "output_type": "stream",
     "text": [
      "[18]\tvalid_0's auc: 0.714556\n",
      "[19]\tvalid_0's auc: 0.715645\n"
     ]
    },
    {
     "name": "stderr",
     "output_type": "stream",
     "text": [
      "/Users/brent/anaconda3/lib/python3.7/site-packages/optuna/trial/_trial.py:592: UserWarning: The reported value is ignored because this `step` 19 is already reported.\n",
      "  step\n",
      "/Users/brent/anaconda3/lib/python3.7/site-packages/optuna/trial/_trial.py:592: UserWarning: The reported value is ignored because this `step` 20 is already reported.\n",
      "  step\n",
      "/Users/brent/anaconda3/lib/python3.7/site-packages/optuna/trial/_trial.py:592: UserWarning: The reported value is ignored because this `step` 21 is already reported.\n",
      "  step\n"
     ]
    },
    {
     "name": "stdout",
     "output_type": "stream",
     "text": [
      "[20]\tvalid_0's auc: 0.714938\n",
      "[21]\tvalid_0's auc: 0.714262\n",
      "[22]\tvalid_0's auc: 0.714698\n"
     ]
    },
    {
     "name": "stderr",
     "output_type": "stream",
     "text": [
      "/Users/brent/anaconda3/lib/python3.7/site-packages/optuna/trial/_trial.py:592: UserWarning: The reported value is ignored because this `step` 22 is already reported.\n",
      "  step\n",
      "/Users/brent/anaconda3/lib/python3.7/site-packages/optuna/trial/_trial.py:592: UserWarning: The reported value is ignored because this `step` 23 is already reported.\n",
      "  step\n",
      "/Users/brent/anaconda3/lib/python3.7/site-packages/optuna/trial/_trial.py:592: UserWarning: The reported value is ignored because this `step` 24 is already reported.\n",
      "  step\n"
     ]
    },
    {
     "name": "stdout",
     "output_type": "stream",
     "text": [
      "[23]\tvalid_0's auc: 0.71495\n",
      "[24]\tvalid_0's auc: 0.715518\n",
      "[25]\tvalid_0's auc: 0.714791\n"
     ]
    },
    {
     "name": "stderr",
     "output_type": "stream",
     "text": [
      "/Users/brent/anaconda3/lib/python3.7/site-packages/optuna/trial/_trial.py:592: UserWarning: The reported value is ignored because this `step` 25 is already reported.\n",
      "  step\n",
      "/Users/brent/anaconda3/lib/python3.7/site-packages/optuna/trial/_trial.py:592: UserWarning: The reported value is ignored because this `step` 26 is already reported.\n",
      "  step\n",
      "/Users/brent/anaconda3/lib/python3.7/site-packages/optuna/trial/_trial.py:592: UserWarning: The reported value is ignored because this `step` 27 is already reported.\n",
      "  step\n"
     ]
    },
    {
     "name": "stdout",
     "output_type": "stream",
     "text": [
      "[26]\tvalid_0's auc: 0.715129\n",
      "[27]\tvalid_0's auc: 0.715609\n",
      "[28]\tvalid_0's auc: 0.715518\n"
     ]
    },
    {
     "name": "stderr",
     "output_type": "stream",
     "text": [
      "/Users/brent/anaconda3/lib/python3.7/site-packages/optuna/trial/_trial.py:592: UserWarning: The reported value is ignored because this `step` 28 is already reported.\n",
      "  step\n",
      "/Users/brent/anaconda3/lib/python3.7/site-packages/optuna/trial/_trial.py:592: UserWarning: The reported value is ignored because this `step` 29 is already reported.\n",
      "  step\n",
      "/Users/brent/anaconda3/lib/python3.7/site-packages/optuna/trial/_trial.py:592: UserWarning: The reported value is ignored because this `step` 30 is already reported.\n",
      "  step\n"
     ]
    },
    {
     "name": "stdout",
     "output_type": "stream",
     "text": [
      "[29]\tvalid_0's auc: 0.715342\n",
      "[30]\tvalid_0's auc: 0.714533\n",
      "[31]\tvalid_0's auc: 0.714406\n"
     ]
    },
    {
     "name": "stderr",
     "output_type": "stream",
     "text": [
      "/Users/brent/anaconda3/lib/python3.7/site-packages/optuna/trial/_trial.py:592: UserWarning: The reported value is ignored because this `step` 31 is already reported.\n",
      "  step\n",
      "/Users/brent/anaconda3/lib/python3.7/site-packages/optuna/trial/_trial.py:592: UserWarning: The reported value is ignored because this `step` 32 is already reported.\n",
      "  step\n",
      "/Users/brent/anaconda3/lib/python3.7/site-packages/optuna/trial/_trial.py:592: UserWarning: The reported value is ignored because this `step` 33 is already reported.\n",
      "  step\n"
     ]
    },
    {
     "name": "stdout",
     "output_type": "stream",
     "text": [
      "[32]\tvalid_0's auc: 0.714128\n",
      "[33]\tvalid_0's auc: 0.714013\n",
      "[34]\tvalid_0's auc: 0.713845\n"
     ]
    },
    {
     "name": "stderr",
     "output_type": "stream",
     "text": [
      "/Users/brent/anaconda3/lib/python3.7/site-packages/optuna/trial/_trial.py:592: UserWarning: The reported value is ignored because this `step` 34 is already reported.\n",
      "  step\n",
      "/Users/brent/anaconda3/lib/python3.7/site-packages/optuna/trial/_trial.py:592: UserWarning: The reported value is ignored because this `step` 35 is already reported.\n",
      "  step\n",
      "/Users/brent/anaconda3/lib/python3.7/site-packages/optuna/trial/_trial.py:592: UserWarning: The reported value is ignored because this `step` 36 is already reported.\n",
      "  step\n"
     ]
    },
    {
     "name": "stdout",
     "output_type": "stream",
     "text": [
      "[35]\tvalid_0's auc: 0.713184\n",
      "[36]\tvalid_0's auc: 0.712012\n",
      "[37]\tvalid_0's auc: 0.711559\n"
     ]
    },
    {
     "name": "stderr",
     "output_type": "stream",
     "text": [
      "/Users/brent/anaconda3/lib/python3.7/site-packages/optuna/trial/_trial.py:592: UserWarning: The reported value is ignored because this `step` 37 is already reported.\n",
      "  step\n",
      "/Users/brent/anaconda3/lib/python3.7/site-packages/optuna/trial/_trial.py:592: UserWarning: The reported value is ignored because this `step` 38 is already reported.\n",
      "  step\n",
      "/Users/brent/anaconda3/lib/python3.7/site-packages/optuna/trial/_trial.py:592: UserWarning: The reported value is ignored because this `step` 39 is already reported.\n",
      "  step\n"
     ]
    },
    {
     "name": "stdout",
     "output_type": "stream",
     "text": [
      "[38]\tvalid_0's auc: 0.71104\n",
      "[39]\tvalid_0's auc: 0.710732\n",
      "[40]\tvalid_0's auc: 0.71086\n"
     ]
    },
    {
     "name": "stderr",
     "output_type": "stream",
     "text": [
      "/Users/brent/anaconda3/lib/python3.7/site-packages/optuna/trial/_trial.py:592: UserWarning: The reported value is ignored because this `step` 40 is already reported.\n",
      "  step\n",
      "/Users/brent/anaconda3/lib/python3.7/site-packages/optuna/trial/_trial.py:592: UserWarning: The reported value is ignored because this `step` 41 is already reported.\n",
      "  step\n",
      "/Users/brent/anaconda3/lib/python3.7/site-packages/optuna/trial/_trial.py:592: UserWarning: The reported value is ignored because this `step` 42 is already reported.\n",
      "  step\n"
     ]
    },
    {
     "name": "stdout",
     "output_type": "stream",
     "text": [
      "[41]\tvalid_0's auc: 0.710453\n",
      "[42]\tvalid_0's auc: 0.710335\n",
      "[43]\tvalid_0's auc: 0.710237\n"
     ]
    },
    {
     "name": "stderr",
     "output_type": "stream",
     "text": [
      "/Users/brent/anaconda3/lib/python3.7/site-packages/optuna/trial/_trial.py:592: UserWarning: The reported value is ignored because this `step` 43 is already reported.\n",
      "  step\n",
      "/Users/brent/anaconda3/lib/python3.7/site-packages/optuna/trial/_trial.py:592: UserWarning: The reported value is ignored because this `step` 44 is already reported.\n",
      "  step\n",
      "/Users/brent/anaconda3/lib/python3.7/site-packages/optuna/trial/_trial.py:592: UserWarning: The reported value is ignored because this `step` 45 is already reported.\n",
      "  step\n"
     ]
    },
    {
     "name": "stdout",
     "output_type": "stream",
     "text": [
      "[44]\tvalid_0's auc: 0.710773\n",
      "[45]\tvalid_0's auc: 0.710554\n",
      "[46]\tvalid_0's auc: 0.710781\n"
     ]
    },
    {
     "name": "stderr",
     "output_type": "stream",
     "text": [
      "/Users/brent/anaconda3/lib/python3.7/site-packages/optuna/trial/_trial.py:592: UserWarning: The reported value is ignored because this `step` 46 is already reported.\n",
      "  step\n",
      "/Users/brent/anaconda3/lib/python3.7/site-packages/optuna/trial/_trial.py:592: UserWarning: The reported value is ignored because this `step` 47 is already reported.\n",
      "  step\n",
      "/Users/brent/anaconda3/lib/python3.7/site-packages/optuna/trial/_trial.py:592: UserWarning: The reported value is ignored because this `step` 48 is already reported.\n",
      "  step\n"
     ]
    },
    {
     "name": "stdout",
     "output_type": "stream",
     "text": [
      "[47]\tvalid_0's auc: 0.710473\n",
      "[48]\tvalid_0's auc: 0.710228\n",
      "[49]\tvalid_0's auc: 0.709645\n"
     ]
    },
    {
     "name": "stderr",
     "output_type": "stream",
     "text": [
      "/Users/brent/anaconda3/lib/python3.7/site-packages/optuna/trial/_trial.py:592: UserWarning: The reported value is ignored because this `step` 49 is already reported.\n",
      "  step\n",
      "/Users/brent/anaconda3/lib/python3.7/site-packages/optuna/trial/_trial.py:592: UserWarning: The reported value is ignored because this `step` 50 is already reported.\n",
      "  step\n",
      "/Users/brent/anaconda3/lib/python3.7/site-packages/optuna/trial/_trial.py:592: UserWarning: The reported value is ignored because this `step` 51 is already reported.\n",
      "  step\n"
     ]
    },
    {
     "name": "stdout",
     "output_type": "stream",
     "text": [
      "[50]\tvalid_0's auc: 0.710026\n",
      "[51]\tvalid_0's auc: 0.709896\n",
      "[52]\tvalid_0's auc: 0.70945\n"
     ]
    },
    {
     "name": "stderr",
     "output_type": "stream",
     "text": [
      "/Users/brent/anaconda3/lib/python3.7/site-packages/optuna/trial/_trial.py:592: UserWarning: The reported value is ignored because this `step` 52 is already reported.\n",
      "  step\n",
      "/Users/brent/anaconda3/lib/python3.7/site-packages/optuna/trial/_trial.py:592: UserWarning: The reported value is ignored because this `step` 53 is already reported.\n",
      "  step\n",
      "/Users/brent/anaconda3/lib/python3.7/site-packages/optuna/trial/_trial.py:592: UserWarning: The reported value is ignored because this `step` 54 is already reported.\n",
      "  step\n"
     ]
    },
    {
     "name": "stdout",
     "output_type": "stream",
     "text": [
      "[53]\tvalid_0's auc: 0.709402\n",
      "[54]\tvalid_0's auc: 0.70856\n",
      "[55]\tvalid_0's auc: 0.708226\n"
     ]
    },
    {
     "name": "stderr",
     "output_type": "stream",
     "text": [
      "/Users/brent/anaconda3/lib/python3.7/site-packages/optuna/trial/_trial.py:592: UserWarning: The reported value is ignored because this `step` 55 is already reported.\n",
      "  step\n",
      "/Users/brent/anaconda3/lib/python3.7/site-packages/optuna/trial/_trial.py:592: UserWarning: The reported value is ignored because this `step` 56 is already reported.\n",
      "  step\n",
      "/Users/brent/anaconda3/lib/python3.7/site-packages/optuna/trial/_trial.py:592: UserWarning: The reported value is ignored because this `step` 57 is already reported.\n",
      "  step\n"
     ]
    },
    {
     "name": "stdout",
     "output_type": "stream",
     "text": [
      "[56]\tvalid_0's auc: 0.708023\n",
      "[57]\tvalid_0's auc: 0.706987\n",
      "[58]\tvalid_0's auc: 0.70653\n"
     ]
    },
    {
     "name": "stderr",
     "output_type": "stream",
     "text": [
      "/Users/brent/anaconda3/lib/python3.7/site-packages/optuna/trial/_trial.py:592: UserWarning: The reported value is ignored because this `step` 58 is already reported.\n",
      "  step\n",
      "/Users/brent/anaconda3/lib/python3.7/site-packages/optuna/trial/_trial.py:592: UserWarning: The reported value is ignored because this `step` 59 is already reported.\n",
      "  step\n",
      "/Users/brent/anaconda3/lib/python3.7/site-packages/optuna/trial/_trial.py:592: UserWarning: The reported value is ignored because this `step` 60 is already reported.\n",
      "  step\n"
     ]
    },
    {
     "name": "stdout",
     "output_type": "stream",
     "text": [
      "[59]\tvalid_0's auc: 0.706972\n",
      "[60]\tvalid_0's auc: 0.706161\n",
      "[61]\tvalid_0's auc: 0.706294\n"
     ]
    },
    {
     "name": "stderr",
     "output_type": "stream",
     "text": [
      "/Users/brent/anaconda3/lib/python3.7/site-packages/optuna/trial/_trial.py:592: UserWarning: The reported value is ignored because this `step` 61 is already reported.\n",
      "  step\n",
      "/Users/brent/anaconda3/lib/python3.7/site-packages/optuna/trial/_trial.py:592: UserWarning: The reported value is ignored because this `step` 62 is already reported.\n",
      "  step\n",
      "/Users/brent/anaconda3/lib/python3.7/site-packages/optuna/trial/_trial.py:592: UserWarning: The reported value is ignored because this `step` 63 is already reported.\n",
      "  step\n"
     ]
    },
    {
     "name": "stdout",
     "output_type": "stream",
     "text": [
      "[62]\tvalid_0's auc: 0.705255\n",
      "[63]\tvalid_0's auc: 0.705364\n",
      "[64]\tvalid_0's auc: 0.70501\n"
     ]
    },
    {
     "name": "stderr",
     "output_type": "stream",
     "text": [
      "/Users/brent/anaconda3/lib/python3.7/site-packages/optuna/trial/_trial.py:592: UserWarning: The reported value is ignored because this `step` 64 is already reported.\n",
      "  step\n",
      "/Users/brent/anaconda3/lib/python3.7/site-packages/optuna/trial/_trial.py:592: UserWarning: The reported value is ignored because this `step` 65 is already reported.\n",
      "  step\n",
      "/Users/brent/anaconda3/lib/python3.7/site-packages/optuna/trial/_trial.py:592: UserWarning: The reported value is ignored because this `step` 66 is already reported.\n",
      "  step\n"
     ]
    },
    {
     "name": "stdout",
     "output_type": "stream",
     "text": [
      "[65]\tvalid_0's auc: 0.704579\n",
      "[66]\tvalid_0's auc: 0.703995\n",
      "[67]\tvalid_0's auc: 0.704493\n"
     ]
    },
    {
     "name": "stderr",
     "output_type": "stream",
     "text": [
      "/Users/brent/anaconda3/lib/python3.7/site-packages/optuna/trial/_trial.py:592: UserWarning: The reported value is ignored because this `step` 67 is already reported.\n",
      "  step\n",
      "/Users/brent/anaconda3/lib/python3.7/site-packages/optuna/trial/_trial.py:592: UserWarning: The reported value is ignored because this `step` 68 is already reported.\n",
      "  step\n",
      "/Users/brent/anaconda3/lib/python3.7/site-packages/optuna/trial/_trial.py:592: UserWarning: The reported value is ignored because this `step` 69 is already reported.\n",
      "  step\n"
     ]
    },
    {
     "name": "stdout",
     "output_type": "stream",
     "text": [
      "[68]\tvalid_0's auc: 0.704362\n",
      "[69]\tvalid_0's auc: 0.704209\n",
      "[70]\tvalid_0's auc: 0.703735\n"
     ]
    },
    {
     "name": "stderr",
     "output_type": "stream",
     "text": [
      "/Users/brent/anaconda3/lib/python3.7/site-packages/optuna/trial/_trial.py:592: UserWarning: The reported value is ignored because this `step` 70 is already reported.\n",
      "  step\n",
      "/Users/brent/anaconda3/lib/python3.7/site-packages/optuna/trial/_trial.py:592: UserWarning: The reported value is ignored because this `step` 71 is already reported.\n",
      "  step\n",
      "/Users/brent/anaconda3/lib/python3.7/site-packages/optuna/trial/_trial.py:592: UserWarning: The reported value is ignored because this `step` 72 is already reported.\n",
      "  step\n"
     ]
    },
    {
     "name": "stdout",
     "output_type": "stream",
     "text": [
      "[71]\tvalid_0's auc: 0.703525\n",
      "[72]\tvalid_0's auc: 0.702854\n",
      "[73]\tvalid_0's auc: 0.702435\n"
     ]
    },
    {
     "name": "stderr",
     "output_type": "stream",
     "text": [
      "/Users/brent/anaconda3/lib/python3.7/site-packages/optuna/trial/_trial.py:592: UserWarning: The reported value is ignored because this `step` 73 is already reported.\n",
      "  step\n",
      "/Users/brent/anaconda3/lib/python3.7/site-packages/optuna/trial/_trial.py:592: UserWarning: The reported value is ignored because this `step` 74 is already reported.\n",
      "  step\n",
      "/Users/brent/anaconda3/lib/python3.7/site-packages/optuna/trial/_trial.py:592: UserWarning: The reported value is ignored because this `step` 75 is already reported.\n",
      "  step\n"
     ]
    },
    {
     "name": "stdout",
     "output_type": "stream",
     "text": [
      "[74]\tvalid_0's auc: 0.702186\n",
      "[75]\tvalid_0's auc: 0.70188\n",
      "[76]\tvalid_0's auc: 0.702055\n"
     ]
    },
    {
     "name": "stderr",
     "output_type": "stream",
     "text": [
      "/Users/brent/anaconda3/lib/python3.7/site-packages/optuna/trial/_trial.py:592: UserWarning: The reported value is ignored because this `step` 76 is already reported.\n",
      "  step\n",
      "/Users/brent/anaconda3/lib/python3.7/site-packages/optuna/trial/_trial.py:592: UserWarning: The reported value is ignored because this `step` 77 is already reported.\n",
      "  step\n",
      "/Users/brent/anaconda3/lib/python3.7/site-packages/optuna/trial/_trial.py:592: UserWarning: The reported value is ignored because this `step` 78 is already reported.\n",
      "  step\n"
     ]
    },
    {
     "name": "stdout",
     "output_type": "stream",
     "text": [
      "[77]\tvalid_0's auc: 0.701677\n",
      "[78]\tvalid_0's auc: 0.701426\n",
      "[79]\tvalid_0's auc: 0.701238\n"
     ]
    },
    {
     "name": "stderr",
     "output_type": "stream",
     "text": [
      "/Users/brent/anaconda3/lib/python3.7/site-packages/optuna/trial/_trial.py:592: UserWarning: The reported value is ignored because this `step` 79 is already reported.\n",
      "  step\n",
      "/Users/brent/anaconda3/lib/python3.7/site-packages/optuna/trial/_trial.py:592: UserWarning: The reported value is ignored because this `step` 80 is already reported.\n",
      "  step\n",
      "/Users/brent/anaconda3/lib/python3.7/site-packages/optuna/trial/_trial.py:592: UserWarning: The reported value is ignored because this `step` 81 is already reported.\n",
      "  step\n"
     ]
    },
    {
     "name": "stdout",
     "output_type": "stream",
     "text": [
      "[80]\tvalid_0's auc: 0.70122\n",
      "[81]\tvalid_0's auc: 0.700836\n",
      "[82]\tvalid_0's auc: 0.700735\n"
     ]
    },
    {
     "name": "stderr",
     "output_type": "stream",
     "text": [
      "/Users/brent/anaconda3/lib/python3.7/site-packages/optuna/trial/_trial.py:592: UserWarning: The reported value is ignored because this `step` 82 is already reported.\n",
      "  step\n",
      "/Users/brent/anaconda3/lib/python3.7/site-packages/optuna/trial/_trial.py:592: UserWarning: The reported value is ignored because this `step` 83 is already reported.\n",
      "  step\n",
      "/Users/brent/anaconda3/lib/python3.7/site-packages/optuna/trial/_trial.py:592: UserWarning: The reported value is ignored because this `step` 84 is already reported.\n",
      "  step\n"
     ]
    },
    {
     "name": "stdout",
     "output_type": "stream",
     "text": [
      "[83]\tvalid_0's auc: 0.701123\n",
      "[84]\tvalid_0's auc: 0.7009\n",
      "[85]\tvalid_0's auc: 0.701107\n"
     ]
    },
    {
     "name": "stderr",
     "output_type": "stream",
     "text": [
      "/Users/brent/anaconda3/lib/python3.7/site-packages/optuna/trial/_trial.py:592: UserWarning: The reported value is ignored because this `step` 85 is already reported.\n",
      "  step\n",
      "/Users/brent/anaconda3/lib/python3.7/site-packages/optuna/trial/_trial.py:592: UserWarning: The reported value is ignored because this `step` 86 is already reported.\n",
      "  step\n",
      "/Users/brent/anaconda3/lib/python3.7/site-packages/optuna/trial/_trial.py:592: UserWarning: The reported value is ignored because this `step` 87 is already reported.\n",
      "  step\n"
     ]
    },
    {
     "name": "stdout",
     "output_type": "stream",
     "text": [
      "[86]\tvalid_0's auc: 0.701428\n",
      "[87]\tvalid_0's auc: 0.701575\n",
      "[88]\tvalid_0's auc: 0.700653\n"
     ]
    },
    {
     "name": "stderr",
     "output_type": "stream",
     "text": [
      "/Users/brent/anaconda3/lib/python3.7/site-packages/optuna/trial/_trial.py:592: UserWarning: The reported value is ignored because this `step` 88 is already reported.\n",
      "  step\n",
      "/Users/brent/anaconda3/lib/python3.7/site-packages/optuna/trial/_trial.py:592: UserWarning: The reported value is ignored because this `step` 89 is already reported.\n",
      "  step\n",
      "/Users/brent/anaconda3/lib/python3.7/site-packages/optuna/trial/_trial.py:592: UserWarning: The reported value is ignored because this `step` 90 is already reported.\n",
      "  step\n"
     ]
    },
    {
     "name": "stdout",
     "output_type": "stream",
     "text": [
      "[89]\tvalid_0's auc: 0.700928\n",
      "[90]\tvalid_0's auc: 0.700472\n",
      "[91]\tvalid_0's auc: 0.700632\n"
     ]
    },
    {
     "name": "stderr",
     "output_type": "stream",
     "text": [
      "/Users/brent/anaconda3/lib/python3.7/site-packages/optuna/trial/_trial.py:592: UserWarning: The reported value is ignored because this `step` 91 is already reported.\n",
      "  step\n",
      "/Users/brent/anaconda3/lib/python3.7/site-packages/optuna/trial/_trial.py:592: UserWarning: The reported value is ignored because this `step` 92 is already reported.\n",
      "  step\n",
      "/Users/brent/anaconda3/lib/python3.7/site-packages/optuna/trial/_trial.py:592: UserWarning: The reported value is ignored because this `step` 93 is already reported.\n",
      "  step\n"
     ]
    },
    {
     "name": "stdout",
     "output_type": "stream",
     "text": [
      "[92]\tvalid_0's auc: 0.70027\n",
      "[93]\tvalid_0's auc: 0.70002\n",
      "[94]\tvalid_0's auc: 0.699354\n"
     ]
    },
    {
     "name": "stderr",
     "output_type": "stream",
     "text": [
      "/Users/brent/anaconda3/lib/python3.7/site-packages/optuna/trial/_trial.py:592: UserWarning: The reported value is ignored because this `step` 94 is already reported.\n",
      "  step\n",
      "/Users/brent/anaconda3/lib/python3.7/site-packages/optuna/trial/_trial.py:592: UserWarning: The reported value is ignored because this `step` 95 is already reported.\n",
      "  step\n",
      "/Users/brent/anaconda3/lib/python3.7/site-packages/optuna/trial/_trial.py:592: UserWarning: The reported value is ignored because this `step` 96 is already reported.\n",
      "  step\n"
     ]
    },
    {
     "name": "stdout",
     "output_type": "stream",
     "text": [
      "[95]\tvalid_0's auc: 0.698099\n",
      "[96]\tvalid_0's auc: 0.698461\n",
      "[97]\tvalid_0's auc: 0.698665\n"
     ]
    },
    {
     "name": "stderr",
     "output_type": "stream",
     "text": [
      "/Users/brent/anaconda3/lib/python3.7/site-packages/optuna/trial/_trial.py:592: UserWarning: The reported value is ignored because this `step` 97 is already reported.\n",
      "  step\n",
      "/Users/brent/anaconda3/lib/python3.7/site-packages/optuna/trial/_trial.py:592: UserWarning: The reported value is ignored because this `step` 98 is already reported.\n",
      "  step\n",
      "/Users/brent/anaconda3/lib/python3.7/site-packages/optuna/trial/_trial.py:592: UserWarning: The reported value is ignored because this `step` 99 is already reported.\n",
      "  step\n"
     ]
    },
    {
     "name": "stdout",
     "output_type": "stream",
     "text": [
      "[98]\tvalid_0's auc: 0.699031\n",
      "[99]\tvalid_0's auc: 0.699328\n",
      "[100]\tvalid_0's auc: 0.699409\n",
      "Did not meet early stopping. Best iteration is:\n",
      "[19]\tvalid_0's auc: 0.715645\n",
      "[LightGBM] [Warning] bagging_freq is set=3, subsample_freq=0 will be ignored. Current value: bagging_freq=3\n",
      "[LightGBM] [Warning] lambda_l2 is set=0.0001405096536789965, reg_lambda=0.0 will be ignored. Current value: lambda_l2=0.0001405096536789965\n",
      "[LightGBM] [Warning] feature_fraction is set=0.574322285801923, colsample_bytree=1.0 will be ignored. Current value: feature_fraction=0.574322285801923\n",
      "[LightGBM] [Warning] bagging_fraction is set=0.9556009191065077, subsample=1.0 will be ignored. Current value: bagging_fraction=0.9556009191065077\n",
      "[LightGBM] [Warning] lambda_l1 is set=2.612000848924171e-06, reg_alpha=0.0 will be ignored. Current value: lambda_l1=2.612000848924171e-06\n"
     ]
    },
    {
     "name": "stderr",
     "output_type": "stream",
     "text": [
      "/Users/brent/anaconda3/lib/python3.7/site-packages/optuna/trial/_trial.py:592: UserWarning: The reported value is ignored because this `step` 0 is already reported.\n",
      "  step\n",
      "/Users/brent/anaconda3/lib/python3.7/site-packages/optuna/trial/_trial.py:592: UserWarning: The reported value is ignored because this `step` 1 is already reported.\n",
      "  step\n"
     ]
    },
    {
     "name": "stdout",
     "output_type": "stream",
     "text": [
      "[1]\tvalid_0's auc: 0.706538\n",
      "Training until validation scores don't improve for 100 rounds\n",
      "[2]\tvalid_0's auc: 0.709543\n"
     ]
    },
    {
     "name": "stderr",
     "output_type": "stream",
     "text": [
      "/Users/brent/anaconda3/lib/python3.7/site-packages/optuna/trial/_trial.py:592: UserWarning: The reported value is ignored because this `step` 2 is already reported.\n",
      "  step\n",
      "/Users/brent/anaconda3/lib/python3.7/site-packages/optuna/trial/_trial.py:592: UserWarning: The reported value is ignored because this `step` 3 is already reported.\n",
      "  step\n"
     ]
    },
    {
     "name": "stdout",
     "output_type": "stream",
     "text": [
      "[3]\tvalid_0's auc: 0.71427\n",
      "[4]\tvalid_0's auc: 0.716755\n"
     ]
    },
    {
     "name": "stderr",
     "output_type": "stream",
     "text": [
      "/Users/brent/anaconda3/lib/python3.7/site-packages/optuna/trial/_trial.py:592: UserWarning: The reported value is ignored because this `step` 4 is already reported.\n",
      "  step\n",
      "/Users/brent/anaconda3/lib/python3.7/site-packages/optuna/trial/_trial.py:592: UserWarning: The reported value is ignored because this `step` 5 is already reported.\n",
      "  step\n",
      "/Users/brent/anaconda3/lib/python3.7/site-packages/optuna/trial/_trial.py:592: UserWarning: The reported value is ignored because this `step` 6 is already reported.\n",
      "  step\n"
     ]
    },
    {
     "name": "stdout",
     "output_type": "stream",
     "text": [
      "[5]\tvalid_0's auc: 0.717449\n",
      "[6]\tvalid_0's auc: 0.718985\n",
      "[7]\tvalid_0's auc: 0.721156\n"
     ]
    },
    {
     "name": "stderr",
     "output_type": "stream",
     "text": [
      "/Users/brent/anaconda3/lib/python3.7/site-packages/optuna/trial/_trial.py:592: UserWarning: The reported value is ignored because this `step` 7 is already reported.\n",
      "  step\n",
      "/Users/brent/anaconda3/lib/python3.7/site-packages/optuna/trial/_trial.py:592: UserWarning: The reported value is ignored because this `step` 8 is already reported.\n",
      "  step\n",
      "/Users/brent/anaconda3/lib/python3.7/site-packages/optuna/trial/_trial.py:592: UserWarning: The reported value is ignored because this `step` 9 is already reported.\n",
      "  step\n"
     ]
    },
    {
     "name": "stdout",
     "output_type": "stream",
     "text": [
      "[8]\tvalid_0's auc: 0.722295\n",
      "[9]\tvalid_0's auc: 0.723846\n"
     ]
    },
    {
     "name": "stderr",
     "output_type": "stream",
     "text": [
      "/Users/brent/anaconda3/lib/python3.7/site-packages/optuna/trial/_trial.py:592: UserWarning: The reported value is ignored because this `step` 10 is already reported.\n",
      "  step\n"
     ]
    },
    {
     "name": "stdout",
     "output_type": "stream",
     "text": [
      "[10]\tvalid_0's auc: 0.724276\n",
      "[11]\tvalid_0's auc: 0.723339\n"
     ]
    },
    {
     "name": "stderr",
     "output_type": "stream",
     "text": [
      "/Users/brent/anaconda3/lib/python3.7/site-packages/optuna/trial/_trial.py:592: UserWarning: The reported value is ignored because this `step` 11 is already reported.\n",
      "  step\n",
      "/Users/brent/anaconda3/lib/python3.7/site-packages/optuna/trial/_trial.py:592: UserWarning: The reported value is ignored because this `step` 12 is already reported.\n",
      "  step\n",
      "/Users/brent/anaconda3/lib/python3.7/site-packages/optuna/trial/_trial.py:592: UserWarning: The reported value is ignored because this `step` 13 is already reported.\n",
      "  step\n"
     ]
    },
    {
     "name": "stdout",
     "output_type": "stream",
     "text": [
      "[12]\tvalid_0's auc: 0.723798\n",
      "[13]\tvalid_0's auc: 0.723087\n",
      "[14]\tvalid_0's auc: 0.723646\n"
     ]
    },
    {
     "name": "stderr",
     "output_type": "stream",
     "text": [
      "/Users/brent/anaconda3/lib/python3.7/site-packages/optuna/trial/_trial.py:592: UserWarning: The reported value is ignored because this `step` 14 is already reported.\n",
      "  step\n",
      "/Users/brent/anaconda3/lib/python3.7/site-packages/optuna/trial/_trial.py:592: UserWarning: The reported value is ignored because this `step` 15 is already reported.\n",
      "  step\n"
     ]
    },
    {
     "name": "stdout",
     "output_type": "stream",
     "text": [
      "[15]\tvalid_0's auc: 0.723373\n",
      "[16]\tvalid_0's auc: 0.723887\n"
     ]
    },
    {
     "name": "stderr",
     "output_type": "stream",
     "text": [
      "/Users/brent/anaconda3/lib/python3.7/site-packages/optuna/trial/_trial.py:592: UserWarning: The reported value is ignored because this `step` 16 is already reported.\n",
      "  step\n",
      "/Users/brent/anaconda3/lib/python3.7/site-packages/optuna/trial/_trial.py:592: UserWarning: The reported value is ignored because this `step` 17 is already reported.\n",
      "  step\n",
      "/Users/brent/anaconda3/lib/python3.7/site-packages/optuna/trial/_trial.py:592: UserWarning: The reported value is ignored because this `step` 18 is already reported.\n",
      "  step\n"
     ]
    },
    {
     "name": "stdout",
     "output_type": "stream",
     "text": [
      "[17]\tvalid_0's auc: 0.724089\n",
      "[18]\tvalid_0's auc: 0.723716\n",
      "[19]\tvalid_0's auc: 0.724735\n"
     ]
    },
    {
     "name": "stderr",
     "output_type": "stream",
     "text": [
      "/Users/brent/anaconda3/lib/python3.7/site-packages/optuna/trial/_trial.py:592: UserWarning: The reported value is ignored because this `step` 19 is already reported.\n",
      "  step\n",
      "/Users/brent/anaconda3/lib/python3.7/site-packages/optuna/trial/_trial.py:592: UserWarning: The reported value is ignored because this `step` 20 is already reported.\n",
      "  step\n",
      "/Users/brent/anaconda3/lib/python3.7/site-packages/optuna/trial/_trial.py:592: UserWarning: The reported value is ignored because this `step` 21 is already reported.\n",
      "  step\n"
     ]
    },
    {
     "name": "stdout",
     "output_type": "stream",
     "text": [
      "[20]\tvalid_0's auc: 0.724121\n",
      "[21]\tvalid_0's auc: 0.723492\n",
      "[22]\tvalid_0's auc: 0.723449\n"
     ]
    },
    {
     "name": "stderr",
     "output_type": "stream",
     "text": [
      "/Users/brent/anaconda3/lib/python3.7/site-packages/optuna/trial/_trial.py:592: UserWarning: The reported value is ignored because this `step` 22 is already reported.\n",
      "  step\n",
      "/Users/brent/anaconda3/lib/python3.7/site-packages/optuna/trial/_trial.py:592: UserWarning: The reported value is ignored because this `step` 23 is already reported.\n",
      "  step\n",
      "/Users/brent/anaconda3/lib/python3.7/site-packages/optuna/trial/_trial.py:592: UserWarning: The reported value is ignored because this `step` 24 is already reported.\n",
      "  step\n"
     ]
    },
    {
     "name": "stdout",
     "output_type": "stream",
     "text": [
      "[23]\tvalid_0's auc: 0.722959\n",
      "[24]\tvalid_0's auc: 0.722937\n",
      "[25]\tvalid_0's auc: 0.722306\n"
     ]
    },
    {
     "name": "stderr",
     "output_type": "stream",
     "text": [
      "/Users/brent/anaconda3/lib/python3.7/site-packages/optuna/trial/_trial.py:592: UserWarning: The reported value is ignored because this `step` 25 is already reported.\n",
      "  step\n",
      "/Users/brent/anaconda3/lib/python3.7/site-packages/optuna/trial/_trial.py:592: UserWarning: The reported value is ignored because this `step` 26 is already reported.\n",
      "  step\n",
      "/Users/brent/anaconda3/lib/python3.7/site-packages/optuna/trial/_trial.py:592: UserWarning: The reported value is ignored because this `step` 27 is already reported.\n",
      "  step\n"
     ]
    },
    {
     "name": "stdout",
     "output_type": "stream",
     "text": [
      "[26]\tvalid_0's auc: 0.721665\n",
      "[27]\tvalid_0's auc: 0.721175\n",
      "[28]\tvalid_0's auc: 0.720921\n"
     ]
    },
    {
     "name": "stderr",
     "output_type": "stream",
     "text": [
      "/Users/brent/anaconda3/lib/python3.7/site-packages/optuna/trial/_trial.py:592: UserWarning: The reported value is ignored because this `step` 28 is already reported.\n",
      "  step\n",
      "/Users/brent/anaconda3/lib/python3.7/site-packages/optuna/trial/_trial.py:592: UserWarning: The reported value is ignored because this `step` 29 is already reported.\n",
      "  step\n",
      "/Users/brent/anaconda3/lib/python3.7/site-packages/optuna/trial/_trial.py:592: UserWarning: The reported value is ignored because this `step` 30 is already reported.\n",
      "  step\n"
     ]
    },
    {
     "name": "stdout",
     "output_type": "stream",
     "text": [
      "[29]\tvalid_0's auc: 0.720624\n",
      "[30]\tvalid_0's auc: 0.720864\n",
      "[31]\tvalid_0's auc: 0.720225\n"
     ]
    },
    {
     "name": "stderr",
     "output_type": "stream",
     "text": [
      "/Users/brent/anaconda3/lib/python3.7/site-packages/optuna/trial/_trial.py:592: UserWarning: The reported value is ignored because this `step` 31 is already reported.\n",
      "  step\n",
      "/Users/brent/anaconda3/lib/python3.7/site-packages/optuna/trial/_trial.py:592: UserWarning: The reported value is ignored because this `step` 32 is already reported.\n",
      "  step\n",
      "/Users/brent/anaconda3/lib/python3.7/site-packages/optuna/trial/_trial.py:592: UserWarning: The reported value is ignored because this `step` 33 is already reported.\n",
      "  step\n"
     ]
    },
    {
     "name": "stdout",
     "output_type": "stream",
     "text": [
      "[32]\tvalid_0's auc: 0.719629\n",
      "[33]\tvalid_0's auc: 0.718911\n",
      "[34]\tvalid_0's auc: 0.717947\n"
     ]
    },
    {
     "name": "stderr",
     "output_type": "stream",
     "text": [
      "/Users/brent/anaconda3/lib/python3.7/site-packages/optuna/trial/_trial.py:592: UserWarning: The reported value is ignored because this `step` 34 is already reported.\n",
      "  step\n",
      "/Users/brent/anaconda3/lib/python3.7/site-packages/optuna/trial/_trial.py:592: UserWarning: The reported value is ignored because this `step` 35 is already reported.\n",
      "  step\n",
      "/Users/brent/anaconda3/lib/python3.7/site-packages/optuna/trial/_trial.py:592: UserWarning: The reported value is ignored because this `step` 36 is already reported.\n",
      "  step\n"
     ]
    },
    {
     "name": "stdout",
     "output_type": "stream",
     "text": [
      "[35]\tvalid_0's auc: 0.716868\n",
      "[36]\tvalid_0's auc: 0.716089\n",
      "[37]\tvalid_0's auc: 0.715755\n"
     ]
    },
    {
     "name": "stderr",
     "output_type": "stream",
     "text": [
      "/Users/brent/anaconda3/lib/python3.7/site-packages/optuna/trial/_trial.py:592: UserWarning: The reported value is ignored because this `step` 37 is already reported.\n",
      "  step\n",
      "/Users/brent/anaconda3/lib/python3.7/site-packages/optuna/trial/_trial.py:592: UserWarning: The reported value is ignored because this `step` 38 is already reported.\n",
      "  step\n",
      "/Users/brent/anaconda3/lib/python3.7/site-packages/optuna/trial/_trial.py:592: UserWarning: The reported value is ignored because this `step` 39 is already reported.\n",
      "  step\n"
     ]
    },
    {
     "name": "stdout",
     "output_type": "stream",
     "text": [
      "[38]\tvalid_0's auc: 0.71565\n",
      "[39]\tvalid_0's auc: 0.715167\n",
      "[40]\tvalid_0's auc: 0.715926\n"
     ]
    },
    {
     "name": "stderr",
     "output_type": "stream",
     "text": [
      "/Users/brent/anaconda3/lib/python3.7/site-packages/optuna/trial/_trial.py:592: UserWarning: The reported value is ignored because this `step` 40 is already reported.\n",
      "  step\n",
      "/Users/brent/anaconda3/lib/python3.7/site-packages/optuna/trial/_trial.py:592: UserWarning: The reported value is ignored because this `step` 41 is already reported.\n",
      "  step\n",
      "/Users/brent/anaconda3/lib/python3.7/site-packages/optuna/trial/_trial.py:592: UserWarning: The reported value is ignored because this `step` 42 is already reported.\n",
      "  step\n"
     ]
    },
    {
     "name": "stdout",
     "output_type": "stream",
     "text": [
      "[41]\tvalid_0's auc: 0.715809\n",
      "[42]\tvalid_0's auc: 0.71552\n",
      "[43]\tvalid_0's auc: 0.715746\n"
     ]
    },
    {
     "name": "stderr",
     "output_type": "stream",
     "text": [
      "/Users/brent/anaconda3/lib/python3.7/site-packages/optuna/trial/_trial.py:592: UserWarning: The reported value is ignored because this `step` 43 is already reported.\n",
      "  step\n",
      "/Users/brent/anaconda3/lib/python3.7/site-packages/optuna/trial/_trial.py:592: UserWarning: The reported value is ignored because this `step` 44 is already reported.\n",
      "  step\n",
      "/Users/brent/anaconda3/lib/python3.7/site-packages/optuna/trial/_trial.py:592: UserWarning: The reported value is ignored because this `step` 45 is already reported.\n",
      "  step\n"
     ]
    },
    {
     "name": "stdout",
     "output_type": "stream",
     "text": [
      "[44]\tvalid_0's auc: 0.716663\n",
      "[45]\tvalid_0's auc: 0.71588\n",
      "[46]\tvalid_0's auc: 0.715373\n"
     ]
    },
    {
     "name": "stderr",
     "output_type": "stream",
     "text": [
      "/Users/brent/anaconda3/lib/python3.7/site-packages/optuna/trial/_trial.py:592: UserWarning: The reported value is ignored because this `step` 46 is already reported.\n",
      "  step\n",
      "/Users/brent/anaconda3/lib/python3.7/site-packages/optuna/trial/_trial.py:592: UserWarning: The reported value is ignored because this `step` 47 is already reported.\n",
      "  step\n",
      "/Users/brent/anaconda3/lib/python3.7/site-packages/optuna/trial/_trial.py:592: UserWarning: The reported value is ignored because this `step` 48 is already reported.\n",
      "  step\n"
     ]
    },
    {
     "name": "stdout",
     "output_type": "stream",
     "text": [
      "[47]\tvalid_0's auc: 0.714746\n",
      "[48]\tvalid_0's auc: 0.714721\n",
      "[49]\tvalid_0's auc: 0.715481\n"
     ]
    },
    {
     "name": "stderr",
     "output_type": "stream",
     "text": [
      "/Users/brent/anaconda3/lib/python3.7/site-packages/optuna/trial/_trial.py:592: UserWarning: The reported value is ignored because this `step` 49 is already reported.\n",
      "  step\n",
      "/Users/brent/anaconda3/lib/python3.7/site-packages/optuna/trial/_trial.py:592: UserWarning: The reported value is ignored because this `step` 50 is already reported.\n",
      "  step\n"
     ]
    },
    {
     "name": "stdout",
     "output_type": "stream",
     "text": [
      "[50]\tvalid_0's auc: 0.715197\n",
      "[51]\tvalid_0's auc: 0.714601\n"
     ]
    },
    {
     "name": "stderr",
     "output_type": "stream",
     "text": [
      "/Users/brent/anaconda3/lib/python3.7/site-packages/optuna/trial/_trial.py:592: UserWarning: The reported value is ignored because this `step` 51 is already reported.\n",
      "  step\n",
      "/Users/brent/anaconda3/lib/python3.7/site-packages/optuna/trial/_trial.py:592: UserWarning: The reported value is ignored because this `step` 52 is already reported.\n",
      "  step\n",
      "/Users/brent/anaconda3/lib/python3.7/site-packages/optuna/trial/_trial.py:592: UserWarning: The reported value is ignored because this `step` 53 is already reported.\n",
      "  step\n"
     ]
    },
    {
     "name": "stdout",
     "output_type": "stream",
     "text": [
      "[52]\tvalid_0's auc: 0.714051\n",
      "[53]\tvalid_0's auc: 0.71339\n",
      "[54]\tvalid_0's auc: 0.713024\n"
     ]
    },
    {
     "name": "stderr",
     "output_type": "stream",
     "text": [
      "/Users/brent/anaconda3/lib/python3.7/site-packages/optuna/trial/_trial.py:592: UserWarning: The reported value is ignored because this `step` 54 is already reported.\n",
      "  step\n",
      "/Users/brent/anaconda3/lib/python3.7/site-packages/optuna/trial/_trial.py:592: UserWarning: The reported value is ignored because this `step` 55 is already reported.\n",
      "  step\n",
      "/Users/brent/anaconda3/lib/python3.7/site-packages/optuna/trial/_trial.py:592: UserWarning: The reported value is ignored because this `step` 56 is already reported.\n",
      "  step\n"
     ]
    },
    {
     "name": "stdout",
     "output_type": "stream",
     "text": [
      "[55]\tvalid_0's auc: 0.713592\n",
      "[56]\tvalid_0's auc: 0.713841\n",
      "[57]\tvalid_0's auc: 0.712803\n"
     ]
    },
    {
     "name": "stderr",
     "output_type": "stream",
     "text": [
      "/Users/brent/anaconda3/lib/python3.7/site-packages/optuna/trial/_trial.py:592: UserWarning: The reported value is ignored because this `step` 57 is already reported.\n",
      "  step\n",
      "/Users/brent/anaconda3/lib/python3.7/site-packages/optuna/trial/_trial.py:592: UserWarning: The reported value is ignored because this `step` 58 is already reported.\n",
      "  step\n",
      "/Users/brent/anaconda3/lib/python3.7/site-packages/optuna/trial/_trial.py:592: UserWarning: The reported value is ignored because this `step` 59 is already reported.\n",
      "  step\n"
     ]
    },
    {
     "name": "stdout",
     "output_type": "stream",
     "text": [
      "[58]\tvalid_0's auc: 0.712594\n",
      "[59]\tvalid_0's auc: 0.711926\n",
      "[60]\tvalid_0's auc: 0.712037\n"
     ]
    },
    {
     "name": "stderr",
     "output_type": "stream",
     "text": [
      "/Users/brent/anaconda3/lib/python3.7/site-packages/optuna/trial/_trial.py:592: UserWarning: The reported value is ignored because this `step` 60 is already reported.\n",
      "  step\n",
      "/Users/brent/anaconda3/lib/python3.7/site-packages/optuna/trial/_trial.py:592: UserWarning: The reported value is ignored because this `step` 61 is already reported.\n",
      "  step\n",
      "/Users/brent/anaconda3/lib/python3.7/site-packages/optuna/trial/_trial.py:592: UserWarning: The reported value is ignored because this `step` 62 is already reported.\n",
      "  step\n"
     ]
    },
    {
     "name": "stdout",
     "output_type": "stream",
     "text": [
      "[61]\tvalid_0's auc: 0.711843\n",
      "[62]\tvalid_0's auc: 0.711891\n",
      "[63]\tvalid_0's auc: 0.711089\n"
     ]
    },
    {
     "name": "stderr",
     "output_type": "stream",
     "text": [
      "/Users/brent/anaconda3/lib/python3.7/site-packages/optuna/trial/_trial.py:592: UserWarning: The reported value is ignored because this `step` 63 is already reported.\n",
      "  step\n",
      "/Users/brent/anaconda3/lib/python3.7/site-packages/optuna/trial/_trial.py:592: UserWarning: The reported value is ignored because this `step` 64 is already reported.\n",
      "  step\n",
      "/Users/brent/anaconda3/lib/python3.7/site-packages/optuna/trial/_trial.py:592: UserWarning: The reported value is ignored because this `step` 65 is already reported.\n",
      "  step\n"
     ]
    },
    {
     "name": "stdout",
     "output_type": "stream",
     "text": [
      "[64]\tvalid_0's auc: 0.711568\n",
      "[65]\tvalid_0's auc: 0.711504\n",
      "[66]\tvalid_0's auc: 0.711214\n"
     ]
    },
    {
     "name": "stderr",
     "output_type": "stream",
     "text": [
      "/Users/brent/anaconda3/lib/python3.7/site-packages/optuna/trial/_trial.py:592: UserWarning: The reported value is ignored because this `step` 66 is already reported.\n",
      "  step\n",
      "/Users/brent/anaconda3/lib/python3.7/site-packages/optuna/trial/_trial.py:592: UserWarning: The reported value is ignored because this `step` 67 is already reported.\n",
      "  step\n"
     ]
    },
    {
     "name": "stdout",
     "output_type": "stream",
     "text": [
      "[67]\tvalid_0's auc: 0.710982\n",
      "[68]\tvalid_0's auc: 0.710624\n"
     ]
    },
    {
     "name": "stderr",
     "output_type": "stream",
     "text": [
      "/Users/brent/anaconda3/lib/python3.7/site-packages/optuna/trial/_trial.py:592: UserWarning: The reported value is ignored because this `step` 68 is already reported.\n",
      "  step\n",
      "/Users/brent/anaconda3/lib/python3.7/site-packages/optuna/trial/_trial.py:592: UserWarning: The reported value is ignored because this `step` 69 is already reported.\n",
      "  step\n",
      "/Users/brent/anaconda3/lib/python3.7/site-packages/optuna/trial/_trial.py:592: UserWarning: The reported value is ignored because this `step` 70 is already reported.\n",
      "  step\n"
     ]
    },
    {
     "name": "stdout",
     "output_type": "stream",
     "text": [
      "[69]\tvalid_0's auc: 0.71093\n",
      "[70]\tvalid_0's auc: 0.711588\n",
      "[71]\tvalid_0's auc: 0.71147\n"
     ]
    },
    {
     "name": "stderr",
     "output_type": "stream",
     "text": [
      "/Users/brent/anaconda3/lib/python3.7/site-packages/optuna/trial/_trial.py:592: UserWarning: The reported value is ignored because this `step` 71 is already reported.\n",
      "  step\n",
      "/Users/brent/anaconda3/lib/python3.7/site-packages/optuna/trial/_trial.py:592: UserWarning: The reported value is ignored because this `step` 72 is already reported.\n",
      "  step\n",
      "/Users/brent/anaconda3/lib/python3.7/site-packages/optuna/trial/_trial.py:592: UserWarning: The reported value is ignored because this `step` 73 is already reported.\n",
      "  step\n"
     ]
    },
    {
     "name": "stdout",
     "output_type": "stream",
     "text": [
      "[72]\tvalid_0's auc: 0.710899\n",
      "[73]\tvalid_0's auc: 0.710807\n",
      "[74]\tvalid_0's auc: 0.711151\n"
     ]
    },
    {
     "name": "stderr",
     "output_type": "stream",
     "text": [
      "/Users/brent/anaconda3/lib/python3.7/site-packages/optuna/trial/_trial.py:592: UserWarning: The reported value is ignored because this `step` 74 is already reported.\n",
      "  step\n",
      "/Users/brent/anaconda3/lib/python3.7/site-packages/optuna/trial/_trial.py:592: UserWarning: The reported value is ignored because this `step` 75 is already reported.\n",
      "  step\n",
      "/Users/brent/anaconda3/lib/python3.7/site-packages/optuna/trial/_trial.py:592: UserWarning: The reported value is ignored because this `step` 76 is already reported.\n",
      "  step\n"
     ]
    },
    {
     "name": "stdout",
     "output_type": "stream",
     "text": [
      "[75]\tvalid_0's auc: 0.711021\n",
      "[76]\tvalid_0's auc: 0.710783\n",
      "[77]\tvalid_0's auc: 0.710242\n"
     ]
    },
    {
     "name": "stderr",
     "output_type": "stream",
     "text": [
      "/Users/brent/anaconda3/lib/python3.7/site-packages/optuna/trial/_trial.py:592: UserWarning: The reported value is ignored because this `step` 77 is already reported.\n",
      "  step\n",
      "/Users/brent/anaconda3/lib/python3.7/site-packages/optuna/trial/_trial.py:592: UserWarning: The reported value is ignored because this `step` 78 is already reported.\n",
      "  step\n",
      "/Users/brent/anaconda3/lib/python3.7/site-packages/optuna/trial/_trial.py:592: UserWarning: The reported value is ignored because this `step` 79 is already reported.\n",
      "  step\n"
     ]
    },
    {
     "name": "stdout",
     "output_type": "stream",
     "text": [
      "[78]\tvalid_0's auc: 0.709569\n",
      "[79]\tvalid_0's auc: 0.709369\n",
      "[80]\tvalid_0's auc: 0.709519\n"
     ]
    },
    {
     "name": "stderr",
     "output_type": "stream",
     "text": [
      "/Users/brent/anaconda3/lib/python3.7/site-packages/optuna/trial/_trial.py:592: UserWarning: The reported value is ignored because this `step` 80 is already reported.\n",
      "  step\n",
      "/Users/brent/anaconda3/lib/python3.7/site-packages/optuna/trial/_trial.py:592: UserWarning: The reported value is ignored because this `step` 81 is already reported.\n",
      "  step\n",
      "/Users/brent/anaconda3/lib/python3.7/site-packages/optuna/trial/_trial.py:592: UserWarning: The reported value is ignored because this `step` 82 is already reported.\n",
      "  step\n"
     ]
    },
    {
     "name": "stdout",
     "output_type": "stream",
     "text": [
      "[81]\tvalid_0's auc: 0.709075\n",
      "[82]\tvalid_0's auc: 0.709048\n",
      "[83]\tvalid_0's auc: 0.708028\n"
     ]
    },
    {
     "name": "stderr",
     "output_type": "stream",
     "text": [
      "/Users/brent/anaconda3/lib/python3.7/site-packages/optuna/trial/_trial.py:592: UserWarning: The reported value is ignored because this `step` 83 is already reported.\n",
      "  step\n",
      "/Users/brent/anaconda3/lib/python3.7/site-packages/optuna/trial/_trial.py:592: UserWarning: The reported value is ignored because this `step` 84 is already reported.\n",
      "  step\n",
      "/Users/brent/anaconda3/lib/python3.7/site-packages/optuna/trial/_trial.py:592: UserWarning: The reported value is ignored because this `step` 85 is already reported.\n",
      "  step\n"
     ]
    },
    {
     "name": "stdout",
     "output_type": "stream",
     "text": [
      "[84]\tvalid_0's auc: 0.707669\n",
      "[85]\tvalid_0's auc: 0.707058\n",
      "[86]\tvalid_0's auc: 0.70642\n"
     ]
    },
    {
     "name": "stderr",
     "output_type": "stream",
     "text": [
      "/Users/brent/anaconda3/lib/python3.7/site-packages/optuna/trial/_trial.py:592: UserWarning: The reported value is ignored because this `step` 86 is already reported.\n",
      "  step\n",
      "/Users/brent/anaconda3/lib/python3.7/site-packages/optuna/trial/_trial.py:592: UserWarning: The reported value is ignored because this `step` 87 is already reported.\n",
      "  step\n",
      "/Users/brent/anaconda3/lib/python3.7/site-packages/optuna/trial/_trial.py:592: UserWarning: The reported value is ignored because this `step` 88 is already reported.\n",
      "  step\n"
     ]
    },
    {
     "name": "stdout",
     "output_type": "stream",
     "text": [
      "[87]\tvalid_0's auc: 0.706716\n",
      "[88]\tvalid_0's auc: 0.706602\n",
      "[89]\tvalid_0's auc: 0.706428\n"
     ]
    },
    {
     "name": "stderr",
     "output_type": "stream",
     "text": [
      "/Users/brent/anaconda3/lib/python3.7/site-packages/optuna/trial/_trial.py:592: UserWarning: The reported value is ignored because this `step` 89 is already reported.\n",
      "  step\n",
      "/Users/brent/anaconda3/lib/python3.7/site-packages/optuna/trial/_trial.py:592: UserWarning: The reported value is ignored because this `step` 90 is already reported.\n",
      "  step\n",
      "/Users/brent/anaconda3/lib/python3.7/site-packages/optuna/trial/_trial.py:592: UserWarning: The reported value is ignored because this `step` 91 is already reported.\n",
      "  step\n"
     ]
    },
    {
     "name": "stdout",
     "output_type": "stream",
     "text": [
      "[90]\tvalid_0's auc: 0.70606\n",
      "[91]\tvalid_0's auc: 0.70578\n",
      "[92]\tvalid_0's auc: 0.705853\n"
     ]
    },
    {
     "name": "stderr",
     "output_type": "stream",
     "text": [
      "/Users/brent/anaconda3/lib/python3.7/site-packages/optuna/trial/_trial.py:592: UserWarning: The reported value is ignored because this `step` 92 is already reported.\n",
      "  step\n",
      "/Users/brent/anaconda3/lib/python3.7/site-packages/optuna/trial/_trial.py:592: UserWarning: The reported value is ignored because this `step` 93 is already reported.\n",
      "  step\n",
      "/Users/brent/anaconda3/lib/python3.7/site-packages/optuna/trial/_trial.py:592: UserWarning: The reported value is ignored because this `step` 94 is already reported.\n",
      "  step\n"
     ]
    },
    {
     "name": "stdout",
     "output_type": "stream",
     "text": [
      "[93]\tvalid_0's auc: 0.705997\n",
      "[94]\tvalid_0's auc: 0.706288\n",
      "[95]\tvalid_0's auc: 0.706457\n"
     ]
    },
    {
     "name": "stderr",
     "output_type": "stream",
     "text": [
      "/Users/brent/anaconda3/lib/python3.7/site-packages/optuna/trial/_trial.py:592: UserWarning: The reported value is ignored because this `step` 95 is already reported.\n",
      "  step\n",
      "/Users/brent/anaconda3/lib/python3.7/site-packages/optuna/trial/_trial.py:592: UserWarning: The reported value is ignored because this `step` 96 is already reported.\n",
      "  step\n",
      "/Users/brent/anaconda3/lib/python3.7/site-packages/optuna/trial/_trial.py:592: UserWarning: The reported value is ignored because this `step` 97 is already reported.\n",
      "  step\n"
     ]
    },
    {
     "name": "stdout",
     "output_type": "stream",
     "text": [
      "[96]\tvalid_0's auc: 0.706335\n",
      "[97]\tvalid_0's auc: 0.706016\n",
      "[98]\tvalid_0's auc: 0.706362\n"
     ]
    },
    {
     "name": "stderr",
     "output_type": "stream",
     "text": [
      "/Users/brent/anaconda3/lib/python3.7/site-packages/optuna/trial/_trial.py:592: UserWarning: The reported value is ignored because this `step` 98 is already reported.\n",
      "  step\n",
      "/Users/brent/anaconda3/lib/python3.7/site-packages/optuna/trial/_trial.py:592: UserWarning: The reported value is ignored because this `step` 99 is already reported.\n",
      "  step\n"
     ]
    },
    {
     "name": "stdout",
     "output_type": "stream",
     "text": [
      "[99]\tvalid_0's auc: 0.706456\n",
      "[100]\tvalid_0's auc: 0.706012\n",
      "Did not meet early stopping. Best iteration is:\n",
      "[19]\tvalid_0's auc: 0.724735\n",
      "[LightGBM] [Warning] bagging_freq is set=3, subsample_freq=0 will be ignored. Current value: bagging_freq=3\n",
      "[LightGBM] [Warning] lambda_l2 is set=0.0001405096536789965, reg_lambda=0.0 will be ignored. Current value: lambda_l2=0.0001405096536789965\n",
      "[LightGBM] [Warning] feature_fraction is set=0.574322285801923, colsample_bytree=1.0 will be ignored. Current value: feature_fraction=0.574322285801923\n",
      "[LightGBM] [Warning] bagging_fraction is set=0.9556009191065077, subsample=1.0 will be ignored. Current value: bagging_fraction=0.9556009191065077\n",
      "[LightGBM] [Warning] lambda_l1 is set=2.612000848924171e-06, reg_alpha=0.0 will be ignored. Current value: lambda_l1=2.612000848924171e-06\n"
     ]
    },
    {
     "name": "stderr",
     "output_type": "stream",
     "text": [
      "/Users/brent/anaconda3/lib/python3.7/site-packages/optuna/trial/_trial.py:592: UserWarning: The reported value is ignored because this `step` 0 is already reported.\n",
      "  step\n",
      "/Users/brent/anaconda3/lib/python3.7/site-packages/optuna/trial/_trial.py:592: UserWarning: The reported value is ignored because this `step` 1 is already reported.\n",
      "  step\n"
     ]
    },
    {
     "name": "stdout",
     "output_type": "stream",
     "text": [
      "[1]\tvalid_0's auc: 0.709965\n",
      "Training until validation scores don't improve for 100 rounds\n",
      "[2]\tvalid_0's auc: 0.713055\n"
     ]
    },
    {
     "name": "stderr",
     "output_type": "stream",
     "text": [
      "/Users/brent/anaconda3/lib/python3.7/site-packages/optuna/trial/_trial.py:592: UserWarning: The reported value is ignored because this `step` 2 is already reported.\n",
      "  step\n",
      "/Users/brent/anaconda3/lib/python3.7/site-packages/optuna/trial/_trial.py:592: UserWarning: The reported value is ignored because this `step` 3 is already reported.\n",
      "  step\n"
     ]
    },
    {
     "name": "stdout",
     "output_type": "stream",
     "text": [
      "[3]\tvalid_0's auc: 0.716255\n",
      "[4]\tvalid_0's auc: 0.715886\n"
     ]
    },
    {
     "name": "stderr",
     "output_type": "stream",
     "text": [
      "/Users/brent/anaconda3/lib/python3.7/site-packages/optuna/trial/_trial.py:592: UserWarning: The reported value is ignored because this `step` 4 is already reported.\n",
      "  step\n",
      "/Users/brent/anaconda3/lib/python3.7/site-packages/optuna/trial/_trial.py:592: UserWarning: The reported value is ignored because this `step` 5 is already reported.\n",
      "  step\n"
     ]
    },
    {
     "name": "stdout",
     "output_type": "stream",
     "text": [
      "[5]\tvalid_0's auc: 0.716969\n",
      "[6]\tvalid_0's auc: 0.717325\n"
     ]
    },
    {
     "name": "stderr",
     "output_type": "stream",
     "text": [
      "/Users/brent/anaconda3/lib/python3.7/site-packages/optuna/trial/_trial.py:592: UserWarning: The reported value is ignored because this `step` 6 is already reported.\n",
      "  step\n",
      "/Users/brent/anaconda3/lib/python3.7/site-packages/optuna/trial/_trial.py:592: UserWarning: The reported value is ignored because this `step` 7 is already reported.\n",
      "  step\n",
      "/Users/brent/anaconda3/lib/python3.7/site-packages/optuna/trial/_trial.py:592: UserWarning: The reported value is ignored because this `step` 8 is already reported.\n",
      "  step\n"
     ]
    },
    {
     "name": "stdout",
     "output_type": "stream",
     "text": [
      "[7]\tvalid_0's auc: 0.718507\n",
      "[8]\tvalid_0's auc: 0.717604\n",
      "[9]\tvalid_0's auc: 0.71857\n"
     ]
    },
    {
     "name": "stderr",
     "output_type": "stream",
     "text": [
      "/Users/brent/anaconda3/lib/python3.7/site-packages/optuna/trial/_trial.py:592: UserWarning: The reported value is ignored because this `step` 9 is already reported.\n",
      "  step\n",
      "/Users/brent/anaconda3/lib/python3.7/site-packages/optuna/trial/_trial.py:592: UserWarning: The reported value is ignored because this `step` 10 is already reported.\n",
      "  step\n"
     ]
    },
    {
     "name": "stdout",
     "output_type": "stream",
     "text": [
      "[10]\tvalid_0's auc: 0.717789\n",
      "[11]\tvalid_0's auc: 0.71778\n"
     ]
    },
    {
     "name": "stderr",
     "output_type": "stream",
     "text": [
      "/Users/brent/anaconda3/lib/python3.7/site-packages/optuna/trial/_trial.py:592: UserWarning: The reported value is ignored because this `step` 11 is already reported.\n",
      "  step\n",
      "/Users/brent/anaconda3/lib/python3.7/site-packages/optuna/trial/_trial.py:592: UserWarning: The reported value is ignored because this `step` 12 is already reported.\n",
      "  step\n",
      "/Users/brent/anaconda3/lib/python3.7/site-packages/optuna/trial/_trial.py:592: UserWarning: The reported value is ignored because this `step` 13 is already reported.\n",
      "  step\n"
     ]
    },
    {
     "name": "stdout",
     "output_type": "stream",
     "text": [
      "[12]\tvalid_0's auc: 0.719709\n",
      "[13]\tvalid_0's auc: 0.718568\n",
      "[14]\tvalid_0's auc: 0.717497\n"
     ]
    },
    {
     "name": "stderr",
     "output_type": "stream",
     "text": [
      "/Users/brent/anaconda3/lib/python3.7/site-packages/optuna/trial/_trial.py:592: UserWarning: The reported value is ignored because this `step` 14 is already reported.\n",
      "  step\n",
      "/Users/brent/anaconda3/lib/python3.7/site-packages/optuna/trial/_trial.py:592: UserWarning: The reported value is ignored because this `step` 15 is already reported.\n",
      "  step\n"
     ]
    },
    {
     "name": "stdout",
     "output_type": "stream",
     "text": [
      "[15]\tvalid_0's auc: 0.718037\n",
      "[16]\tvalid_0's auc: 0.719296\n"
     ]
    },
    {
     "name": "stderr",
     "output_type": "stream",
     "text": [
      "/Users/brent/anaconda3/lib/python3.7/site-packages/optuna/trial/_trial.py:592: UserWarning: The reported value is ignored because this `step` 16 is already reported.\n",
      "  step\n",
      "/Users/brent/anaconda3/lib/python3.7/site-packages/optuna/trial/_trial.py:592: UserWarning: The reported value is ignored because this `step` 17 is already reported.\n",
      "  step\n",
      "/Users/brent/anaconda3/lib/python3.7/site-packages/optuna/trial/_trial.py:592: UserWarning: The reported value is ignored because this `step` 18 is already reported.\n",
      "  step\n"
     ]
    },
    {
     "name": "stdout",
     "output_type": "stream",
     "text": [
      "[17]\tvalid_0's auc: 0.719026\n",
      "[18]\tvalid_0's auc: 0.718685\n",
      "[19]\tvalid_0's auc: 0.718486\n"
     ]
    },
    {
     "name": "stderr",
     "output_type": "stream",
     "text": [
      "/Users/brent/anaconda3/lib/python3.7/site-packages/optuna/trial/_trial.py:592: UserWarning: The reported value is ignored because this `step` 19 is already reported.\n",
      "  step\n",
      "/Users/brent/anaconda3/lib/python3.7/site-packages/optuna/trial/_trial.py:592: UserWarning: The reported value is ignored because this `step` 20 is already reported.\n",
      "  step\n"
     ]
    },
    {
     "name": "stdout",
     "output_type": "stream",
     "text": [
      "[20]\tvalid_0's auc: 0.718478\n",
      "[21]\tvalid_0's auc: 0.718386\n"
     ]
    },
    {
     "name": "stderr",
     "output_type": "stream",
     "text": [
      "/Users/brent/anaconda3/lib/python3.7/site-packages/optuna/trial/_trial.py:592: UserWarning: The reported value is ignored because this `step` 21 is already reported.\n",
      "  step\n",
      "/Users/brent/anaconda3/lib/python3.7/site-packages/optuna/trial/_trial.py:592: UserWarning: The reported value is ignored because this `step` 22 is already reported.\n",
      "  step\n",
      "/Users/brent/anaconda3/lib/python3.7/site-packages/optuna/trial/_trial.py:592: UserWarning: The reported value is ignored because this `step` 23 is already reported.\n",
      "  step\n"
     ]
    },
    {
     "name": "stdout",
     "output_type": "stream",
     "text": [
      "[22]\tvalid_0's auc: 0.717095\n",
      "[23]\tvalid_0's auc: 0.716066\n",
      "[24]\tvalid_0's auc: 0.716201\n"
     ]
    },
    {
     "name": "stderr",
     "output_type": "stream",
     "text": [
      "/Users/brent/anaconda3/lib/python3.7/site-packages/optuna/trial/_trial.py:592: UserWarning: The reported value is ignored because this `step` 24 is already reported.\n",
      "  step\n",
      "/Users/brent/anaconda3/lib/python3.7/site-packages/optuna/trial/_trial.py:592: UserWarning: The reported value is ignored because this `step` 25 is already reported.\n",
      "  step\n",
      "/Users/brent/anaconda3/lib/python3.7/site-packages/optuna/trial/_trial.py:592: UserWarning: The reported value is ignored because this `step` 26 is already reported.\n",
      "  step\n"
     ]
    },
    {
     "name": "stdout",
     "output_type": "stream",
     "text": [
      "[25]\tvalid_0's auc: 0.71515\n",
      "[26]\tvalid_0's auc: 0.714468\n",
      "[27]\tvalid_0's auc: 0.715279\n"
     ]
    },
    {
     "name": "stderr",
     "output_type": "stream",
     "text": [
      "/Users/brent/anaconda3/lib/python3.7/site-packages/optuna/trial/_trial.py:592: UserWarning: The reported value is ignored because this `step` 27 is already reported.\n",
      "  step\n",
      "/Users/brent/anaconda3/lib/python3.7/site-packages/optuna/trial/_trial.py:592: UserWarning: The reported value is ignored because this `step` 28 is already reported.\n",
      "  step\n",
      "/Users/brent/anaconda3/lib/python3.7/site-packages/optuna/trial/_trial.py:592: UserWarning: The reported value is ignored because this `step` 29 is already reported.\n",
      "  step\n"
     ]
    },
    {
     "name": "stdout",
     "output_type": "stream",
     "text": [
      "[28]\tvalid_0's auc: 0.714871\n",
      "[29]\tvalid_0's auc: 0.714341\n",
      "[30]\tvalid_0's auc: 0.713356\n"
     ]
    },
    {
     "name": "stderr",
     "output_type": "stream",
     "text": [
      "/Users/brent/anaconda3/lib/python3.7/site-packages/optuna/trial/_trial.py:592: UserWarning: The reported value is ignored because this `step` 30 is already reported.\n",
      "  step\n",
      "/Users/brent/anaconda3/lib/python3.7/site-packages/optuna/trial/_trial.py:592: UserWarning: The reported value is ignored because this `step` 31 is already reported.\n",
      "  step\n",
      "/Users/brent/anaconda3/lib/python3.7/site-packages/optuna/trial/_trial.py:592: UserWarning: The reported value is ignored because this `step` 32 is already reported.\n",
      "  step\n"
     ]
    },
    {
     "name": "stdout",
     "output_type": "stream",
     "text": [
      "[31]\tvalid_0's auc: 0.712636\n",
      "[32]\tvalid_0's auc: 0.711746\n",
      "[33]\tvalid_0's auc: 0.711323\n"
     ]
    },
    {
     "name": "stderr",
     "output_type": "stream",
     "text": [
      "/Users/brent/anaconda3/lib/python3.7/site-packages/optuna/trial/_trial.py:592: UserWarning: The reported value is ignored because this `step` 33 is already reported.\n",
      "  step\n",
      "/Users/brent/anaconda3/lib/python3.7/site-packages/optuna/trial/_trial.py:592: UserWarning: The reported value is ignored because this `step` 34 is already reported.\n",
      "  step\n",
      "/Users/brent/anaconda3/lib/python3.7/site-packages/optuna/trial/_trial.py:592: UserWarning: The reported value is ignored because this `step` 35 is already reported.\n",
      "  step\n"
     ]
    },
    {
     "name": "stdout",
     "output_type": "stream",
     "text": [
      "[34]\tvalid_0's auc: 0.710254\n",
      "[35]\tvalid_0's auc: 0.710064\n",
      "[36]\tvalid_0's auc: 0.709922\n"
     ]
    },
    {
     "name": "stderr",
     "output_type": "stream",
     "text": [
      "/Users/brent/anaconda3/lib/python3.7/site-packages/optuna/trial/_trial.py:592: UserWarning: The reported value is ignored because this `step` 36 is already reported.\n",
      "  step\n",
      "/Users/brent/anaconda3/lib/python3.7/site-packages/optuna/trial/_trial.py:592: UserWarning: The reported value is ignored because this `step` 37 is already reported.\n",
      "  step\n",
      "/Users/brent/anaconda3/lib/python3.7/site-packages/optuna/trial/_trial.py:592: UserWarning: The reported value is ignored because this `step` 38 is already reported.\n",
      "  step\n"
     ]
    },
    {
     "name": "stdout",
     "output_type": "stream",
     "text": [
      "[37]\tvalid_0's auc: 0.709834\n",
      "[38]\tvalid_0's auc: 0.710484\n",
      "[39]\tvalid_0's auc: 0.71025\n"
     ]
    },
    {
     "name": "stderr",
     "output_type": "stream",
     "text": [
      "/Users/brent/anaconda3/lib/python3.7/site-packages/optuna/trial/_trial.py:592: UserWarning: The reported value is ignored because this `step` 39 is already reported.\n",
      "  step\n",
      "/Users/brent/anaconda3/lib/python3.7/site-packages/optuna/trial/_trial.py:592: UserWarning: The reported value is ignored because this `step` 40 is already reported.\n",
      "  step\n"
     ]
    },
    {
     "name": "stdout",
     "output_type": "stream",
     "text": [
      "[40]\tvalid_0's auc: 0.710264\n",
      "[41]\tvalid_0's auc: 0.710361\n"
     ]
    },
    {
     "name": "stderr",
     "output_type": "stream",
     "text": [
      "/Users/brent/anaconda3/lib/python3.7/site-packages/optuna/trial/_trial.py:592: UserWarning: The reported value is ignored because this `step` 41 is already reported.\n",
      "  step\n",
      "/Users/brent/anaconda3/lib/python3.7/site-packages/optuna/trial/_trial.py:592: UserWarning: The reported value is ignored because this `step` 42 is already reported.\n",
      "  step\n",
      "/Users/brent/anaconda3/lib/python3.7/site-packages/optuna/trial/_trial.py:592: UserWarning: The reported value is ignored because this `step` 43 is already reported.\n",
      "  step\n"
     ]
    },
    {
     "name": "stdout",
     "output_type": "stream",
     "text": [
      "[42]\tvalid_0's auc: 0.709759\n",
      "[43]\tvalid_0's auc: 0.709985\n",
      "[44]\tvalid_0's auc: 0.709715\n"
     ]
    },
    {
     "name": "stderr",
     "output_type": "stream",
     "text": [
      "/Users/brent/anaconda3/lib/python3.7/site-packages/optuna/trial/_trial.py:592: UserWarning: The reported value is ignored because this `step` 44 is already reported.\n",
      "  step\n",
      "/Users/brent/anaconda3/lib/python3.7/site-packages/optuna/trial/_trial.py:592: UserWarning: The reported value is ignored because this `step` 45 is already reported.\n",
      "  step\n",
      "/Users/brent/anaconda3/lib/python3.7/site-packages/optuna/trial/_trial.py:592: UserWarning: The reported value is ignored because this `step` 46 is already reported.\n",
      "  step\n"
     ]
    },
    {
     "name": "stdout",
     "output_type": "stream",
     "text": [
      "[45]\tvalid_0's auc: 0.709816\n",
      "[46]\tvalid_0's auc: 0.709827\n",
      "[47]\tvalid_0's auc: 0.709516\n"
     ]
    },
    {
     "name": "stderr",
     "output_type": "stream",
     "text": [
      "/Users/brent/anaconda3/lib/python3.7/site-packages/optuna/trial/_trial.py:592: UserWarning: The reported value is ignored because this `step` 47 is already reported.\n",
      "  step\n",
      "/Users/brent/anaconda3/lib/python3.7/site-packages/optuna/trial/_trial.py:592: UserWarning: The reported value is ignored because this `step` 48 is already reported.\n",
      "  step\n",
      "/Users/brent/anaconda3/lib/python3.7/site-packages/optuna/trial/_trial.py:592: UserWarning: The reported value is ignored because this `step` 49 is already reported.\n",
      "  step\n"
     ]
    },
    {
     "name": "stdout",
     "output_type": "stream",
     "text": [
      "[48]\tvalid_0's auc: 0.709446\n",
      "[49]\tvalid_0's auc: 0.709459\n",
      "[50]\tvalid_0's auc: 0.709194\n"
     ]
    },
    {
     "name": "stderr",
     "output_type": "stream",
     "text": [
      "/Users/brent/anaconda3/lib/python3.7/site-packages/optuna/trial/_trial.py:592: UserWarning: The reported value is ignored because this `step` 50 is already reported.\n",
      "  step\n",
      "/Users/brent/anaconda3/lib/python3.7/site-packages/optuna/trial/_trial.py:592: UserWarning: The reported value is ignored because this `step` 51 is already reported.\n",
      "  step\n"
     ]
    },
    {
     "name": "stdout",
     "output_type": "stream",
     "text": [
      "[51]\tvalid_0's auc: 0.708735\n",
      "[52]\tvalid_0's auc: 0.70911\n"
     ]
    },
    {
     "name": "stderr",
     "output_type": "stream",
     "text": [
      "/Users/brent/anaconda3/lib/python3.7/site-packages/optuna/trial/_trial.py:592: UserWarning: The reported value is ignored because this `step` 52 is already reported.\n",
      "  step\n",
      "/Users/brent/anaconda3/lib/python3.7/site-packages/optuna/trial/_trial.py:592: UserWarning: The reported value is ignored because this `step` 53 is already reported.\n",
      "  step\n",
      "/Users/brent/anaconda3/lib/python3.7/site-packages/optuna/trial/_trial.py:592: UserWarning: The reported value is ignored because this `step` 54 is already reported.\n",
      "  step\n"
     ]
    },
    {
     "name": "stdout",
     "output_type": "stream",
     "text": [
      "[53]\tvalid_0's auc: 0.709767\n",
      "[54]\tvalid_0's auc: 0.709219\n",
      "[55]\tvalid_0's auc: 0.709092\n"
     ]
    },
    {
     "name": "stderr",
     "output_type": "stream",
     "text": [
      "/Users/brent/anaconda3/lib/python3.7/site-packages/optuna/trial/_trial.py:592: UserWarning: The reported value is ignored because this `step` 55 is already reported.\n",
      "  step\n",
      "/Users/brent/anaconda3/lib/python3.7/site-packages/optuna/trial/_trial.py:592: UserWarning: The reported value is ignored because this `step` 56 is already reported.\n",
      "  step\n",
      "/Users/brent/anaconda3/lib/python3.7/site-packages/optuna/trial/_trial.py:592: UserWarning: The reported value is ignored because this `step` 57 is already reported.\n",
      "  step\n"
     ]
    },
    {
     "name": "stdout",
     "output_type": "stream",
     "text": [
      "[56]\tvalid_0's auc: 0.708626\n",
      "[57]\tvalid_0's auc: 0.707604\n",
      "[58]\tvalid_0's auc: 0.707523\n"
     ]
    },
    {
     "name": "stderr",
     "output_type": "stream",
     "text": [
      "/Users/brent/anaconda3/lib/python3.7/site-packages/optuna/trial/_trial.py:592: UserWarning: The reported value is ignored because this `step` 58 is already reported.\n",
      "  step\n",
      "/Users/brent/anaconda3/lib/python3.7/site-packages/optuna/trial/_trial.py:592: UserWarning: The reported value is ignored because this `step` 59 is already reported.\n",
      "  step\n",
      "/Users/brent/anaconda3/lib/python3.7/site-packages/optuna/trial/_trial.py:592: UserWarning: The reported value is ignored because this `step` 60 is already reported.\n",
      "  step\n"
     ]
    },
    {
     "name": "stdout",
     "output_type": "stream",
     "text": [
      "[59]\tvalid_0's auc: 0.707072\n",
      "[60]\tvalid_0's auc: 0.7075\n",
      "[61]\tvalid_0's auc: 0.70697\n"
     ]
    },
    {
     "name": "stderr",
     "output_type": "stream",
     "text": [
      "/Users/brent/anaconda3/lib/python3.7/site-packages/optuna/trial/_trial.py:592: UserWarning: The reported value is ignored because this `step` 61 is already reported.\n",
      "  step\n",
      "/Users/brent/anaconda3/lib/python3.7/site-packages/optuna/trial/_trial.py:592: UserWarning: The reported value is ignored because this `step` 62 is already reported.\n",
      "  step\n",
      "/Users/brent/anaconda3/lib/python3.7/site-packages/optuna/trial/_trial.py:592: UserWarning: The reported value is ignored because this `step` 63 is already reported.\n",
      "  step\n"
     ]
    },
    {
     "name": "stdout",
     "output_type": "stream",
     "text": [
      "[62]\tvalid_0's auc: 0.706145\n",
      "[63]\tvalid_0's auc: 0.706219\n",
      "[64]\tvalid_0's auc: 0.706414\n"
     ]
    },
    {
     "name": "stderr",
     "output_type": "stream",
     "text": [
      "/Users/brent/anaconda3/lib/python3.7/site-packages/optuna/trial/_trial.py:592: UserWarning: The reported value is ignored because this `step` 64 is already reported.\n",
      "  step\n",
      "/Users/brent/anaconda3/lib/python3.7/site-packages/optuna/trial/_trial.py:592: UserWarning: The reported value is ignored because this `step` 65 is already reported.\n",
      "  step\n",
      "/Users/brent/anaconda3/lib/python3.7/site-packages/optuna/trial/_trial.py:592: UserWarning: The reported value is ignored because this `step` 66 is already reported.\n",
      "  step\n"
     ]
    },
    {
     "name": "stdout",
     "output_type": "stream",
     "text": [
      "[65]\tvalid_0's auc: 0.706512\n",
      "[66]\tvalid_0's auc: 0.707049\n",
      "[67]\tvalid_0's auc: 0.706527\n"
     ]
    },
    {
     "name": "stderr",
     "output_type": "stream",
     "text": [
      "/Users/brent/anaconda3/lib/python3.7/site-packages/optuna/trial/_trial.py:592: UserWarning: The reported value is ignored because this `step` 67 is already reported.\n",
      "  step\n",
      "/Users/brent/anaconda3/lib/python3.7/site-packages/optuna/trial/_trial.py:592: UserWarning: The reported value is ignored because this `step` 68 is already reported.\n",
      "  step\n",
      "/Users/brent/anaconda3/lib/python3.7/site-packages/optuna/trial/_trial.py:592: UserWarning: The reported value is ignored because this `step` 69 is already reported.\n",
      "  step\n"
     ]
    },
    {
     "name": "stdout",
     "output_type": "stream",
     "text": [
      "[68]\tvalid_0's auc: 0.706268\n",
      "[69]\tvalid_0's auc: 0.706049\n",
      "[70]\tvalid_0's auc: 0.705271\n"
     ]
    },
    {
     "name": "stderr",
     "output_type": "stream",
     "text": [
      "/Users/brent/anaconda3/lib/python3.7/site-packages/optuna/trial/_trial.py:592: UserWarning: The reported value is ignored because this `step` 70 is already reported.\n",
      "  step\n",
      "/Users/brent/anaconda3/lib/python3.7/site-packages/optuna/trial/_trial.py:592: UserWarning: The reported value is ignored because this `step` 71 is already reported.\n",
      "  step\n",
      "/Users/brent/anaconda3/lib/python3.7/site-packages/optuna/trial/_trial.py:592: UserWarning: The reported value is ignored because this `step` 72 is already reported.\n",
      "  step\n"
     ]
    },
    {
     "name": "stdout",
     "output_type": "stream",
     "text": [
      "[71]\tvalid_0's auc: 0.705011\n",
      "[72]\tvalid_0's auc: 0.704574\n",
      "[73]\tvalid_0's auc: 0.704443\n"
     ]
    },
    {
     "name": "stderr",
     "output_type": "stream",
     "text": [
      "/Users/brent/anaconda3/lib/python3.7/site-packages/optuna/trial/_trial.py:592: UserWarning: The reported value is ignored because this `step` 73 is already reported.\n",
      "  step\n",
      "/Users/brent/anaconda3/lib/python3.7/site-packages/optuna/trial/_trial.py:592: UserWarning: The reported value is ignored because this `step` 74 is already reported.\n",
      "  step\n",
      "/Users/brent/anaconda3/lib/python3.7/site-packages/optuna/trial/_trial.py:592: UserWarning: The reported value is ignored because this `step` 75 is already reported.\n",
      "  step\n"
     ]
    },
    {
     "name": "stdout",
     "output_type": "stream",
     "text": [
      "[74]\tvalid_0's auc: 0.704695\n",
      "[75]\tvalid_0's auc: 0.704856\n",
      "[76]\tvalid_0's auc: 0.70444\n"
     ]
    },
    {
     "name": "stderr",
     "output_type": "stream",
     "text": [
      "/Users/brent/anaconda3/lib/python3.7/site-packages/optuna/trial/_trial.py:592: UserWarning: The reported value is ignored because this `step` 76 is already reported.\n",
      "  step\n",
      "/Users/brent/anaconda3/lib/python3.7/site-packages/optuna/trial/_trial.py:592: UserWarning: The reported value is ignored because this `step` 77 is already reported.\n",
      "  step\n",
      "/Users/brent/anaconda3/lib/python3.7/site-packages/optuna/trial/_trial.py:592: UserWarning: The reported value is ignored because this `step` 78 is already reported.\n",
      "  step\n"
     ]
    },
    {
     "name": "stdout",
     "output_type": "stream",
     "text": [
      "[77]\tvalid_0's auc: 0.704229\n",
      "[78]\tvalid_0's auc: 0.703673\n",
      "[79]\tvalid_0's auc: 0.703678\n"
     ]
    },
    {
     "name": "stderr",
     "output_type": "stream",
     "text": [
      "/Users/brent/anaconda3/lib/python3.7/site-packages/optuna/trial/_trial.py:592: UserWarning: The reported value is ignored because this `step` 79 is already reported.\n",
      "  step\n",
      "/Users/brent/anaconda3/lib/python3.7/site-packages/optuna/trial/_trial.py:592: UserWarning: The reported value is ignored because this `step` 80 is already reported.\n",
      "  step\n",
      "/Users/brent/anaconda3/lib/python3.7/site-packages/optuna/trial/_trial.py:592: UserWarning: The reported value is ignored because this `step` 81 is already reported.\n",
      "  step\n"
     ]
    },
    {
     "name": "stdout",
     "output_type": "stream",
     "text": [
      "[80]\tvalid_0's auc: 0.703017\n",
      "[81]\tvalid_0's auc: 0.703063\n",
      "[82]\tvalid_0's auc: 0.702928\n"
     ]
    },
    {
     "name": "stderr",
     "output_type": "stream",
     "text": [
      "/Users/brent/anaconda3/lib/python3.7/site-packages/optuna/trial/_trial.py:592: UserWarning: The reported value is ignored because this `step` 82 is already reported.\n",
      "  step\n",
      "/Users/brent/anaconda3/lib/python3.7/site-packages/optuna/trial/_trial.py:592: UserWarning: The reported value is ignored because this `step` 83 is already reported.\n",
      "  step\n",
      "/Users/brent/anaconda3/lib/python3.7/site-packages/optuna/trial/_trial.py:592: UserWarning: The reported value is ignored because this `step` 84 is already reported.\n",
      "  step\n"
     ]
    },
    {
     "name": "stdout",
     "output_type": "stream",
     "text": [
      "[83]\tvalid_0's auc: 0.703128\n",
      "[84]\tvalid_0's auc: 0.702651\n",
      "[85]\tvalid_0's auc: 0.702642\n"
     ]
    },
    {
     "name": "stderr",
     "output_type": "stream",
     "text": [
      "/Users/brent/anaconda3/lib/python3.7/site-packages/optuna/trial/_trial.py:592: UserWarning: The reported value is ignored because this `step` 85 is already reported.\n",
      "  step\n",
      "/Users/brent/anaconda3/lib/python3.7/site-packages/optuna/trial/_trial.py:592: UserWarning: The reported value is ignored because this `step` 86 is already reported.\n",
      "  step\n",
      "/Users/brent/anaconda3/lib/python3.7/site-packages/optuna/trial/_trial.py:592: UserWarning: The reported value is ignored because this `step` 87 is already reported.\n",
      "  step\n"
     ]
    },
    {
     "name": "stdout",
     "output_type": "stream",
     "text": [
      "[86]\tvalid_0's auc: 0.702396\n",
      "[87]\tvalid_0's auc: 0.702185\n",
      "[88]\tvalid_0's auc: 0.702141\n"
     ]
    },
    {
     "name": "stderr",
     "output_type": "stream",
     "text": [
      "/Users/brent/anaconda3/lib/python3.7/site-packages/optuna/trial/_trial.py:592: UserWarning: The reported value is ignored because this `step` 88 is already reported.\n",
      "  step\n",
      "/Users/brent/anaconda3/lib/python3.7/site-packages/optuna/trial/_trial.py:592: UserWarning: The reported value is ignored because this `step` 89 is already reported.\n",
      "  step\n"
     ]
    },
    {
     "name": "stdout",
     "output_type": "stream",
     "text": [
      "[89]\tvalid_0's auc: 0.701923\n",
      "[90]\tvalid_0's auc: 0.702158\n"
     ]
    },
    {
     "name": "stderr",
     "output_type": "stream",
     "text": [
      "/Users/brent/anaconda3/lib/python3.7/site-packages/optuna/trial/_trial.py:592: UserWarning: The reported value is ignored because this `step` 90 is already reported.\n",
      "  step\n",
      "/Users/brent/anaconda3/lib/python3.7/site-packages/optuna/trial/_trial.py:592: UserWarning: The reported value is ignored because this `step` 91 is already reported.\n",
      "  step\n",
      "/Users/brent/anaconda3/lib/python3.7/site-packages/optuna/trial/_trial.py:592: UserWarning: The reported value is ignored because this `step` 92 is already reported.\n",
      "  step\n"
     ]
    },
    {
     "name": "stdout",
     "output_type": "stream",
     "text": [
      "[91]\tvalid_0's auc: 0.701745\n",
      "[92]\tvalid_0's auc: 0.701727\n",
      "[93]\tvalid_0's auc: 0.701344\n"
     ]
    },
    {
     "name": "stderr",
     "output_type": "stream",
     "text": [
      "/Users/brent/anaconda3/lib/python3.7/site-packages/optuna/trial/_trial.py:592: UserWarning: The reported value is ignored because this `step` 93 is already reported.\n",
      "  step\n",
      "/Users/brent/anaconda3/lib/python3.7/site-packages/optuna/trial/_trial.py:592: UserWarning: The reported value is ignored because this `step` 94 is already reported.\n",
      "  step\n"
     ]
    },
    {
     "name": "stdout",
     "output_type": "stream",
     "text": [
      "[94]\tvalid_0's auc: 0.701108\n",
      "[95]\tvalid_0's auc: 0.70075\n"
     ]
    },
    {
     "name": "stderr",
     "output_type": "stream",
     "text": [
      "/Users/brent/anaconda3/lib/python3.7/site-packages/optuna/trial/_trial.py:592: UserWarning: The reported value is ignored because this `step` 95 is already reported.\n",
      "  step\n",
      "/Users/brent/anaconda3/lib/python3.7/site-packages/optuna/trial/_trial.py:592: UserWarning: The reported value is ignored because this `step` 96 is already reported.\n",
      "  step\n",
      "/Users/brent/anaconda3/lib/python3.7/site-packages/optuna/trial/_trial.py:592: UserWarning: The reported value is ignored because this `step` 97 is already reported.\n",
      "  step\n"
     ]
    },
    {
     "name": "stdout",
     "output_type": "stream",
     "text": [
      "[96]\tvalid_0's auc: 0.6998\n",
      "[97]\tvalid_0's auc: 0.700255\n",
      "[98]\tvalid_0's auc: 0.700058\n"
     ]
    },
    {
     "name": "stderr",
     "output_type": "stream",
     "text": [
      "/Users/brent/anaconda3/lib/python3.7/site-packages/optuna/trial/_trial.py:592: UserWarning: The reported value is ignored because this `step` 98 is already reported.\n",
      "  step\n",
      "/Users/brent/anaconda3/lib/python3.7/site-packages/optuna/trial/_trial.py:592: UserWarning: The reported value is ignored because this `step` 99 is already reported.\n",
      "  step\n"
     ]
    },
    {
     "name": "stdout",
     "output_type": "stream",
     "text": [
      "[99]\tvalid_0's auc: 0.700083\n",
      "[100]\tvalid_0's auc: 0.700335\n",
      "Did not meet early stopping. Best iteration is:\n",
      "[12]\tvalid_0's auc: 0.719709\n",
      "[LightGBM] [Warning] bagging_freq is set=3, subsample_freq=0 will be ignored. Current value: bagging_freq=3\n",
      "[LightGBM] [Warning] lambda_l2 is set=0.0001405096536789965, reg_lambda=0.0 will be ignored. Current value: lambda_l2=0.0001405096536789965\n",
      "[LightGBM] [Warning] feature_fraction is set=0.574322285801923, colsample_bytree=1.0 will be ignored. Current value: feature_fraction=0.574322285801923\n",
      "[LightGBM] [Warning] bagging_fraction is set=0.9556009191065077, subsample=1.0 will be ignored. Current value: bagging_fraction=0.9556009191065077\n",
      "[LightGBM] [Warning] lambda_l1 is set=2.612000848924171e-06, reg_alpha=0.0 will be ignored. Current value: lambda_l1=2.612000848924171e-06\n"
     ]
    },
    {
     "name": "stderr",
     "output_type": "stream",
     "text": [
      "/Users/brent/anaconda3/lib/python3.7/site-packages/optuna/trial/_trial.py:592: UserWarning: The reported value is ignored because this `step` 0 is already reported.\n",
      "  step\n",
      "/Users/brent/anaconda3/lib/python3.7/site-packages/optuna/trial/_trial.py:592: UserWarning: The reported value is ignored because this `step` 1 is already reported.\n",
      "  step\n"
     ]
    },
    {
     "name": "stdout",
     "output_type": "stream",
     "text": [
      "[1]\tvalid_0's auc: 0.699894\n",
      "Training until validation scores don't improve for 100 rounds\n",
      "[2]\tvalid_0's auc: 0.702965\n"
     ]
    },
    {
     "name": "stderr",
     "output_type": "stream",
     "text": [
      "/Users/brent/anaconda3/lib/python3.7/site-packages/optuna/trial/_trial.py:592: UserWarning: The reported value is ignored because this `step` 2 is already reported.\n",
      "  step\n",
      "/Users/brent/anaconda3/lib/python3.7/site-packages/optuna/trial/_trial.py:592: UserWarning: The reported value is ignored because this `step` 3 is already reported.\n",
      "  step\n"
     ]
    },
    {
     "name": "stdout",
     "output_type": "stream",
     "text": [
      "[3]\tvalid_0's auc: 0.70607\n",
      "[4]\tvalid_0's auc: 0.710327\n"
     ]
    },
    {
     "name": "stderr",
     "output_type": "stream",
     "text": [
      "/Users/brent/anaconda3/lib/python3.7/site-packages/optuna/trial/_trial.py:592: UserWarning: The reported value is ignored because this `step` 4 is already reported.\n",
      "  step\n",
      "/Users/brent/anaconda3/lib/python3.7/site-packages/optuna/trial/_trial.py:592: UserWarning: The reported value is ignored because this `step` 5 is already reported.\n",
      "  step\n"
     ]
    },
    {
     "name": "stdout",
     "output_type": "stream",
     "text": [
      "[5]\tvalid_0's auc: 0.710689\n",
      "[6]\tvalid_0's auc: 0.711618\n"
     ]
    },
    {
     "name": "stderr",
     "output_type": "stream",
     "text": [
      "/Users/brent/anaconda3/lib/python3.7/site-packages/optuna/trial/_trial.py:592: UserWarning: The reported value is ignored because this `step` 6 is already reported.\n",
      "  step\n",
      "/Users/brent/anaconda3/lib/python3.7/site-packages/optuna/trial/_trial.py:592: UserWarning: The reported value is ignored because this `step` 7 is already reported.\n",
      "  step\n",
      "/Users/brent/anaconda3/lib/python3.7/site-packages/optuna/trial/_trial.py:592: UserWarning: The reported value is ignored because this `step` 8 is already reported.\n",
      "  step\n"
     ]
    },
    {
     "name": "stdout",
     "output_type": "stream",
     "text": [
      "[7]\tvalid_0's auc: 0.71299\n",
      "[8]\tvalid_0's auc: 0.714445\n",
      "[9]\tvalid_0's auc: 0.716327\n"
     ]
    },
    {
     "name": "stderr",
     "output_type": "stream",
     "text": [
      "/Users/brent/anaconda3/lib/python3.7/site-packages/optuna/trial/_trial.py:592: UserWarning: The reported value is ignored because this `step` 9 is already reported.\n",
      "  step\n",
      "/Users/brent/anaconda3/lib/python3.7/site-packages/optuna/trial/_trial.py:592: UserWarning: The reported value is ignored because this `step` 10 is already reported.\n",
      "  step\n"
     ]
    },
    {
     "name": "stdout",
     "output_type": "stream",
     "text": [
      "[10]\tvalid_0's auc: 0.717218\n",
      "[11]\tvalid_0's auc: 0.717799\n"
     ]
    },
    {
     "name": "stderr",
     "output_type": "stream",
     "text": [
      "/Users/brent/anaconda3/lib/python3.7/site-packages/optuna/trial/_trial.py:592: UserWarning: The reported value is ignored because this `step` 11 is already reported.\n",
      "  step\n",
      "/Users/brent/anaconda3/lib/python3.7/site-packages/optuna/trial/_trial.py:592: UserWarning: The reported value is ignored because this `step` 12 is already reported.\n",
      "  step\n",
      "/Users/brent/anaconda3/lib/python3.7/site-packages/optuna/trial/_trial.py:592: UserWarning: The reported value is ignored because this `step` 13 is already reported.\n",
      "  step\n"
     ]
    },
    {
     "name": "stdout",
     "output_type": "stream",
     "text": [
      "[12]\tvalid_0's auc: 0.717344\n",
      "[13]\tvalid_0's auc: 0.716692\n",
      "[14]\tvalid_0's auc: 0.716698\n"
     ]
    },
    {
     "name": "stderr",
     "output_type": "stream",
     "text": [
      "/Users/brent/anaconda3/lib/python3.7/site-packages/optuna/trial/_trial.py:592: UserWarning: The reported value is ignored because this `step` 14 is already reported.\n",
      "  step\n",
      "/Users/brent/anaconda3/lib/python3.7/site-packages/optuna/trial/_trial.py:592: UserWarning: The reported value is ignored because this `step` 15 is already reported.\n",
      "  step\n",
      "/Users/brent/anaconda3/lib/python3.7/site-packages/optuna/trial/_trial.py:592: UserWarning: The reported value is ignored because this `step` 16 is already reported.\n",
      "  step\n"
     ]
    },
    {
     "name": "stdout",
     "output_type": "stream",
     "text": [
      "[15]\tvalid_0's auc: 0.716685\n",
      "[16]\tvalid_0's auc: 0.716621\n",
      "[17]\tvalid_0's auc: 0.71615\n"
     ]
    },
    {
     "name": "stderr",
     "output_type": "stream",
     "text": [
      "/Users/brent/anaconda3/lib/python3.7/site-packages/optuna/trial/_trial.py:592: UserWarning: The reported value is ignored because this `step` 17 is already reported.\n",
      "  step\n",
      "/Users/brent/anaconda3/lib/python3.7/site-packages/optuna/trial/_trial.py:592: UserWarning: The reported value is ignored because this `step` 18 is already reported.\n",
      "  step\n"
     ]
    },
    {
     "name": "stdout",
     "output_type": "stream",
     "text": [
      "[18]\tvalid_0's auc: 0.715767\n",
      "[19]\tvalid_0's auc: 0.715728\n"
     ]
    },
    {
     "name": "stderr",
     "output_type": "stream",
     "text": [
      "/Users/brent/anaconda3/lib/python3.7/site-packages/optuna/trial/_trial.py:592: UserWarning: The reported value is ignored because this `step` 19 is already reported.\n",
      "  step\n",
      "/Users/brent/anaconda3/lib/python3.7/site-packages/optuna/trial/_trial.py:592: UserWarning: The reported value is ignored because this `step` 20 is already reported.\n",
      "  step\n",
      "/Users/brent/anaconda3/lib/python3.7/site-packages/optuna/trial/_trial.py:592: UserWarning: The reported value is ignored because this `step` 21 is already reported.\n",
      "  step\n"
     ]
    },
    {
     "name": "stdout",
     "output_type": "stream",
     "text": [
      "[20]\tvalid_0's auc: 0.716507\n",
      "[21]\tvalid_0's auc: 0.715846\n",
      "[22]\tvalid_0's auc: 0.715681\n"
     ]
    },
    {
     "name": "stderr",
     "output_type": "stream",
     "text": [
      "/Users/brent/anaconda3/lib/python3.7/site-packages/optuna/trial/_trial.py:592: UserWarning: The reported value is ignored because this `step` 22 is already reported.\n",
      "  step\n",
      "/Users/brent/anaconda3/lib/python3.7/site-packages/optuna/trial/_trial.py:592: UserWarning: The reported value is ignored because this `step` 23 is already reported.\n",
      "  step\n",
      "/Users/brent/anaconda3/lib/python3.7/site-packages/optuna/trial/_trial.py:592: UserWarning: The reported value is ignored because this `step` 24 is already reported.\n",
      "  step\n"
     ]
    },
    {
     "name": "stdout",
     "output_type": "stream",
     "text": [
      "[23]\tvalid_0's auc: 0.714484\n",
      "[24]\tvalid_0's auc: 0.715082\n",
      "[25]\tvalid_0's auc: 0.714587\n"
     ]
    },
    {
     "name": "stderr",
     "output_type": "stream",
     "text": [
      "/Users/brent/anaconda3/lib/python3.7/site-packages/optuna/trial/_trial.py:592: UserWarning: The reported value is ignored because this `step` 25 is already reported.\n",
      "  step\n",
      "/Users/brent/anaconda3/lib/python3.7/site-packages/optuna/trial/_trial.py:592: UserWarning: The reported value is ignored because this `step` 26 is already reported.\n",
      "  step\n",
      "/Users/brent/anaconda3/lib/python3.7/site-packages/optuna/trial/_trial.py:592: UserWarning: The reported value is ignored because this `step` 27 is already reported.\n",
      "  step\n"
     ]
    },
    {
     "name": "stdout",
     "output_type": "stream",
     "text": [
      "[26]\tvalid_0's auc: 0.713487\n",
      "[27]\tvalid_0's auc: 0.714379\n",
      "[28]\tvalid_0's auc: 0.713627\n"
     ]
    },
    {
     "name": "stderr",
     "output_type": "stream",
     "text": [
      "/Users/brent/anaconda3/lib/python3.7/site-packages/optuna/trial/_trial.py:592: UserWarning: The reported value is ignored because this `step` 28 is already reported.\n",
      "  step\n",
      "/Users/brent/anaconda3/lib/python3.7/site-packages/optuna/trial/_trial.py:592: UserWarning: The reported value is ignored because this `step` 29 is already reported.\n",
      "  step\n",
      "/Users/brent/anaconda3/lib/python3.7/site-packages/optuna/trial/_trial.py:592: UserWarning: The reported value is ignored because this `step` 30 is already reported.\n",
      "  step\n"
     ]
    },
    {
     "name": "stdout",
     "output_type": "stream",
     "text": [
      "[29]\tvalid_0's auc: 0.713427\n",
      "[30]\tvalid_0's auc: 0.713937\n",
      "[31]\tvalid_0's auc: 0.71361\n"
     ]
    },
    {
     "name": "stderr",
     "output_type": "stream",
     "text": [
      "/Users/brent/anaconda3/lib/python3.7/site-packages/optuna/trial/_trial.py:592: UserWarning: The reported value is ignored because this `step` 31 is already reported.\n",
      "  step\n",
      "/Users/brent/anaconda3/lib/python3.7/site-packages/optuna/trial/_trial.py:592: UserWarning: The reported value is ignored because this `step` 32 is already reported.\n",
      "  step\n",
      "/Users/brent/anaconda3/lib/python3.7/site-packages/optuna/trial/_trial.py:592: UserWarning: The reported value is ignored because this `step` 33 is already reported.\n",
      "  step\n"
     ]
    },
    {
     "name": "stdout",
     "output_type": "stream",
     "text": [
      "[32]\tvalid_0's auc: 0.712433\n",
      "[33]\tvalid_0's auc: 0.712293\n",
      "[34]\tvalid_0's auc: 0.710717\n"
     ]
    },
    {
     "name": "stderr",
     "output_type": "stream",
     "text": [
      "/Users/brent/anaconda3/lib/python3.7/site-packages/optuna/trial/_trial.py:592: UserWarning: The reported value is ignored because this `step` 34 is already reported.\n",
      "  step\n",
      "/Users/brent/anaconda3/lib/python3.7/site-packages/optuna/trial/_trial.py:592: UserWarning: The reported value is ignored because this `step` 35 is already reported.\n",
      "  step\n",
      "/Users/brent/anaconda3/lib/python3.7/site-packages/optuna/trial/_trial.py:592: UserWarning: The reported value is ignored because this `step` 36 is already reported.\n",
      "  step\n"
     ]
    },
    {
     "name": "stdout",
     "output_type": "stream",
     "text": [
      "[35]\tvalid_0's auc: 0.710096\n",
      "[36]\tvalid_0's auc: 0.709936\n",
      "[37]\tvalid_0's auc: 0.710349\n"
     ]
    },
    {
     "name": "stderr",
     "output_type": "stream",
     "text": [
      "/Users/brent/anaconda3/lib/python3.7/site-packages/optuna/trial/_trial.py:592: UserWarning: The reported value is ignored because this `step` 37 is already reported.\n",
      "  step\n",
      "/Users/brent/anaconda3/lib/python3.7/site-packages/optuna/trial/_trial.py:592: UserWarning: The reported value is ignored because this `step` 38 is already reported.\n",
      "  step\n",
      "/Users/brent/anaconda3/lib/python3.7/site-packages/optuna/trial/_trial.py:592: UserWarning: The reported value is ignored because this `step` 39 is already reported.\n",
      "  step\n"
     ]
    },
    {
     "name": "stdout",
     "output_type": "stream",
     "text": [
      "[38]\tvalid_0's auc: 0.708272\n",
      "[39]\tvalid_0's auc: 0.708161\n",
      "[40]\tvalid_0's auc: 0.707754\n"
     ]
    },
    {
     "name": "stderr",
     "output_type": "stream",
     "text": [
      "/Users/brent/anaconda3/lib/python3.7/site-packages/optuna/trial/_trial.py:592: UserWarning: The reported value is ignored because this `step` 40 is already reported.\n",
      "  step\n",
      "/Users/brent/anaconda3/lib/python3.7/site-packages/optuna/trial/_trial.py:592: UserWarning: The reported value is ignored because this `step` 41 is already reported.\n",
      "  step\n",
      "/Users/brent/anaconda3/lib/python3.7/site-packages/optuna/trial/_trial.py:592: UserWarning: The reported value is ignored because this `step` 42 is already reported.\n",
      "  step\n"
     ]
    },
    {
     "name": "stdout",
     "output_type": "stream",
     "text": [
      "[41]\tvalid_0's auc: 0.707045\n",
      "[42]\tvalid_0's auc: 0.706843\n",
      "[43]\tvalid_0's auc: 0.707478\n"
     ]
    },
    {
     "name": "stderr",
     "output_type": "stream",
     "text": [
      "/Users/brent/anaconda3/lib/python3.7/site-packages/optuna/trial/_trial.py:592: UserWarning: The reported value is ignored because this `step` 43 is already reported.\n",
      "  step\n",
      "/Users/brent/anaconda3/lib/python3.7/site-packages/optuna/trial/_trial.py:592: UserWarning: The reported value is ignored because this `step` 44 is already reported.\n",
      "  step\n",
      "/Users/brent/anaconda3/lib/python3.7/site-packages/optuna/trial/_trial.py:592: UserWarning: The reported value is ignored because this `step` 45 is already reported.\n",
      "  step\n"
     ]
    },
    {
     "name": "stdout",
     "output_type": "stream",
     "text": [
      "[44]\tvalid_0's auc: 0.70669\n",
      "[45]\tvalid_0's auc: 0.706141\n",
      "[46]\tvalid_0's auc: 0.706282\n"
     ]
    },
    {
     "name": "stderr",
     "output_type": "stream",
     "text": [
      "/Users/brent/anaconda3/lib/python3.7/site-packages/optuna/trial/_trial.py:592: UserWarning: The reported value is ignored because this `step` 46 is already reported.\n",
      "  step\n",
      "/Users/brent/anaconda3/lib/python3.7/site-packages/optuna/trial/_trial.py:592: UserWarning: The reported value is ignored because this `step` 47 is already reported.\n",
      "  step\n",
      "/Users/brent/anaconda3/lib/python3.7/site-packages/optuna/trial/_trial.py:592: UserWarning: The reported value is ignored because this `step` 48 is already reported.\n",
      "  step\n"
     ]
    },
    {
     "name": "stdout",
     "output_type": "stream",
     "text": [
      "[47]\tvalid_0's auc: 0.706151\n",
      "[48]\tvalid_0's auc: 0.705735\n",
      "[49]\tvalid_0's auc: 0.705239\n"
     ]
    },
    {
     "name": "stderr",
     "output_type": "stream",
     "text": [
      "/Users/brent/anaconda3/lib/python3.7/site-packages/optuna/trial/_trial.py:592: UserWarning: The reported value is ignored because this `step` 49 is already reported.\n",
      "  step\n",
      "/Users/brent/anaconda3/lib/python3.7/site-packages/optuna/trial/_trial.py:592: UserWarning: The reported value is ignored because this `step` 50 is already reported.\n",
      "  step\n",
      "/Users/brent/anaconda3/lib/python3.7/site-packages/optuna/trial/_trial.py:592: UserWarning: The reported value is ignored because this `step` 51 is already reported.\n",
      "  step\n"
     ]
    },
    {
     "name": "stdout",
     "output_type": "stream",
     "text": [
      "[50]\tvalid_0's auc: 0.704657\n",
      "[51]\tvalid_0's auc: 0.704492\n",
      "[52]\tvalid_0's auc: 0.704219\n"
     ]
    },
    {
     "name": "stderr",
     "output_type": "stream",
     "text": [
      "/Users/brent/anaconda3/lib/python3.7/site-packages/optuna/trial/_trial.py:592: UserWarning: The reported value is ignored because this `step` 52 is already reported.\n",
      "  step\n",
      "/Users/brent/anaconda3/lib/python3.7/site-packages/optuna/trial/_trial.py:592: UserWarning: The reported value is ignored because this `step` 53 is already reported.\n",
      "  step\n",
      "/Users/brent/anaconda3/lib/python3.7/site-packages/optuna/trial/_trial.py:592: UserWarning: The reported value is ignored because this `step` 54 is already reported.\n",
      "  step\n",
      "/Users/brent/anaconda3/lib/python3.7/site-packages/optuna/trial/_trial.py:592: UserWarning: The reported value is ignored because this `step` 55 is already reported.\n",
      "  step\n"
     ]
    },
    {
     "name": "stdout",
     "output_type": "stream",
     "text": [
      "[53]\tvalid_0's auc: 0.703281\n",
      "[54]\tvalid_0's auc: 0.703399\n",
      "[55]\tvalid_0's auc: 0.703284\n",
      "[56]\tvalid_0's auc: 0.702581\n"
     ]
    },
    {
     "name": "stderr",
     "output_type": "stream",
     "text": [
      "/Users/brent/anaconda3/lib/python3.7/site-packages/optuna/trial/_trial.py:592: UserWarning: The reported value is ignored because this `step` 56 is already reported.\n",
      "  step\n",
      "/Users/brent/anaconda3/lib/python3.7/site-packages/optuna/trial/_trial.py:592: UserWarning: The reported value is ignored because this `step` 57 is already reported.\n",
      "  step\n",
      "/Users/brent/anaconda3/lib/python3.7/site-packages/optuna/trial/_trial.py:592: UserWarning: The reported value is ignored because this `step` 58 is already reported.\n",
      "  step\n"
     ]
    },
    {
     "name": "stdout",
     "output_type": "stream",
     "text": [
      "[57]\tvalid_0's auc: 0.702051\n",
      "[58]\tvalid_0's auc: 0.702098\n",
      "[59]\tvalid_0's auc: 0.701281\n"
     ]
    },
    {
     "name": "stderr",
     "output_type": "stream",
     "text": [
      "/Users/brent/anaconda3/lib/python3.7/site-packages/optuna/trial/_trial.py:592: UserWarning: The reported value is ignored because this `step` 59 is already reported.\n",
      "  step\n",
      "/Users/brent/anaconda3/lib/python3.7/site-packages/optuna/trial/_trial.py:592: UserWarning: The reported value is ignored because this `step` 60 is already reported.\n",
      "  step\n",
      "/Users/brent/anaconda3/lib/python3.7/site-packages/optuna/trial/_trial.py:592: UserWarning: The reported value is ignored because this `step` 61 is already reported.\n",
      "  step\n"
     ]
    },
    {
     "name": "stdout",
     "output_type": "stream",
     "text": [
      "[60]\tvalid_0's auc: 0.70141\n",
      "[61]\tvalid_0's auc: 0.701487\n",
      "[62]\tvalid_0's auc: 0.701549\n"
     ]
    },
    {
     "name": "stderr",
     "output_type": "stream",
     "text": [
      "/Users/brent/anaconda3/lib/python3.7/site-packages/optuna/trial/_trial.py:592: UserWarning: The reported value is ignored because this `step` 62 is already reported.\n",
      "  step\n",
      "/Users/brent/anaconda3/lib/python3.7/site-packages/optuna/trial/_trial.py:592: UserWarning: The reported value is ignored because this `step` 63 is already reported.\n",
      "  step\n",
      "/Users/brent/anaconda3/lib/python3.7/site-packages/optuna/trial/_trial.py:592: UserWarning: The reported value is ignored because this `step` 64 is already reported.\n",
      "  step\n"
     ]
    },
    {
     "name": "stdout",
     "output_type": "stream",
     "text": [
      "[63]\tvalid_0's auc: 0.70193\n",
      "[64]\tvalid_0's auc: 0.70199\n",
      "[65]\tvalid_0's auc: 0.702101\n"
     ]
    },
    {
     "name": "stderr",
     "output_type": "stream",
     "text": [
      "/Users/brent/anaconda3/lib/python3.7/site-packages/optuna/trial/_trial.py:592: UserWarning: The reported value is ignored because this `step` 65 is already reported.\n",
      "  step\n",
      "/Users/brent/anaconda3/lib/python3.7/site-packages/optuna/trial/_trial.py:592: UserWarning: The reported value is ignored because this `step` 66 is already reported.\n",
      "  step\n",
      "/Users/brent/anaconda3/lib/python3.7/site-packages/optuna/trial/_trial.py:592: UserWarning: The reported value is ignored because this `step` 67 is already reported.\n",
      "  step\n"
     ]
    },
    {
     "name": "stdout",
     "output_type": "stream",
     "text": [
      "[66]\tvalid_0's auc: 0.701925\n",
      "[67]\tvalid_0's auc: 0.701949\n",
      "[68]\tvalid_0's auc: 0.701271\n"
     ]
    },
    {
     "name": "stderr",
     "output_type": "stream",
     "text": [
      "/Users/brent/anaconda3/lib/python3.7/site-packages/optuna/trial/_trial.py:592: UserWarning: The reported value is ignored because this `step` 68 is already reported.\n",
      "  step\n",
      "/Users/brent/anaconda3/lib/python3.7/site-packages/optuna/trial/_trial.py:592: UserWarning: The reported value is ignored because this `step` 69 is already reported.\n",
      "  step\n",
      "/Users/brent/anaconda3/lib/python3.7/site-packages/optuna/trial/_trial.py:592: UserWarning: The reported value is ignored because this `step` 70 is already reported.\n",
      "  step\n"
     ]
    },
    {
     "name": "stdout",
     "output_type": "stream",
     "text": [
      "[69]\tvalid_0's auc: 0.700658\n",
      "[70]\tvalid_0's auc: 0.700316\n",
      "[71]\tvalid_0's auc: 0.699744\n"
     ]
    },
    {
     "name": "stderr",
     "output_type": "stream",
     "text": [
      "/Users/brent/anaconda3/lib/python3.7/site-packages/optuna/trial/_trial.py:592: UserWarning: The reported value is ignored because this `step` 71 is already reported.\n",
      "  step\n",
      "/Users/brent/anaconda3/lib/python3.7/site-packages/optuna/trial/_trial.py:592: UserWarning: The reported value is ignored because this `step` 72 is already reported.\n",
      "  step\n",
      "/Users/brent/anaconda3/lib/python3.7/site-packages/optuna/trial/_trial.py:592: UserWarning: The reported value is ignored because this `step` 73 is already reported.\n",
      "  step\n"
     ]
    },
    {
     "name": "stdout",
     "output_type": "stream",
     "text": [
      "[72]\tvalid_0's auc: 0.699754\n",
      "[73]\tvalid_0's auc: 0.700183\n",
      "[74]\tvalid_0's auc: 0.700423\n"
     ]
    },
    {
     "name": "stderr",
     "output_type": "stream",
     "text": [
      "/Users/brent/anaconda3/lib/python3.7/site-packages/optuna/trial/_trial.py:592: UserWarning: The reported value is ignored because this `step` 74 is already reported.\n",
      "  step\n",
      "/Users/brent/anaconda3/lib/python3.7/site-packages/optuna/trial/_trial.py:592: UserWarning: The reported value is ignored because this `step` 75 is already reported.\n",
      "  step\n",
      "/Users/brent/anaconda3/lib/python3.7/site-packages/optuna/trial/_trial.py:592: UserWarning: The reported value is ignored because this `step` 76 is already reported.\n",
      "  step\n"
     ]
    },
    {
     "name": "stdout",
     "output_type": "stream",
     "text": [
      "[75]\tvalid_0's auc: 0.700301\n",
      "[76]\tvalid_0's auc: 0.699879\n",
      "[77]\tvalid_0's auc: 0.699701\n"
     ]
    },
    {
     "name": "stderr",
     "output_type": "stream",
     "text": [
      "/Users/brent/anaconda3/lib/python3.7/site-packages/optuna/trial/_trial.py:592: UserWarning: The reported value is ignored because this `step` 77 is already reported.\n",
      "  step\n",
      "/Users/brent/anaconda3/lib/python3.7/site-packages/optuna/trial/_trial.py:592: UserWarning: The reported value is ignored because this `step` 78 is already reported.\n",
      "  step\n",
      "/Users/brent/anaconda3/lib/python3.7/site-packages/optuna/trial/_trial.py:592: UserWarning: The reported value is ignored because this `step` 79 is already reported.\n",
      "  step\n"
     ]
    },
    {
     "name": "stdout",
     "output_type": "stream",
     "text": [
      "[78]\tvalid_0's auc: 0.700226\n",
      "[79]\tvalid_0's auc: 0.699708\n",
      "[80]\tvalid_0's auc: 0.699344\n"
     ]
    },
    {
     "name": "stderr",
     "output_type": "stream",
     "text": [
      "/Users/brent/anaconda3/lib/python3.7/site-packages/optuna/trial/_trial.py:592: UserWarning: The reported value is ignored because this `step` 80 is already reported.\n",
      "  step\n",
      "/Users/brent/anaconda3/lib/python3.7/site-packages/optuna/trial/_trial.py:592: UserWarning: The reported value is ignored because this `step` 81 is already reported.\n",
      "  step\n",
      "/Users/brent/anaconda3/lib/python3.7/site-packages/optuna/trial/_trial.py:592: UserWarning: The reported value is ignored because this `step` 82 is already reported.\n",
      "  step\n"
     ]
    },
    {
     "name": "stdout",
     "output_type": "stream",
     "text": [
      "[81]\tvalid_0's auc: 0.699118\n",
      "[82]\tvalid_0's auc: 0.699202\n",
      "[83]\tvalid_0's auc: 0.699197\n"
     ]
    },
    {
     "name": "stderr",
     "output_type": "stream",
     "text": [
      "/Users/brent/anaconda3/lib/python3.7/site-packages/optuna/trial/_trial.py:592: UserWarning: The reported value is ignored because this `step` 83 is already reported.\n",
      "  step\n",
      "/Users/brent/anaconda3/lib/python3.7/site-packages/optuna/trial/_trial.py:592: UserWarning: The reported value is ignored because this `step` 84 is already reported.\n",
      "  step\n",
      "/Users/brent/anaconda3/lib/python3.7/site-packages/optuna/trial/_trial.py:592: UserWarning: The reported value is ignored because this `step` 85 is already reported.\n",
      "  step\n"
     ]
    },
    {
     "name": "stdout",
     "output_type": "stream",
     "text": [
      "[84]\tvalid_0's auc: 0.698716\n",
      "[85]\tvalid_0's auc: 0.698988\n",
      "[86]\tvalid_0's auc: 0.699004\n"
     ]
    },
    {
     "name": "stderr",
     "output_type": "stream",
     "text": [
      "/Users/brent/anaconda3/lib/python3.7/site-packages/optuna/trial/_trial.py:592: UserWarning: The reported value is ignored because this `step` 86 is already reported.\n",
      "  step\n",
      "/Users/brent/anaconda3/lib/python3.7/site-packages/optuna/trial/_trial.py:592: UserWarning: The reported value is ignored because this `step` 87 is already reported.\n",
      "  step\n",
      "/Users/brent/anaconda3/lib/python3.7/site-packages/optuna/trial/_trial.py:592: UserWarning: The reported value is ignored because this `step` 88 is already reported.\n",
      "  step\n"
     ]
    },
    {
     "name": "stdout",
     "output_type": "stream",
     "text": [
      "[87]\tvalid_0's auc: 0.698644\n",
      "[88]\tvalid_0's auc: 0.69807\n",
      "[89]\tvalid_0's auc: 0.697801\n"
     ]
    },
    {
     "name": "stderr",
     "output_type": "stream",
     "text": [
      "/Users/brent/anaconda3/lib/python3.7/site-packages/optuna/trial/_trial.py:592: UserWarning: The reported value is ignored because this `step` 89 is already reported.\n",
      "  step\n",
      "/Users/brent/anaconda3/lib/python3.7/site-packages/optuna/trial/_trial.py:592: UserWarning: The reported value is ignored because this `step` 90 is already reported.\n",
      "  step\n",
      "/Users/brent/anaconda3/lib/python3.7/site-packages/optuna/trial/_trial.py:592: UserWarning: The reported value is ignored because this `step` 91 is already reported.\n",
      "  step\n"
     ]
    },
    {
     "name": "stdout",
     "output_type": "stream",
     "text": [
      "[90]\tvalid_0's auc: 0.697695\n",
      "[91]\tvalid_0's auc: 0.697326\n",
      "[92]\tvalid_0's auc: 0.697593\n"
     ]
    },
    {
     "name": "stderr",
     "output_type": "stream",
     "text": [
      "/Users/brent/anaconda3/lib/python3.7/site-packages/optuna/trial/_trial.py:592: UserWarning: The reported value is ignored because this `step` 92 is already reported.\n",
      "  step\n",
      "/Users/brent/anaconda3/lib/python3.7/site-packages/optuna/trial/_trial.py:592: UserWarning: The reported value is ignored because this `step` 93 is already reported.\n",
      "  step\n",
      "/Users/brent/anaconda3/lib/python3.7/site-packages/optuna/trial/_trial.py:592: UserWarning: The reported value is ignored because this `step` 94 is already reported.\n",
      "  step\n"
     ]
    },
    {
     "name": "stdout",
     "output_type": "stream",
     "text": [
      "[93]\tvalid_0's auc: 0.696972\n",
      "[94]\tvalid_0's auc: 0.696633\n",
      "[95]\tvalid_0's auc: 0.696603\n"
     ]
    },
    {
     "name": "stderr",
     "output_type": "stream",
     "text": [
      "/Users/brent/anaconda3/lib/python3.7/site-packages/optuna/trial/_trial.py:592: UserWarning: The reported value is ignored because this `step` 95 is already reported.\n",
      "  step\n",
      "/Users/brent/anaconda3/lib/python3.7/site-packages/optuna/trial/_trial.py:592: UserWarning: The reported value is ignored because this `step` 96 is already reported.\n",
      "  step\n",
      "/Users/brent/anaconda3/lib/python3.7/site-packages/optuna/trial/_trial.py:592: UserWarning: The reported value is ignored because this `step` 97 is already reported.\n",
      "  step\n"
     ]
    },
    {
     "name": "stdout",
     "output_type": "stream",
     "text": [
      "[96]\tvalid_0's auc: 0.695971\n",
      "[97]\tvalid_0's auc: 0.695725\n",
      "[98]\tvalid_0's auc: 0.696132\n"
     ]
    },
    {
     "name": "stderr",
     "output_type": "stream",
     "text": [
      "/Users/brent/anaconda3/lib/python3.7/site-packages/optuna/trial/_trial.py:592: UserWarning: The reported value is ignored because this `step` 98 is already reported.\n",
      "  step\n",
      "/Users/brent/anaconda3/lib/python3.7/site-packages/optuna/trial/_trial.py:592: UserWarning: The reported value is ignored because this `step` 99 is already reported.\n",
      "  step\n"
     ]
    },
    {
     "name": "stdout",
     "output_type": "stream",
     "text": [
      "[99]\tvalid_0's auc: 0.69581\n",
      "[100]\tvalid_0's auc: 0.695843\n",
      "Did not meet early stopping. Best iteration is:\n",
      "[11]\tvalid_0's auc: 0.717799\n",
      "\u001b[32m[I 2021-10-19 23:07:05,016]\u001b[0m Trial 1 finished with value: 0.7188962970022932 and parameters: {'lambda_l1': 2.612000848924171e-06, 'lambda_l2': 0.0001405096536789965, 'num_leaves': 175, 'feature_fraction': 0.574322285801923, 'bagging_fraction': 0.9556009191065077, 'bagging_freq': 3, 'learning_rate': 0.44934880594141324, 'min_child_samples': 79, 'cat_smooth': 17}. Best is trial 0 with value: 0.7454035427301393.\u001b[0m\n",
      "[LightGBM] [Warning] bagging_freq is set=6, subsample_freq=0 will be ignored. Current value: bagging_freq=6\n",
      "[LightGBM] [Warning] lambda_l2 is set=0.0022688556924762245, reg_lambda=0.0 will be ignored. Current value: lambda_l2=0.0022688556924762245\n",
      "[LightGBM] [Warning] feature_fraction is set=0.4969589843296607, colsample_bytree=1.0 will be ignored. Current value: feature_fraction=0.4969589843296607\n",
      "[LightGBM] [Warning] bagging_fraction is set=0.5228829808581412, subsample=1.0 will be ignored. Current value: bagging_fraction=0.5228829808581412\n",
      "[LightGBM] [Warning] lambda_l1 is set=9.200114535730967e-05, reg_alpha=0.0 will be ignored. Current value: lambda_l1=9.200114535730967e-05\n",
      "[1]\tvalid_0's auc: 0.653362\n",
      "Training until validation scores don't improve for 100 rounds\n",
      "[2]\tvalid_0's auc: 0.66869\n",
      "[3]\tvalid_0's auc: 0.694068\n",
      "[4]\tvalid_0's auc: 0.717478\n",
      "[5]\tvalid_0's auc: 0.72542\n",
      "[6]\tvalid_0's auc: 0.728916\n",
      "[7]\tvalid_0's auc: 0.733679\n",
      "[8]\tvalid_0's auc: 0.733128\n",
      "[9]\tvalid_0's auc: 0.731937\n",
      "[10]\tvalid_0's auc: 0.734155\n",
      "[11]\tvalid_0's auc: 0.734521\n",
      "[12]\tvalid_0's auc: 0.736014\n",
      "[13]\tvalid_0's auc: 0.737607\n",
      "[14]\tvalid_0's auc: 0.738622\n",
      "[15]\tvalid_0's auc: 0.738208\n",
      "[16]\tvalid_0's auc: 0.738897\n",
      "[17]\tvalid_0's auc: 0.738348\n",
      "[18]\tvalid_0's auc: 0.738749\n",
      "[19]\tvalid_0's auc: 0.739825\n",
      "[20]\tvalid_0's auc: 0.740168\n",
      "[21]\tvalid_0's auc: 0.740704\n",
      "[22]\tvalid_0's auc: 0.741123\n",
      "[23]\tvalid_0's auc: 0.741493\n",
      "[24]\tvalid_0's auc: 0.741352\n",
      "[25]\tvalid_0's auc: 0.741902\n",
      "[26]\tvalid_0's auc: 0.742287\n",
      "[27]\tvalid_0's auc: 0.742455\n",
      "[28]\tvalid_0's auc: 0.742431\n",
      "[29]\tvalid_0's auc: 0.742888\n",
      "[30]\tvalid_0's auc: 0.742799\n",
      "[31]\tvalid_0's auc: 0.742719\n",
      "[32]\tvalid_0's auc: 0.742533\n",
      "[33]\tvalid_0's auc: 0.742271\n",
      "[34]\tvalid_0's auc: 0.742257\n",
      "[35]\tvalid_0's auc: 0.742539\n",
      "[36]\tvalid_0's auc: 0.742667\n",
      "[37]\tvalid_0's auc: 0.742964\n",
      "[38]\tvalid_0's auc: 0.743168\n",
      "[39]\tvalid_0's auc: 0.743268\n",
      "[40]\tvalid_0's auc: 0.743175\n",
      "[41]\tvalid_0's auc: 0.743377\n",
      "[42]\tvalid_0's auc: 0.743615\n",
      "[43]\tvalid_0's auc: 0.74373\n",
      "[44]\tvalid_0's auc: 0.743856\n",
      "[45]\tvalid_0's auc: 0.743968\n",
      "[46]\tvalid_0's auc: 0.74394\n",
      "[47]\tvalid_0's auc: 0.744069\n",
      "[48]\tvalid_0's auc: 0.744122\n",
      "[49]\tvalid_0's auc: 0.744066\n",
      "[50]\tvalid_0's auc: 0.744104\n",
      "[51]\tvalid_0's auc: 0.744345\n",
      "[52]\tvalid_0's auc: 0.744278\n",
      "[53]\tvalid_0's auc: 0.744122\n",
      "[54]\tvalid_0's auc: 0.74408\n",
      "[55]\tvalid_0's auc: 0.744294\n",
      "[56]\tvalid_0's auc: 0.744294\n",
      "[57]\tvalid_0's auc: 0.744211\n",
      "[58]\tvalid_0's auc: 0.744265\n",
      "[59]\tvalid_0's auc: 0.744325\n",
      "[60]\tvalid_0's auc: 0.744306\n",
      "[61]\tvalid_0's auc: 0.744638\n",
      "[62]\tvalid_0's auc: 0.744878\n",
      "[63]\tvalid_0's auc: 0.744849\n",
      "[64]\tvalid_0's auc: 0.744833\n",
      "[65]\tvalid_0's auc: 0.744818\n",
      "[66]\tvalid_0's auc: 0.744832\n",
      "[67]\tvalid_0's auc: 0.744849\n",
      "[68]\tvalid_0's auc: 0.744941\n",
      "[69]\tvalid_0's auc: 0.744944\n",
      "[70]\tvalid_0's auc: 0.744866\n",
      "[71]\tvalid_0's auc: 0.744851\n",
      "[72]\tvalid_0's auc: 0.744681\n",
      "[73]\tvalid_0's auc: 0.744723\n",
      "[74]\tvalid_0's auc: 0.744727\n",
      "[75]\tvalid_0's auc: 0.744649\n",
      "[76]\tvalid_0's auc: 0.744851\n",
      "[77]\tvalid_0's auc: 0.744856\n",
      "[78]\tvalid_0's auc: 0.74503\n",
      "[79]\tvalid_0's auc: 0.744956\n",
      "[80]\tvalid_0's auc: 0.744933\n",
      "[81]\tvalid_0's auc: 0.744925\n",
      "[82]\tvalid_0's auc: 0.744929\n",
      "[83]\tvalid_0's auc: 0.744883\n",
      "[84]\tvalid_0's auc: 0.744974\n",
      "[85]\tvalid_0's auc: 0.744913\n",
      "[86]\tvalid_0's auc: 0.744924\n",
      "[87]\tvalid_0's auc: 0.744914\n",
      "[88]\tvalid_0's auc: 0.744901\n",
      "[89]\tvalid_0's auc: 0.744915\n",
      "[90]\tvalid_0's auc: 0.744848\n",
      "[91]\tvalid_0's auc: 0.744786\n",
      "[92]\tvalid_0's auc: 0.744797\n",
      "[93]\tvalid_0's auc: 0.744707\n",
      "[94]\tvalid_0's auc: 0.744863\n",
      "[95]\tvalid_0's auc: 0.744805\n",
      "[96]\tvalid_0's auc: 0.744919\n",
      "[97]\tvalid_0's auc: 0.744948\n",
      "[98]\tvalid_0's auc: 0.744856\n",
      "[99]\tvalid_0's auc: 0.744881\n",
      "[100]\tvalid_0's auc: 0.744961\n",
      "Did not meet early stopping. Best iteration is:\n",
      "[78]\tvalid_0's auc: 0.74503\n",
      "[LightGBM] [Warning] bagging_freq is set=6, subsample_freq=0 will be ignored. Current value: bagging_freq=6\n",
      "[LightGBM] [Warning] lambda_l2 is set=0.0022688556924762245, reg_lambda=0.0 will be ignored. Current value: lambda_l2=0.0022688556924762245\n",
      "[LightGBM] [Warning] feature_fraction is set=0.4969589843296607, colsample_bytree=1.0 will be ignored. Current value: feature_fraction=0.4969589843296607\n",
      "[LightGBM] [Warning] bagging_fraction is set=0.5228829808581412, subsample=1.0 will be ignored. Current value: bagging_fraction=0.5228829808581412\n",
      "[LightGBM] [Warning] lambda_l1 is set=9.200114535730967e-05, reg_alpha=0.0 will be ignored. Current value: lambda_l1=9.200114535730967e-05\n"
     ]
    },
    {
     "name": "stderr",
     "output_type": "stream",
     "text": [
      "/Users/brent/anaconda3/lib/python3.7/site-packages/optuna/trial/_trial.py:592: UserWarning: The reported value is ignored because this `step` 0 is already reported.\n",
      "  step\n",
      "/Users/brent/anaconda3/lib/python3.7/site-packages/optuna/trial/_trial.py:592: UserWarning: The reported value is ignored because this `step` 1 is already reported.\n",
      "  step\n",
      "/Users/brent/anaconda3/lib/python3.7/site-packages/optuna/trial/_trial.py:592: UserWarning: The reported value is ignored because this `step` 2 is already reported.\n",
      "  step\n"
     ]
    },
    {
     "name": "stdout",
     "output_type": "stream",
     "text": [
      "[1]\tvalid_0's auc: 0.690468\n",
      "Training until validation scores don't improve for 100 rounds\n",
      "[2]\tvalid_0's auc: 0.701879\n",
      "[3]\tvalid_0's auc: 0.71131\n"
     ]
    },
    {
     "name": "stderr",
     "output_type": "stream",
     "text": [
      "/Users/brent/anaconda3/lib/python3.7/site-packages/optuna/trial/_trial.py:592: UserWarning: The reported value is ignored because this `step` 3 is already reported.\n",
      "  step\n",
      "/Users/brent/anaconda3/lib/python3.7/site-packages/optuna/trial/_trial.py:592: UserWarning: The reported value is ignored because this `step` 4 is already reported.\n",
      "  step\n",
      "/Users/brent/anaconda3/lib/python3.7/site-packages/optuna/trial/_trial.py:592: UserWarning: The reported value is ignored because this `step` 5 is already reported.\n",
      "  step\n"
     ]
    },
    {
     "name": "stdout",
     "output_type": "stream",
     "text": [
      "[4]\tvalid_0's auc: 0.720476\n",
      "[5]\tvalid_0's auc: 0.722683\n",
      "[6]\tvalid_0's auc: 0.722789\n"
     ]
    },
    {
     "name": "stderr",
     "output_type": "stream",
     "text": [
      "/Users/brent/anaconda3/lib/python3.7/site-packages/optuna/trial/_trial.py:592: UserWarning: The reported value is ignored because this `step` 6 is already reported.\n",
      "  step\n",
      "/Users/brent/anaconda3/lib/python3.7/site-packages/optuna/trial/_trial.py:592: UserWarning: The reported value is ignored because this `step` 7 is already reported.\n",
      "  step\n",
      "/Users/brent/anaconda3/lib/python3.7/site-packages/optuna/trial/_trial.py:592: UserWarning: The reported value is ignored because this `step` 8 is already reported.\n",
      "  step\n"
     ]
    },
    {
     "name": "stdout",
     "output_type": "stream",
     "text": [
      "[7]\tvalid_0's auc: 0.725687\n",
      "[8]\tvalid_0's auc: 0.72705\n",
      "[9]\tvalid_0's auc: 0.727433\n"
     ]
    },
    {
     "name": "stderr",
     "output_type": "stream",
     "text": [
      "/Users/brent/anaconda3/lib/python3.7/site-packages/optuna/trial/_trial.py:592: UserWarning: The reported value is ignored because this `step` 9 is already reported.\n",
      "  step\n",
      "/Users/brent/anaconda3/lib/python3.7/site-packages/optuna/trial/_trial.py:592: UserWarning: The reported value is ignored because this `step` 10 is already reported.\n",
      "  step\n"
     ]
    },
    {
     "name": "stdout",
     "output_type": "stream",
     "text": [
      "[10]\tvalid_0's auc: 0.729367\n",
      "[11]\tvalid_0's auc: 0.731195\n"
     ]
    },
    {
     "name": "stderr",
     "output_type": "stream",
     "text": [
      "/Users/brent/anaconda3/lib/python3.7/site-packages/optuna/trial/_trial.py:592: UserWarning: The reported value is ignored because this `step` 11 is already reported.\n",
      "  step\n",
      "/Users/brent/anaconda3/lib/python3.7/site-packages/optuna/trial/_trial.py:592: UserWarning: The reported value is ignored because this `step` 12 is already reported.\n",
      "  step\n"
     ]
    },
    {
     "name": "stdout",
     "output_type": "stream",
     "text": [
      "[12]\tvalid_0's auc: 0.731812\n",
      "[13]\tvalid_0's auc: 0.732979\n"
     ]
    },
    {
     "name": "stderr",
     "output_type": "stream",
     "text": [
      "/Users/brent/anaconda3/lib/python3.7/site-packages/optuna/trial/_trial.py:592: UserWarning: The reported value is ignored because this `step` 13 is already reported.\n",
      "  step\n",
      "/Users/brent/anaconda3/lib/python3.7/site-packages/optuna/trial/_trial.py:592: UserWarning: The reported value is ignored because this `step` 14 is already reported.\n",
      "  step\n"
     ]
    },
    {
     "name": "stdout",
     "output_type": "stream",
     "text": [
      "[14]\tvalid_0's auc: 0.733412\n",
      "[15]\tvalid_0's auc: 0.73351\n"
     ]
    },
    {
     "name": "stderr",
     "output_type": "stream",
     "text": [
      "/Users/brent/anaconda3/lib/python3.7/site-packages/optuna/trial/_trial.py:592: UserWarning: The reported value is ignored because this `step` 15 is already reported.\n",
      "  step\n",
      "/Users/brent/anaconda3/lib/python3.7/site-packages/optuna/trial/_trial.py:592: UserWarning: The reported value is ignored because this `step` 16 is already reported.\n",
      "  step\n",
      "/Users/brent/anaconda3/lib/python3.7/site-packages/optuna/trial/_trial.py:592: UserWarning: The reported value is ignored because this `step` 17 is already reported.\n",
      "  step\n"
     ]
    },
    {
     "name": "stdout",
     "output_type": "stream",
     "text": [
      "[16]\tvalid_0's auc: 0.734277\n",
      "[17]\tvalid_0's auc: 0.733798\n",
      "[18]\tvalid_0's auc: 0.73382\n"
     ]
    },
    {
     "name": "stderr",
     "output_type": "stream",
     "text": [
      "/Users/brent/anaconda3/lib/python3.7/site-packages/optuna/trial/_trial.py:592: UserWarning: The reported value is ignored because this `step` 18 is already reported.\n",
      "  step\n",
      "/Users/brent/anaconda3/lib/python3.7/site-packages/optuna/trial/_trial.py:592: UserWarning: The reported value is ignored because this `step` 19 is already reported.\n",
      "  step\n",
      "/Users/brent/anaconda3/lib/python3.7/site-packages/optuna/trial/_trial.py:592: UserWarning: The reported value is ignored because this `step` 20 is already reported.\n",
      "  step\n"
     ]
    },
    {
     "name": "stdout",
     "output_type": "stream",
     "text": [
      "[19]\tvalid_0's auc: 0.734426\n",
      "[20]\tvalid_0's auc: 0.735002\n",
      "[21]\tvalid_0's auc: 0.735623\n"
     ]
    },
    {
     "name": "stderr",
     "output_type": "stream",
     "text": [
      "/Users/brent/anaconda3/lib/python3.7/site-packages/optuna/trial/_trial.py:592: UserWarning: The reported value is ignored because this `step` 21 is already reported.\n",
      "  step\n",
      "/Users/brent/anaconda3/lib/python3.7/site-packages/optuna/trial/_trial.py:592: UserWarning: The reported value is ignored because this `step` 22 is already reported.\n",
      "  step\n",
      "/Users/brent/anaconda3/lib/python3.7/site-packages/optuna/trial/_trial.py:592: UserWarning: The reported value is ignored because this `step` 23 is already reported.\n",
      "  step\n"
     ]
    },
    {
     "name": "stdout",
     "output_type": "stream",
     "text": [
      "[22]\tvalid_0's auc: 0.735738\n",
      "[23]\tvalid_0's auc: 0.735853\n",
      "[24]\tvalid_0's auc: 0.736169\n"
     ]
    },
    {
     "name": "stderr",
     "output_type": "stream",
     "text": [
      "/Users/brent/anaconda3/lib/python3.7/site-packages/optuna/trial/_trial.py:592: UserWarning: The reported value is ignored because this `step` 24 is already reported.\n",
      "  step\n",
      "/Users/brent/anaconda3/lib/python3.7/site-packages/optuna/trial/_trial.py:592: UserWarning: The reported value is ignored because this `step` 25 is already reported.\n",
      "  step\n",
      "/Users/brent/anaconda3/lib/python3.7/site-packages/optuna/trial/_trial.py:592: UserWarning: The reported value is ignored because this `step` 26 is already reported.\n",
      "  step\n"
     ]
    },
    {
     "name": "stdout",
     "output_type": "stream",
     "text": [
      "[25]\tvalid_0's auc: 0.736069\n",
      "[26]\tvalid_0's auc: 0.735753\n",
      "[27]\tvalid_0's auc: 0.735762\n"
     ]
    },
    {
     "name": "stderr",
     "output_type": "stream",
     "text": [
      "/Users/brent/anaconda3/lib/python3.7/site-packages/optuna/trial/_trial.py:592: UserWarning: The reported value is ignored because this `step` 27 is already reported.\n",
      "  step\n",
      "/Users/brent/anaconda3/lib/python3.7/site-packages/optuna/trial/_trial.py:592: UserWarning: The reported value is ignored because this `step` 28 is already reported.\n",
      "  step\n",
      "/Users/brent/anaconda3/lib/python3.7/site-packages/optuna/trial/_trial.py:592: UserWarning: The reported value is ignored because this `step` 29 is already reported.\n",
      "  step\n"
     ]
    },
    {
     "name": "stdout",
     "output_type": "stream",
     "text": [
      "[28]\tvalid_0's auc: 0.736399\n",
      "[29]\tvalid_0's auc: 0.736791\n",
      "[30]\tvalid_0's auc: 0.736492\n"
     ]
    },
    {
     "name": "stderr",
     "output_type": "stream",
     "text": [
      "/Users/brent/anaconda3/lib/python3.7/site-packages/optuna/trial/_trial.py:592: UserWarning: The reported value is ignored because this `step` 30 is already reported.\n",
      "  step\n",
      "/Users/brent/anaconda3/lib/python3.7/site-packages/optuna/trial/_trial.py:592: UserWarning: The reported value is ignored because this `step` 31 is already reported.\n",
      "  step\n",
      "/Users/brent/anaconda3/lib/python3.7/site-packages/optuna/trial/_trial.py:592: UserWarning: The reported value is ignored because this `step` 32 is already reported.\n",
      "  step\n"
     ]
    },
    {
     "name": "stdout",
     "output_type": "stream",
     "text": [
      "[31]\tvalid_0's auc: 0.736659\n",
      "[32]\tvalid_0's auc: 0.736975\n",
      "[33]\tvalid_0's auc: 0.737048\n"
     ]
    },
    {
     "name": "stderr",
     "output_type": "stream",
     "text": [
      "/Users/brent/anaconda3/lib/python3.7/site-packages/optuna/trial/_trial.py:592: UserWarning: The reported value is ignored because this `step` 33 is already reported.\n",
      "  step\n",
      "/Users/brent/anaconda3/lib/python3.7/site-packages/optuna/trial/_trial.py:592: UserWarning: The reported value is ignored because this `step` 34 is already reported.\n",
      "  step\n",
      "/Users/brent/anaconda3/lib/python3.7/site-packages/optuna/trial/_trial.py:592: UserWarning: The reported value is ignored because this `step` 35 is already reported.\n",
      "  step\n"
     ]
    },
    {
     "name": "stdout",
     "output_type": "stream",
     "text": [
      "[34]\tvalid_0's auc: 0.737237\n",
      "[35]\tvalid_0's auc: 0.737473\n",
      "[36]\tvalid_0's auc: 0.737902\n"
     ]
    },
    {
     "name": "stderr",
     "output_type": "stream",
     "text": [
      "/Users/brent/anaconda3/lib/python3.7/site-packages/optuna/trial/_trial.py:592: UserWarning: The reported value is ignored because this `step` 36 is already reported.\n",
      "  step\n",
      "/Users/brent/anaconda3/lib/python3.7/site-packages/optuna/trial/_trial.py:592: UserWarning: The reported value is ignored because this `step` 37 is already reported.\n",
      "  step\n",
      "/Users/brent/anaconda3/lib/python3.7/site-packages/optuna/trial/_trial.py:592: UserWarning: The reported value is ignored because this `step` 38 is already reported.\n",
      "  step\n"
     ]
    },
    {
     "name": "stdout",
     "output_type": "stream",
     "text": [
      "[37]\tvalid_0's auc: 0.738015\n",
      "[38]\tvalid_0's auc: 0.738277\n",
      "[39]\tvalid_0's auc: 0.73815\n"
     ]
    },
    {
     "name": "stderr",
     "output_type": "stream",
     "text": [
      "/Users/brent/anaconda3/lib/python3.7/site-packages/optuna/trial/_trial.py:592: UserWarning: The reported value is ignored because this `step` 39 is already reported.\n",
      "  step\n",
      "/Users/brent/anaconda3/lib/python3.7/site-packages/optuna/trial/_trial.py:592: UserWarning: The reported value is ignored because this `step` 40 is already reported.\n",
      "  step\n",
      "/Users/brent/anaconda3/lib/python3.7/site-packages/optuna/trial/_trial.py:592: UserWarning: The reported value is ignored because this `step` 41 is already reported.\n",
      "  step\n"
     ]
    },
    {
     "name": "stdout",
     "output_type": "stream",
     "text": [
      "[40]\tvalid_0's auc: 0.738183\n",
      "[41]\tvalid_0's auc: 0.738343\n",
      "[42]\tvalid_0's auc: 0.738397\n"
     ]
    },
    {
     "name": "stderr",
     "output_type": "stream",
     "text": [
      "/Users/brent/anaconda3/lib/python3.7/site-packages/optuna/trial/_trial.py:592: UserWarning: The reported value is ignored because this `step` 42 is already reported.\n",
      "  step\n",
      "/Users/brent/anaconda3/lib/python3.7/site-packages/optuna/trial/_trial.py:592: UserWarning: The reported value is ignored because this `step` 43 is already reported.\n",
      "  step\n",
      "/Users/brent/anaconda3/lib/python3.7/site-packages/optuna/trial/_trial.py:592: UserWarning: The reported value is ignored because this `step` 44 is already reported.\n",
      "  step\n"
     ]
    },
    {
     "name": "stdout",
     "output_type": "stream",
     "text": [
      "[43]\tvalid_0's auc: 0.738621\n",
      "[44]\tvalid_0's auc: 0.738577\n",
      "[45]\tvalid_0's auc: 0.73845\n"
     ]
    },
    {
     "name": "stderr",
     "output_type": "stream",
     "text": [
      "/Users/brent/anaconda3/lib/python3.7/site-packages/optuna/trial/_trial.py:592: UserWarning: The reported value is ignored because this `step` 45 is already reported.\n",
      "  step\n",
      "/Users/brent/anaconda3/lib/python3.7/site-packages/optuna/trial/_trial.py:592: UserWarning: The reported value is ignored because this `step` 46 is already reported.\n",
      "  step\n",
      "/Users/brent/anaconda3/lib/python3.7/site-packages/optuna/trial/_trial.py:592: UserWarning: The reported value is ignored because this `step` 47 is already reported.\n",
      "  step\n"
     ]
    },
    {
     "name": "stdout",
     "output_type": "stream",
     "text": [
      "[46]\tvalid_0's auc: 0.738317\n",
      "[47]\tvalid_0's auc: 0.738778\n",
      "[48]\tvalid_0's auc: 0.738791\n"
     ]
    },
    {
     "name": "stderr",
     "output_type": "stream",
     "text": [
      "/Users/brent/anaconda3/lib/python3.7/site-packages/optuna/trial/_trial.py:592: UserWarning: The reported value is ignored because this `step` 48 is already reported.\n",
      "  step\n",
      "/Users/brent/anaconda3/lib/python3.7/site-packages/optuna/trial/_trial.py:592: UserWarning: The reported value is ignored because this `step` 49 is already reported.\n",
      "  step\n",
      "/Users/brent/anaconda3/lib/python3.7/site-packages/optuna/trial/_trial.py:592: UserWarning: The reported value is ignored because this `step` 50 is already reported.\n",
      "  step\n"
     ]
    },
    {
     "name": "stdout",
     "output_type": "stream",
     "text": [
      "[49]\tvalid_0's auc: 0.738827\n",
      "[50]\tvalid_0's auc: 0.738846\n",
      "[51]\tvalid_0's auc: 0.738897\n"
     ]
    },
    {
     "name": "stderr",
     "output_type": "stream",
     "text": [
      "/Users/brent/anaconda3/lib/python3.7/site-packages/optuna/trial/_trial.py:592: UserWarning: The reported value is ignored because this `step` 51 is already reported.\n",
      "  step\n",
      "/Users/brent/anaconda3/lib/python3.7/site-packages/optuna/trial/_trial.py:592: UserWarning: The reported value is ignored because this `step` 52 is already reported.\n",
      "  step\n",
      "/Users/brent/anaconda3/lib/python3.7/site-packages/optuna/trial/_trial.py:592: UserWarning: The reported value is ignored because this `step` 53 is already reported.\n",
      "  step\n"
     ]
    },
    {
     "name": "stdout",
     "output_type": "stream",
     "text": [
      "[52]\tvalid_0's auc: 0.738959\n",
      "[53]\tvalid_0's auc: 0.739215\n",
      "[54]\tvalid_0's auc: 0.739187\n"
     ]
    },
    {
     "name": "stderr",
     "output_type": "stream",
     "text": [
      "/Users/brent/anaconda3/lib/python3.7/site-packages/optuna/trial/_trial.py:592: UserWarning: The reported value is ignored because this `step` 54 is already reported.\n",
      "  step\n",
      "/Users/brent/anaconda3/lib/python3.7/site-packages/optuna/trial/_trial.py:592: UserWarning: The reported value is ignored because this `step` 55 is already reported.\n",
      "  step\n",
      "/Users/brent/anaconda3/lib/python3.7/site-packages/optuna/trial/_trial.py:592: UserWarning: The reported value is ignored because this `step` 56 is already reported.\n",
      "  step\n"
     ]
    },
    {
     "name": "stdout",
     "output_type": "stream",
     "text": [
      "[55]\tvalid_0's auc: 0.739038\n",
      "[56]\tvalid_0's auc: 0.73902\n",
      "[57]\tvalid_0's auc: 0.739319\n"
     ]
    },
    {
     "name": "stderr",
     "output_type": "stream",
     "text": [
      "/Users/brent/anaconda3/lib/python3.7/site-packages/optuna/trial/_trial.py:592: UserWarning: The reported value is ignored because this `step` 57 is already reported.\n",
      "  step\n",
      "/Users/brent/anaconda3/lib/python3.7/site-packages/optuna/trial/_trial.py:592: UserWarning: The reported value is ignored because this `step` 58 is already reported.\n",
      "  step\n",
      "/Users/brent/anaconda3/lib/python3.7/site-packages/optuna/trial/_trial.py:592: UserWarning: The reported value is ignored because this `step` 59 is already reported.\n",
      "  step\n"
     ]
    },
    {
     "name": "stdout",
     "output_type": "stream",
     "text": [
      "[58]\tvalid_0's auc: 0.739458\n",
      "[59]\tvalid_0's auc: 0.739718\n",
      "[60]\tvalid_0's auc: 0.739786\n"
     ]
    },
    {
     "name": "stderr",
     "output_type": "stream",
     "text": [
      "/Users/brent/anaconda3/lib/python3.7/site-packages/optuna/trial/_trial.py:592: UserWarning: The reported value is ignored because this `step` 60 is already reported.\n",
      "  step\n",
      "/Users/brent/anaconda3/lib/python3.7/site-packages/optuna/trial/_trial.py:592: UserWarning: The reported value is ignored because this `step` 61 is already reported.\n",
      "  step\n",
      "/Users/brent/anaconda3/lib/python3.7/site-packages/optuna/trial/_trial.py:592: UserWarning: The reported value is ignored because this `step` 62 is already reported.\n",
      "  step\n"
     ]
    },
    {
     "name": "stdout",
     "output_type": "stream",
     "text": [
      "[61]\tvalid_0's auc: 0.739815\n",
      "[62]\tvalid_0's auc: 0.739873\n",
      "[63]\tvalid_0's auc: 0.739899\n"
     ]
    },
    {
     "name": "stderr",
     "output_type": "stream",
     "text": [
      "/Users/brent/anaconda3/lib/python3.7/site-packages/optuna/trial/_trial.py:592: UserWarning: The reported value is ignored because this `step` 63 is already reported.\n",
      "  step\n",
      "/Users/brent/anaconda3/lib/python3.7/site-packages/optuna/trial/_trial.py:592: UserWarning: The reported value is ignored because this `step` 64 is already reported.\n",
      "  step\n",
      "/Users/brent/anaconda3/lib/python3.7/site-packages/optuna/trial/_trial.py:592: UserWarning: The reported value is ignored because this `step` 65 is already reported.\n",
      "  step\n"
     ]
    },
    {
     "name": "stdout",
     "output_type": "stream",
     "text": [
      "[64]\tvalid_0's auc: 0.74\n",
      "[65]\tvalid_0's auc: 0.739879\n",
      "[66]\tvalid_0's auc: 0.739817\n"
     ]
    },
    {
     "name": "stderr",
     "output_type": "stream",
     "text": [
      "/Users/brent/anaconda3/lib/python3.7/site-packages/optuna/trial/_trial.py:592: UserWarning: The reported value is ignored because this `step` 66 is already reported.\n",
      "  step\n",
      "/Users/brent/anaconda3/lib/python3.7/site-packages/optuna/trial/_trial.py:592: UserWarning: The reported value is ignored because this `step` 67 is already reported.\n",
      "  step\n",
      "/Users/brent/anaconda3/lib/python3.7/site-packages/optuna/trial/_trial.py:592: UserWarning: The reported value is ignored because this `step` 68 is already reported.\n",
      "  step\n"
     ]
    },
    {
     "name": "stdout",
     "output_type": "stream",
     "text": [
      "[67]\tvalid_0's auc: 0.739754\n",
      "[68]\tvalid_0's auc: 0.739923\n",
      "[69]\tvalid_0's auc: 0.739965\n"
     ]
    },
    {
     "name": "stderr",
     "output_type": "stream",
     "text": [
      "/Users/brent/anaconda3/lib/python3.7/site-packages/optuna/trial/_trial.py:592: UserWarning: The reported value is ignored because this `step` 69 is already reported.\n",
      "  step\n",
      "/Users/brent/anaconda3/lib/python3.7/site-packages/optuna/trial/_trial.py:592: UserWarning: The reported value is ignored because this `step` 70 is already reported.\n",
      "  step\n",
      "/Users/brent/anaconda3/lib/python3.7/site-packages/optuna/trial/_trial.py:592: UserWarning: The reported value is ignored because this `step` 71 is already reported.\n",
      "  step\n"
     ]
    },
    {
     "name": "stdout",
     "output_type": "stream",
     "text": [
      "[70]\tvalid_0's auc: 0.739966\n",
      "[71]\tvalid_0's auc: 0.739921\n",
      "[72]\tvalid_0's auc: 0.73991\n"
     ]
    },
    {
     "name": "stderr",
     "output_type": "stream",
     "text": [
      "/Users/brent/anaconda3/lib/python3.7/site-packages/optuna/trial/_trial.py:592: UserWarning: The reported value is ignored because this `step` 72 is already reported.\n",
      "  step\n",
      "/Users/brent/anaconda3/lib/python3.7/site-packages/optuna/trial/_trial.py:592: UserWarning: The reported value is ignored because this `step` 73 is already reported.\n",
      "  step\n",
      "/Users/brent/anaconda3/lib/python3.7/site-packages/optuna/trial/_trial.py:592: UserWarning: The reported value is ignored because this `step` 74 is already reported.\n",
      "  step\n"
     ]
    },
    {
     "name": "stdout",
     "output_type": "stream",
     "text": [
      "[73]\tvalid_0's auc: 0.739792\n",
      "[74]\tvalid_0's auc: 0.739874\n",
      "[75]\tvalid_0's auc: 0.739822\n"
     ]
    },
    {
     "name": "stderr",
     "output_type": "stream",
     "text": [
      "/Users/brent/anaconda3/lib/python3.7/site-packages/optuna/trial/_trial.py:592: UserWarning: The reported value is ignored because this `step` 75 is already reported.\n",
      "  step\n",
      "/Users/brent/anaconda3/lib/python3.7/site-packages/optuna/trial/_trial.py:592: UserWarning: The reported value is ignored because this `step` 76 is already reported.\n",
      "  step\n",
      "/Users/brent/anaconda3/lib/python3.7/site-packages/optuna/trial/_trial.py:592: UserWarning: The reported value is ignored because this `step` 77 is already reported.\n",
      "  step\n"
     ]
    },
    {
     "name": "stdout",
     "output_type": "stream",
     "text": [
      "[76]\tvalid_0's auc: 0.739945\n",
      "[77]\tvalid_0's auc: 0.739906\n",
      "[78]\tvalid_0's auc: 0.739981\n"
     ]
    },
    {
     "name": "stderr",
     "output_type": "stream",
     "text": [
      "/Users/brent/anaconda3/lib/python3.7/site-packages/optuna/trial/_trial.py:592: UserWarning: The reported value is ignored because this `step` 78 is already reported.\n",
      "  step\n",
      "/Users/brent/anaconda3/lib/python3.7/site-packages/optuna/trial/_trial.py:592: UserWarning: The reported value is ignored because this `step` 79 is already reported.\n",
      "  step\n",
      "/Users/brent/anaconda3/lib/python3.7/site-packages/optuna/trial/_trial.py:592: UserWarning: The reported value is ignored because this `step` 80 is already reported.\n",
      "  step\n"
     ]
    },
    {
     "name": "stdout",
     "output_type": "stream",
     "text": [
      "[79]\tvalid_0's auc: 0.740084\n",
      "[80]\tvalid_0's auc: 0.740077\n",
      "[81]\tvalid_0's auc: 0.74015\n"
     ]
    },
    {
     "name": "stderr",
     "output_type": "stream",
     "text": [
      "/Users/brent/anaconda3/lib/python3.7/site-packages/optuna/trial/_trial.py:592: UserWarning: The reported value is ignored because this `step` 81 is already reported.\n",
      "  step\n",
      "/Users/brent/anaconda3/lib/python3.7/site-packages/optuna/trial/_trial.py:592: UserWarning: The reported value is ignored because this `step` 82 is already reported.\n",
      "  step\n",
      "/Users/brent/anaconda3/lib/python3.7/site-packages/optuna/trial/_trial.py:592: UserWarning: The reported value is ignored because this `step` 83 is already reported.\n",
      "  step\n"
     ]
    },
    {
     "name": "stdout",
     "output_type": "stream",
     "text": [
      "[82]\tvalid_0's auc: 0.740231\n",
      "[83]\tvalid_0's auc: 0.740386\n",
      "[84]\tvalid_0's auc: 0.740588\n"
     ]
    },
    {
     "name": "stderr",
     "output_type": "stream",
     "text": [
      "/Users/brent/anaconda3/lib/python3.7/site-packages/optuna/trial/_trial.py:592: UserWarning: The reported value is ignored because this `step` 84 is already reported.\n",
      "  step\n",
      "/Users/brent/anaconda3/lib/python3.7/site-packages/optuna/trial/_trial.py:592: UserWarning: The reported value is ignored because this `step` 85 is already reported.\n",
      "  step\n",
      "/Users/brent/anaconda3/lib/python3.7/site-packages/optuna/trial/_trial.py:592: UserWarning: The reported value is ignored because this `step` 86 is already reported.\n",
      "  step\n"
     ]
    },
    {
     "name": "stdout",
     "output_type": "stream",
     "text": [
      "[85]\tvalid_0's auc: 0.740656\n",
      "[86]\tvalid_0's auc: 0.740728\n",
      "[87]\tvalid_0's auc: 0.740791\n"
     ]
    },
    {
     "name": "stderr",
     "output_type": "stream",
     "text": [
      "/Users/brent/anaconda3/lib/python3.7/site-packages/optuna/trial/_trial.py:592: UserWarning: The reported value is ignored because this `step` 87 is already reported.\n",
      "  step\n",
      "/Users/brent/anaconda3/lib/python3.7/site-packages/optuna/trial/_trial.py:592: UserWarning: The reported value is ignored because this `step` 88 is already reported.\n",
      "  step\n",
      "/Users/brent/anaconda3/lib/python3.7/site-packages/optuna/trial/_trial.py:592: UserWarning: The reported value is ignored because this `step` 89 is already reported.\n",
      "  step\n"
     ]
    },
    {
     "name": "stdout",
     "output_type": "stream",
     "text": [
      "[88]\tvalid_0's auc: 0.74088\n",
      "[89]\tvalid_0's auc: 0.740999\n",
      "[90]\tvalid_0's auc: 0.741109\n"
     ]
    },
    {
     "name": "stderr",
     "output_type": "stream",
     "text": [
      "/Users/brent/anaconda3/lib/python3.7/site-packages/optuna/trial/_trial.py:592: UserWarning: The reported value is ignored because this `step` 90 is already reported.\n",
      "  step\n",
      "/Users/brent/anaconda3/lib/python3.7/site-packages/optuna/trial/_trial.py:592: UserWarning: The reported value is ignored because this `step` 91 is already reported.\n",
      "  step\n",
      "/Users/brent/anaconda3/lib/python3.7/site-packages/optuna/trial/_trial.py:592: UserWarning: The reported value is ignored because this `step` 92 is already reported.\n",
      "  step\n"
     ]
    },
    {
     "name": "stdout",
     "output_type": "stream",
     "text": [
      "[91]\tvalid_0's auc: 0.741078\n",
      "[92]\tvalid_0's auc: 0.741051\n",
      "[93]\tvalid_0's auc: 0.741085\n"
     ]
    },
    {
     "name": "stderr",
     "output_type": "stream",
     "text": [
      "/Users/brent/anaconda3/lib/python3.7/site-packages/optuna/trial/_trial.py:592: UserWarning: The reported value is ignored because this `step` 93 is already reported.\n",
      "  step\n",
      "/Users/brent/anaconda3/lib/python3.7/site-packages/optuna/trial/_trial.py:592: UserWarning: The reported value is ignored because this `step` 94 is already reported.\n",
      "  step\n",
      "/Users/brent/anaconda3/lib/python3.7/site-packages/optuna/trial/_trial.py:592: UserWarning: The reported value is ignored because this `step` 95 is already reported.\n",
      "  step\n"
     ]
    },
    {
     "name": "stdout",
     "output_type": "stream",
     "text": [
      "[94]\tvalid_0's auc: 0.741068\n",
      "[95]\tvalid_0's auc: 0.741038\n",
      "[96]\tvalid_0's auc: 0.74104\n"
     ]
    },
    {
     "name": "stderr",
     "output_type": "stream",
     "text": [
      "/Users/brent/anaconda3/lib/python3.7/site-packages/optuna/trial/_trial.py:592: UserWarning: The reported value is ignored because this `step` 96 is already reported.\n",
      "  step\n",
      "/Users/brent/anaconda3/lib/python3.7/site-packages/optuna/trial/_trial.py:592: UserWarning: The reported value is ignored because this `step` 97 is already reported.\n",
      "  step\n",
      "/Users/brent/anaconda3/lib/python3.7/site-packages/optuna/trial/_trial.py:592: UserWarning: The reported value is ignored because this `step` 98 is already reported.\n",
      "  step\n"
     ]
    },
    {
     "name": "stdout",
     "output_type": "stream",
     "text": [
      "[97]\tvalid_0's auc: 0.741109\n",
      "[98]\tvalid_0's auc: 0.741212\n",
      "[99]\tvalid_0's auc: 0.741235\n"
     ]
    },
    {
     "name": "stderr",
     "output_type": "stream",
     "text": [
      "/Users/brent/anaconda3/lib/python3.7/site-packages/optuna/trial/_trial.py:592: UserWarning: The reported value is ignored because this `step` 99 is already reported.\n",
      "  step\n"
     ]
    },
    {
     "name": "stdout",
     "output_type": "stream",
     "text": [
      "[100]\tvalid_0's auc: 0.741231\n",
      "Did not meet early stopping. Best iteration is:\n",
      "[99]\tvalid_0's auc: 0.741235\n",
      "[LightGBM] [Warning] bagging_freq is set=6, subsample_freq=0 will be ignored. Current value: bagging_freq=6\n",
      "[LightGBM] [Warning] lambda_l2 is set=0.0022688556924762245, reg_lambda=0.0 will be ignored. Current value: lambda_l2=0.0022688556924762245\n",
      "[LightGBM] [Warning] feature_fraction is set=0.4969589843296607, colsample_bytree=1.0 will be ignored. Current value: feature_fraction=0.4969589843296607\n",
      "[LightGBM] [Warning] bagging_fraction is set=0.5228829808581412, subsample=1.0 will be ignored. Current value: bagging_fraction=0.5228829808581412\n",
      "[LightGBM] [Warning] lambda_l1 is set=9.200114535730967e-05, reg_alpha=0.0 will be ignored. Current value: lambda_l1=9.200114535730967e-05\n"
     ]
    },
    {
     "name": "stderr",
     "output_type": "stream",
     "text": [
      "/Users/brent/anaconda3/lib/python3.7/site-packages/optuna/trial/_trial.py:592: UserWarning: The reported value is ignored because this `step` 0 is already reported.\n",
      "  step\n",
      "/Users/brent/anaconda3/lib/python3.7/site-packages/optuna/trial/_trial.py:592: UserWarning: The reported value is ignored because this `step` 1 is already reported.\n",
      "  step\n",
      "/Users/brent/anaconda3/lib/python3.7/site-packages/optuna/trial/_trial.py:592: UserWarning: The reported value is ignored because this `step` 2 is already reported.\n",
      "  step\n"
     ]
    },
    {
     "name": "stdout",
     "output_type": "stream",
     "text": [
      "[1]\tvalid_0's auc: 0.688122\n",
      "Training until validation scores don't improve for 100 rounds\n",
      "[2]\tvalid_0's auc: 0.712979\n",
      "[3]\tvalid_0's auc: 0.726476\n"
     ]
    },
    {
     "name": "stderr",
     "output_type": "stream",
     "text": [
      "/Users/brent/anaconda3/lib/python3.7/site-packages/optuna/trial/_trial.py:592: UserWarning: The reported value is ignored because this `step` 3 is already reported.\n",
      "  step\n",
      "/Users/brent/anaconda3/lib/python3.7/site-packages/optuna/trial/_trial.py:592: UserWarning: The reported value is ignored because this `step` 4 is already reported.\n",
      "  step\n",
      "/Users/brent/anaconda3/lib/python3.7/site-packages/optuna/trial/_trial.py:592: UserWarning: The reported value is ignored because this `step` 5 is already reported.\n",
      "  step\n"
     ]
    },
    {
     "name": "stdout",
     "output_type": "stream",
     "text": [
      "[4]\tvalid_0's auc: 0.726198\n",
      "[5]\tvalid_0's auc: 0.725026\n",
      "[6]\tvalid_0's auc: 0.728741\n"
     ]
    },
    {
     "name": "stderr",
     "output_type": "stream",
     "text": [
      "/Users/brent/anaconda3/lib/python3.7/site-packages/optuna/trial/_trial.py:592: UserWarning: The reported value is ignored because this `step` 6 is already reported.\n",
      "  step\n",
      "/Users/brent/anaconda3/lib/python3.7/site-packages/optuna/trial/_trial.py:592: UserWarning: The reported value is ignored because this `step` 7 is already reported.\n",
      "  step\n",
      "/Users/brent/anaconda3/lib/python3.7/site-packages/optuna/trial/_trial.py:592: UserWarning: The reported value is ignored because this `step` 8 is already reported.\n",
      "  step\n"
     ]
    },
    {
     "name": "stdout",
     "output_type": "stream",
     "text": [
      "[7]\tvalid_0's auc: 0.732393\n",
      "[8]\tvalid_0's auc: 0.732851\n",
      "[9]\tvalid_0's auc: 0.734953\n"
     ]
    },
    {
     "name": "stderr",
     "output_type": "stream",
     "text": [
      "/Users/brent/anaconda3/lib/python3.7/site-packages/optuna/trial/_trial.py:592: UserWarning: The reported value is ignored because this `step` 9 is already reported.\n",
      "  step\n",
      "/Users/brent/anaconda3/lib/python3.7/site-packages/optuna/trial/_trial.py:592: UserWarning: The reported value is ignored because this `step` 10 is already reported.\n",
      "  step\n",
      "/Users/brent/anaconda3/lib/python3.7/site-packages/optuna/trial/_trial.py:592: UserWarning: The reported value is ignored because this `step` 11 is already reported.\n",
      "  step\n"
     ]
    },
    {
     "name": "stdout",
     "output_type": "stream",
     "text": [
      "[10]\tvalid_0's auc: 0.736356\n",
      "[11]\tvalid_0's auc: 0.736519\n",
      "[12]\tvalid_0's auc: 0.736685\n"
     ]
    },
    {
     "name": "stderr",
     "output_type": "stream",
     "text": [
      "/Users/brent/anaconda3/lib/python3.7/site-packages/optuna/trial/_trial.py:592: UserWarning: The reported value is ignored because this `step` 12 is already reported.\n",
      "  step\n",
      "/Users/brent/anaconda3/lib/python3.7/site-packages/optuna/trial/_trial.py:592: UserWarning: The reported value is ignored because this `step` 13 is already reported.\n",
      "  step\n",
      "/Users/brent/anaconda3/lib/python3.7/site-packages/optuna/trial/_trial.py:592: UserWarning: The reported value is ignored because this `step` 14 is already reported.\n",
      "  step\n"
     ]
    },
    {
     "name": "stdout",
     "output_type": "stream",
     "text": [
      "[13]\tvalid_0's auc: 0.737363\n",
      "[14]\tvalid_0's auc: 0.737903\n",
      "[15]\tvalid_0's auc: 0.738321\n"
     ]
    },
    {
     "name": "stderr",
     "output_type": "stream",
     "text": [
      "/Users/brent/anaconda3/lib/python3.7/site-packages/optuna/trial/_trial.py:592: UserWarning: The reported value is ignored because this `step` 15 is already reported.\n",
      "  step\n",
      "/Users/brent/anaconda3/lib/python3.7/site-packages/optuna/trial/_trial.py:592: UserWarning: The reported value is ignored because this `step` 16 is already reported.\n",
      "  step\n",
      "/Users/brent/anaconda3/lib/python3.7/site-packages/optuna/trial/_trial.py:592: UserWarning: The reported value is ignored because this `step` 17 is already reported.\n",
      "  step\n"
     ]
    },
    {
     "name": "stdout",
     "output_type": "stream",
     "text": [
      "[16]\tvalid_0's auc: 0.738943\n",
      "[17]\tvalid_0's auc: 0.739848\n",
      "[18]\tvalid_0's auc: 0.739802\n"
     ]
    },
    {
     "name": "stderr",
     "output_type": "stream",
     "text": [
      "/Users/brent/anaconda3/lib/python3.7/site-packages/optuna/trial/_trial.py:592: UserWarning: The reported value is ignored because this `step` 18 is already reported.\n",
      "  step\n",
      "/Users/brent/anaconda3/lib/python3.7/site-packages/optuna/trial/_trial.py:592: UserWarning: The reported value is ignored because this `step` 19 is already reported.\n",
      "  step\n",
      "/Users/brent/anaconda3/lib/python3.7/site-packages/optuna/trial/_trial.py:592: UserWarning: The reported value is ignored because this `step` 20 is already reported.\n",
      "  step\n"
     ]
    },
    {
     "name": "stdout",
     "output_type": "stream",
     "text": [
      "[19]\tvalid_0's auc: 0.741069\n",
      "[20]\tvalid_0's auc: 0.740763\n",
      "[21]\tvalid_0's auc: 0.740836\n"
     ]
    },
    {
     "name": "stderr",
     "output_type": "stream",
     "text": [
      "/Users/brent/anaconda3/lib/python3.7/site-packages/optuna/trial/_trial.py:592: UserWarning: The reported value is ignored because this `step` 21 is already reported.\n",
      "  step\n",
      "/Users/brent/anaconda3/lib/python3.7/site-packages/optuna/trial/_trial.py:592: UserWarning: The reported value is ignored because this `step` 22 is already reported.\n",
      "  step\n",
      "/Users/brent/anaconda3/lib/python3.7/site-packages/optuna/trial/_trial.py:592: UserWarning: The reported value is ignored because this `step` 23 is already reported.\n",
      "  step\n",
      "/Users/brent/anaconda3/lib/python3.7/site-packages/optuna/trial/_trial.py:592: UserWarning: The reported value is ignored because this `step` 24 is already reported.\n",
      "  step\n"
     ]
    },
    {
     "name": "stdout",
     "output_type": "stream",
     "text": [
      "[22]\tvalid_0's auc: 0.741212\n",
      "[23]\tvalid_0's auc: 0.740995\n",
      "[24]\tvalid_0's auc: 0.740852\n",
      "[25]\tvalid_0's auc: 0.740897\n"
     ]
    },
    {
     "name": "stderr",
     "output_type": "stream",
     "text": [
      "/Users/brent/anaconda3/lib/python3.7/site-packages/optuna/trial/_trial.py:592: UserWarning: The reported value is ignored because this `step` 25 is already reported.\n",
      "  step\n",
      "/Users/brent/anaconda3/lib/python3.7/site-packages/optuna/trial/_trial.py:592: UserWarning: The reported value is ignored because this `step` 26 is already reported.\n",
      "  step\n",
      "/Users/brent/anaconda3/lib/python3.7/site-packages/optuna/trial/_trial.py:592: UserWarning: The reported value is ignored because this `step` 27 is already reported.\n",
      "  step\n"
     ]
    },
    {
     "name": "stdout",
     "output_type": "stream",
     "text": [
      "[26]\tvalid_0's auc: 0.741275\n",
      "[27]\tvalid_0's auc: 0.741503\n",
      "[28]\tvalid_0's auc: 0.741811\n"
     ]
    },
    {
     "name": "stderr",
     "output_type": "stream",
     "text": [
      "/Users/brent/anaconda3/lib/python3.7/site-packages/optuna/trial/_trial.py:592: UserWarning: The reported value is ignored because this `step` 28 is already reported.\n",
      "  step\n",
      "/Users/brent/anaconda3/lib/python3.7/site-packages/optuna/trial/_trial.py:592: UserWarning: The reported value is ignored because this `step` 29 is already reported.\n",
      "  step\n",
      "/Users/brent/anaconda3/lib/python3.7/site-packages/optuna/trial/_trial.py:592: UserWarning: The reported value is ignored because this `step` 30 is already reported.\n",
      "  step\n"
     ]
    },
    {
     "name": "stdout",
     "output_type": "stream",
     "text": [
      "[29]\tvalid_0's auc: 0.741783\n",
      "[30]\tvalid_0's auc: 0.74219\n",
      "[31]\tvalid_0's auc: 0.742082\n"
     ]
    },
    {
     "name": "stderr",
     "output_type": "stream",
     "text": [
      "/Users/brent/anaconda3/lib/python3.7/site-packages/optuna/trial/_trial.py:592: UserWarning: The reported value is ignored because this `step` 31 is already reported.\n",
      "  step\n",
      "/Users/brent/anaconda3/lib/python3.7/site-packages/optuna/trial/_trial.py:592: UserWarning: The reported value is ignored because this `step` 32 is already reported.\n",
      "  step\n",
      "/Users/brent/anaconda3/lib/python3.7/site-packages/optuna/trial/_trial.py:592: UserWarning: The reported value is ignored because this `step` 33 is already reported.\n",
      "  step\n"
     ]
    },
    {
     "name": "stdout",
     "output_type": "stream",
     "text": [
      "[32]\tvalid_0's auc: 0.741936\n",
      "[33]\tvalid_0's auc: 0.741985\n",
      "[34]\tvalid_0's auc: 0.742301\n"
     ]
    },
    {
     "name": "stderr",
     "output_type": "stream",
     "text": [
      "/Users/brent/anaconda3/lib/python3.7/site-packages/optuna/trial/_trial.py:592: UserWarning: The reported value is ignored because this `step` 34 is already reported.\n",
      "  step\n",
      "/Users/brent/anaconda3/lib/python3.7/site-packages/optuna/trial/_trial.py:592: UserWarning: The reported value is ignored because this `step` 35 is already reported.\n",
      "  step\n",
      "/Users/brent/anaconda3/lib/python3.7/site-packages/optuna/trial/_trial.py:592: UserWarning: The reported value is ignored because this `step` 36 is already reported.\n",
      "  step\n"
     ]
    },
    {
     "name": "stdout",
     "output_type": "stream",
     "text": [
      "[35]\tvalid_0's auc: 0.742104\n",
      "[36]\tvalid_0's auc: 0.741976\n",
      "[37]\tvalid_0's auc: 0.742025\n"
     ]
    },
    {
     "name": "stderr",
     "output_type": "stream",
     "text": [
      "/Users/brent/anaconda3/lib/python3.7/site-packages/optuna/trial/_trial.py:592: UserWarning: The reported value is ignored because this `step` 37 is already reported.\n",
      "  step\n",
      "/Users/brent/anaconda3/lib/python3.7/site-packages/optuna/trial/_trial.py:592: UserWarning: The reported value is ignored because this `step` 38 is already reported.\n",
      "  step\n",
      "/Users/brent/anaconda3/lib/python3.7/site-packages/optuna/trial/_trial.py:592: UserWarning: The reported value is ignored because this `step` 39 is already reported.\n",
      "  step\n"
     ]
    },
    {
     "name": "stdout",
     "output_type": "stream",
     "text": [
      "[38]\tvalid_0's auc: 0.742361\n",
      "[39]\tvalid_0's auc: 0.742385\n",
      "[40]\tvalid_0's auc: 0.742359\n"
     ]
    },
    {
     "name": "stderr",
     "output_type": "stream",
     "text": [
      "/Users/brent/anaconda3/lib/python3.7/site-packages/optuna/trial/_trial.py:592: UserWarning: The reported value is ignored because this `step` 40 is already reported.\n",
      "  step\n",
      "/Users/brent/anaconda3/lib/python3.7/site-packages/optuna/trial/_trial.py:592: UserWarning: The reported value is ignored because this `step` 41 is already reported.\n",
      "  step\n",
      "/Users/brent/anaconda3/lib/python3.7/site-packages/optuna/trial/_trial.py:592: UserWarning: The reported value is ignored because this `step` 42 is already reported.\n",
      "  step\n"
     ]
    },
    {
     "name": "stdout",
     "output_type": "stream",
     "text": [
      "[41]\tvalid_0's auc: 0.742251\n",
      "[42]\tvalid_0's auc: 0.74257\n",
      "[43]\tvalid_0's auc: 0.742534\n"
     ]
    },
    {
     "name": "stderr",
     "output_type": "stream",
     "text": [
      "/Users/brent/anaconda3/lib/python3.7/site-packages/optuna/trial/_trial.py:592: UserWarning: The reported value is ignored because this `step` 43 is already reported.\n",
      "  step\n",
      "/Users/brent/anaconda3/lib/python3.7/site-packages/optuna/trial/_trial.py:592: UserWarning: The reported value is ignored because this `step` 44 is already reported.\n",
      "  step\n",
      "/Users/brent/anaconda3/lib/python3.7/site-packages/optuna/trial/_trial.py:592: UserWarning: The reported value is ignored because this `step` 45 is already reported.\n",
      "  step\n"
     ]
    },
    {
     "name": "stdout",
     "output_type": "stream",
     "text": [
      "[44]\tvalid_0's auc: 0.742519\n",
      "[45]\tvalid_0's auc: 0.742483\n",
      "[46]\tvalid_0's auc: 0.742501\n"
     ]
    },
    {
     "name": "stderr",
     "output_type": "stream",
     "text": [
      "/Users/brent/anaconda3/lib/python3.7/site-packages/optuna/trial/_trial.py:592: UserWarning: The reported value is ignored because this `step` 46 is already reported.\n",
      "  step\n",
      "/Users/brent/anaconda3/lib/python3.7/site-packages/optuna/trial/_trial.py:592: UserWarning: The reported value is ignored because this `step` 47 is already reported.\n",
      "  step\n",
      "/Users/brent/anaconda3/lib/python3.7/site-packages/optuna/trial/_trial.py:592: UserWarning: The reported value is ignored because this `step` 48 is already reported.\n",
      "  step\n"
     ]
    },
    {
     "name": "stdout",
     "output_type": "stream",
     "text": [
      "[47]\tvalid_0's auc: 0.7425\n",
      "[48]\tvalid_0's auc: 0.742646\n",
      "[49]\tvalid_0's auc: 0.742983\n"
     ]
    },
    {
     "name": "stderr",
     "output_type": "stream",
     "text": [
      "/Users/brent/anaconda3/lib/python3.7/site-packages/optuna/trial/_trial.py:592: UserWarning: The reported value is ignored because this `step` 49 is already reported.\n",
      "  step\n",
      "/Users/brent/anaconda3/lib/python3.7/site-packages/optuna/trial/_trial.py:592: UserWarning: The reported value is ignored because this `step` 50 is already reported.\n",
      "  step\n",
      "/Users/brent/anaconda3/lib/python3.7/site-packages/optuna/trial/_trial.py:592: UserWarning: The reported value is ignored because this `step` 51 is already reported.\n",
      "  step\n"
     ]
    },
    {
     "name": "stdout",
     "output_type": "stream",
     "text": [
      "[50]\tvalid_0's auc: 0.742842\n",
      "[51]\tvalid_0's auc: 0.743067\n",
      "[52]\tvalid_0's auc: 0.742919\n"
     ]
    },
    {
     "name": "stderr",
     "output_type": "stream",
     "text": [
      "/Users/brent/anaconda3/lib/python3.7/site-packages/optuna/trial/_trial.py:592: UserWarning: The reported value is ignored because this `step` 52 is already reported.\n",
      "  step\n",
      "/Users/brent/anaconda3/lib/python3.7/site-packages/optuna/trial/_trial.py:592: UserWarning: The reported value is ignored because this `step` 53 is already reported.\n",
      "  step\n",
      "/Users/brent/anaconda3/lib/python3.7/site-packages/optuna/trial/_trial.py:592: UserWarning: The reported value is ignored because this `step` 54 is already reported.\n",
      "  step\n"
     ]
    },
    {
     "name": "stdout",
     "output_type": "stream",
     "text": [
      "[53]\tvalid_0's auc: 0.742904\n",
      "[54]\tvalid_0's auc: 0.743169\n",
      "[55]\tvalid_0's auc: 0.743251\n"
     ]
    },
    {
     "name": "stderr",
     "output_type": "stream",
     "text": [
      "/Users/brent/anaconda3/lib/python3.7/site-packages/optuna/trial/_trial.py:592: UserWarning: The reported value is ignored because this `step` 55 is already reported.\n",
      "  step\n",
      "/Users/brent/anaconda3/lib/python3.7/site-packages/optuna/trial/_trial.py:592: UserWarning: The reported value is ignored because this `step` 56 is already reported.\n",
      "  step\n",
      "/Users/brent/anaconda3/lib/python3.7/site-packages/optuna/trial/_trial.py:592: UserWarning: The reported value is ignored because this `step` 57 is already reported.\n",
      "  step\n"
     ]
    },
    {
     "name": "stdout",
     "output_type": "stream",
     "text": [
      "[56]\tvalid_0's auc: 0.743241\n",
      "[57]\tvalid_0's auc: 0.743272\n",
      "[58]\tvalid_0's auc: 0.743503\n"
     ]
    },
    {
     "name": "stderr",
     "output_type": "stream",
     "text": [
      "/Users/brent/anaconda3/lib/python3.7/site-packages/optuna/trial/_trial.py:592: UserWarning: The reported value is ignored because this `step` 58 is already reported.\n",
      "  step\n",
      "/Users/brent/anaconda3/lib/python3.7/site-packages/optuna/trial/_trial.py:592: UserWarning: The reported value is ignored because this `step` 59 is already reported.\n",
      "  step\n",
      "/Users/brent/anaconda3/lib/python3.7/site-packages/optuna/trial/_trial.py:592: UserWarning: The reported value is ignored because this `step` 60 is already reported.\n",
      "  step\n"
     ]
    },
    {
     "name": "stdout",
     "output_type": "stream",
     "text": [
      "[59]\tvalid_0's auc: 0.743547\n",
      "[60]\tvalid_0's auc: 0.743807\n",
      "[61]\tvalid_0's auc: 0.744048\n"
     ]
    },
    {
     "name": "stderr",
     "output_type": "stream",
     "text": [
      "/Users/brent/anaconda3/lib/python3.7/site-packages/optuna/trial/_trial.py:592: UserWarning: The reported value is ignored because this `step` 61 is already reported.\n",
      "  step\n",
      "/Users/brent/anaconda3/lib/python3.7/site-packages/optuna/trial/_trial.py:592: UserWarning: The reported value is ignored because this `step` 62 is already reported.\n",
      "  step\n",
      "/Users/brent/anaconda3/lib/python3.7/site-packages/optuna/trial/_trial.py:592: UserWarning: The reported value is ignored because this `step` 63 is already reported.\n",
      "  step\n"
     ]
    },
    {
     "name": "stdout",
     "output_type": "stream",
     "text": [
      "[62]\tvalid_0's auc: 0.744327\n",
      "[63]\tvalid_0's auc: 0.744426\n",
      "[64]\tvalid_0's auc: 0.744652\n"
     ]
    },
    {
     "name": "stderr",
     "output_type": "stream",
     "text": [
      "/Users/brent/anaconda3/lib/python3.7/site-packages/optuna/trial/_trial.py:592: UserWarning: The reported value is ignored because this `step` 64 is already reported.\n",
      "  step\n",
      "/Users/brent/anaconda3/lib/python3.7/site-packages/optuna/trial/_trial.py:592: UserWarning: The reported value is ignored because this `step` 65 is already reported.\n",
      "  step\n",
      "/Users/brent/anaconda3/lib/python3.7/site-packages/optuna/trial/_trial.py:592: UserWarning: The reported value is ignored because this `step` 66 is already reported.\n",
      "  step\n"
     ]
    },
    {
     "name": "stdout",
     "output_type": "stream",
     "text": [
      "[65]\tvalid_0's auc: 0.744805\n",
      "[66]\tvalid_0's auc: 0.744888\n",
      "[67]\tvalid_0's auc: 0.745165\n"
     ]
    },
    {
     "name": "stderr",
     "output_type": "stream",
     "text": [
      "/Users/brent/anaconda3/lib/python3.7/site-packages/optuna/trial/_trial.py:592: UserWarning: The reported value is ignored because this `step` 67 is already reported.\n",
      "  step\n",
      "/Users/brent/anaconda3/lib/python3.7/site-packages/optuna/trial/_trial.py:592: UserWarning: The reported value is ignored because this `step` 68 is already reported.\n",
      "  step\n",
      "/Users/brent/anaconda3/lib/python3.7/site-packages/optuna/trial/_trial.py:592: UserWarning: The reported value is ignored because this `step` 69 is already reported.\n",
      "  step\n"
     ]
    },
    {
     "name": "stdout",
     "output_type": "stream",
     "text": [
      "[68]\tvalid_0's auc: 0.745121\n",
      "[69]\tvalid_0's auc: 0.745132\n",
      "[70]\tvalid_0's auc: 0.745226\n"
     ]
    },
    {
     "name": "stderr",
     "output_type": "stream",
     "text": [
      "/Users/brent/anaconda3/lib/python3.7/site-packages/optuna/trial/_trial.py:592: UserWarning: The reported value is ignored because this `step` 70 is already reported.\n",
      "  step\n",
      "/Users/brent/anaconda3/lib/python3.7/site-packages/optuna/trial/_trial.py:592: UserWarning: The reported value is ignored because this `step` 71 is already reported.\n",
      "  step\n",
      "/Users/brent/anaconda3/lib/python3.7/site-packages/optuna/trial/_trial.py:592: UserWarning: The reported value is ignored because this `step` 72 is already reported.\n",
      "  step\n"
     ]
    },
    {
     "name": "stdout",
     "output_type": "stream",
     "text": [
      "[71]\tvalid_0's auc: 0.745168\n",
      "[72]\tvalid_0's auc: 0.745052\n",
      "[73]\tvalid_0's auc: 0.744914\n"
     ]
    },
    {
     "name": "stderr",
     "output_type": "stream",
     "text": [
      "/Users/brent/anaconda3/lib/python3.7/site-packages/optuna/trial/_trial.py:592: UserWarning: The reported value is ignored because this `step` 73 is already reported.\n",
      "  step\n",
      "/Users/brent/anaconda3/lib/python3.7/site-packages/optuna/trial/_trial.py:592: UserWarning: The reported value is ignored because this `step` 74 is already reported.\n",
      "  step\n",
      "/Users/brent/anaconda3/lib/python3.7/site-packages/optuna/trial/_trial.py:592: UserWarning: The reported value is ignored because this `step` 75 is already reported.\n",
      "  step\n"
     ]
    },
    {
     "name": "stdout",
     "output_type": "stream",
     "text": [
      "[74]\tvalid_0's auc: 0.745126\n",
      "[75]\tvalid_0's auc: 0.745328\n",
      "[76]\tvalid_0's auc: 0.745193\n"
     ]
    },
    {
     "name": "stderr",
     "output_type": "stream",
     "text": [
      "/Users/brent/anaconda3/lib/python3.7/site-packages/optuna/trial/_trial.py:592: UserWarning: The reported value is ignored because this `step` 76 is already reported.\n",
      "  step\n",
      "/Users/brent/anaconda3/lib/python3.7/site-packages/optuna/trial/_trial.py:592: UserWarning: The reported value is ignored because this `step` 77 is already reported.\n",
      "  step\n",
      "/Users/brent/anaconda3/lib/python3.7/site-packages/optuna/trial/_trial.py:592: UserWarning: The reported value is ignored because this `step` 78 is already reported.\n",
      "  step\n"
     ]
    },
    {
     "name": "stdout",
     "output_type": "stream",
     "text": [
      "[77]\tvalid_0's auc: 0.745122\n",
      "[78]\tvalid_0's auc: 0.745313\n",
      "[79]\tvalid_0's auc: 0.745376\n"
     ]
    },
    {
     "name": "stderr",
     "output_type": "stream",
     "text": [
      "/Users/brent/anaconda3/lib/python3.7/site-packages/optuna/trial/_trial.py:592: UserWarning: The reported value is ignored because this `step` 79 is already reported.\n",
      "  step\n",
      "/Users/brent/anaconda3/lib/python3.7/site-packages/optuna/trial/_trial.py:592: UserWarning: The reported value is ignored because this `step` 80 is already reported.\n",
      "  step\n",
      "/Users/brent/anaconda3/lib/python3.7/site-packages/optuna/trial/_trial.py:592: UserWarning: The reported value is ignored because this `step` 81 is already reported.\n",
      "  step\n"
     ]
    },
    {
     "name": "stdout",
     "output_type": "stream",
     "text": [
      "[80]\tvalid_0's auc: 0.745419\n",
      "[81]\tvalid_0's auc: 0.745517\n",
      "[82]\tvalid_0's auc: 0.7455\n"
     ]
    },
    {
     "name": "stderr",
     "output_type": "stream",
     "text": [
      "/Users/brent/anaconda3/lib/python3.7/site-packages/optuna/trial/_trial.py:592: UserWarning: The reported value is ignored because this `step` 82 is already reported.\n",
      "  step\n",
      "/Users/brent/anaconda3/lib/python3.7/site-packages/optuna/trial/_trial.py:592: UserWarning: The reported value is ignored because this `step` 83 is already reported.\n",
      "  step\n",
      "/Users/brent/anaconda3/lib/python3.7/site-packages/optuna/trial/_trial.py:592: UserWarning: The reported value is ignored because this `step` 84 is already reported.\n",
      "  step\n"
     ]
    },
    {
     "name": "stdout",
     "output_type": "stream",
     "text": [
      "[83]\tvalid_0's auc: 0.745655\n",
      "[84]\tvalid_0's auc: 0.745714\n",
      "[85]\tvalid_0's auc: 0.7457\n"
     ]
    },
    {
     "name": "stderr",
     "output_type": "stream",
     "text": [
      "/Users/brent/anaconda3/lib/python3.7/site-packages/optuna/trial/_trial.py:592: UserWarning: The reported value is ignored because this `step` 85 is already reported.\n",
      "  step\n",
      "/Users/brent/anaconda3/lib/python3.7/site-packages/optuna/trial/_trial.py:592: UserWarning: The reported value is ignored because this `step` 86 is already reported.\n",
      "  step\n",
      "/Users/brent/anaconda3/lib/python3.7/site-packages/optuna/trial/_trial.py:592: UserWarning: The reported value is ignored because this `step` 87 is already reported.\n",
      "  step\n"
     ]
    },
    {
     "name": "stdout",
     "output_type": "stream",
     "text": [
      "[86]\tvalid_0's auc: 0.745757\n",
      "[87]\tvalid_0's auc: 0.745875\n",
      "[88]\tvalid_0's auc: 0.745937\n"
     ]
    },
    {
     "name": "stderr",
     "output_type": "stream",
     "text": [
      "/Users/brent/anaconda3/lib/python3.7/site-packages/optuna/trial/_trial.py:592: UserWarning: The reported value is ignored because this `step` 88 is already reported.\n",
      "  step\n",
      "/Users/brent/anaconda3/lib/python3.7/site-packages/optuna/trial/_trial.py:592: UserWarning: The reported value is ignored because this `step` 89 is already reported.\n",
      "  step\n",
      "/Users/brent/anaconda3/lib/python3.7/site-packages/optuna/trial/_trial.py:592: UserWarning: The reported value is ignored because this `step` 90 is already reported.\n",
      "  step\n"
     ]
    },
    {
     "name": "stdout",
     "output_type": "stream",
     "text": [
      "[89]\tvalid_0's auc: 0.745979\n",
      "[90]\tvalid_0's auc: 0.746013\n",
      "[91]\tvalid_0's auc: 0.746151\n"
     ]
    },
    {
     "name": "stderr",
     "output_type": "stream",
     "text": [
      "/Users/brent/anaconda3/lib/python3.7/site-packages/optuna/trial/_trial.py:592: UserWarning: The reported value is ignored because this `step` 91 is already reported.\n",
      "  step\n",
      "/Users/brent/anaconda3/lib/python3.7/site-packages/optuna/trial/_trial.py:592: UserWarning: The reported value is ignored because this `step` 92 is already reported.\n",
      "  step\n",
      "/Users/brent/anaconda3/lib/python3.7/site-packages/optuna/trial/_trial.py:592: UserWarning: The reported value is ignored because this `step` 93 is already reported.\n",
      "  step\n"
     ]
    },
    {
     "name": "stdout",
     "output_type": "stream",
     "text": [
      "[92]\tvalid_0's auc: 0.746043\n",
      "[93]\tvalid_0's auc: 0.74612\n",
      "[94]\tvalid_0's auc: 0.746185\n"
     ]
    },
    {
     "name": "stderr",
     "output_type": "stream",
     "text": [
      "/Users/brent/anaconda3/lib/python3.7/site-packages/optuna/trial/_trial.py:592: UserWarning: The reported value is ignored because this `step` 94 is already reported.\n",
      "  step\n",
      "/Users/brent/anaconda3/lib/python3.7/site-packages/optuna/trial/_trial.py:592: UserWarning: The reported value is ignored because this `step` 95 is already reported.\n",
      "  step\n"
     ]
    },
    {
     "name": "stdout",
     "output_type": "stream",
     "text": [
      "[95]\tvalid_0's auc: 0.746185\n",
      "[96]\tvalid_0's auc: 0.746172\n"
     ]
    },
    {
     "name": "stderr",
     "output_type": "stream",
     "text": [
      "/Users/brent/anaconda3/lib/python3.7/site-packages/optuna/trial/_trial.py:592: UserWarning: The reported value is ignored because this `step` 96 is already reported.\n",
      "  step\n",
      "/Users/brent/anaconda3/lib/python3.7/site-packages/optuna/trial/_trial.py:592: UserWarning: The reported value is ignored because this `step` 97 is already reported.\n",
      "  step\n"
     ]
    },
    {
     "name": "stdout",
     "output_type": "stream",
     "text": [
      "[97]\tvalid_0's auc: 0.746217\n",
      "[98]\tvalid_0's auc: 0.746268\n"
     ]
    },
    {
     "name": "stderr",
     "output_type": "stream",
     "text": [
      "/Users/brent/anaconda3/lib/python3.7/site-packages/optuna/trial/_trial.py:592: UserWarning: The reported value is ignored because this `step` 98 is already reported.\n",
      "  step\n",
      "/Users/brent/anaconda3/lib/python3.7/site-packages/optuna/trial/_trial.py:592: UserWarning: The reported value is ignored because this `step` 99 is already reported.\n",
      "  step\n"
     ]
    },
    {
     "name": "stdout",
     "output_type": "stream",
     "text": [
      "[99]\tvalid_0's auc: 0.746341\n",
      "[100]\tvalid_0's auc: 0.746436\n",
      "Did not meet early stopping. Best iteration is:\n",
      "[100]\tvalid_0's auc: 0.746436\n",
      "[LightGBM] [Warning] bagging_freq is set=6, subsample_freq=0 will be ignored. Current value: bagging_freq=6\n",
      "[LightGBM] [Warning] lambda_l2 is set=0.0022688556924762245, reg_lambda=0.0 will be ignored. Current value: lambda_l2=0.0022688556924762245\n",
      "[LightGBM] [Warning] feature_fraction is set=0.4969589843296607, colsample_bytree=1.0 will be ignored. Current value: feature_fraction=0.4969589843296607\n",
      "[LightGBM] [Warning] bagging_fraction is set=0.5228829808581412, subsample=1.0 will be ignored. Current value: bagging_fraction=0.5228829808581412\n",
      "[LightGBM] [Warning] lambda_l1 is set=9.200114535730967e-05, reg_alpha=0.0 will be ignored. Current value: lambda_l1=9.200114535730967e-05\n"
     ]
    },
    {
     "name": "stderr",
     "output_type": "stream",
     "text": [
      "/Users/brent/anaconda3/lib/python3.7/site-packages/optuna/trial/_trial.py:592: UserWarning: The reported value is ignored because this `step` 0 is already reported.\n",
      "  step\n",
      "/Users/brent/anaconda3/lib/python3.7/site-packages/optuna/trial/_trial.py:592: UserWarning: The reported value is ignored because this `step` 1 is already reported.\n",
      "  step\n",
      "/Users/brent/anaconda3/lib/python3.7/site-packages/optuna/trial/_trial.py:592: UserWarning: The reported value is ignored because this `step` 2 is already reported.\n",
      "  step\n"
     ]
    },
    {
     "name": "stdout",
     "output_type": "stream",
     "text": [
      "[1]\tvalid_0's auc: 0.704875\n",
      "Training until validation scores don't improve for 100 rounds\n",
      "[2]\tvalid_0's auc: 0.713295\n",
      "[3]\tvalid_0's auc: 0.722264\n"
     ]
    },
    {
     "name": "stderr",
     "output_type": "stream",
     "text": [
      "/Users/brent/anaconda3/lib/python3.7/site-packages/optuna/trial/_trial.py:592: UserWarning: The reported value is ignored because this `step` 3 is already reported.\n",
      "  step\n",
      "/Users/brent/anaconda3/lib/python3.7/site-packages/optuna/trial/_trial.py:592: UserWarning: The reported value is ignored because this `step` 4 is already reported.\n",
      "  step\n",
      "/Users/brent/anaconda3/lib/python3.7/site-packages/optuna/trial/_trial.py:592: UserWarning: The reported value is ignored because this `step` 5 is already reported.\n",
      "  step\n"
     ]
    },
    {
     "name": "stdout",
     "output_type": "stream",
     "text": [
      "[4]\tvalid_0's auc: 0.728594\n",
      "[5]\tvalid_0's auc: 0.729487\n",
      "[6]\tvalid_0's auc: 0.729518\n"
     ]
    },
    {
     "name": "stderr",
     "output_type": "stream",
     "text": [
      "/Users/brent/anaconda3/lib/python3.7/site-packages/optuna/trial/_trial.py:592: UserWarning: The reported value is ignored because this `step` 6 is already reported.\n",
      "  step\n",
      "/Users/brent/anaconda3/lib/python3.7/site-packages/optuna/trial/_trial.py:592: UserWarning: The reported value is ignored because this `step` 7 is already reported.\n",
      "  step\n",
      "/Users/brent/anaconda3/lib/python3.7/site-packages/optuna/trial/_trial.py:592: UserWarning: The reported value is ignored because this `step` 8 is already reported.\n",
      "  step\n",
      "/Users/brent/anaconda3/lib/python3.7/site-packages/optuna/trial/_trial.py:592: UserWarning: The reported value is ignored because this `step` 9 is already reported.\n",
      "  step\n"
     ]
    },
    {
     "name": "stdout",
     "output_type": "stream",
     "text": [
      "[7]\tvalid_0's auc: 0.732506\n",
      "[8]\tvalid_0's auc: 0.733809\n",
      "[9]\tvalid_0's auc: 0.734819\n",
      "[10]\tvalid_0's auc: 0.736283\n"
     ]
    },
    {
     "name": "stderr",
     "output_type": "stream",
     "text": [
      "/Users/brent/anaconda3/lib/python3.7/site-packages/optuna/trial/_trial.py:592: UserWarning: The reported value is ignored because this `step` 10 is already reported.\n",
      "  step\n",
      "/Users/brent/anaconda3/lib/python3.7/site-packages/optuna/trial/_trial.py:592: UserWarning: The reported value is ignored because this `step` 11 is already reported.\n",
      "  step\n",
      "/Users/brent/anaconda3/lib/python3.7/site-packages/optuna/trial/_trial.py:592: UserWarning: The reported value is ignored because this `step` 12 is already reported.\n",
      "  step\n"
     ]
    },
    {
     "name": "stdout",
     "output_type": "stream",
     "text": [
      "[11]\tvalid_0's auc: 0.736947\n",
      "[12]\tvalid_0's auc: 0.737194\n",
      "[13]\tvalid_0's auc: 0.737584\n"
     ]
    },
    {
     "name": "stderr",
     "output_type": "stream",
     "text": [
      "/Users/brent/anaconda3/lib/python3.7/site-packages/optuna/trial/_trial.py:592: UserWarning: The reported value is ignored because this `step` 13 is already reported.\n",
      "  step\n",
      "/Users/brent/anaconda3/lib/python3.7/site-packages/optuna/trial/_trial.py:592: UserWarning: The reported value is ignored because this `step` 14 is already reported.\n",
      "  step\n",
      "/Users/brent/anaconda3/lib/python3.7/site-packages/optuna/trial/_trial.py:592: UserWarning: The reported value is ignored because this `step` 15 is already reported.\n",
      "  step\n"
     ]
    },
    {
     "name": "stdout",
     "output_type": "stream",
     "text": [
      "[14]\tvalid_0's auc: 0.738198\n",
      "[15]\tvalid_0's auc: 0.737962\n",
      "[16]\tvalid_0's auc: 0.738981\n"
     ]
    },
    {
     "name": "stderr",
     "output_type": "stream",
     "text": [
      "/Users/brent/anaconda3/lib/python3.7/site-packages/optuna/trial/_trial.py:592: UserWarning: The reported value is ignored because this `step` 16 is already reported.\n",
      "  step\n",
      "/Users/brent/anaconda3/lib/python3.7/site-packages/optuna/trial/_trial.py:592: UserWarning: The reported value is ignored because this `step` 17 is already reported.\n",
      "  step\n",
      "/Users/brent/anaconda3/lib/python3.7/site-packages/optuna/trial/_trial.py:592: UserWarning: The reported value is ignored because this `step` 18 is already reported.\n",
      "  step\n"
     ]
    },
    {
     "name": "stdout",
     "output_type": "stream",
     "text": [
      "[17]\tvalid_0's auc: 0.738764\n",
      "[18]\tvalid_0's auc: 0.739096\n",
      "[19]\tvalid_0's auc: 0.739151\n"
     ]
    },
    {
     "name": "stderr",
     "output_type": "stream",
     "text": [
      "/Users/brent/anaconda3/lib/python3.7/site-packages/optuna/trial/_trial.py:592: UserWarning: The reported value is ignored because this `step` 19 is already reported.\n",
      "  step\n",
      "/Users/brent/anaconda3/lib/python3.7/site-packages/optuna/trial/_trial.py:592: UserWarning: The reported value is ignored because this `step` 20 is already reported.\n",
      "  step\n",
      "/Users/brent/anaconda3/lib/python3.7/site-packages/optuna/trial/_trial.py:592: UserWarning: The reported value is ignored because this `step` 21 is already reported.\n",
      "  step\n"
     ]
    },
    {
     "name": "stdout",
     "output_type": "stream",
     "text": [
      "[20]\tvalid_0's auc: 0.740361\n",
      "[21]\tvalid_0's auc: 0.740553\n",
      "[22]\tvalid_0's auc: 0.740812\n"
     ]
    },
    {
     "name": "stderr",
     "output_type": "stream",
     "text": [
      "/Users/brent/anaconda3/lib/python3.7/site-packages/optuna/trial/_trial.py:592: UserWarning: The reported value is ignored because this `step` 22 is already reported.\n",
      "  step\n",
      "/Users/brent/anaconda3/lib/python3.7/site-packages/optuna/trial/_trial.py:592: UserWarning: The reported value is ignored because this `step` 23 is already reported.\n",
      "  step\n",
      "/Users/brent/anaconda3/lib/python3.7/site-packages/optuna/trial/_trial.py:592: UserWarning: The reported value is ignored because this `step` 24 is already reported.\n",
      "  step\n"
     ]
    },
    {
     "name": "stdout",
     "output_type": "stream",
     "text": [
      "[23]\tvalid_0's auc: 0.741188\n",
      "[24]\tvalid_0's auc: 0.74119\n",
      "[25]\tvalid_0's auc: 0.741469\n"
     ]
    },
    {
     "name": "stderr",
     "output_type": "stream",
     "text": [
      "/Users/brent/anaconda3/lib/python3.7/site-packages/optuna/trial/_trial.py:592: UserWarning: The reported value is ignored because this `step` 25 is already reported.\n",
      "  step\n",
      "/Users/brent/anaconda3/lib/python3.7/site-packages/optuna/trial/_trial.py:592: UserWarning: The reported value is ignored because this `step` 26 is already reported.\n",
      "  step\n",
      "/Users/brent/anaconda3/lib/python3.7/site-packages/optuna/trial/_trial.py:592: UserWarning: The reported value is ignored because this `step` 27 is already reported.\n",
      "  step\n"
     ]
    },
    {
     "name": "stdout",
     "output_type": "stream",
     "text": [
      "[26]\tvalid_0's auc: 0.741762\n",
      "[27]\tvalid_0's auc: 0.741863\n",
      "[28]\tvalid_0's auc: 0.741626\n"
     ]
    },
    {
     "name": "stderr",
     "output_type": "stream",
     "text": [
      "/Users/brent/anaconda3/lib/python3.7/site-packages/optuna/trial/_trial.py:592: UserWarning: The reported value is ignored because this `step` 28 is already reported.\n",
      "  step\n",
      "/Users/brent/anaconda3/lib/python3.7/site-packages/optuna/trial/_trial.py:592: UserWarning: The reported value is ignored because this `step` 29 is already reported.\n",
      "  step\n",
      "/Users/brent/anaconda3/lib/python3.7/site-packages/optuna/trial/_trial.py:592: UserWarning: The reported value is ignored because this `step` 30 is already reported.\n",
      "  step\n"
     ]
    },
    {
     "name": "stdout",
     "output_type": "stream",
     "text": [
      "[29]\tvalid_0's auc: 0.741493\n",
      "[30]\tvalid_0's auc: 0.741409\n",
      "[31]\tvalid_0's auc: 0.741669\n"
     ]
    },
    {
     "name": "stderr",
     "output_type": "stream",
     "text": [
      "/Users/brent/anaconda3/lib/python3.7/site-packages/optuna/trial/_trial.py:592: UserWarning: The reported value is ignored because this `step` 31 is already reported.\n",
      "  step\n",
      "/Users/brent/anaconda3/lib/python3.7/site-packages/optuna/trial/_trial.py:592: UserWarning: The reported value is ignored because this `step` 32 is already reported.\n",
      "  step\n",
      "/Users/brent/anaconda3/lib/python3.7/site-packages/optuna/trial/_trial.py:592: UserWarning: The reported value is ignored because this `step` 33 is already reported.\n",
      "  step\n"
     ]
    },
    {
     "name": "stdout",
     "output_type": "stream",
     "text": [
      "[32]\tvalid_0's auc: 0.742124\n",
      "[33]\tvalid_0's auc: 0.742198\n",
      "[34]\tvalid_0's auc: 0.742643\n"
     ]
    },
    {
     "name": "stderr",
     "output_type": "stream",
     "text": [
      "/Users/brent/anaconda3/lib/python3.7/site-packages/optuna/trial/_trial.py:592: UserWarning: The reported value is ignored because this `step` 34 is already reported.\n",
      "  step\n",
      "/Users/brent/anaconda3/lib/python3.7/site-packages/optuna/trial/_trial.py:592: UserWarning: The reported value is ignored because this `step` 35 is already reported.\n",
      "  step\n",
      "/Users/brent/anaconda3/lib/python3.7/site-packages/optuna/trial/_trial.py:592: UserWarning: The reported value is ignored because this `step` 36 is already reported.\n",
      "  step\n"
     ]
    },
    {
     "name": "stdout",
     "output_type": "stream",
     "text": [
      "[35]\tvalid_0's auc: 0.742901\n",
      "[36]\tvalid_0's auc: 0.743212\n",
      "[37]\tvalid_0's auc: 0.743469\n"
     ]
    },
    {
     "name": "stderr",
     "output_type": "stream",
     "text": [
      "/Users/brent/anaconda3/lib/python3.7/site-packages/optuna/trial/_trial.py:592: UserWarning: The reported value is ignored because this `step` 37 is already reported.\n",
      "  step\n",
      "/Users/brent/anaconda3/lib/python3.7/site-packages/optuna/trial/_trial.py:592: UserWarning: The reported value is ignored because this `step` 38 is already reported.\n",
      "  step\n",
      "/Users/brent/anaconda3/lib/python3.7/site-packages/optuna/trial/_trial.py:592: UserWarning: The reported value is ignored because this `step` 39 is already reported.\n",
      "  step\n"
     ]
    },
    {
     "name": "stdout",
     "output_type": "stream",
     "text": [
      "[38]\tvalid_0's auc: 0.743428\n",
      "[39]\tvalid_0's auc: 0.743567\n",
      "[40]\tvalid_0's auc: 0.743733\n"
     ]
    },
    {
     "name": "stderr",
     "output_type": "stream",
     "text": [
      "/Users/brent/anaconda3/lib/python3.7/site-packages/optuna/trial/_trial.py:592: UserWarning: The reported value is ignored because this `step` 40 is already reported.\n",
      "  step\n",
      "/Users/brent/anaconda3/lib/python3.7/site-packages/optuna/trial/_trial.py:592: UserWarning: The reported value is ignored because this `step` 41 is already reported.\n",
      "  step\n",
      "/Users/brent/anaconda3/lib/python3.7/site-packages/optuna/trial/_trial.py:592: UserWarning: The reported value is ignored because this `step` 42 is already reported.\n",
      "  step\n"
     ]
    },
    {
     "name": "stdout",
     "output_type": "stream",
     "text": [
      "[41]\tvalid_0's auc: 0.744014\n",
      "[42]\tvalid_0's auc: 0.744151\n",
      "[43]\tvalid_0's auc: 0.744098\n"
     ]
    },
    {
     "name": "stderr",
     "output_type": "stream",
     "text": [
      "/Users/brent/anaconda3/lib/python3.7/site-packages/optuna/trial/_trial.py:592: UserWarning: The reported value is ignored because this `step` 43 is already reported.\n",
      "  step\n",
      "/Users/brent/anaconda3/lib/python3.7/site-packages/optuna/trial/_trial.py:592: UserWarning: The reported value is ignored because this `step` 44 is already reported.\n",
      "  step\n",
      "/Users/brent/anaconda3/lib/python3.7/site-packages/optuna/trial/_trial.py:592: UserWarning: The reported value is ignored because this `step` 45 is already reported.\n",
      "  step\n"
     ]
    },
    {
     "name": "stdout",
     "output_type": "stream",
     "text": [
      "[44]\tvalid_0's auc: 0.744193\n",
      "[45]\tvalid_0's auc: 0.744283\n",
      "[46]\tvalid_0's auc: 0.744285\n"
     ]
    },
    {
     "name": "stderr",
     "output_type": "stream",
     "text": [
      "/Users/brent/anaconda3/lib/python3.7/site-packages/optuna/trial/_trial.py:592: UserWarning: The reported value is ignored because this `step` 46 is already reported.\n",
      "  step\n",
      "/Users/brent/anaconda3/lib/python3.7/site-packages/optuna/trial/_trial.py:592: UserWarning: The reported value is ignored because this `step` 47 is already reported.\n",
      "  step\n",
      "/Users/brent/anaconda3/lib/python3.7/site-packages/optuna/trial/_trial.py:592: UserWarning: The reported value is ignored because this `step` 48 is already reported.\n",
      "  step\n"
     ]
    },
    {
     "name": "stdout",
     "output_type": "stream",
     "text": [
      "[47]\tvalid_0's auc: 0.744529\n",
      "[48]\tvalid_0's auc: 0.744795\n",
      "[49]\tvalid_0's auc: 0.744736\n"
     ]
    },
    {
     "name": "stderr",
     "output_type": "stream",
     "text": [
      "/Users/brent/anaconda3/lib/python3.7/site-packages/optuna/trial/_trial.py:592: UserWarning: The reported value is ignored because this `step` 49 is already reported.\n",
      "  step\n",
      "/Users/brent/anaconda3/lib/python3.7/site-packages/optuna/trial/_trial.py:592: UserWarning: The reported value is ignored because this `step` 50 is already reported.\n",
      "  step\n",
      "/Users/brent/anaconda3/lib/python3.7/site-packages/optuna/trial/_trial.py:592: UserWarning: The reported value is ignored because this `step` 51 is already reported.\n",
      "  step\n"
     ]
    },
    {
     "name": "stdout",
     "output_type": "stream",
     "text": [
      "[50]\tvalid_0's auc: 0.744609\n",
      "[51]\tvalid_0's auc: 0.744735\n",
      "[52]\tvalid_0's auc: 0.744778\n"
     ]
    },
    {
     "name": "stderr",
     "output_type": "stream",
     "text": [
      "/Users/brent/anaconda3/lib/python3.7/site-packages/optuna/trial/_trial.py:592: UserWarning: The reported value is ignored because this `step` 52 is already reported.\n",
      "  step\n",
      "/Users/brent/anaconda3/lib/python3.7/site-packages/optuna/trial/_trial.py:592: UserWarning: The reported value is ignored because this `step` 53 is already reported.\n",
      "  step\n",
      "/Users/brent/anaconda3/lib/python3.7/site-packages/optuna/trial/_trial.py:592: UserWarning: The reported value is ignored because this `step` 54 is already reported.\n",
      "  step\n"
     ]
    },
    {
     "name": "stdout",
     "output_type": "stream",
     "text": [
      "[53]\tvalid_0's auc: 0.744779\n",
      "[54]\tvalid_0's auc: 0.744716\n",
      "[55]\tvalid_0's auc: 0.744802\n"
     ]
    },
    {
     "name": "stderr",
     "output_type": "stream",
     "text": [
      "/Users/brent/anaconda3/lib/python3.7/site-packages/optuna/trial/_trial.py:592: UserWarning: The reported value is ignored because this `step` 55 is already reported.\n",
      "  step\n",
      "/Users/brent/anaconda3/lib/python3.7/site-packages/optuna/trial/_trial.py:592: UserWarning: The reported value is ignored because this `step` 56 is already reported.\n",
      "  step\n",
      "/Users/brent/anaconda3/lib/python3.7/site-packages/optuna/trial/_trial.py:592: UserWarning: The reported value is ignored because this `step` 57 is already reported.\n",
      "  step\n"
     ]
    },
    {
     "name": "stdout",
     "output_type": "stream",
     "text": [
      "[56]\tvalid_0's auc: 0.744848\n",
      "[57]\tvalid_0's auc: 0.745008\n",
      "[58]\tvalid_0's auc: 0.744957\n"
     ]
    },
    {
     "name": "stderr",
     "output_type": "stream",
     "text": [
      "/Users/brent/anaconda3/lib/python3.7/site-packages/optuna/trial/_trial.py:592: UserWarning: The reported value is ignored because this `step` 58 is already reported.\n",
      "  step\n",
      "/Users/brent/anaconda3/lib/python3.7/site-packages/optuna/trial/_trial.py:592: UserWarning: The reported value is ignored because this `step` 59 is already reported.\n",
      "  step\n",
      "/Users/brent/anaconda3/lib/python3.7/site-packages/optuna/trial/_trial.py:592: UserWarning: The reported value is ignored because this `step` 60 is already reported.\n",
      "  step\n"
     ]
    },
    {
     "name": "stdout",
     "output_type": "stream",
     "text": [
      "[59]\tvalid_0's auc: 0.744903\n",
      "[60]\tvalid_0's auc: 0.744855\n",
      "[61]\tvalid_0's auc: 0.744933\n"
     ]
    },
    {
     "name": "stderr",
     "output_type": "stream",
     "text": [
      "/Users/brent/anaconda3/lib/python3.7/site-packages/optuna/trial/_trial.py:592: UserWarning: The reported value is ignored because this `step` 61 is already reported.\n",
      "  step\n",
      "/Users/brent/anaconda3/lib/python3.7/site-packages/optuna/trial/_trial.py:592: UserWarning: The reported value is ignored because this `step` 62 is already reported.\n",
      "  step\n",
      "/Users/brent/anaconda3/lib/python3.7/site-packages/optuna/trial/_trial.py:592: UserWarning: The reported value is ignored because this `step` 63 is already reported.\n",
      "  step\n"
     ]
    },
    {
     "name": "stdout",
     "output_type": "stream",
     "text": [
      "[62]\tvalid_0's auc: 0.744884\n",
      "[63]\tvalid_0's auc: 0.745101\n",
      "[64]\tvalid_0's auc: 0.745103\n"
     ]
    },
    {
     "name": "stderr",
     "output_type": "stream",
     "text": [
      "/Users/brent/anaconda3/lib/python3.7/site-packages/optuna/trial/_trial.py:592: UserWarning: The reported value is ignored because this `step` 64 is already reported.\n",
      "  step\n",
      "/Users/brent/anaconda3/lib/python3.7/site-packages/optuna/trial/_trial.py:592: UserWarning: The reported value is ignored because this `step` 65 is already reported.\n",
      "  step\n",
      "/Users/brent/anaconda3/lib/python3.7/site-packages/optuna/trial/_trial.py:592: UserWarning: The reported value is ignored because this `step` 66 is already reported.\n",
      "  step\n"
     ]
    },
    {
     "name": "stdout",
     "output_type": "stream",
     "text": [
      "[65]\tvalid_0's auc: 0.745031\n",
      "[66]\tvalid_0's auc: 0.745042\n",
      "[67]\tvalid_0's auc: 0.745104\n"
     ]
    },
    {
     "name": "stderr",
     "output_type": "stream",
     "text": [
      "/Users/brent/anaconda3/lib/python3.7/site-packages/optuna/trial/_trial.py:592: UserWarning: The reported value is ignored because this `step` 67 is already reported.\n",
      "  step\n",
      "/Users/brent/anaconda3/lib/python3.7/site-packages/optuna/trial/_trial.py:592: UserWarning: The reported value is ignored because this `step` 68 is already reported.\n",
      "  step\n",
      "/Users/brent/anaconda3/lib/python3.7/site-packages/optuna/trial/_trial.py:592: UserWarning: The reported value is ignored because this `step` 69 is already reported.\n",
      "  step\n"
     ]
    },
    {
     "name": "stdout",
     "output_type": "stream",
     "text": [
      "[68]\tvalid_0's auc: 0.745091\n",
      "[69]\tvalid_0's auc: 0.745236\n",
      "[70]\tvalid_0's auc: 0.745262\n"
     ]
    },
    {
     "name": "stderr",
     "output_type": "stream",
     "text": [
      "/Users/brent/anaconda3/lib/python3.7/site-packages/optuna/trial/_trial.py:592: UserWarning: The reported value is ignored because this `step` 70 is already reported.\n",
      "  step\n",
      "/Users/brent/anaconda3/lib/python3.7/site-packages/optuna/trial/_trial.py:592: UserWarning: The reported value is ignored because this `step` 71 is already reported.\n",
      "  step\n",
      "/Users/brent/anaconda3/lib/python3.7/site-packages/optuna/trial/_trial.py:592: UserWarning: The reported value is ignored because this `step` 72 is already reported.\n",
      "  step\n"
     ]
    },
    {
     "name": "stdout",
     "output_type": "stream",
     "text": [
      "[71]\tvalid_0's auc: 0.745356\n",
      "[72]\tvalid_0's auc: 0.745451\n",
      "[73]\tvalid_0's auc: 0.745415\n"
     ]
    },
    {
     "name": "stderr",
     "output_type": "stream",
     "text": [
      "/Users/brent/anaconda3/lib/python3.7/site-packages/optuna/trial/_trial.py:592: UserWarning: The reported value is ignored because this `step` 73 is already reported.\n",
      "  step\n",
      "/Users/brent/anaconda3/lib/python3.7/site-packages/optuna/trial/_trial.py:592: UserWarning: The reported value is ignored because this `step` 74 is already reported.\n",
      "  step\n",
      "/Users/brent/anaconda3/lib/python3.7/site-packages/optuna/trial/_trial.py:592: UserWarning: The reported value is ignored because this `step` 75 is already reported.\n",
      "  step\n"
     ]
    },
    {
     "name": "stdout",
     "output_type": "stream",
     "text": [
      "[74]\tvalid_0's auc: 0.745543\n",
      "[75]\tvalid_0's auc: 0.745518\n",
      "[76]\tvalid_0's auc: 0.745584\n"
     ]
    },
    {
     "name": "stderr",
     "output_type": "stream",
     "text": [
      "/Users/brent/anaconda3/lib/python3.7/site-packages/optuna/trial/_trial.py:592: UserWarning: The reported value is ignored because this `step` 76 is already reported.\n",
      "  step\n",
      "/Users/brent/anaconda3/lib/python3.7/site-packages/optuna/trial/_trial.py:592: UserWarning: The reported value is ignored because this `step` 77 is already reported.\n",
      "  step\n",
      "/Users/brent/anaconda3/lib/python3.7/site-packages/optuna/trial/_trial.py:592: UserWarning: The reported value is ignored because this `step` 78 is already reported.\n",
      "  step\n"
     ]
    },
    {
     "name": "stdout",
     "output_type": "stream",
     "text": [
      "[77]\tvalid_0's auc: 0.745514\n",
      "[78]\tvalid_0's auc: 0.745528\n",
      "[79]\tvalid_0's auc: 0.745612\n"
     ]
    },
    {
     "name": "stderr",
     "output_type": "stream",
     "text": [
      "/Users/brent/anaconda3/lib/python3.7/site-packages/optuna/trial/_trial.py:592: UserWarning: The reported value is ignored because this `step` 79 is already reported.\n",
      "  step\n",
      "/Users/brent/anaconda3/lib/python3.7/site-packages/optuna/trial/_trial.py:592: UserWarning: The reported value is ignored because this `step` 80 is already reported.\n",
      "  step\n",
      "/Users/brent/anaconda3/lib/python3.7/site-packages/optuna/trial/_trial.py:592: UserWarning: The reported value is ignored because this `step` 81 is already reported.\n",
      "  step\n"
     ]
    },
    {
     "name": "stdout",
     "output_type": "stream",
     "text": [
      "[80]\tvalid_0's auc: 0.745695\n",
      "[81]\tvalid_0's auc: 0.745741\n",
      "[82]\tvalid_0's auc: 0.745751\n"
     ]
    },
    {
     "name": "stderr",
     "output_type": "stream",
     "text": [
      "/Users/brent/anaconda3/lib/python3.7/site-packages/optuna/trial/_trial.py:592: UserWarning: The reported value is ignored because this `step` 82 is already reported.\n",
      "  step\n",
      "/Users/brent/anaconda3/lib/python3.7/site-packages/optuna/trial/_trial.py:592: UserWarning: The reported value is ignored because this `step` 83 is already reported.\n",
      "  step\n",
      "/Users/brent/anaconda3/lib/python3.7/site-packages/optuna/trial/_trial.py:592: UserWarning: The reported value is ignored because this `step` 84 is already reported.\n",
      "  step\n"
     ]
    },
    {
     "name": "stdout",
     "output_type": "stream",
     "text": [
      "[83]\tvalid_0's auc: 0.745847\n",
      "[84]\tvalid_0's auc: 0.745905\n",
      "[85]\tvalid_0's auc: 0.746041\n"
     ]
    },
    {
     "name": "stderr",
     "output_type": "stream",
     "text": [
      "/Users/brent/anaconda3/lib/python3.7/site-packages/optuna/trial/_trial.py:592: UserWarning: The reported value is ignored because this `step` 85 is already reported.\n",
      "  step\n",
      "/Users/brent/anaconda3/lib/python3.7/site-packages/optuna/trial/_trial.py:592: UserWarning: The reported value is ignored because this `step` 86 is already reported.\n",
      "  step\n",
      "/Users/brent/anaconda3/lib/python3.7/site-packages/optuna/trial/_trial.py:592: UserWarning: The reported value is ignored because this `step` 87 is already reported.\n",
      "  step\n"
     ]
    },
    {
     "name": "stdout",
     "output_type": "stream",
     "text": [
      "[86]\tvalid_0's auc: 0.746089\n",
      "[87]\tvalid_0's auc: 0.74611\n",
      "[88]\tvalid_0's auc: 0.746138\n"
     ]
    },
    {
     "name": "stderr",
     "output_type": "stream",
     "text": [
      "/Users/brent/anaconda3/lib/python3.7/site-packages/optuna/trial/_trial.py:592: UserWarning: The reported value is ignored because this `step` 88 is already reported.\n",
      "  step\n",
      "/Users/brent/anaconda3/lib/python3.7/site-packages/optuna/trial/_trial.py:592: UserWarning: The reported value is ignored because this `step` 89 is already reported.\n",
      "  step\n",
      "/Users/brent/anaconda3/lib/python3.7/site-packages/optuna/trial/_trial.py:592: UserWarning: The reported value is ignored because this `step` 90 is already reported.\n",
      "  step\n"
     ]
    },
    {
     "name": "stdout",
     "output_type": "stream",
     "text": [
      "[89]\tvalid_0's auc: 0.74604\n",
      "[90]\tvalid_0's auc: 0.746205\n",
      "[91]\tvalid_0's auc: 0.746206\n"
     ]
    },
    {
     "name": "stderr",
     "output_type": "stream",
     "text": [
      "/Users/brent/anaconda3/lib/python3.7/site-packages/optuna/trial/_trial.py:592: UserWarning: The reported value is ignored because this `step` 91 is already reported.\n",
      "  step\n",
      "/Users/brent/anaconda3/lib/python3.7/site-packages/optuna/trial/_trial.py:592: UserWarning: The reported value is ignored because this `step` 92 is already reported.\n",
      "  step\n",
      "/Users/brent/anaconda3/lib/python3.7/site-packages/optuna/trial/_trial.py:592: UserWarning: The reported value is ignored because this `step` 93 is already reported.\n",
      "  step\n"
     ]
    },
    {
     "name": "stdout",
     "output_type": "stream",
     "text": [
      "[92]\tvalid_0's auc: 0.746136\n",
      "[93]\tvalid_0's auc: 0.746131\n",
      "[94]\tvalid_0's auc: 0.746092\n"
     ]
    },
    {
     "name": "stderr",
     "output_type": "stream",
     "text": [
      "/Users/brent/anaconda3/lib/python3.7/site-packages/optuna/trial/_trial.py:592: UserWarning: The reported value is ignored because this `step` 94 is already reported.\n",
      "  step\n",
      "/Users/brent/anaconda3/lib/python3.7/site-packages/optuna/trial/_trial.py:592: UserWarning: The reported value is ignored because this `step` 95 is already reported.\n",
      "  step\n",
      "/Users/brent/anaconda3/lib/python3.7/site-packages/optuna/trial/_trial.py:592: UserWarning: The reported value is ignored because this `step` 96 is already reported.\n",
      "  step\n"
     ]
    },
    {
     "name": "stdout",
     "output_type": "stream",
     "text": [
      "[95]\tvalid_0's auc: 0.746097\n",
      "[96]\tvalid_0's auc: 0.746139\n",
      "[97]\tvalid_0's auc: 0.746166\n"
     ]
    },
    {
     "name": "stderr",
     "output_type": "stream",
     "text": [
      "/Users/brent/anaconda3/lib/python3.7/site-packages/optuna/trial/_trial.py:592: UserWarning: The reported value is ignored because this `step` 97 is already reported.\n",
      "  step\n",
      "/Users/brent/anaconda3/lib/python3.7/site-packages/optuna/trial/_trial.py:592: UserWarning: The reported value is ignored because this `step` 98 is already reported.\n",
      "  step\n",
      "/Users/brent/anaconda3/lib/python3.7/site-packages/optuna/trial/_trial.py:592: UserWarning: The reported value is ignored because this `step` 99 is already reported.\n",
      "  step\n"
     ]
    },
    {
     "name": "stdout",
     "output_type": "stream",
     "text": [
      "[98]\tvalid_0's auc: 0.746212\n",
      "[99]\tvalid_0's auc: 0.746207\n",
      "[100]\tvalid_0's auc: 0.746168\n",
      "Did not meet early stopping. Best iteration is:\n",
      "[98]\tvalid_0's auc: 0.746212\n",
      "[LightGBM] [Warning] bagging_freq is set=6, subsample_freq=0 will be ignored. Current value: bagging_freq=6\n",
      "[LightGBM] [Warning] lambda_l2 is set=0.0022688556924762245, reg_lambda=0.0 will be ignored. Current value: lambda_l2=0.0022688556924762245\n",
      "[LightGBM] [Warning] feature_fraction is set=0.4969589843296607, colsample_bytree=1.0 will be ignored. Current value: feature_fraction=0.4969589843296607\n",
      "[LightGBM] [Warning] bagging_fraction is set=0.5228829808581412, subsample=1.0 will be ignored. Current value: bagging_fraction=0.5228829808581412\n",
      "[LightGBM] [Warning] lambda_l1 is set=9.200114535730967e-05, reg_alpha=0.0 will be ignored. Current value: lambda_l1=9.200114535730967e-05\n"
     ]
    },
    {
     "name": "stderr",
     "output_type": "stream",
     "text": [
      "/Users/brent/anaconda3/lib/python3.7/site-packages/optuna/trial/_trial.py:592: UserWarning: The reported value is ignored because this `step` 0 is already reported.\n",
      "  step\n",
      "/Users/brent/anaconda3/lib/python3.7/site-packages/optuna/trial/_trial.py:592: UserWarning: The reported value is ignored because this `step` 1 is already reported.\n",
      "  step\n",
      "/Users/brent/anaconda3/lib/python3.7/site-packages/optuna/trial/_trial.py:592: UserWarning: The reported value is ignored because this `step` 2 is already reported.\n",
      "  step\n"
     ]
    },
    {
     "name": "stdout",
     "output_type": "stream",
     "text": [
      "[1]\tvalid_0's auc: 0.675226\n",
      "Training until validation scores don't improve for 100 rounds\n",
      "[2]\tvalid_0's auc: 0.700125\n",
      "[3]\tvalid_0's auc: 0.713555\n"
     ]
    },
    {
     "name": "stderr",
     "output_type": "stream",
     "text": [
      "/Users/brent/anaconda3/lib/python3.7/site-packages/optuna/trial/_trial.py:592: UserWarning: The reported value is ignored because this `step` 3 is already reported.\n",
      "  step\n",
      "/Users/brent/anaconda3/lib/python3.7/site-packages/optuna/trial/_trial.py:592: UserWarning: The reported value is ignored because this `step` 4 is already reported.\n",
      "  step\n",
      "/Users/brent/anaconda3/lib/python3.7/site-packages/optuna/trial/_trial.py:592: UserWarning: The reported value is ignored because this `step` 5 is already reported.\n",
      "  step\n"
     ]
    },
    {
     "name": "stdout",
     "output_type": "stream",
     "text": [
      "[4]\tvalid_0's auc: 0.714818\n",
      "[5]\tvalid_0's auc: 0.715291\n",
      "[6]\tvalid_0's auc: 0.719531\n"
     ]
    },
    {
     "name": "stderr",
     "output_type": "stream",
     "text": [
      "/Users/brent/anaconda3/lib/python3.7/site-packages/optuna/trial/_trial.py:592: UserWarning: The reported value is ignored because this `step` 6 is already reported.\n",
      "  step\n",
      "/Users/brent/anaconda3/lib/python3.7/site-packages/optuna/trial/_trial.py:592: UserWarning: The reported value is ignored because this `step` 7 is already reported.\n",
      "  step\n",
      "/Users/brent/anaconda3/lib/python3.7/site-packages/optuna/trial/_trial.py:592: UserWarning: The reported value is ignored because this `step` 8 is already reported.\n",
      "  step\n"
     ]
    },
    {
     "name": "stdout",
     "output_type": "stream",
     "text": [
      "[7]\tvalid_0's auc: 0.722393\n",
      "[8]\tvalid_0's auc: 0.723106\n",
      "[9]\tvalid_0's auc: 0.723935\n"
     ]
    },
    {
     "name": "stderr",
     "output_type": "stream",
     "text": [
      "/Users/brent/anaconda3/lib/python3.7/site-packages/optuna/trial/_trial.py:592: UserWarning: The reported value is ignored because this `step` 9 is already reported.\n",
      "  step\n",
      "/Users/brent/anaconda3/lib/python3.7/site-packages/optuna/trial/_trial.py:592: UserWarning: The reported value is ignored because this `step` 10 is already reported.\n",
      "  step\n",
      "/Users/brent/anaconda3/lib/python3.7/site-packages/optuna/trial/_trial.py:592: UserWarning: The reported value is ignored because this `step` 11 is already reported.\n",
      "  step\n"
     ]
    },
    {
     "name": "stdout",
     "output_type": "stream",
     "text": [
      "[10]\tvalid_0's auc: 0.725986\n",
      "[11]\tvalid_0's auc: 0.726517\n",
      "[12]\tvalid_0's auc: 0.726591\n"
     ]
    },
    {
     "name": "stderr",
     "output_type": "stream",
     "text": [
      "/Users/brent/anaconda3/lib/python3.7/site-packages/optuna/trial/_trial.py:592: UserWarning: The reported value is ignored because this `step` 12 is already reported.\n",
      "  step\n",
      "/Users/brent/anaconda3/lib/python3.7/site-packages/optuna/trial/_trial.py:592: UserWarning: The reported value is ignored because this `step` 13 is already reported.\n",
      "  step\n",
      "/Users/brent/anaconda3/lib/python3.7/site-packages/optuna/trial/_trial.py:592: UserWarning: The reported value is ignored because this `step` 14 is already reported.\n",
      "  step\n"
     ]
    },
    {
     "name": "stdout",
     "output_type": "stream",
     "text": [
      "[13]\tvalid_0's auc: 0.727036\n",
      "[14]\tvalid_0's auc: 0.727869\n",
      "[15]\tvalid_0's auc: 0.727933\n"
     ]
    },
    {
     "name": "stderr",
     "output_type": "stream",
     "text": [
      "/Users/brent/anaconda3/lib/python3.7/site-packages/optuna/trial/_trial.py:592: UserWarning: The reported value is ignored because this `step` 15 is already reported.\n",
      "  step\n",
      "/Users/brent/anaconda3/lib/python3.7/site-packages/optuna/trial/_trial.py:592: UserWarning: The reported value is ignored because this `step` 16 is already reported.\n",
      "  step\n",
      "/Users/brent/anaconda3/lib/python3.7/site-packages/optuna/trial/_trial.py:592: UserWarning: The reported value is ignored because this `step` 17 is already reported.\n",
      "  step\n"
     ]
    },
    {
     "name": "stdout",
     "output_type": "stream",
     "text": [
      "[16]\tvalid_0's auc: 0.728839\n",
      "[17]\tvalid_0's auc: 0.729983\n",
      "[18]\tvalid_0's auc: 0.729971\n"
     ]
    },
    {
     "name": "stderr",
     "output_type": "stream",
     "text": [
      "/Users/brent/anaconda3/lib/python3.7/site-packages/optuna/trial/_trial.py:592: UserWarning: The reported value is ignored because this `step` 18 is already reported.\n",
      "  step\n",
      "/Users/brent/anaconda3/lib/python3.7/site-packages/optuna/trial/_trial.py:592: UserWarning: The reported value is ignored because this `step` 19 is already reported.\n",
      "  step\n",
      "/Users/brent/anaconda3/lib/python3.7/site-packages/optuna/trial/_trial.py:592: UserWarning: The reported value is ignored because this `step` 20 is already reported.\n",
      "  step\n"
     ]
    },
    {
     "name": "stdout",
     "output_type": "stream",
     "text": [
      "[19]\tvalid_0's auc: 0.731154\n",
      "[20]\tvalid_0's auc: 0.73136\n",
      "[21]\tvalid_0's auc: 0.732112\n"
     ]
    },
    {
     "name": "stderr",
     "output_type": "stream",
     "text": [
      "/Users/brent/anaconda3/lib/python3.7/site-packages/optuna/trial/_trial.py:592: UserWarning: The reported value is ignored because this `step` 21 is already reported.\n",
      "  step\n",
      "/Users/brent/anaconda3/lib/python3.7/site-packages/optuna/trial/_trial.py:592: UserWarning: The reported value is ignored because this `step` 22 is already reported.\n",
      "  step\n",
      "/Users/brent/anaconda3/lib/python3.7/site-packages/optuna/trial/_trial.py:592: UserWarning: The reported value is ignored because this `step` 23 is already reported.\n",
      "  step\n"
     ]
    },
    {
     "name": "stdout",
     "output_type": "stream",
     "text": [
      "[22]\tvalid_0's auc: 0.732483\n",
      "[23]\tvalid_0's auc: 0.732509\n",
      "[24]\tvalid_0's auc: 0.732448\n"
     ]
    },
    {
     "name": "stderr",
     "output_type": "stream",
     "text": [
      "/Users/brent/anaconda3/lib/python3.7/site-packages/optuna/trial/_trial.py:592: UserWarning: The reported value is ignored because this `step` 24 is already reported.\n",
      "  step\n",
      "/Users/brent/anaconda3/lib/python3.7/site-packages/optuna/trial/_trial.py:592: UserWarning: The reported value is ignored because this `step` 25 is already reported.\n",
      "  step\n",
      "/Users/brent/anaconda3/lib/python3.7/site-packages/optuna/trial/_trial.py:592: UserWarning: The reported value is ignored because this `step` 26 is already reported.\n",
      "  step\n"
     ]
    },
    {
     "name": "stdout",
     "output_type": "stream",
     "text": [
      "[25]\tvalid_0's auc: 0.732468\n",
      "[26]\tvalid_0's auc: 0.732761\n",
      "[27]\tvalid_0's auc: 0.733347\n"
     ]
    },
    {
     "name": "stderr",
     "output_type": "stream",
     "text": [
      "/Users/brent/anaconda3/lib/python3.7/site-packages/optuna/trial/_trial.py:592: UserWarning: The reported value is ignored because this `step` 27 is already reported.\n",
      "  step\n",
      "/Users/brent/anaconda3/lib/python3.7/site-packages/optuna/trial/_trial.py:592: UserWarning: The reported value is ignored because this `step` 28 is already reported.\n",
      "  step\n",
      "/Users/brent/anaconda3/lib/python3.7/site-packages/optuna/trial/_trial.py:592: UserWarning: The reported value is ignored because this `step` 29 is already reported.\n",
      "  step\n"
     ]
    },
    {
     "name": "stdout",
     "output_type": "stream",
     "text": [
      "[28]\tvalid_0's auc: 0.733716\n",
      "[29]\tvalid_0's auc: 0.733883\n",
      "[30]\tvalid_0's auc: 0.734161\n"
     ]
    },
    {
     "name": "stderr",
     "output_type": "stream",
     "text": [
      "/Users/brent/anaconda3/lib/python3.7/site-packages/optuna/trial/_trial.py:592: UserWarning: The reported value is ignored because this `step` 30 is already reported.\n",
      "  step\n",
      "/Users/brent/anaconda3/lib/python3.7/site-packages/optuna/trial/_trial.py:592: UserWarning: The reported value is ignored because this `step` 31 is already reported.\n",
      "  step\n",
      "/Users/brent/anaconda3/lib/python3.7/site-packages/optuna/trial/_trial.py:592: UserWarning: The reported value is ignored because this `step` 32 is already reported.\n",
      "  step\n"
     ]
    },
    {
     "name": "stdout",
     "output_type": "stream",
     "text": [
      "[31]\tvalid_0's auc: 0.73428\n",
      "[32]\tvalid_0's auc: 0.734358\n",
      "[33]\tvalid_0's auc: 0.7345\n"
     ]
    },
    {
     "name": "stderr",
     "output_type": "stream",
     "text": [
      "/Users/brent/anaconda3/lib/python3.7/site-packages/optuna/trial/_trial.py:592: UserWarning: The reported value is ignored because this `step` 33 is already reported.\n",
      "  step\n",
      "/Users/brent/anaconda3/lib/python3.7/site-packages/optuna/trial/_trial.py:592: UserWarning: The reported value is ignored because this `step` 34 is already reported.\n",
      "  step\n",
      "/Users/brent/anaconda3/lib/python3.7/site-packages/optuna/trial/_trial.py:592: UserWarning: The reported value is ignored because this `step` 35 is already reported.\n",
      "  step\n"
     ]
    },
    {
     "name": "stdout",
     "output_type": "stream",
     "text": [
      "[34]\tvalid_0's auc: 0.73489\n",
      "[35]\tvalid_0's auc: 0.734874\n",
      "[36]\tvalid_0's auc: 0.734832\n"
     ]
    },
    {
     "name": "stderr",
     "output_type": "stream",
     "text": [
      "/Users/brent/anaconda3/lib/python3.7/site-packages/optuna/trial/_trial.py:592: UserWarning: The reported value is ignored because this `step` 36 is already reported.\n",
      "  step\n",
      "/Users/brent/anaconda3/lib/python3.7/site-packages/optuna/trial/_trial.py:592: UserWarning: The reported value is ignored because this `step` 37 is already reported.\n",
      "  step\n",
      "/Users/brent/anaconda3/lib/python3.7/site-packages/optuna/trial/_trial.py:592: UserWarning: The reported value is ignored because this `step` 38 is already reported.\n",
      "  step\n"
     ]
    },
    {
     "name": "stdout",
     "output_type": "stream",
     "text": [
      "[37]\tvalid_0's auc: 0.735104\n",
      "[38]\tvalid_0's auc: 0.735538\n",
      "[39]\tvalid_0's auc: 0.735672\n"
     ]
    },
    {
     "name": "stderr",
     "output_type": "stream",
     "text": [
      "/Users/brent/anaconda3/lib/python3.7/site-packages/optuna/trial/_trial.py:592: UserWarning: The reported value is ignored because this `step` 39 is already reported.\n",
      "  step\n",
      "/Users/brent/anaconda3/lib/python3.7/site-packages/optuna/trial/_trial.py:592: UserWarning: The reported value is ignored because this `step` 40 is already reported.\n",
      "  step\n",
      "/Users/brent/anaconda3/lib/python3.7/site-packages/optuna/trial/_trial.py:592: UserWarning: The reported value is ignored because this `step` 41 is already reported.\n",
      "  step\n"
     ]
    },
    {
     "name": "stdout",
     "output_type": "stream",
     "text": [
      "[40]\tvalid_0's auc: 0.735808\n",
      "[41]\tvalid_0's auc: 0.735926\n",
      "[42]\tvalid_0's auc: 0.736145\n"
     ]
    },
    {
     "name": "stderr",
     "output_type": "stream",
     "text": [
      "/Users/brent/anaconda3/lib/python3.7/site-packages/optuna/trial/_trial.py:592: UserWarning: The reported value is ignored because this `step` 42 is already reported.\n",
      "  step\n",
      "/Users/brent/anaconda3/lib/python3.7/site-packages/optuna/trial/_trial.py:592: UserWarning: The reported value is ignored because this `step` 43 is already reported.\n",
      "  step\n",
      "/Users/brent/anaconda3/lib/python3.7/site-packages/optuna/trial/_trial.py:592: UserWarning: The reported value is ignored because this `step` 44 is already reported.\n",
      "  step\n"
     ]
    },
    {
     "name": "stdout",
     "output_type": "stream",
     "text": [
      "[43]\tvalid_0's auc: 0.736218\n",
      "[44]\tvalid_0's auc: 0.736331\n",
      "[45]\tvalid_0's auc: 0.736332\n"
     ]
    },
    {
     "name": "stderr",
     "output_type": "stream",
     "text": [
      "/Users/brent/anaconda3/lib/python3.7/site-packages/optuna/trial/_trial.py:592: UserWarning: The reported value is ignored because this `step` 45 is already reported.\n",
      "  step\n",
      "/Users/brent/anaconda3/lib/python3.7/site-packages/optuna/trial/_trial.py:592: UserWarning: The reported value is ignored because this `step` 46 is already reported.\n",
      "  step\n",
      "/Users/brent/anaconda3/lib/python3.7/site-packages/optuna/trial/_trial.py:592: UserWarning: The reported value is ignored because this `step` 47 is already reported.\n",
      "  step\n"
     ]
    },
    {
     "name": "stdout",
     "output_type": "stream",
     "text": [
      "[46]\tvalid_0's auc: 0.736201\n",
      "[47]\tvalid_0's auc: 0.736138\n",
      "[48]\tvalid_0's auc: 0.736405\n"
     ]
    },
    {
     "name": "stderr",
     "output_type": "stream",
     "text": [
      "/Users/brent/anaconda3/lib/python3.7/site-packages/optuna/trial/_trial.py:592: UserWarning: The reported value is ignored because this `step` 48 is already reported.\n",
      "  step\n",
      "/Users/brent/anaconda3/lib/python3.7/site-packages/optuna/trial/_trial.py:592: UserWarning: The reported value is ignored because this `step` 49 is already reported.\n",
      "  step\n",
      "/Users/brent/anaconda3/lib/python3.7/site-packages/optuna/trial/_trial.py:592: UserWarning: The reported value is ignored because this `step` 50 is already reported.\n",
      "  step\n"
     ]
    },
    {
     "name": "stdout",
     "output_type": "stream",
     "text": [
      "[49]\tvalid_0's auc: 0.736768\n",
      "[50]\tvalid_0's auc: 0.736638\n",
      "[51]\tvalid_0's auc: 0.736841\n"
     ]
    },
    {
     "name": "stderr",
     "output_type": "stream",
     "text": [
      "/Users/brent/anaconda3/lib/python3.7/site-packages/optuna/trial/_trial.py:592: UserWarning: The reported value is ignored because this `step` 51 is already reported.\n",
      "  step\n",
      "/Users/brent/anaconda3/lib/python3.7/site-packages/optuna/trial/_trial.py:592: UserWarning: The reported value is ignored because this `step` 52 is already reported.\n",
      "  step\n",
      "/Users/brent/anaconda3/lib/python3.7/site-packages/optuna/trial/_trial.py:592: UserWarning: The reported value is ignored because this `step` 53 is already reported.\n",
      "  step\n"
     ]
    },
    {
     "name": "stdout",
     "output_type": "stream",
     "text": [
      "[52]\tvalid_0's auc: 0.736974\n",
      "[53]\tvalid_0's auc: 0.736965\n",
      "[54]\tvalid_0's auc: 0.737251\n"
     ]
    },
    {
     "name": "stderr",
     "output_type": "stream",
     "text": [
      "/Users/brent/anaconda3/lib/python3.7/site-packages/optuna/trial/_trial.py:592: UserWarning: The reported value is ignored because this `step` 54 is already reported.\n",
      "  step\n",
      "/Users/brent/anaconda3/lib/python3.7/site-packages/optuna/trial/_trial.py:592: UserWarning: The reported value is ignored because this `step` 55 is already reported.\n",
      "  step\n",
      "/Users/brent/anaconda3/lib/python3.7/site-packages/optuna/trial/_trial.py:592: UserWarning: The reported value is ignored because this `step` 56 is already reported.\n",
      "  step\n"
     ]
    },
    {
     "name": "stdout",
     "output_type": "stream",
     "text": [
      "[55]\tvalid_0's auc: 0.737277\n",
      "[56]\tvalid_0's auc: 0.737221\n",
      "[57]\tvalid_0's auc: 0.737385\n"
     ]
    },
    {
     "name": "stderr",
     "output_type": "stream",
     "text": [
      "/Users/brent/anaconda3/lib/python3.7/site-packages/optuna/trial/_trial.py:592: UserWarning: The reported value is ignored because this `step` 57 is already reported.\n",
      "  step\n",
      "/Users/brent/anaconda3/lib/python3.7/site-packages/optuna/trial/_trial.py:592: UserWarning: The reported value is ignored because this `step` 58 is already reported.\n",
      "  step\n",
      "/Users/brent/anaconda3/lib/python3.7/site-packages/optuna/trial/_trial.py:592: UserWarning: The reported value is ignored because this `step` 59 is already reported.\n",
      "  step\n"
     ]
    },
    {
     "name": "stdout",
     "output_type": "stream",
     "text": [
      "[58]\tvalid_0's auc: 0.737556\n",
      "[59]\tvalid_0's auc: 0.737562\n",
      "[60]\tvalid_0's auc: 0.737667\n"
     ]
    },
    {
     "name": "stderr",
     "output_type": "stream",
     "text": [
      "/Users/brent/anaconda3/lib/python3.7/site-packages/optuna/trial/_trial.py:592: UserWarning: The reported value is ignored because this `step` 60 is already reported.\n",
      "  step\n",
      "/Users/brent/anaconda3/lib/python3.7/site-packages/optuna/trial/_trial.py:592: UserWarning: The reported value is ignored because this `step` 61 is already reported.\n",
      "  step\n",
      "/Users/brent/anaconda3/lib/python3.7/site-packages/optuna/trial/_trial.py:592: UserWarning: The reported value is ignored because this `step` 62 is already reported.\n",
      "  step\n"
     ]
    },
    {
     "name": "stdout",
     "output_type": "stream",
     "text": [
      "[61]\tvalid_0's auc: 0.737807\n",
      "[62]\tvalid_0's auc: 0.738076\n",
      "[63]\tvalid_0's auc: 0.738084\n"
     ]
    },
    {
     "name": "stderr",
     "output_type": "stream",
     "text": [
      "/Users/brent/anaconda3/lib/python3.7/site-packages/optuna/trial/_trial.py:592: UserWarning: The reported value is ignored because this `step` 63 is already reported.\n",
      "  step\n",
      "/Users/brent/anaconda3/lib/python3.7/site-packages/optuna/trial/_trial.py:592: UserWarning: The reported value is ignored because this `step` 64 is already reported.\n",
      "  step\n",
      "/Users/brent/anaconda3/lib/python3.7/site-packages/optuna/trial/_trial.py:592: UserWarning: The reported value is ignored because this `step` 65 is already reported.\n",
      "  step\n"
     ]
    },
    {
     "name": "stdout",
     "output_type": "stream",
     "text": [
      "[64]\tvalid_0's auc: 0.738229\n",
      "[65]\tvalid_0's auc: 0.738334\n",
      "[66]\tvalid_0's auc: 0.738404\n"
     ]
    },
    {
     "name": "stderr",
     "output_type": "stream",
     "text": [
      "/Users/brent/anaconda3/lib/python3.7/site-packages/optuna/trial/_trial.py:592: UserWarning: The reported value is ignored because this `step` 66 is already reported.\n",
      "  step\n",
      "/Users/brent/anaconda3/lib/python3.7/site-packages/optuna/trial/_trial.py:592: UserWarning: The reported value is ignored because this `step` 67 is already reported.\n",
      "  step\n",
      "/Users/brent/anaconda3/lib/python3.7/site-packages/optuna/trial/_trial.py:592: UserWarning: The reported value is ignored because this `step` 68 is already reported.\n",
      "  step\n"
     ]
    },
    {
     "name": "stdout",
     "output_type": "stream",
     "text": [
      "[67]\tvalid_0's auc: 0.738593\n",
      "[68]\tvalid_0's auc: 0.738547\n",
      "[69]\tvalid_0's auc: 0.738522\n"
     ]
    },
    {
     "name": "stderr",
     "output_type": "stream",
     "text": [
      "/Users/brent/anaconda3/lib/python3.7/site-packages/optuna/trial/_trial.py:592: UserWarning: The reported value is ignored because this `step` 69 is already reported.\n",
      "  step\n",
      "/Users/brent/anaconda3/lib/python3.7/site-packages/optuna/trial/_trial.py:592: UserWarning: The reported value is ignored because this `step` 70 is already reported.\n",
      "  step\n",
      "/Users/brent/anaconda3/lib/python3.7/site-packages/optuna/trial/_trial.py:592: UserWarning: The reported value is ignored because this `step` 71 is already reported.\n",
      "  step\n"
     ]
    },
    {
     "name": "stdout",
     "output_type": "stream",
     "text": [
      "[70]\tvalid_0's auc: 0.738555\n",
      "[71]\tvalid_0's auc: 0.738538\n",
      "[72]\tvalid_0's auc: 0.738459\n"
     ]
    },
    {
     "name": "stderr",
     "output_type": "stream",
     "text": [
      "/Users/brent/anaconda3/lib/python3.7/site-packages/optuna/trial/_trial.py:592: UserWarning: The reported value is ignored because this `step` 72 is already reported.\n",
      "  step\n",
      "/Users/brent/anaconda3/lib/python3.7/site-packages/optuna/trial/_trial.py:592: UserWarning: The reported value is ignored because this `step` 73 is already reported.\n",
      "  step\n",
      "/Users/brent/anaconda3/lib/python3.7/site-packages/optuna/trial/_trial.py:592: UserWarning: The reported value is ignored because this `step` 74 is already reported.\n",
      "  step\n"
     ]
    },
    {
     "name": "stdout",
     "output_type": "stream",
     "text": [
      "[73]\tvalid_0's auc: 0.73841\n",
      "[74]\tvalid_0's auc: 0.738508\n",
      "[75]\tvalid_0's auc: 0.738714\n"
     ]
    },
    {
     "name": "stderr",
     "output_type": "stream",
     "text": [
      "/Users/brent/anaconda3/lib/python3.7/site-packages/optuna/trial/_trial.py:592: UserWarning: The reported value is ignored because this `step` 75 is already reported.\n",
      "  step\n",
      "/Users/brent/anaconda3/lib/python3.7/site-packages/optuna/trial/_trial.py:592: UserWarning: The reported value is ignored because this `step` 76 is already reported.\n",
      "  step\n",
      "/Users/brent/anaconda3/lib/python3.7/site-packages/optuna/trial/_trial.py:592: UserWarning: The reported value is ignored because this `step` 77 is already reported.\n",
      "  step\n"
     ]
    },
    {
     "name": "stdout",
     "output_type": "stream",
     "text": [
      "[76]\tvalid_0's auc: 0.738603\n",
      "[77]\tvalid_0's auc: 0.738583\n",
      "[78]\tvalid_0's auc: 0.738701\n"
     ]
    },
    {
     "name": "stderr",
     "output_type": "stream",
     "text": [
      "/Users/brent/anaconda3/lib/python3.7/site-packages/optuna/trial/_trial.py:592: UserWarning: The reported value is ignored because this `step` 78 is already reported.\n",
      "  step\n",
      "/Users/brent/anaconda3/lib/python3.7/site-packages/optuna/trial/_trial.py:592: UserWarning: The reported value is ignored because this `step` 79 is already reported.\n",
      "  step\n",
      "/Users/brent/anaconda3/lib/python3.7/site-packages/optuna/trial/_trial.py:592: UserWarning: The reported value is ignored because this `step` 80 is already reported.\n",
      "  step\n"
     ]
    },
    {
     "name": "stdout",
     "output_type": "stream",
     "text": [
      "[79]\tvalid_0's auc: 0.738772\n",
      "[80]\tvalid_0's auc: 0.738795\n",
      "[81]\tvalid_0's auc: 0.738982\n"
     ]
    },
    {
     "name": "stderr",
     "output_type": "stream",
     "text": [
      "/Users/brent/anaconda3/lib/python3.7/site-packages/optuna/trial/_trial.py:592: UserWarning: The reported value is ignored because this `step` 81 is already reported.\n",
      "  step\n",
      "/Users/brent/anaconda3/lib/python3.7/site-packages/optuna/trial/_trial.py:592: UserWarning: The reported value is ignored because this `step` 82 is already reported.\n",
      "  step\n",
      "/Users/brent/anaconda3/lib/python3.7/site-packages/optuna/trial/_trial.py:592: UserWarning: The reported value is ignored because this `step` 83 is already reported.\n",
      "  step\n"
     ]
    },
    {
     "name": "stdout",
     "output_type": "stream",
     "text": [
      "[82]\tvalid_0's auc: 0.738961\n",
      "[83]\tvalid_0's auc: 0.739129\n",
      "[84]\tvalid_0's auc: 0.739159\n"
     ]
    },
    {
     "name": "stderr",
     "output_type": "stream",
     "text": [
      "/Users/brent/anaconda3/lib/python3.7/site-packages/optuna/trial/_trial.py:592: UserWarning: The reported value is ignored because this `step` 84 is already reported.\n",
      "  step\n",
      "/Users/brent/anaconda3/lib/python3.7/site-packages/optuna/trial/_trial.py:592: UserWarning: The reported value is ignored because this `step` 85 is already reported.\n",
      "  step\n",
      "/Users/brent/anaconda3/lib/python3.7/site-packages/optuna/trial/_trial.py:592: UserWarning: The reported value is ignored because this `step` 86 is already reported.\n",
      "  step\n"
     ]
    },
    {
     "name": "stdout",
     "output_type": "stream",
     "text": [
      "[85]\tvalid_0's auc: 0.739157\n",
      "[86]\tvalid_0's auc: 0.739158\n",
      "[87]\tvalid_0's auc: 0.739193\n"
     ]
    },
    {
     "name": "stderr",
     "output_type": "stream",
     "text": [
      "/Users/brent/anaconda3/lib/python3.7/site-packages/optuna/trial/_trial.py:592: UserWarning: The reported value is ignored because this `step` 87 is already reported.\n",
      "  step\n",
      "/Users/brent/anaconda3/lib/python3.7/site-packages/optuna/trial/_trial.py:592: UserWarning: The reported value is ignored because this `step` 88 is already reported.\n",
      "  step\n",
      "/Users/brent/anaconda3/lib/python3.7/site-packages/optuna/trial/_trial.py:592: UserWarning: The reported value is ignored because this `step` 89 is already reported.\n",
      "  step\n"
     ]
    },
    {
     "name": "stdout",
     "output_type": "stream",
     "text": [
      "[88]\tvalid_0's auc: 0.739252\n",
      "[89]\tvalid_0's auc: 0.739228\n",
      "[90]\tvalid_0's auc: 0.739191\n"
     ]
    },
    {
     "name": "stderr",
     "output_type": "stream",
     "text": [
      "/Users/brent/anaconda3/lib/python3.7/site-packages/optuna/trial/_trial.py:592: UserWarning: The reported value is ignored because this `step` 90 is already reported.\n",
      "  step\n",
      "/Users/brent/anaconda3/lib/python3.7/site-packages/optuna/trial/_trial.py:592: UserWarning: The reported value is ignored because this `step` 91 is already reported.\n",
      "  step\n",
      "/Users/brent/anaconda3/lib/python3.7/site-packages/optuna/trial/_trial.py:592: UserWarning: The reported value is ignored because this `step` 92 is already reported.\n",
      "  step\n"
     ]
    },
    {
     "name": "stdout",
     "output_type": "stream",
     "text": [
      "[91]\tvalid_0's auc: 0.739318\n",
      "[92]\tvalid_0's auc: 0.739267\n",
      "[93]\tvalid_0's auc: 0.739294\n"
     ]
    },
    {
     "name": "stderr",
     "output_type": "stream",
     "text": [
      "/Users/brent/anaconda3/lib/python3.7/site-packages/optuna/trial/_trial.py:592: UserWarning: The reported value is ignored because this `step` 93 is already reported.\n",
      "  step\n",
      "/Users/brent/anaconda3/lib/python3.7/site-packages/optuna/trial/_trial.py:592: UserWarning: The reported value is ignored because this `step` 94 is already reported.\n",
      "  step\n",
      "/Users/brent/anaconda3/lib/python3.7/site-packages/optuna/trial/_trial.py:592: UserWarning: The reported value is ignored because this `step` 95 is already reported.\n",
      "  step\n"
     ]
    },
    {
     "name": "stdout",
     "output_type": "stream",
     "text": [
      "[94]\tvalid_0's auc: 0.739339\n",
      "[95]\tvalid_0's auc: 0.739483\n",
      "[96]\tvalid_0's auc: 0.739409\n"
     ]
    },
    {
     "name": "stderr",
     "output_type": "stream",
     "text": [
      "/Users/brent/anaconda3/lib/python3.7/site-packages/optuna/trial/_trial.py:592: UserWarning: The reported value is ignored because this `step` 96 is already reported.\n",
      "  step\n",
      "/Users/brent/anaconda3/lib/python3.7/site-packages/optuna/trial/_trial.py:592: UserWarning: The reported value is ignored because this `step` 97 is already reported.\n",
      "  step\n",
      "/Users/brent/anaconda3/lib/python3.7/site-packages/optuna/trial/_trial.py:592: UserWarning: The reported value is ignored because this `step` 98 is already reported.\n",
      "  step\n"
     ]
    },
    {
     "name": "stdout",
     "output_type": "stream",
     "text": [
      "[97]\tvalid_0's auc: 0.739501\n",
      "[98]\tvalid_0's auc: 0.739557\n",
      "[99]\tvalid_0's auc: 0.739706\n"
     ]
    },
    {
     "name": "stderr",
     "output_type": "stream",
     "text": [
      "/Users/brent/anaconda3/lib/python3.7/site-packages/optuna/trial/_trial.py:592: UserWarning: The reported value is ignored because this `step` 99 is already reported.\n",
      "  step\n"
     ]
    },
    {
     "name": "stdout",
     "output_type": "stream",
     "text": [
      "[100]\tvalid_0's auc: 0.739731\n",
      "Did not meet early stopping. Best iteration is:\n",
      "[100]\tvalid_0's auc: 0.739731\n",
      "\u001b[32m[I 2021-10-19 23:08:14,913]\u001b[0m Trial 2 finished with value: 0.7437286884938384 and parameters: {'lambda_l1': 9.200114535730967e-05, 'lambda_l2': 0.0022688556924762245, 'num_leaves': 86, 'feature_fraction': 0.4969589843296607, 'bagging_fraction': 0.5228829808581412, 'bagging_freq': 6, 'learning_rate': 0.0013139429893866954, 'min_child_samples': 95, 'cat_smooth': 76}. Best is trial 0 with value: 0.7454035427301393.\u001b[0m\n",
      "[LightGBM] [Warning] bagging_freq is set=7, subsample_freq=0 will be ignored. Current value: bagging_freq=7\n",
      "[LightGBM] [Warning] lambda_l2 is set=0.010563636730884446, reg_lambda=0.0 will be ignored. Current value: lambda_l2=0.010563636730884446\n",
      "[LightGBM] [Warning] feature_fraction is set=0.6985167051101896, colsample_bytree=1.0 will be ignored. Current value: feature_fraction=0.6985167051101896\n",
      "[LightGBM] [Warning] bagging_fraction is set=0.6173898224093576, subsample=1.0 will be ignored. Current value: bagging_fraction=0.6173898224093576\n",
      "[LightGBM] [Warning] lambda_l1 is set=0.10497910930620098, reg_alpha=0.0 will be ignored. Current value: lambda_l1=0.10497910930620098\n",
      "[1]\tvalid_0's auc: 0.694078\n",
      "Training until validation scores don't improve for 100 rounds\n",
      "[2]\tvalid_0's auc: 0.702171\n",
      "[3]\tvalid_0's auc: 0.70489\n",
      "[4]\tvalid_0's auc: 0.706185\n",
      "[5]\tvalid_0's auc: 0.710327\n",
      "[6]\tvalid_0's auc: 0.710907\n",
      "[7]\tvalid_0's auc: 0.709962\n",
      "[8]\tvalid_0's auc: 0.714543\n",
      "[9]\tvalid_0's auc: 0.717401\n",
      "[10]\tvalid_0's auc: 0.719571\n",
      "[11]\tvalid_0's auc: 0.722644\n",
      "[12]\tvalid_0's auc: 0.722981\n",
      "[13]\tvalid_0's auc: 0.723233\n",
      "[14]\tvalid_0's auc: 0.724037\n",
      "[15]\tvalid_0's auc: 0.725924\n",
      "[16]\tvalid_0's auc: 0.726989\n",
      "[17]\tvalid_0's auc: 0.727766\n",
      "[18]\tvalid_0's auc: 0.728093\n",
      "[19]\tvalid_0's auc: 0.728371\n",
      "[20]\tvalid_0's auc: 0.728487\n",
      "[21]\tvalid_0's auc: 0.730197\n",
      "[22]\tvalid_0's auc: 0.730758\n",
      "[23]\tvalid_0's auc: 0.731734\n",
      "[24]\tvalid_0's auc: 0.732785\n",
      "[25]\tvalid_0's auc: 0.73332\n",
      "[26]\tvalid_0's auc: 0.733482\n",
      "[27]\tvalid_0's auc: 0.73406\n",
      "[28]\tvalid_0's auc: 0.734454\n",
      "[29]\tvalid_0's auc: 0.735439\n",
      "[30]\tvalid_0's auc: 0.735975\n",
      "[31]\tvalid_0's auc: 0.736419\n",
      "[32]\tvalid_0's auc: 0.736633\n",
      "[33]\tvalid_0's auc: 0.736843\n",
      "[34]\tvalid_0's auc: 0.736991\n",
      "[35]\tvalid_0's auc: 0.737119\n",
      "[36]\tvalid_0's auc: 0.737558\n",
      "[37]\tvalid_0's auc: 0.737876\n",
      "[38]\tvalid_0's auc: 0.738065\n",
      "[39]\tvalid_0's auc: 0.738695\n",
      "[40]\tvalid_0's auc: 0.738883\n",
      "[41]\tvalid_0's auc: 0.739045\n",
      "[42]\tvalid_0's auc: 0.73924\n",
      "[43]\tvalid_0's auc: 0.739633\n",
      "[44]\tvalid_0's auc: 0.740104\n",
      "[45]\tvalid_0's auc: 0.740425\n",
      "[46]\tvalid_0's auc: 0.740609\n",
      "[47]\tvalid_0's auc: 0.740738\n",
      "[48]\tvalid_0's auc: 0.741061\n",
      "[49]\tvalid_0's auc: 0.741236\n",
      "[50]\tvalid_0's auc: 0.741395\n",
      "[51]\tvalid_0's auc: 0.741531\n",
      "[52]\tvalid_0's auc: 0.741568\n",
      "[53]\tvalid_0's auc: 0.741602\n",
      "[54]\tvalid_0's auc: 0.741613\n",
      "[55]\tvalid_0's auc: 0.741483\n",
      "[56]\tvalid_0's auc: 0.741431\n",
      "[57]\tvalid_0's auc: 0.741528\n",
      "[58]\tvalid_0's auc: 0.741577\n",
      "[59]\tvalid_0's auc: 0.741636\n",
      "[60]\tvalid_0's auc: 0.741663\n",
      "[61]\tvalid_0's auc: 0.741679\n",
      "[62]\tvalid_0's auc: 0.741725\n",
      "[63]\tvalid_0's auc: 0.741632\n",
      "[64]\tvalid_0's auc: 0.741825\n",
      "[65]\tvalid_0's auc: 0.741978\n",
      "[66]\tvalid_0's auc: 0.742129\n",
      "[67]\tvalid_0's auc: 0.742167\n",
      "[68]\tvalid_0's auc: 0.742229\n",
      "[69]\tvalid_0's auc: 0.742331\n",
      "[70]\tvalid_0's auc: 0.742436\n",
      "[71]\tvalid_0's auc: 0.742374\n",
      "[72]\tvalid_0's auc: 0.742389\n",
      "[73]\tvalid_0's auc: 0.742373\n",
      "[74]\tvalid_0's auc: 0.742597\n",
      "[75]\tvalid_0's auc: 0.74267\n",
      "[76]\tvalid_0's auc: 0.742732\n",
      "[77]\tvalid_0's auc: 0.742666\n",
      "[78]\tvalid_0's auc: 0.742756\n",
      "[79]\tvalid_0's auc: 0.742909\n",
      "[80]\tvalid_0's auc: 0.743032\n",
      "[81]\tvalid_0's auc: 0.74304\n",
      "[82]\tvalid_0's auc: 0.743071\n",
      "[83]\tvalid_0's auc: 0.743185\n",
      "[84]\tvalid_0's auc: 0.743239\n",
      "[85]\tvalid_0's auc: 0.743258\n",
      "[86]\tvalid_0's auc: 0.74336\n",
      "[87]\tvalid_0's auc: 0.743349\n",
      "[88]\tvalid_0's auc: 0.743283\n",
      "[89]\tvalid_0's auc: 0.743254\n",
      "[90]\tvalid_0's auc: 0.743237\n",
      "[91]\tvalid_0's auc: 0.743235\n",
      "[92]\tvalid_0's auc: 0.74316\n",
      "[93]\tvalid_0's auc: 0.743179\n",
      "[94]\tvalid_0's auc: 0.74328\n",
      "[95]\tvalid_0's auc: 0.743261\n",
      "[96]\tvalid_0's auc: 0.743288\n",
      "[97]\tvalid_0's auc: 0.743334\n",
      "[98]\tvalid_0's auc: 0.743251\n",
      "[99]\tvalid_0's auc: 0.743272\n",
      "[100]\tvalid_0's auc: 0.743287\n",
      "Did not meet early stopping. Best iteration is:\n",
      "[86]\tvalid_0's auc: 0.74336\n",
      "[LightGBM] [Warning] bagging_freq is set=7, subsample_freq=0 will be ignored. Current value: bagging_freq=7\n",
      "[LightGBM] [Warning] lambda_l2 is set=0.010563636730884446, reg_lambda=0.0 will be ignored. Current value: lambda_l2=0.010563636730884446\n",
      "[LightGBM] [Warning] feature_fraction is set=0.6985167051101896, colsample_bytree=1.0 will be ignored. Current value: feature_fraction=0.6985167051101896\n",
      "[LightGBM] [Warning] bagging_fraction is set=0.6173898224093576, subsample=1.0 will be ignored. Current value: bagging_fraction=0.6173898224093576\n",
      "[LightGBM] [Warning] lambda_l1 is set=0.10497910930620098, reg_alpha=0.0 will be ignored. Current value: lambda_l1=0.10497910930620098\n"
     ]
    },
    {
     "name": "stderr",
     "output_type": "stream",
     "text": [
      "/Users/brent/anaconda3/lib/python3.7/site-packages/optuna/trial/_trial.py:592: UserWarning: The reported value is ignored because this `step` 0 is already reported.\n",
      "  step\n",
      "/Users/brent/anaconda3/lib/python3.7/site-packages/optuna/trial/_trial.py:592: UserWarning: The reported value is ignored because this `step` 1 is already reported.\n",
      "  step\n"
     ]
    },
    {
     "name": "stdout",
     "output_type": "stream",
     "text": [
      "[1]\tvalid_0's auc: 0.692264\n",
      "Training until validation scores don't improve for 100 rounds\n",
      "[2]\tvalid_0's auc: 0.701022\n"
     ]
    },
    {
     "name": "stderr",
     "output_type": "stream",
     "text": [
      "/Users/brent/anaconda3/lib/python3.7/site-packages/optuna/trial/_trial.py:592: UserWarning: The reported value is ignored because this `step` 2 is already reported.\n",
      "  step\n",
      "/Users/brent/anaconda3/lib/python3.7/site-packages/optuna/trial/_trial.py:592: UserWarning: The reported value is ignored because this `step` 3 is already reported.\n",
      "  step\n"
     ]
    },
    {
     "name": "stdout",
     "output_type": "stream",
     "text": [
      "[3]\tvalid_0's auc: 0.702473\n",
      "[4]\tvalid_0's auc: 0.704581\n"
     ]
    },
    {
     "name": "stderr",
     "output_type": "stream",
     "text": [
      "/Users/brent/anaconda3/lib/python3.7/site-packages/optuna/trial/_trial.py:592: UserWarning: The reported value is ignored because this `step` 4 is already reported.\n",
      "  step\n",
      "/Users/brent/anaconda3/lib/python3.7/site-packages/optuna/trial/_trial.py:592: UserWarning: The reported value is ignored because this `step` 5 is already reported.\n",
      "  step\n"
     ]
    },
    {
     "name": "stdout",
     "output_type": "stream",
     "text": [
      "[5]\tvalid_0's auc: 0.708476\n",
      "[6]\tvalid_0's auc: 0.710091\n"
     ]
    },
    {
     "name": "stderr",
     "output_type": "stream",
     "text": [
      "/Users/brent/anaconda3/lib/python3.7/site-packages/optuna/trial/_trial.py:592: UserWarning: The reported value is ignored because this `step` 6 is already reported.\n",
      "  step\n",
      "/Users/brent/anaconda3/lib/python3.7/site-packages/optuna/trial/_trial.py:592: UserWarning: The reported value is ignored because this `step` 7 is already reported.\n",
      "  step\n"
     ]
    },
    {
     "name": "stdout",
     "output_type": "stream",
     "text": [
      "[7]\tvalid_0's auc: 0.711669\n",
      "[8]\tvalid_0's auc: 0.715577\n"
     ]
    },
    {
     "name": "stderr",
     "output_type": "stream",
     "text": [
      "/Users/brent/anaconda3/lib/python3.7/site-packages/optuna/trial/_trial.py:592: UserWarning: The reported value is ignored because this `step` 8 is already reported.\n",
      "  step\n",
      "/Users/brent/anaconda3/lib/python3.7/site-packages/optuna/trial/_trial.py:592: UserWarning: The reported value is ignored because this `step` 9 is already reported.\n",
      "  step\n"
     ]
    },
    {
     "name": "stdout",
     "output_type": "stream",
     "text": [
      "[9]\tvalid_0's auc: 0.718748\n",
      "[10]\tvalid_0's auc: 0.720561\n"
     ]
    },
    {
     "name": "stderr",
     "output_type": "stream",
     "text": [
      "/Users/brent/anaconda3/lib/python3.7/site-packages/optuna/trial/_trial.py:592: UserWarning: The reported value is ignored because this `step` 10 is already reported.\n",
      "  step\n",
      "/Users/brent/anaconda3/lib/python3.7/site-packages/optuna/trial/_trial.py:592: UserWarning: The reported value is ignored because this `step` 11 is already reported.\n",
      "  step\n"
     ]
    },
    {
     "name": "stdout",
     "output_type": "stream",
     "text": [
      "[11]\tvalid_0's auc: 0.723697\n",
      "[12]\tvalid_0's auc: 0.724054\n"
     ]
    },
    {
     "name": "stderr",
     "output_type": "stream",
     "text": [
      "/Users/brent/anaconda3/lib/python3.7/site-packages/optuna/trial/_trial.py:592: UserWarning: The reported value is ignored because this `step` 12 is already reported.\n",
      "  step\n",
      "/Users/brent/anaconda3/lib/python3.7/site-packages/optuna/trial/_trial.py:592: UserWarning: The reported value is ignored because this `step` 13 is already reported.\n",
      "  step\n"
     ]
    },
    {
     "name": "stdout",
     "output_type": "stream",
     "text": [
      "[13]\tvalid_0's auc: 0.724327\n",
      "[14]\tvalid_0's auc: 0.725316\n"
     ]
    },
    {
     "name": "stderr",
     "output_type": "stream",
     "text": [
      "/Users/brent/anaconda3/lib/python3.7/site-packages/optuna/trial/_trial.py:592: UserWarning: The reported value is ignored because this `step` 14 is already reported.\n",
      "  step\n",
      "/Users/brent/anaconda3/lib/python3.7/site-packages/optuna/trial/_trial.py:592: UserWarning: The reported value is ignored because this `step` 15 is already reported.\n",
      "  step\n"
     ]
    },
    {
     "name": "stdout",
     "output_type": "stream",
     "text": [
      "[15]\tvalid_0's auc: 0.726231\n",
      "[16]\tvalid_0's auc: 0.726165\n"
     ]
    },
    {
     "name": "stderr",
     "output_type": "stream",
     "text": [
      "/Users/brent/anaconda3/lib/python3.7/site-packages/optuna/trial/_trial.py:592: UserWarning: The reported value is ignored because this `step` 16 is already reported.\n",
      "  step\n",
      "/Users/brent/anaconda3/lib/python3.7/site-packages/optuna/trial/_trial.py:592: UserWarning: The reported value is ignored because this `step` 17 is already reported.\n",
      "  step\n"
     ]
    },
    {
     "name": "stdout",
     "output_type": "stream",
     "text": [
      "[17]\tvalid_0's auc: 0.726062\n",
      "[18]\tvalid_0's auc: 0.726116\n"
     ]
    },
    {
     "name": "stderr",
     "output_type": "stream",
     "text": [
      "/Users/brent/anaconda3/lib/python3.7/site-packages/optuna/trial/_trial.py:592: UserWarning: The reported value is ignored because this `step` 18 is already reported.\n",
      "  step\n",
      "/Users/brent/anaconda3/lib/python3.7/site-packages/optuna/trial/_trial.py:592: UserWarning: The reported value is ignored because this `step` 19 is already reported.\n",
      "  step\n"
     ]
    },
    {
     "name": "stdout",
     "output_type": "stream",
     "text": [
      "[19]\tvalid_0's auc: 0.725987\n",
      "[20]\tvalid_0's auc: 0.725758\n"
     ]
    },
    {
     "name": "stderr",
     "output_type": "stream",
     "text": [
      "/Users/brent/anaconda3/lib/python3.7/site-packages/optuna/trial/_trial.py:592: UserWarning: The reported value is ignored because this `step` 20 is already reported.\n",
      "  step\n",
      "/Users/brent/anaconda3/lib/python3.7/site-packages/optuna/trial/_trial.py:592: UserWarning: The reported value is ignored because this `step` 21 is already reported.\n",
      "  step\n"
     ]
    },
    {
     "name": "stdout",
     "output_type": "stream",
     "text": [
      "[21]\tvalid_0's auc: 0.727394\n",
      "[22]\tvalid_0's auc: 0.728096\n"
     ]
    },
    {
     "name": "stderr",
     "output_type": "stream",
     "text": [
      "/Users/brent/anaconda3/lib/python3.7/site-packages/optuna/trial/_trial.py:592: UserWarning: The reported value is ignored because this `step` 22 is already reported.\n",
      "  step\n",
      "/Users/brent/anaconda3/lib/python3.7/site-packages/optuna/trial/_trial.py:592: UserWarning: The reported value is ignored because this `step` 23 is already reported.\n",
      "  step\n"
     ]
    },
    {
     "name": "stdout",
     "output_type": "stream",
     "text": [
      "[23]\tvalid_0's auc: 0.728586\n",
      "[24]\tvalid_0's auc: 0.729059\n"
     ]
    },
    {
     "name": "stderr",
     "output_type": "stream",
     "text": [
      "/Users/brent/anaconda3/lib/python3.7/site-packages/optuna/trial/_trial.py:592: UserWarning: The reported value is ignored because this `step` 24 is already reported.\n",
      "  step\n",
      "/Users/brent/anaconda3/lib/python3.7/site-packages/optuna/trial/_trial.py:592: UserWarning: The reported value is ignored because this `step` 25 is already reported.\n",
      "  step\n"
     ]
    },
    {
     "name": "stdout",
     "output_type": "stream",
     "text": [
      "[25]\tvalid_0's auc: 0.729274\n",
      "[26]\tvalid_0's auc: 0.729498\n"
     ]
    },
    {
     "name": "stderr",
     "output_type": "stream",
     "text": [
      "/Users/brent/anaconda3/lib/python3.7/site-packages/optuna/trial/_trial.py:592: UserWarning: The reported value is ignored because this `step` 26 is already reported.\n",
      "  step\n",
      "/Users/brent/anaconda3/lib/python3.7/site-packages/optuna/trial/_trial.py:592: UserWarning: The reported value is ignored because this `step` 27 is already reported.\n",
      "  step\n"
     ]
    },
    {
     "name": "stdout",
     "output_type": "stream",
     "text": [
      "[27]\tvalid_0's auc: 0.729548\n",
      "[28]\tvalid_0's auc: 0.729621\n"
     ]
    },
    {
     "name": "stderr",
     "output_type": "stream",
     "text": [
      "/Users/brent/anaconda3/lib/python3.7/site-packages/optuna/trial/_trial.py:592: UserWarning: The reported value is ignored because this `step` 28 is already reported.\n",
      "  step\n",
      "/Users/brent/anaconda3/lib/python3.7/site-packages/optuna/trial/_trial.py:592: UserWarning: The reported value is ignored because this `step` 29 is already reported.\n",
      "  step\n"
     ]
    },
    {
     "name": "stdout",
     "output_type": "stream",
     "text": [
      "[29]\tvalid_0's auc: 0.730745\n",
      "[30]\tvalid_0's auc: 0.731169\n"
     ]
    },
    {
     "name": "stderr",
     "output_type": "stream",
     "text": [
      "/Users/brent/anaconda3/lib/python3.7/site-packages/optuna/trial/_trial.py:592: UserWarning: The reported value is ignored because this `step` 30 is already reported.\n",
      "  step\n",
      "/Users/brent/anaconda3/lib/python3.7/site-packages/optuna/trial/_trial.py:592: UserWarning: The reported value is ignored because this `step` 31 is already reported.\n",
      "  step\n"
     ]
    },
    {
     "name": "stdout",
     "output_type": "stream",
     "text": [
      "[31]\tvalid_0's auc: 0.731467\n",
      "[32]\tvalid_0's auc: 0.731733\n"
     ]
    },
    {
     "name": "stderr",
     "output_type": "stream",
     "text": [
      "/Users/brent/anaconda3/lib/python3.7/site-packages/optuna/trial/_trial.py:592: UserWarning: The reported value is ignored because this `step` 32 is already reported.\n",
      "  step\n",
      "/Users/brent/anaconda3/lib/python3.7/site-packages/optuna/trial/_trial.py:592: UserWarning: The reported value is ignored because this `step` 33 is already reported.\n",
      "  step\n"
     ]
    },
    {
     "name": "stdout",
     "output_type": "stream",
     "text": [
      "[33]\tvalid_0's auc: 0.731826\n",
      "[34]\tvalid_0's auc: 0.731886\n"
     ]
    },
    {
     "name": "stderr",
     "output_type": "stream",
     "text": [
      "/Users/brent/anaconda3/lib/python3.7/site-packages/optuna/trial/_trial.py:592: UserWarning: The reported value is ignored because this `step` 34 is already reported.\n",
      "  step\n",
      "/Users/brent/anaconda3/lib/python3.7/site-packages/optuna/trial/_trial.py:592: UserWarning: The reported value is ignored because this `step` 35 is already reported.\n",
      "  step\n"
     ]
    },
    {
     "name": "stdout",
     "output_type": "stream",
     "text": [
      "[35]\tvalid_0's auc: 0.732095\n",
      "[36]\tvalid_0's auc: 0.732472\n"
     ]
    },
    {
     "name": "stderr",
     "output_type": "stream",
     "text": [
      "/Users/brent/anaconda3/lib/python3.7/site-packages/optuna/trial/_trial.py:592: UserWarning: The reported value is ignored because this `step` 36 is already reported.\n",
      "  step\n",
      "/Users/brent/anaconda3/lib/python3.7/site-packages/optuna/trial/_trial.py:592: UserWarning: The reported value is ignored because this `step` 37 is already reported.\n",
      "  step\n"
     ]
    },
    {
     "name": "stdout",
     "output_type": "stream",
     "text": [
      "[37]\tvalid_0's auc: 0.732639\n",
      "[38]\tvalid_0's auc: 0.732842\n"
     ]
    },
    {
     "name": "stderr",
     "output_type": "stream",
     "text": [
      "/Users/brent/anaconda3/lib/python3.7/site-packages/optuna/trial/_trial.py:592: UserWarning: The reported value is ignored because this `step` 38 is already reported.\n",
      "  step\n",
      "/Users/brent/anaconda3/lib/python3.7/site-packages/optuna/trial/_trial.py:592: UserWarning: The reported value is ignored because this `step` 39 is already reported.\n",
      "  step\n"
     ]
    },
    {
     "name": "stdout",
     "output_type": "stream",
     "text": [
      "[39]\tvalid_0's auc: 0.733386\n",
      "[40]\tvalid_0's auc: 0.733482\n"
     ]
    },
    {
     "name": "stderr",
     "output_type": "stream",
     "text": [
      "/Users/brent/anaconda3/lib/python3.7/site-packages/optuna/trial/_trial.py:592: UserWarning: The reported value is ignored because this `step` 40 is already reported.\n",
      "  step\n",
      "/Users/brent/anaconda3/lib/python3.7/site-packages/optuna/trial/_trial.py:592: UserWarning: The reported value is ignored because this `step` 41 is already reported.\n",
      "  step\n"
     ]
    },
    {
     "name": "stdout",
     "output_type": "stream",
     "text": [
      "[41]\tvalid_0's auc: 0.733589\n",
      "[42]\tvalid_0's auc: 0.733687\n"
     ]
    },
    {
     "name": "stderr",
     "output_type": "stream",
     "text": [
      "/Users/brent/anaconda3/lib/python3.7/site-packages/optuna/trial/_trial.py:592: UserWarning: The reported value is ignored because this `step` 42 is already reported.\n",
      "  step\n",
      "/Users/brent/anaconda3/lib/python3.7/site-packages/optuna/trial/_trial.py:592: UserWarning: The reported value is ignored because this `step` 43 is already reported.\n",
      "  step\n"
     ]
    },
    {
     "name": "stdout",
     "output_type": "stream",
     "text": [
      "[43]\tvalid_0's auc: 0.733832\n",
      "[44]\tvalid_0's auc: 0.733935\n"
     ]
    },
    {
     "name": "stderr",
     "output_type": "stream",
     "text": [
      "/Users/brent/anaconda3/lib/python3.7/site-packages/optuna/trial/_trial.py:592: UserWarning: The reported value is ignored because this `step` 44 is already reported.\n",
      "  step\n",
      "/Users/brent/anaconda3/lib/python3.7/site-packages/optuna/trial/_trial.py:592: UserWarning: The reported value is ignored because this `step` 45 is already reported.\n",
      "  step\n"
     ]
    },
    {
     "name": "stdout",
     "output_type": "stream",
     "text": [
      "[45]\tvalid_0's auc: 0.73405\n",
      "[46]\tvalid_0's auc: 0.734192\n"
     ]
    },
    {
     "name": "stderr",
     "output_type": "stream",
     "text": [
      "/Users/brent/anaconda3/lib/python3.7/site-packages/optuna/trial/_trial.py:592: UserWarning: The reported value is ignored because this `step` 46 is already reported.\n",
      "  step\n",
      "/Users/brent/anaconda3/lib/python3.7/site-packages/optuna/trial/_trial.py:592: UserWarning: The reported value is ignored because this `step` 47 is already reported.\n",
      "  step\n"
     ]
    },
    {
     "name": "stdout",
     "output_type": "stream",
     "text": [
      "[47]\tvalid_0's auc: 0.734278\n",
      "[48]\tvalid_0's auc: 0.734592\n"
     ]
    },
    {
     "name": "stderr",
     "output_type": "stream",
     "text": [
      "/Users/brent/anaconda3/lib/python3.7/site-packages/optuna/trial/_trial.py:592: UserWarning: The reported value is ignored because this `step` 48 is already reported.\n",
      "  step\n",
      "/Users/brent/anaconda3/lib/python3.7/site-packages/optuna/trial/_trial.py:592: UserWarning: The reported value is ignored because this `step` 49 is already reported.\n",
      "  step\n"
     ]
    },
    {
     "name": "stdout",
     "output_type": "stream",
     "text": [
      "[49]\tvalid_0's auc: 0.734574\n",
      "[50]\tvalid_0's auc: 0.73492\n"
     ]
    },
    {
     "name": "stderr",
     "output_type": "stream",
     "text": [
      "/Users/brent/anaconda3/lib/python3.7/site-packages/optuna/trial/_trial.py:592: UserWarning: The reported value is ignored because this `step` 50 is already reported.\n",
      "  step\n",
      "/Users/brent/anaconda3/lib/python3.7/site-packages/optuna/trial/_trial.py:592: UserWarning: The reported value is ignored because this `step` 51 is already reported.\n",
      "  step\n"
     ]
    },
    {
     "name": "stdout",
     "output_type": "stream",
     "text": [
      "[51]\tvalid_0's auc: 0.734985\n",
      "[52]\tvalid_0's auc: 0.734954\n"
     ]
    },
    {
     "name": "stderr",
     "output_type": "stream",
     "text": [
      "/Users/brent/anaconda3/lib/python3.7/site-packages/optuna/trial/_trial.py:592: UserWarning: The reported value is ignored because this `step` 52 is already reported.\n",
      "  step\n",
      "/Users/brent/anaconda3/lib/python3.7/site-packages/optuna/trial/_trial.py:592: UserWarning: The reported value is ignored because this `step` 53 is already reported.\n",
      "  step\n"
     ]
    },
    {
     "name": "stdout",
     "output_type": "stream",
     "text": [
      "[53]\tvalid_0's auc: 0.734871\n",
      "[54]\tvalid_0's auc: 0.734767\n"
     ]
    },
    {
     "name": "stderr",
     "output_type": "stream",
     "text": [
      "/Users/brent/anaconda3/lib/python3.7/site-packages/optuna/trial/_trial.py:592: UserWarning: The reported value is ignored because this `step` 54 is already reported.\n",
      "  step\n",
      "/Users/brent/anaconda3/lib/python3.7/site-packages/optuna/trial/_trial.py:592: UserWarning: The reported value is ignored because this `step` 55 is already reported.\n",
      "  step\n"
     ]
    },
    {
     "name": "stdout",
     "output_type": "stream",
     "text": [
      "[55]\tvalid_0's auc: 0.734873\n",
      "[56]\tvalid_0's auc: 0.734835\n"
     ]
    },
    {
     "name": "stderr",
     "output_type": "stream",
     "text": [
      "/Users/brent/anaconda3/lib/python3.7/site-packages/optuna/trial/_trial.py:592: UserWarning: The reported value is ignored because this `step` 56 is already reported.\n",
      "  step\n",
      "/Users/brent/anaconda3/lib/python3.7/site-packages/optuna/trial/_trial.py:592: UserWarning: The reported value is ignored because this `step` 57 is already reported.\n",
      "  step\n"
     ]
    },
    {
     "name": "stdout",
     "output_type": "stream",
     "text": [
      "[57]\tvalid_0's auc: 0.734994\n",
      "[58]\tvalid_0's auc: 0.735026\n"
     ]
    },
    {
     "name": "stderr",
     "output_type": "stream",
     "text": [
      "/Users/brent/anaconda3/lib/python3.7/site-packages/optuna/trial/_trial.py:592: UserWarning: The reported value is ignored because this `step` 58 is already reported.\n",
      "  step\n",
      "/Users/brent/anaconda3/lib/python3.7/site-packages/optuna/trial/_trial.py:592: UserWarning: The reported value is ignored because this `step` 59 is already reported.\n",
      "  step\n"
     ]
    },
    {
     "name": "stdout",
     "output_type": "stream",
     "text": [
      "[59]\tvalid_0's auc: 0.735157\n",
      "[60]\tvalid_0's auc: 0.73523\n"
     ]
    },
    {
     "name": "stderr",
     "output_type": "stream",
     "text": [
      "/Users/brent/anaconda3/lib/python3.7/site-packages/optuna/trial/_trial.py:592: UserWarning: The reported value is ignored because this `step` 60 is already reported.\n",
      "  step\n",
      "/Users/brent/anaconda3/lib/python3.7/site-packages/optuna/trial/_trial.py:592: UserWarning: The reported value is ignored because this `step` 61 is already reported.\n",
      "  step\n"
     ]
    },
    {
     "name": "stdout",
     "output_type": "stream",
     "text": [
      "[61]\tvalid_0's auc: 0.735314\n",
      "[62]\tvalid_0's auc: 0.735419\n"
     ]
    },
    {
     "name": "stderr",
     "output_type": "stream",
     "text": [
      "/Users/brent/anaconda3/lib/python3.7/site-packages/optuna/trial/_trial.py:592: UserWarning: The reported value is ignored because this `step` 62 is already reported.\n",
      "  step\n",
      "/Users/brent/anaconda3/lib/python3.7/site-packages/optuna/trial/_trial.py:592: UserWarning: The reported value is ignored because this `step` 63 is already reported.\n",
      "  step\n"
     ]
    },
    {
     "name": "stdout",
     "output_type": "stream",
     "text": [
      "[63]\tvalid_0's auc: 0.735296\n",
      "[64]\tvalid_0's auc: 0.73534\n"
     ]
    },
    {
     "name": "stderr",
     "output_type": "stream",
     "text": [
      "/Users/brent/anaconda3/lib/python3.7/site-packages/optuna/trial/_trial.py:592: UserWarning: The reported value is ignored because this `step` 64 is already reported.\n",
      "  step\n",
      "/Users/brent/anaconda3/lib/python3.7/site-packages/optuna/trial/_trial.py:592: UserWarning: The reported value is ignored because this `step` 65 is already reported.\n",
      "  step\n"
     ]
    },
    {
     "name": "stdout",
     "output_type": "stream",
     "text": [
      "[65]\tvalid_0's auc: 0.735391\n",
      "[66]\tvalid_0's auc: 0.735416\n"
     ]
    },
    {
     "name": "stderr",
     "output_type": "stream",
     "text": [
      "/Users/brent/anaconda3/lib/python3.7/site-packages/optuna/trial/_trial.py:592: UserWarning: The reported value is ignored because this `step` 66 is already reported.\n",
      "  step\n",
      "/Users/brent/anaconda3/lib/python3.7/site-packages/optuna/trial/_trial.py:592: UserWarning: The reported value is ignored because this `step` 67 is already reported.\n",
      "  step\n"
     ]
    },
    {
     "name": "stdout",
     "output_type": "stream",
     "text": [
      "[67]\tvalid_0's auc: 0.73553\n",
      "[68]\tvalid_0's auc: 0.735504\n"
     ]
    },
    {
     "name": "stderr",
     "output_type": "stream",
     "text": [
      "/Users/brent/anaconda3/lib/python3.7/site-packages/optuna/trial/_trial.py:592: UserWarning: The reported value is ignored because this `step` 68 is already reported.\n",
      "  step\n",
      "/Users/brent/anaconda3/lib/python3.7/site-packages/optuna/trial/_trial.py:592: UserWarning: The reported value is ignored because this `step` 69 is already reported.\n",
      "  step\n"
     ]
    },
    {
     "name": "stdout",
     "output_type": "stream",
     "text": [
      "[69]\tvalid_0's auc: 0.735558\n",
      "[70]\tvalid_0's auc: 0.73569\n"
     ]
    },
    {
     "name": "stderr",
     "output_type": "stream",
     "text": [
      "/Users/brent/anaconda3/lib/python3.7/site-packages/optuna/trial/_trial.py:592: UserWarning: The reported value is ignored because this `step` 70 is already reported.\n",
      "  step\n",
      "/Users/brent/anaconda3/lib/python3.7/site-packages/optuna/trial/_trial.py:592: UserWarning: The reported value is ignored because this `step` 71 is already reported.\n",
      "  step\n"
     ]
    },
    {
     "name": "stdout",
     "output_type": "stream",
     "text": [
      "[71]\tvalid_0's auc: 0.735679\n",
      "[72]\tvalid_0's auc: 0.735651\n"
     ]
    },
    {
     "name": "stderr",
     "output_type": "stream",
     "text": [
      "/Users/brent/anaconda3/lib/python3.7/site-packages/optuna/trial/_trial.py:592: UserWarning: The reported value is ignored because this `step` 72 is already reported.\n",
      "  step\n",
      "/Users/brent/anaconda3/lib/python3.7/site-packages/optuna/trial/_trial.py:592: UserWarning: The reported value is ignored because this `step` 73 is already reported.\n",
      "  step\n"
     ]
    },
    {
     "name": "stdout",
     "output_type": "stream",
     "text": [
      "[73]\tvalid_0's auc: 0.735668\n",
      "[74]\tvalid_0's auc: 0.735802\n"
     ]
    },
    {
     "name": "stderr",
     "output_type": "stream",
     "text": [
      "/Users/brent/anaconda3/lib/python3.7/site-packages/optuna/trial/_trial.py:592: UserWarning: The reported value is ignored because this `step` 74 is already reported.\n",
      "  step\n",
      "/Users/brent/anaconda3/lib/python3.7/site-packages/optuna/trial/_trial.py:592: UserWarning: The reported value is ignored because this `step` 75 is already reported.\n",
      "  step\n"
     ]
    },
    {
     "name": "stdout",
     "output_type": "stream",
     "text": [
      "[75]\tvalid_0's auc: 0.73577\n",
      "[76]\tvalid_0's auc: 0.735816\n"
     ]
    },
    {
     "name": "stderr",
     "output_type": "stream",
     "text": [
      "/Users/brent/anaconda3/lib/python3.7/site-packages/optuna/trial/_trial.py:592: UserWarning: The reported value is ignored because this `step` 76 is already reported.\n",
      "  step\n",
      "/Users/brent/anaconda3/lib/python3.7/site-packages/optuna/trial/_trial.py:592: UserWarning: The reported value is ignored because this `step` 77 is already reported.\n",
      "  step\n"
     ]
    },
    {
     "name": "stdout",
     "output_type": "stream",
     "text": [
      "[77]\tvalid_0's auc: 0.735751\n",
      "[78]\tvalid_0's auc: 0.735834\n"
     ]
    },
    {
     "name": "stderr",
     "output_type": "stream",
     "text": [
      "/Users/brent/anaconda3/lib/python3.7/site-packages/optuna/trial/_trial.py:592: UserWarning: The reported value is ignored because this `step` 78 is already reported.\n",
      "  step\n",
      "/Users/brent/anaconda3/lib/python3.7/site-packages/optuna/trial/_trial.py:592: UserWarning: The reported value is ignored because this `step` 79 is already reported.\n",
      "  step\n"
     ]
    },
    {
     "name": "stdout",
     "output_type": "stream",
     "text": [
      "[79]\tvalid_0's auc: 0.736037\n",
      "[80]\tvalid_0's auc: 0.7364\n"
     ]
    },
    {
     "name": "stderr",
     "output_type": "stream",
     "text": [
      "/Users/brent/anaconda3/lib/python3.7/site-packages/optuna/trial/_trial.py:592: UserWarning: The reported value is ignored because this `step` 80 is already reported.\n",
      "  step\n",
      "/Users/brent/anaconda3/lib/python3.7/site-packages/optuna/trial/_trial.py:592: UserWarning: The reported value is ignored because this `step` 81 is already reported.\n",
      "  step\n"
     ]
    },
    {
     "name": "stdout",
     "output_type": "stream",
     "text": [
      "[81]\tvalid_0's auc: 0.736427\n",
      "[82]\tvalid_0's auc: 0.7365\n"
     ]
    },
    {
     "name": "stderr",
     "output_type": "stream",
     "text": [
      "/Users/brent/anaconda3/lib/python3.7/site-packages/optuna/trial/_trial.py:592: UserWarning: The reported value is ignored because this `step` 82 is already reported.\n",
      "  step\n",
      "/Users/brent/anaconda3/lib/python3.7/site-packages/optuna/trial/_trial.py:592: UserWarning: The reported value is ignored because this `step` 83 is already reported.\n",
      "  step\n"
     ]
    },
    {
     "name": "stdout",
     "output_type": "stream",
     "text": [
      "[83]\tvalid_0's auc: 0.736754\n",
      "[84]\tvalid_0's auc: 0.736918\n"
     ]
    },
    {
     "name": "stderr",
     "output_type": "stream",
     "text": [
      "/Users/brent/anaconda3/lib/python3.7/site-packages/optuna/trial/_trial.py:592: UserWarning: The reported value is ignored because this `step` 84 is already reported.\n",
      "  step\n",
      "/Users/brent/anaconda3/lib/python3.7/site-packages/optuna/trial/_trial.py:592: UserWarning: The reported value is ignored because this `step` 85 is already reported.\n",
      "  step\n"
     ]
    },
    {
     "name": "stdout",
     "output_type": "stream",
     "text": [
      "[85]\tvalid_0's auc: 0.736936\n",
      "[86]\tvalid_0's auc: 0.736884\n"
     ]
    },
    {
     "name": "stderr",
     "output_type": "stream",
     "text": [
      "/Users/brent/anaconda3/lib/python3.7/site-packages/optuna/trial/_trial.py:592: UserWarning: The reported value is ignored because this `step` 86 is already reported.\n",
      "  step\n",
      "/Users/brent/anaconda3/lib/python3.7/site-packages/optuna/trial/_trial.py:592: UserWarning: The reported value is ignored because this `step` 87 is already reported.\n",
      "  step\n"
     ]
    },
    {
     "name": "stdout",
     "output_type": "stream",
     "text": [
      "[87]\tvalid_0's auc: 0.736905\n",
      "[88]\tvalid_0's auc: 0.73686\n"
     ]
    },
    {
     "name": "stderr",
     "output_type": "stream",
     "text": [
      "/Users/brent/anaconda3/lib/python3.7/site-packages/optuna/trial/_trial.py:592: UserWarning: The reported value is ignored because this `step` 88 is already reported.\n",
      "  step\n",
      "/Users/brent/anaconda3/lib/python3.7/site-packages/optuna/trial/_trial.py:592: UserWarning: The reported value is ignored because this `step` 89 is already reported.\n",
      "  step\n"
     ]
    },
    {
     "name": "stdout",
     "output_type": "stream",
     "text": [
      "[89]\tvalid_0's auc: 0.73685\n",
      "[90]\tvalid_0's auc: 0.736792\n"
     ]
    },
    {
     "name": "stderr",
     "output_type": "stream",
     "text": [
      "/Users/brent/anaconda3/lib/python3.7/site-packages/optuna/trial/_trial.py:592: UserWarning: The reported value is ignored because this `step` 90 is already reported.\n",
      "  step\n",
      "/Users/brent/anaconda3/lib/python3.7/site-packages/optuna/trial/_trial.py:592: UserWarning: The reported value is ignored because this `step` 91 is already reported.\n",
      "  step\n"
     ]
    },
    {
     "name": "stdout",
     "output_type": "stream",
     "text": [
      "[91]\tvalid_0's auc: 0.736817\n",
      "[92]\tvalid_0's auc: 0.73687\n"
     ]
    },
    {
     "name": "stderr",
     "output_type": "stream",
     "text": [
      "/Users/brent/anaconda3/lib/python3.7/site-packages/optuna/trial/_trial.py:592: UserWarning: The reported value is ignored because this `step` 92 is already reported.\n",
      "  step\n",
      "/Users/brent/anaconda3/lib/python3.7/site-packages/optuna/trial/_trial.py:592: UserWarning: The reported value is ignored because this `step` 93 is already reported.\n",
      "  step\n"
     ]
    },
    {
     "name": "stdout",
     "output_type": "stream",
     "text": [
      "[93]\tvalid_0's auc: 0.736817\n",
      "[94]\tvalid_0's auc: 0.736943\n"
     ]
    },
    {
     "name": "stderr",
     "output_type": "stream",
     "text": [
      "/Users/brent/anaconda3/lib/python3.7/site-packages/optuna/trial/_trial.py:592: UserWarning: The reported value is ignored because this `step` 94 is already reported.\n",
      "  step\n",
      "/Users/brent/anaconda3/lib/python3.7/site-packages/optuna/trial/_trial.py:592: UserWarning: The reported value is ignored because this `step` 95 is already reported.\n",
      "  step\n"
     ]
    },
    {
     "name": "stdout",
     "output_type": "stream",
     "text": [
      "[95]\tvalid_0's auc: 0.736944\n",
      "[96]\tvalid_0's auc: 0.737025\n"
     ]
    },
    {
     "name": "stderr",
     "output_type": "stream",
     "text": [
      "/Users/brent/anaconda3/lib/python3.7/site-packages/optuna/trial/_trial.py:592: UserWarning: The reported value is ignored because this `step` 96 is already reported.\n",
      "  step\n",
      "/Users/brent/anaconda3/lib/python3.7/site-packages/optuna/trial/_trial.py:592: UserWarning: The reported value is ignored because this `step` 97 is already reported.\n",
      "  step\n"
     ]
    },
    {
     "name": "stdout",
     "output_type": "stream",
     "text": [
      "[97]\tvalid_0's auc: 0.737002\n",
      "[98]\tvalid_0's auc: 0.737004\n"
     ]
    },
    {
     "name": "stderr",
     "output_type": "stream",
     "text": [
      "/Users/brent/anaconda3/lib/python3.7/site-packages/optuna/trial/_trial.py:592: UserWarning: The reported value is ignored because this `step` 98 is already reported.\n",
      "  step\n",
      "/Users/brent/anaconda3/lib/python3.7/site-packages/optuna/trial/_trial.py:592: UserWarning: The reported value is ignored because this `step` 99 is already reported.\n",
      "  step\n"
     ]
    },
    {
     "name": "stdout",
     "output_type": "stream",
     "text": [
      "[99]\tvalid_0's auc: 0.737061\n",
      "[100]\tvalid_0's auc: 0.737108\n",
      "Did not meet early stopping. Best iteration is:\n",
      "[100]\tvalid_0's auc: 0.737108\n",
      "[LightGBM] [Warning] bagging_freq is set=7, subsample_freq=0 will be ignored. Current value: bagging_freq=7\n",
      "[LightGBM] [Warning] lambda_l2 is set=0.010563636730884446, reg_lambda=0.0 will be ignored. Current value: lambda_l2=0.010563636730884446\n",
      "[LightGBM] [Warning] feature_fraction is set=0.6985167051101896, colsample_bytree=1.0 will be ignored. Current value: feature_fraction=0.6985167051101896\n",
      "[LightGBM] [Warning] bagging_fraction is set=0.6173898224093576, subsample=1.0 will be ignored. Current value: bagging_fraction=0.6173898224093576\n",
      "[LightGBM] [Warning] lambda_l1 is set=0.10497910930620098, reg_alpha=0.0 will be ignored. Current value: lambda_l1=0.10497910930620098\n"
     ]
    },
    {
     "name": "stderr",
     "output_type": "stream",
     "text": [
      "/Users/brent/anaconda3/lib/python3.7/site-packages/optuna/trial/_trial.py:592: UserWarning: The reported value is ignored because this `step` 0 is already reported.\n",
      "  step\n",
      "/Users/brent/anaconda3/lib/python3.7/site-packages/optuna/trial/_trial.py:592: UserWarning: The reported value is ignored because this `step` 1 is already reported.\n",
      "  step\n"
     ]
    },
    {
     "name": "stdout",
     "output_type": "stream",
     "text": [
      "[1]\tvalid_0's auc: 0.697948\n",
      "Training until validation scores don't improve for 100 rounds\n",
      "[2]\tvalid_0's auc: 0.703967\n"
     ]
    },
    {
     "name": "stderr",
     "output_type": "stream",
     "text": [
      "/Users/brent/anaconda3/lib/python3.7/site-packages/optuna/trial/_trial.py:592: UserWarning: The reported value is ignored because this `step` 2 is already reported.\n",
      "  step\n",
      "/Users/brent/anaconda3/lib/python3.7/site-packages/optuna/trial/_trial.py:592: UserWarning: The reported value is ignored because this `step` 3 is already reported.\n",
      "  step\n"
     ]
    },
    {
     "name": "stdout",
     "output_type": "stream",
     "text": [
      "[3]\tvalid_0's auc: 0.707603\n",
      "[4]\tvalid_0's auc: 0.711542\n"
     ]
    },
    {
     "name": "stderr",
     "output_type": "stream",
     "text": [
      "/Users/brent/anaconda3/lib/python3.7/site-packages/optuna/trial/_trial.py:592: UserWarning: The reported value is ignored because this `step` 4 is already reported.\n",
      "  step\n",
      "/Users/brent/anaconda3/lib/python3.7/site-packages/optuna/trial/_trial.py:592: UserWarning: The reported value is ignored because this `step` 5 is already reported.\n",
      "  step\n"
     ]
    },
    {
     "name": "stdout",
     "output_type": "stream",
     "text": [
      "[5]\tvalid_0's auc: 0.716516\n",
      "[6]\tvalid_0's auc: 0.71624\n"
     ]
    },
    {
     "name": "stderr",
     "output_type": "stream",
     "text": [
      "/Users/brent/anaconda3/lib/python3.7/site-packages/optuna/trial/_trial.py:592: UserWarning: The reported value is ignored because this `step` 6 is already reported.\n",
      "  step\n",
      "/Users/brent/anaconda3/lib/python3.7/site-packages/optuna/trial/_trial.py:592: UserWarning: The reported value is ignored because this `step` 7 is already reported.\n",
      "  step\n"
     ]
    },
    {
     "name": "stdout",
     "output_type": "stream",
     "text": [
      "[7]\tvalid_0's auc: 0.715528\n",
      "[8]\tvalid_0's auc: 0.720195\n"
     ]
    },
    {
     "name": "stderr",
     "output_type": "stream",
     "text": [
      "/Users/brent/anaconda3/lib/python3.7/site-packages/optuna/trial/_trial.py:592: UserWarning: The reported value is ignored because this `step` 8 is already reported.\n",
      "  step\n",
      "/Users/brent/anaconda3/lib/python3.7/site-packages/optuna/trial/_trial.py:592: UserWarning: The reported value is ignored because this `step` 9 is already reported.\n",
      "  step\n"
     ]
    },
    {
     "name": "stdout",
     "output_type": "stream",
     "text": [
      "[9]\tvalid_0's auc: 0.724122\n",
      "[10]\tvalid_0's auc: 0.726483\n"
     ]
    },
    {
     "name": "stderr",
     "output_type": "stream",
     "text": [
      "/Users/brent/anaconda3/lib/python3.7/site-packages/optuna/trial/_trial.py:592: UserWarning: The reported value is ignored because this `step` 10 is already reported.\n",
      "  step\n",
      "/Users/brent/anaconda3/lib/python3.7/site-packages/optuna/trial/_trial.py:592: UserWarning: The reported value is ignored because this `step` 11 is already reported.\n",
      "  step\n"
     ]
    },
    {
     "name": "stdout",
     "output_type": "stream",
     "text": [
      "[11]\tvalid_0's auc: 0.729207\n",
      "[12]\tvalid_0's auc: 0.730549\n"
     ]
    },
    {
     "name": "stderr",
     "output_type": "stream",
     "text": [
      "/Users/brent/anaconda3/lib/python3.7/site-packages/optuna/trial/_trial.py:592: UserWarning: The reported value is ignored because this `step` 12 is already reported.\n",
      "  step\n",
      "/Users/brent/anaconda3/lib/python3.7/site-packages/optuna/trial/_trial.py:592: UserWarning: The reported value is ignored because this `step` 13 is already reported.\n",
      "  step\n"
     ]
    },
    {
     "name": "stdout",
     "output_type": "stream",
     "text": [
      "[13]\tvalid_0's auc: 0.731191\n",
      "[14]\tvalid_0's auc: 0.732273\n"
     ]
    },
    {
     "name": "stderr",
     "output_type": "stream",
     "text": [
      "/Users/brent/anaconda3/lib/python3.7/site-packages/optuna/trial/_trial.py:592: UserWarning: The reported value is ignored because this `step` 14 is already reported.\n",
      "  step\n",
      "/Users/brent/anaconda3/lib/python3.7/site-packages/optuna/trial/_trial.py:592: UserWarning: The reported value is ignored because this `step` 15 is already reported.\n",
      "  step\n"
     ]
    },
    {
     "name": "stdout",
     "output_type": "stream",
     "text": [
      "[15]\tvalid_0's auc: 0.733183\n",
      "[16]\tvalid_0's auc: 0.733717\n"
     ]
    },
    {
     "name": "stderr",
     "output_type": "stream",
     "text": [
      "/Users/brent/anaconda3/lib/python3.7/site-packages/optuna/trial/_trial.py:592: UserWarning: The reported value is ignored because this `step` 16 is already reported.\n",
      "  step\n",
      "/Users/brent/anaconda3/lib/python3.7/site-packages/optuna/trial/_trial.py:592: UserWarning: The reported value is ignored because this `step` 17 is already reported.\n",
      "  step\n"
     ]
    },
    {
     "name": "stdout",
     "output_type": "stream",
     "text": [
      "[17]\tvalid_0's auc: 0.733937\n",
      "[18]\tvalid_0's auc: 0.734238\n"
     ]
    },
    {
     "name": "stderr",
     "output_type": "stream",
     "text": [
      "/Users/brent/anaconda3/lib/python3.7/site-packages/optuna/trial/_trial.py:592: UserWarning: The reported value is ignored because this `step` 18 is already reported.\n",
      "  step\n",
      "/Users/brent/anaconda3/lib/python3.7/site-packages/optuna/trial/_trial.py:592: UserWarning: The reported value is ignored because this `step` 19 is already reported.\n",
      "  step\n"
     ]
    },
    {
     "name": "stdout",
     "output_type": "stream",
     "text": [
      "[19]\tvalid_0's auc: 0.734436\n",
      "[20]\tvalid_0's auc: 0.734293\n"
     ]
    },
    {
     "name": "stderr",
     "output_type": "stream",
     "text": [
      "/Users/brent/anaconda3/lib/python3.7/site-packages/optuna/trial/_trial.py:592: UserWarning: The reported value is ignored because this `step` 20 is already reported.\n",
      "  step\n",
      "/Users/brent/anaconda3/lib/python3.7/site-packages/optuna/trial/_trial.py:592: UserWarning: The reported value is ignored because this `step` 21 is already reported.\n",
      "  step\n"
     ]
    },
    {
     "name": "stdout",
     "output_type": "stream",
     "text": [
      "[21]\tvalid_0's auc: 0.735653\n",
      "[22]\tvalid_0's auc: 0.73657\n"
     ]
    },
    {
     "name": "stderr",
     "output_type": "stream",
     "text": [
      "/Users/brent/anaconda3/lib/python3.7/site-packages/optuna/trial/_trial.py:592: UserWarning: The reported value is ignored because this `step` 22 is already reported.\n",
      "  step\n",
      "/Users/brent/anaconda3/lib/python3.7/site-packages/optuna/trial/_trial.py:592: UserWarning: The reported value is ignored because this `step` 23 is already reported.\n",
      "  step\n"
     ]
    },
    {
     "name": "stdout",
     "output_type": "stream",
     "text": [
      "[23]\tvalid_0's auc: 0.737054\n",
      "[24]\tvalid_0's auc: 0.737516\n"
     ]
    },
    {
     "name": "stderr",
     "output_type": "stream",
     "text": [
      "/Users/brent/anaconda3/lib/python3.7/site-packages/optuna/trial/_trial.py:592: UserWarning: The reported value is ignored because this `step` 24 is already reported.\n",
      "  step\n",
      "/Users/brent/anaconda3/lib/python3.7/site-packages/optuna/trial/_trial.py:592: UserWarning: The reported value is ignored because this `step` 25 is already reported.\n",
      "  step\n"
     ]
    },
    {
     "name": "stdout",
     "output_type": "stream",
     "text": [
      "[25]\tvalid_0's auc: 0.737859\n",
      "[26]\tvalid_0's auc: 0.73799\n"
     ]
    },
    {
     "name": "stderr",
     "output_type": "stream",
     "text": [
      "/Users/brent/anaconda3/lib/python3.7/site-packages/optuna/trial/_trial.py:592: UserWarning: The reported value is ignored because this `step` 26 is already reported.\n",
      "  step\n",
      "/Users/brent/anaconda3/lib/python3.7/site-packages/optuna/trial/_trial.py:592: UserWarning: The reported value is ignored because this `step` 27 is already reported.\n",
      "  step\n"
     ]
    },
    {
     "name": "stdout",
     "output_type": "stream",
     "text": [
      "[27]\tvalid_0's auc: 0.738269\n",
      "[28]\tvalid_0's auc: 0.738098\n"
     ]
    },
    {
     "name": "stderr",
     "output_type": "stream",
     "text": [
      "/Users/brent/anaconda3/lib/python3.7/site-packages/optuna/trial/_trial.py:592: UserWarning: The reported value is ignored because this `step` 28 is already reported.\n",
      "  step\n",
      "/Users/brent/anaconda3/lib/python3.7/site-packages/optuna/trial/_trial.py:592: UserWarning: The reported value is ignored because this `step` 29 is already reported.\n",
      "  step\n"
     ]
    },
    {
     "name": "stdout",
     "output_type": "stream",
     "text": [
      "[29]\tvalid_0's auc: 0.738894\n",
      "[30]\tvalid_0's auc: 0.739392\n"
     ]
    },
    {
     "name": "stderr",
     "output_type": "stream",
     "text": [
      "/Users/brent/anaconda3/lib/python3.7/site-packages/optuna/trial/_trial.py:592: UserWarning: The reported value is ignored because this `step` 30 is already reported.\n",
      "  step\n",
      "/Users/brent/anaconda3/lib/python3.7/site-packages/optuna/trial/_trial.py:592: UserWarning: The reported value is ignored because this `step` 31 is already reported.\n",
      "  step\n"
     ]
    },
    {
     "name": "stdout",
     "output_type": "stream",
     "text": [
      "[31]\tvalid_0's auc: 0.739641\n",
      "[32]\tvalid_0's auc: 0.739914\n"
     ]
    },
    {
     "name": "stderr",
     "output_type": "stream",
     "text": [
      "/Users/brent/anaconda3/lib/python3.7/site-packages/optuna/trial/_trial.py:592: UserWarning: The reported value is ignored because this `step` 32 is already reported.\n",
      "  step\n",
      "/Users/brent/anaconda3/lib/python3.7/site-packages/optuna/trial/_trial.py:592: UserWarning: The reported value is ignored because this `step` 33 is already reported.\n",
      "  step\n"
     ]
    },
    {
     "name": "stdout",
     "output_type": "stream",
     "text": [
      "[33]\tvalid_0's auc: 0.739949\n",
      "[34]\tvalid_0's auc: 0.740157\n"
     ]
    },
    {
     "name": "stderr",
     "output_type": "stream",
     "text": [
      "/Users/brent/anaconda3/lib/python3.7/site-packages/optuna/trial/_trial.py:592: UserWarning: The reported value is ignored because this `step` 34 is already reported.\n",
      "  step\n",
      "/Users/brent/anaconda3/lib/python3.7/site-packages/optuna/trial/_trial.py:592: UserWarning: The reported value is ignored because this `step` 35 is already reported.\n",
      "  step\n"
     ]
    },
    {
     "name": "stdout",
     "output_type": "stream",
     "text": [
      "[35]\tvalid_0's auc: 0.74018\n",
      "[36]\tvalid_0's auc: 0.740278\n"
     ]
    },
    {
     "name": "stderr",
     "output_type": "stream",
     "text": [
      "/Users/brent/anaconda3/lib/python3.7/site-packages/optuna/trial/_trial.py:592: UserWarning: The reported value is ignored because this `step` 36 is already reported.\n",
      "  step\n",
      "/Users/brent/anaconda3/lib/python3.7/site-packages/optuna/trial/_trial.py:592: UserWarning: The reported value is ignored because this `step` 37 is already reported.\n",
      "  step\n"
     ]
    },
    {
     "name": "stdout",
     "output_type": "stream",
     "text": [
      "[37]\tvalid_0's auc: 0.740385\n",
      "[38]\tvalid_0's auc: 0.740442\n"
     ]
    },
    {
     "name": "stderr",
     "output_type": "stream",
     "text": [
      "/Users/brent/anaconda3/lib/python3.7/site-packages/optuna/trial/_trial.py:592: UserWarning: The reported value is ignored because this `step` 38 is already reported.\n",
      "  step\n",
      "/Users/brent/anaconda3/lib/python3.7/site-packages/optuna/trial/_trial.py:592: UserWarning: The reported value is ignored because this `step` 39 is already reported.\n",
      "  step\n"
     ]
    },
    {
     "name": "stdout",
     "output_type": "stream",
     "text": [
      "[39]\tvalid_0's auc: 0.740813\n",
      "[40]\tvalid_0's auc: 0.740756\n"
     ]
    },
    {
     "name": "stderr",
     "output_type": "stream",
     "text": [
      "/Users/brent/anaconda3/lib/python3.7/site-packages/optuna/trial/_trial.py:592: UserWarning: The reported value is ignored because this `step` 40 is already reported.\n",
      "  step\n",
      "/Users/brent/anaconda3/lib/python3.7/site-packages/optuna/trial/_trial.py:592: UserWarning: The reported value is ignored because this `step` 41 is already reported.\n",
      "  step\n"
     ]
    },
    {
     "name": "stdout",
     "output_type": "stream",
     "text": [
      "[41]\tvalid_0's auc: 0.740823\n",
      "[42]\tvalid_0's auc: 0.740904\n"
     ]
    },
    {
     "name": "stderr",
     "output_type": "stream",
     "text": [
      "/Users/brent/anaconda3/lib/python3.7/site-packages/optuna/trial/_trial.py:592: UserWarning: The reported value is ignored because this `step` 42 is already reported.\n",
      "  step\n",
      "/Users/brent/anaconda3/lib/python3.7/site-packages/optuna/trial/_trial.py:592: UserWarning: The reported value is ignored because this `step` 43 is already reported.\n",
      "  step\n"
     ]
    },
    {
     "name": "stdout",
     "output_type": "stream",
     "text": [
      "[43]\tvalid_0's auc: 0.741123\n",
      "[44]\tvalid_0's auc: 0.741362\n"
     ]
    },
    {
     "name": "stderr",
     "output_type": "stream",
     "text": [
      "/Users/brent/anaconda3/lib/python3.7/site-packages/optuna/trial/_trial.py:592: UserWarning: The reported value is ignored because this `step` 44 is already reported.\n",
      "  step\n",
      "/Users/brent/anaconda3/lib/python3.7/site-packages/optuna/trial/_trial.py:592: UserWarning: The reported value is ignored because this `step` 45 is already reported.\n",
      "  step\n"
     ]
    },
    {
     "name": "stdout",
     "output_type": "stream",
     "text": [
      "[45]\tvalid_0's auc: 0.741417\n",
      "[46]\tvalid_0's auc: 0.741389\n"
     ]
    },
    {
     "name": "stderr",
     "output_type": "stream",
     "text": [
      "/Users/brent/anaconda3/lib/python3.7/site-packages/optuna/trial/_trial.py:592: UserWarning: The reported value is ignored because this `step` 46 is already reported.\n",
      "  step\n",
      "/Users/brent/anaconda3/lib/python3.7/site-packages/optuna/trial/_trial.py:592: UserWarning: The reported value is ignored because this `step` 47 is already reported.\n",
      "  step\n"
     ]
    },
    {
     "name": "stdout",
     "output_type": "stream",
     "text": [
      "[47]\tvalid_0's auc: 0.741534\n",
      "[48]\tvalid_0's auc: 0.74183\n"
     ]
    },
    {
     "name": "stderr",
     "output_type": "stream",
     "text": [
      "/Users/brent/anaconda3/lib/python3.7/site-packages/optuna/trial/_trial.py:592: UserWarning: The reported value is ignored because this `step` 48 is already reported.\n",
      "  step\n",
      "/Users/brent/anaconda3/lib/python3.7/site-packages/optuna/trial/_trial.py:592: UserWarning: The reported value is ignored because this `step` 49 is already reported.\n",
      "  step\n"
     ]
    },
    {
     "name": "stdout",
     "output_type": "stream",
     "text": [
      "[49]\tvalid_0's auc: 0.741781\n",
      "[50]\tvalid_0's auc: 0.742221\n"
     ]
    },
    {
     "name": "stderr",
     "output_type": "stream",
     "text": [
      "/Users/brent/anaconda3/lib/python3.7/site-packages/optuna/trial/_trial.py:592: UserWarning: The reported value is ignored because this `step` 50 is already reported.\n",
      "  step\n",
      "/Users/brent/anaconda3/lib/python3.7/site-packages/optuna/trial/_trial.py:592: UserWarning: The reported value is ignored because this `step` 51 is already reported.\n",
      "  step\n"
     ]
    },
    {
     "name": "stdout",
     "output_type": "stream",
     "text": [
      "[51]\tvalid_0's auc: 0.742057\n",
      "[52]\tvalid_0's auc: 0.742\n"
     ]
    },
    {
     "name": "stderr",
     "output_type": "stream",
     "text": [
      "/Users/brent/anaconda3/lib/python3.7/site-packages/optuna/trial/_trial.py:592: UserWarning: The reported value is ignored because this `step` 52 is already reported.\n",
      "  step\n",
      "/Users/brent/anaconda3/lib/python3.7/site-packages/optuna/trial/_trial.py:592: UserWarning: The reported value is ignored because this `step` 53 is already reported.\n",
      "  step\n"
     ]
    },
    {
     "name": "stdout",
     "output_type": "stream",
     "text": [
      "[53]\tvalid_0's auc: 0.741921\n",
      "[54]\tvalid_0's auc: 0.741848\n"
     ]
    },
    {
     "name": "stderr",
     "output_type": "stream",
     "text": [
      "/Users/brent/anaconda3/lib/python3.7/site-packages/optuna/trial/_trial.py:592: UserWarning: The reported value is ignored because this `step` 54 is already reported.\n",
      "  step\n",
      "/Users/brent/anaconda3/lib/python3.7/site-packages/optuna/trial/_trial.py:592: UserWarning: The reported value is ignored because this `step` 55 is already reported.\n",
      "  step\n"
     ]
    },
    {
     "name": "stdout",
     "output_type": "stream",
     "text": [
      "[55]\tvalid_0's auc: 0.741724\n",
      "[56]\tvalid_0's auc: 0.74152\n"
     ]
    },
    {
     "name": "stderr",
     "output_type": "stream",
     "text": [
      "/Users/brent/anaconda3/lib/python3.7/site-packages/optuna/trial/_trial.py:592: UserWarning: The reported value is ignored because this `step` 56 is already reported.\n",
      "  step\n",
      "/Users/brent/anaconda3/lib/python3.7/site-packages/optuna/trial/_trial.py:592: UserWarning: The reported value is ignored because this `step` 57 is already reported.\n",
      "  step\n"
     ]
    },
    {
     "name": "stdout",
     "output_type": "stream",
     "text": [
      "[57]\tvalid_0's auc: 0.741585\n",
      "[58]\tvalid_0's auc: 0.741527\n"
     ]
    },
    {
     "name": "stderr",
     "output_type": "stream",
     "text": [
      "/Users/brent/anaconda3/lib/python3.7/site-packages/optuna/trial/_trial.py:592: UserWarning: The reported value is ignored because this `step` 58 is already reported.\n",
      "  step\n",
      "/Users/brent/anaconda3/lib/python3.7/site-packages/optuna/trial/_trial.py:592: UserWarning: The reported value is ignored because this `step` 59 is already reported.\n",
      "  step\n"
     ]
    },
    {
     "name": "stdout",
     "output_type": "stream",
     "text": [
      "[59]\tvalid_0's auc: 0.741546\n",
      "[60]\tvalid_0's auc: 0.741535\n"
     ]
    },
    {
     "name": "stderr",
     "output_type": "stream",
     "text": [
      "/Users/brent/anaconda3/lib/python3.7/site-packages/optuna/trial/_trial.py:592: UserWarning: The reported value is ignored because this `step` 60 is already reported.\n",
      "  step\n",
      "/Users/brent/anaconda3/lib/python3.7/site-packages/optuna/trial/_trial.py:592: UserWarning: The reported value is ignored because this `step` 61 is already reported.\n",
      "  step\n"
     ]
    },
    {
     "name": "stdout",
     "output_type": "stream",
     "text": [
      "[61]\tvalid_0's auc: 0.741515\n",
      "[62]\tvalid_0's auc: 0.741463\n"
     ]
    },
    {
     "name": "stderr",
     "output_type": "stream",
     "text": [
      "/Users/brent/anaconda3/lib/python3.7/site-packages/optuna/trial/_trial.py:592: UserWarning: The reported value is ignored because this `step` 62 is already reported.\n",
      "  step\n",
      "/Users/brent/anaconda3/lib/python3.7/site-packages/optuna/trial/_trial.py:592: UserWarning: The reported value is ignored because this `step` 63 is already reported.\n",
      "  step\n"
     ]
    },
    {
     "name": "stdout",
     "output_type": "stream",
     "text": [
      "[63]\tvalid_0's auc: 0.741443\n",
      "[64]\tvalid_0's auc: 0.74149\n"
     ]
    },
    {
     "name": "stderr",
     "output_type": "stream",
     "text": [
      "/Users/brent/anaconda3/lib/python3.7/site-packages/optuna/trial/_trial.py:592: UserWarning: The reported value is ignored because this `step` 64 is already reported.\n",
      "  step\n",
      "/Users/brent/anaconda3/lib/python3.7/site-packages/optuna/trial/_trial.py:592: UserWarning: The reported value is ignored because this `step` 65 is already reported.\n",
      "  step\n"
     ]
    },
    {
     "name": "stdout",
     "output_type": "stream",
     "text": [
      "[65]\tvalid_0's auc: 0.74145\n",
      "[66]\tvalid_0's auc: 0.741362\n"
     ]
    },
    {
     "name": "stderr",
     "output_type": "stream",
     "text": [
      "/Users/brent/anaconda3/lib/python3.7/site-packages/optuna/trial/_trial.py:592: UserWarning: The reported value is ignored because this `step` 66 is already reported.\n",
      "  step\n",
      "/Users/brent/anaconda3/lib/python3.7/site-packages/optuna/trial/_trial.py:592: UserWarning: The reported value is ignored because this `step` 67 is already reported.\n",
      "  step\n"
     ]
    },
    {
     "name": "stdout",
     "output_type": "stream",
     "text": [
      "[67]\tvalid_0's auc: 0.741349\n",
      "[68]\tvalid_0's auc: 0.741302\n"
     ]
    },
    {
     "name": "stderr",
     "output_type": "stream",
     "text": [
      "/Users/brent/anaconda3/lib/python3.7/site-packages/optuna/trial/_trial.py:592: UserWarning: The reported value is ignored because this `step` 68 is already reported.\n",
      "  step\n",
      "/Users/brent/anaconda3/lib/python3.7/site-packages/optuna/trial/_trial.py:592: UserWarning: The reported value is ignored because this `step` 69 is already reported.\n",
      "  step\n"
     ]
    },
    {
     "name": "stdout",
     "output_type": "stream",
     "text": [
      "[69]\tvalid_0's auc: 0.741245\n",
      "[70]\tvalid_0's auc: 0.741193\n"
     ]
    },
    {
     "name": "stderr",
     "output_type": "stream",
     "text": [
      "/Users/brent/anaconda3/lib/python3.7/site-packages/optuna/trial/_trial.py:592: UserWarning: The reported value is ignored because this `step` 70 is already reported.\n",
      "  step\n",
      "/Users/brent/anaconda3/lib/python3.7/site-packages/optuna/trial/_trial.py:592: UserWarning: The reported value is ignored because this `step` 71 is already reported.\n",
      "  step\n"
     ]
    },
    {
     "name": "stdout",
     "output_type": "stream",
     "text": [
      "[71]\tvalid_0's auc: 0.741287\n",
      "[72]\tvalid_0's auc: 0.741314\n"
     ]
    },
    {
     "name": "stderr",
     "output_type": "stream",
     "text": [
      "/Users/brent/anaconda3/lib/python3.7/site-packages/optuna/trial/_trial.py:592: UserWarning: The reported value is ignored because this `step` 72 is already reported.\n",
      "  step\n",
      "/Users/brent/anaconda3/lib/python3.7/site-packages/optuna/trial/_trial.py:592: UserWarning: The reported value is ignored because this `step` 73 is already reported.\n",
      "  step\n"
     ]
    },
    {
     "name": "stdout",
     "output_type": "stream",
     "text": [
      "[73]\tvalid_0's auc: 0.741386\n",
      "[74]\tvalid_0's auc: 0.741598\n"
     ]
    },
    {
     "name": "stderr",
     "output_type": "stream",
     "text": [
      "/Users/brent/anaconda3/lib/python3.7/site-packages/optuna/trial/_trial.py:592: UserWarning: The reported value is ignored because this `step` 74 is already reported.\n",
      "  step\n",
      "/Users/brent/anaconda3/lib/python3.7/site-packages/optuna/trial/_trial.py:592: UserWarning: The reported value is ignored because this `step` 75 is already reported.\n",
      "  step\n"
     ]
    },
    {
     "name": "stdout",
     "output_type": "stream",
     "text": [
      "[75]\tvalid_0's auc: 0.741606\n",
      "[76]\tvalid_0's auc: 0.741629\n"
     ]
    },
    {
     "name": "stderr",
     "output_type": "stream",
     "text": [
      "/Users/brent/anaconda3/lib/python3.7/site-packages/optuna/trial/_trial.py:592: UserWarning: The reported value is ignored because this `step` 76 is already reported.\n",
      "  step\n",
      "/Users/brent/anaconda3/lib/python3.7/site-packages/optuna/trial/_trial.py:592: UserWarning: The reported value is ignored because this `step` 77 is already reported.\n",
      "  step\n"
     ]
    },
    {
     "name": "stdout",
     "output_type": "stream",
     "text": [
      "[77]\tvalid_0's auc: 0.741647\n",
      "[78]\tvalid_0's auc: 0.741685\n"
     ]
    },
    {
     "name": "stderr",
     "output_type": "stream",
     "text": [
      "/Users/brent/anaconda3/lib/python3.7/site-packages/optuna/trial/_trial.py:592: UserWarning: The reported value is ignored because this `step` 78 is already reported.\n",
      "  step\n",
      "/Users/brent/anaconda3/lib/python3.7/site-packages/optuna/trial/_trial.py:592: UserWarning: The reported value is ignored because this `step` 79 is already reported.\n",
      "  step\n"
     ]
    },
    {
     "name": "stdout",
     "output_type": "stream",
     "text": [
      "[79]\tvalid_0's auc: 0.741818\n",
      "[80]\tvalid_0's auc: 0.742161\n"
     ]
    },
    {
     "name": "stderr",
     "output_type": "stream",
     "text": [
      "/Users/brent/anaconda3/lib/python3.7/site-packages/optuna/trial/_trial.py:592: UserWarning: The reported value is ignored because this `step` 80 is already reported.\n",
      "  step\n",
      "/Users/brent/anaconda3/lib/python3.7/site-packages/optuna/trial/_trial.py:592: UserWarning: The reported value is ignored because this `step` 81 is already reported.\n",
      "  step\n"
     ]
    },
    {
     "name": "stdout",
     "output_type": "stream",
     "text": [
      "[81]\tvalid_0's auc: 0.742156\n",
      "[82]\tvalid_0's auc: 0.742144\n"
     ]
    },
    {
     "name": "stderr",
     "output_type": "stream",
     "text": [
      "/Users/brent/anaconda3/lib/python3.7/site-packages/optuna/trial/_trial.py:592: UserWarning: The reported value is ignored because this `step` 82 is already reported.\n",
      "  step\n",
      "/Users/brent/anaconda3/lib/python3.7/site-packages/optuna/trial/_trial.py:592: UserWarning: The reported value is ignored because this `step` 83 is already reported.\n",
      "  step\n"
     ]
    },
    {
     "name": "stdout",
     "output_type": "stream",
     "text": [
      "[83]\tvalid_0's auc: 0.742438\n",
      "[84]\tvalid_0's auc: 0.742485\n"
     ]
    },
    {
     "name": "stderr",
     "output_type": "stream",
     "text": [
      "/Users/brent/anaconda3/lib/python3.7/site-packages/optuna/trial/_trial.py:592: UserWarning: The reported value is ignored because this `step` 84 is already reported.\n",
      "  step\n",
      "/Users/brent/anaconda3/lib/python3.7/site-packages/optuna/trial/_trial.py:592: UserWarning: The reported value is ignored because this `step` 85 is already reported.\n",
      "  step\n"
     ]
    },
    {
     "name": "stdout",
     "output_type": "stream",
     "text": [
      "[85]\tvalid_0's auc: 0.742449\n",
      "[86]\tvalid_0's auc: 0.74247\n"
     ]
    },
    {
     "name": "stderr",
     "output_type": "stream",
     "text": [
      "/Users/brent/anaconda3/lib/python3.7/site-packages/optuna/trial/_trial.py:592: UserWarning: The reported value is ignored because this `step` 86 is already reported.\n",
      "  step\n",
      "/Users/brent/anaconda3/lib/python3.7/site-packages/optuna/trial/_trial.py:592: UserWarning: The reported value is ignored because this `step` 87 is already reported.\n",
      "  step\n"
     ]
    },
    {
     "name": "stdout",
     "output_type": "stream",
     "text": [
      "[87]\tvalid_0's auc: 0.742371\n",
      "[88]\tvalid_0's auc: 0.742368\n"
     ]
    },
    {
     "name": "stderr",
     "output_type": "stream",
     "text": [
      "/Users/brent/anaconda3/lib/python3.7/site-packages/optuna/trial/_trial.py:592: UserWarning: The reported value is ignored because this `step` 88 is already reported.\n",
      "  step\n",
      "/Users/brent/anaconda3/lib/python3.7/site-packages/optuna/trial/_trial.py:592: UserWarning: The reported value is ignored because this `step` 89 is already reported.\n",
      "  step\n"
     ]
    },
    {
     "name": "stdout",
     "output_type": "stream",
     "text": [
      "[89]\tvalid_0's auc: 0.742272\n",
      "[90]\tvalid_0's auc: 0.742222\n"
     ]
    },
    {
     "name": "stderr",
     "output_type": "stream",
     "text": [
      "/Users/brent/anaconda3/lib/python3.7/site-packages/optuna/trial/_trial.py:592: UserWarning: The reported value is ignored because this `step` 90 is already reported.\n",
      "  step\n",
      "/Users/brent/anaconda3/lib/python3.7/site-packages/optuna/trial/_trial.py:592: UserWarning: The reported value is ignored because this `step` 91 is already reported.\n",
      "  step\n"
     ]
    },
    {
     "name": "stdout",
     "output_type": "stream",
     "text": [
      "[91]\tvalid_0's auc: 0.742113\n",
      "[92]\tvalid_0's auc: 0.742254\n"
     ]
    },
    {
     "name": "stderr",
     "output_type": "stream",
     "text": [
      "/Users/brent/anaconda3/lib/python3.7/site-packages/optuna/trial/_trial.py:592: UserWarning: The reported value is ignored because this `step` 92 is already reported.\n",
      "  step\n",
      "/Users/brent/anaconda3/lib/python3.7/site-packages/optuna/trial/_trial.py:592: UserWarning: The reported value is ignored because this `step` 93 is already reported.\n",
      "  step\n"
     ]
    },
    {
     "name": "stdout",
     "output_type": "stream",
     "text": [
      "[93]\tvalid_0's auc: 0.742223\n",
      "[94]\tvalid_0's auc: 0.742306\n"
     ]
    },
    {
     "name": "stderr",
     "output_type": "stream",
     "text": [
      "/Users/brent/anaconda3/lib/python3.7/site-packages/optuna/trial/_trial.py:592: UserWarning: The reported value is ignored because this `step` 94 is already reported.\n",
      "  step\n",
      "/Users/brent/anaconda3/lib/python3.7/site-packages/optuna/trial/_trial.py:592: UserWarning: The reported value is ignored because this `step` 95 is already reported.\n",
      "  step\n"
     ]
    },
    {
     "name": "stdout",
     "output_type": "stream",
     "text": [
      "[95]\tvalid_0's auc: 0.742342\n",
      "[96]\tvalid_0's auc: 0.742482\n"
     ]
    },
    {
     "name": "stderr",
     "output_type": "stream",
     "text": [
      "/Users/brent/anaconda3/lib/python3.7/site-packages/optuna/trial/_trial.py:592: UserWarning: The reported value is ignored because this `step` 96 is already reported.\n",
      "  step\n",
      "/Users/brent/anaconda3/lib/python3.7/site-packages/optuna/trial/_trial.py:592: UserWarning: The reported value is ignored because this `step` 97 is already reported.\n",
      "  step\n"
     ]
    },
    {
     "name": "stdout",
     "output_type": "stream",
     "text": [
      "[97]\tvalid_0's auc: 0.742568\n",
      "[98]\tvalid_0's auc: 0.742571\n"
     ]
    },
    {
     "name": "stderr",
     "output_type": "stream",
     "text": [
      "/Users/brent/anaconda3/lib/python3.7/site-packages/optuna/trial/_trial.py:592: UserWarning: The reported value is ignored because this `step` 98 is already reported.\n",
      "  step\n",
      "/Users/brent/anaconda3/lib/python3.7/site-packages/optuna/trial/_trial.py:592: UserWarning: The reported value is ignored because this `step` 99 is already reported.\n",
      "  step\n"
     ]
    },
    {
     "name": "stdout",
     "output_type": "stream",
     "text": [
      "[99]\tvalid_0's auc: 0.742631\n",
      "[100]\tvalid_0's auc: 0.742815\n",
      "Did not meet early stopping. Best iteration is:\n",
      "[100]\tvalid_0's auc: 0.742815\n",
      "[LightGBM] [Warning] bagging_freq is set=7, subsample_freq=0 will be ignored. Current value: bagging_freq=7\n",
      "[LightGBM] [Warning] lambda_l2 is set=0.010563636730884446, reg_lambda=0.0 will be ignored. Current value: lambda_l2=0.010563636730884446\n",
      "[LightGBM] [Warning] feature_fraction is set=0.6985167051101896, colsample_bytree=1.0 will be ignored. Current value: feature_fraction=0.6985167051101896\n",
      "[LightGBM] [Warning] bagging_fraction is set=0.6173898224093576, subsample=1.0 will be ignored. Current value: bagging_fraction=0.6173898224093576\n",
      "[LightGBM] [Warning] lambda_l1 is set=0.10497910930620098, reg_alpha=0.0 will be ignored. Current value: lambda_l1=0.10497910930620098\n"
     ]
    },
    {
     "name": "stderr",
     "output_type": "stream",
     "text": [
      "/Users/brent/anaconda3/lib/python3.7/site-packages/optuna/trial/_trial.py:592: UserWarning: The reported value is ignored because this `step` 0 is already reported.\n",
      "  step\n",
      "/Users/brent/anaconda3/lib/python3.7/site-packages/optuna/trial/_trial.py:592: UserWarning: The reported value is ignored because this `step` 1 is already reported.\n",
      "  step\n"
     ]
    },
    {
     "name": "stdout",
     "output_type": "stream",
     "text": [
      "[1]\tvalid_0's auc: 0.695098\n",
      "Training until validation scores don't improve for 100 rounds\n",
      "[2]\tvalid_0's auc: 0.705398\n"
     ]
    },
    {
     "name": "stderr",
     "output_type": "stream",
     "text": [
      "/Users/brent/anaconda3/lib/python3.7/site-packages/optuna/trial/_trial.py:592: UserWarning: The reported value is ignored because this `step` 2 is already reported.\n",
      "  step\n",
      "/Users/brent/anaconda3/lib/python3.7/site-packages/optuna/trial/_trial.py:592: UserWarning: The reported value is ignored because this `step` 3 is already reported.\n",
      "  step\n"
     ]
    },
    {
     "name": "stdout",
     "output_type": "stream",
     "text": [
      "[3]\tvalid_0's auc: 0.710447\n",
      "[4]\tvalid_0's auc: 0.71408\n"
     ]
    },
    {
     "name": "stderr",
     "output_type": "stream",
     "text": [
      "/Users/brent/anaconda3/lib/python3.7/site-packages/optuna/trial/_trial.py:592: UserWarning: The reported value is ignored because this `step` 4 is already reported.\n",
      "  step\n",
      "/Users/brent/anaconda3/lib/python3.7/site-packages/optuna/trial/_trial.py:592: UserWarning: The reported value is ignored because this `step` 5 is already reported.\n",
      "  step\n"
     ]
    },
    {
     "name": "stdout",
     "output_type": "stream",
     "text": [
      "[5]\tvalid_0's auc: 0.717935\n",
      "[6]\tvalid_0's auc: 0.719235\n"
     ]
    },
    {
     "name": "stderr",
     "output_type": "stream",
     "text": [
      "/Users/brent/anaconda3/lib/python3.7/site-packages/optuna/trial/_trial.py:592: UserWarning: The reported value is ignored because this `step` 6 is already reported.\n",
      "  step\n",
      "/Users/brent/anaconda3/lib/python3.7/site-packages/optuna/trial/_trial.py:592: UserWarning: The reported value is ignored because this `step` 7 is already reported.\n",
      "  step\n"
     ]
    },
    {
     "name": "stdout",
     "output_type": "stream",
     "text": [
      "[7]\tvalid_0's auc: 0.721096\n",
      "[8]\tvalid_0's auc: 0.725217\n"
     ]
    },
    {
     "name": "stderr",
     "output_type": "stream",
     "text": [
      "/Users/brent/anaconda3/lib/python3.7/site-packages/optuna/trial/_trial.py:592: UserWarning: The reported value is ignored because this `step` 8 is already reported.\n",
      "  step\n",
      "/Users/brent/anaconda3/lib/python3.7/site-packages/optuna/trial/_trial.py:592: UserWarning: The reported value is ignored because this `step` 9 is already reported.\n",
      "  step\n"
     ]
    },
    {
     "name": "stdout",
     "output_type": "stream",
     "text": [
      "[9]\tvalid_0's auc: 0.728112\n",
      "[10]\tvalid_0's auc: 0.72938\n"
     ]
    },
    {
     "name": "stderr",
     "output_type": "stream",
     "text": [
      "/Users/brent/anaconda3/lib/python3.7/site-packages/optuna/trial/_trial.py:592: UserWarning: The reported value is ignored because this `step` 10 is already reported.\n",
      "  step\n",
      "/Users/brent/anaconda3/lib/python3.7/site-packages/optuna/trial/_trial.py:592: UserWarning: The reported value is ignored because this `step` 11 is already reported.\n",
      "  step\n"
     ]
    },
    {
     "name": "stdout",
     "output_type": "stream",
     "text": [
      "[11]\tvalid_0's auc: 0.732203\n",
      "[12]\tvalid_0's auc: 0.732568\n"
     ]
    },
    {
     "name": "stderr",
     "output_type": "stream",
     "text": [
      "/Users/brent/anaconda3/lib/python3.7/site-packages/optuna/trial/_trial.py:592: UserWarning: The reported value is ignored because this `step` 12 is already reported.\n",
      "  step\n",
      "/Users/brent/anaconda3/lib/python3.7/site-packages/optuna/trial/_trial.py:592: UserWarning: The reported value is ignored because this `step` 13 is already reported.\n",
      "  step\n"
     ]
    },
    {
     "name": "stdout",
     "output_type": "stream",
     "text": [
      "[13]\tvalid_0's auc: 0.732869\n",
      "[14]\tvalid_0's auc: 0.733699\n"
     ]
    },
    {
     "name": "stderr",
     "output_type": "stream",
     "text": [
      "/Users/brent/anaconda3/lib/python3.7/site-packages/optuna/trial/_trial.py:592: UserWarning: The reported value is ignored because this `step` 14 is already reported.\n",
      "  step\n",
      "/Users/brent/anaconda3/lib/python3.7/site-packages/optuna/trial/_trial.py:592: UserWarning: The reported value is ignored because this `step` 15 is already reported.\n",
      "  step\n"
     ]
    },
    {
     "name": "stdout",
     "output_type": "stream",
     "text": [
      "[15]\tvalid_0's auc: 0.734811\n",
      "[16]\tvalid_0's auc: 0.735396\n"
     ]
    },
    {
     "name": "stderr",
     "output_type": "stream",
     "text": [
      "/Users/brent/anaconda3/lib/python3.7/site-packages/optuna/trial/_trial.py:592: UserWarning: The reported value is ignored because this `step` 16 is already reported.\n",
      "  step\n",
      "/Users/brent/anaconda3/lib/python3.7/site-packages/optuna/trial/_trial.py:592: UserWarning: The reported value is ignored because this `step` 17 is already reported.\n",
      "  step\n"
     ]
    },
    {
     "name": "stdout",
     "output_type": "stream",
     "text": [
      "[17]\tvalid_0's auc: 0.735632\n",
      "[18]\tvalid_0's auc: 0.735836\n"
     ]
    },
    {
     "name": "stderr",
     "output_type": "stream",
     "text": [
      "/Users/brent/anaconda3/lib/python3.7/site-packages/optuna/trial/_trial.py:592: UserWarning: The reported value is ignored because this `step` 18 is already reported.\n",
      "  step\n",
      "/Users/brent/anaconda3/lib/python3.7/site-packages/optuna/trial/_trial.py:592: UserWarning: The reported value is ignored because this `step` 19 is already reported.\n",
      "  step\n"
     ]
    },
    {
     "name": "stdout",
     "output_type": "stream",
     "text": [
      "[19]\tvalid_0's auc: 0.735902\n",
      "[20]\tvalid_0's auc: 0.735902\n"
     ]
    },
    {
     "name": "stderr",
     "output_type": "stream",
     "text": [
      "/Users/brent/anaconda3/lib/python3.7/site-packages/optuna/trial/_trial.py:592: UserWarning: The reported value is ignored because this `step` 20 is already reported.\n",
      "  step\n",
      "/Users/brent/anaconda3/lib/python3.7/site-packages/optuna/trial/_trial.py:592: UserWarning: The reported value is ignored because this `step` 21 is already reported.\n",
      "  step\n"
     ]
    },
    {
     "name": "stdout",
     "output_type": "stream",
     "text": [
      "[21]\tvalid_0's auc: 0.737027\n",
      "[22]\tvalid_0's auc: 0.738051\n"
     ]
    },
    {
     "name": "stderr",
     "output_type": "stream",
     "text": [
      "/Users/brent/anaconda3/lib/python3.7/site-packages/optuna/trial/_trial.py:592: UserWarning: The reported value is ignored because this `step` 22 is already reported.\n",
      "  step\n",
      "/Users/brent/anaconda3/lib/python3.7/site-packages/optuna/trial/_trial.py:592: UserWarning: The reported value is ignored because this `step` 23 is already reported.\n",
      "  step\n"
     ]
    },
    {
     "name": "stdout",
     "output_type": "stream",
     "text": [
      "[23]\tvalid_0's auc: 0.738609\n",
      "[24]\tvalid_0's auc: 0.738957\n"
     ]
    },
    {
     "name": "stderr",
     "output_type": "stream",
     "text": [
      "/Users/brent/anaconda3/lib/python3.7/site-packages/optuna/trial/_trial.py:592: UserWarning: The reported value is ignored because this `step` 24 is already reported.\n",
      "  step\n",
      "/Users/brent/anaconda3/lib/python3.7/site-packages/optuna/trial/_trial.py:592: UserWarning: The reported value is ignored because this `step` 25 is already reported.\n",
      "  step\n"
     ]
    },
    {
     "name": "stdout",
     "output_type": "stream",
     "text": [
      "[25]\tvalid_0's auc: 0.739159\n",
      "[26]\tvalid_0's auc: 0.739244\n"
     ]
    },
    {
     "name": "stderr",
     "output_type": "stream",
     "text": [
      "/Users/brent/anaconda3/lib/python3.7/site-packages/optuna/trial/_trial.py:592: UserWarning: The reported value is ignored because this `step` 26 is already reported.\n",
      "  step\n",
      "/Users/brent/anaconda3/lib/python3.7/site-packages/optuna/trial/_trial.py:592: UserWarning: The reported value is ignored because this `step` 27 is already reported.\n",
      "  step\n"
     ]
    },
    {
     "name": "stdout",
     "output_type": "stream",
     "text": [
      "[27]\tvalid_0's auc: 0.739451\n",
      "[28]\tvalid_0's auc: 0.739395\n"
     ]
    },
    {
     "name": "stderr",
     "output_type": "stream",
     "text": [
      "/Users/brent/anaconda3/lib/python3.7/site-packages/optuna/trial/_trial.py:592: UserWarning: The reported value is ignored because this `step` 28 is already reported.\n",
      "  step\n",
      "/Users/brent/anaconda3/lib/python3.7/site-packages/optuna/trial/_trial.py:592: UserWarning: The reported value is ignored because this `step` 29 is already reported.\n",
      "  step\n"
     ]
    },
    {
     "name": "stdout",
     "output_type": "stream",
     "text": [
      "[29]\tvalid_0's auc: 0.740113\n",
      "[30]\tvalid_0's auc: 0.74053\n"
     ]
    },
    {
     "name": "stderr",
     "output_type": "stream",
     "text": [
      "/Users/brent/anaconda3/lib/python3.7/site-packages/optuna/trial/_trial.py:592: UserWarning: The reported value is ignored because this `step` 30 is already reported.\n",
      "  step\n",
      "/Users/brent/anaconda3/lib/python3.7/site-packages/optuna/trial/_trial.py:592: UserWarning: The reported value is ignored because this `step` 31 is already reported.\n",
      "  step\n"
     ]
    },
    {
     "name": "stdout",
     "output_type": "stream",
     "text": [
      "[31]\tvalid_0's auc: 0.740824\n",
      "[32]\tvalid_0's auc: 0.740867\n"
     ]
    },
    {
     "name": "stderr",
     "output_type": "stream",
     "text": [
      "/Users/brent/anaconda3/lib/python3.7/site-packages/optuna/trial/_trial.py:592: UserWarning: The reported value is ignored because this `step` 32 is already reported.\n",
      "  step\n",
      "/Users/brent/anaconda3/lib/python3.7/site-packages/optuna/trial/_trial.py:592: UserWarning: The reported value is ignored because this `step` 33 is already reported.\n",
      "  step\n"
     ]
    },
    {
     "name": "stdout",
     "output_type": "stream",
     "text": [
      "[33]\tvalid_0's auc: 0.740971\n",
      "[34]\tvalid_0's auc: 0.741161\n"
     ]
    },
    {
     "name": "stderr",
     "output_type": "stream",
     "text": [
      "/Users/brent/anaconda3/lib/python3.7/site-packages/optuna/trial/_trial.py:592: UserWarning: The reported value is ignored because this `step` 34 is already reported.\n",
      "  step\n",
      "/Users/brent/anaconda3/lib/python3.7/site-packages/optuna/trial/_trial.py:592: UserWarning: The reported value is ignored because this `step` 35 is already reported.\n",
      "  step\n"
     ]
    },
    {
     "name": "stdout",
     "output_type": "stream",
     "text": [
      "[35]\tvalid_0's auc: 0.741003\n",
      "[36]\tvalid_0's auc: 0.741267\n"
     ]
    },
    {
     "name": "stderr",
     "output_type": "stream",
     "text": [
      "/Users/brent/anaconda3/lib/python3.7/site-packages/optuna/trial/_trial.py:592: UserWarning: The reported value is ignored because this `step` 36 is already reported.\n",
      "  step\n",
      "/Users/brent/anaconda3/lib/python3.7/site-packages/optuna/trial/_trial.py:592: UserWarning: The reported value is ignored because this `step` 37 is already reported.\n",
      "  step\n"
     ]
    },
    {
     "name": "stdout",
     "output_type": "stream",
     "text": [
      "[37]\tvalid_0's auc: 0.74175\n",
      "[38]\tvalid_0's auc: 0.741794\n"
     ]
    },
    {
     "name": "stderr",
     "output_type": "stream",
     "text": [
      "/Users/brent/anaconda3/lib/python3.7/site-packages/optuna/trial/_trial.py:592: UserWarning: The reported value is ignored because this `step` 38 is already reported.\n",
      "  step\n",
      "/Users/brent/anaconda3/lib/python3.7/site-packages/optuna/trial/_trial.py:592: UserWarning: The reported value is ignored because this `step` 39 is already reported.\n",
      "  step\n"
     ]
    },
    {
     "name": "stdout",
     "output_type": "stream",
     "text": [
      "[39]\tvalid_0's auc: 0.742127\n",
      "[40]\tvalid_0's auc: 0.742068\n"
     ]
    },
    {
     "name": "stderr",
     "output_type": "stream",
     "text": [
      "/Users/brent/anaconda3/lib/python3.7/site-packages/optuna/trial/_trial.py:592: UserWarning: The reported value is ignored because this `step` 40 is already reported.\n",
      "  step\n",
      "/Users/brent/anaconda3/lib/python3.7/site-packages/optuna/trial/_trial.py:592: UserWarning: The reported value is ignored because this `step` 41 is already reported.\n",
      "  step\n"
     ]
    },
    {
     "name": "stdout",
     "output_type": "stream",
     "text": [
      "[41]\tvalid_0's auc: 0.742207\n",
      "[42]\tvalid_0's auc: 0.742217\n"
     ]
    },
    {
     "name": "stderr",
     "output_type": "stream",
     "text": [
      "/Users/brent/anaconda3/lib/python3.7/site-packages/optuna/trial/_trial.py:592: UserWarning: The reported value is ignored because this `step` 42 is already reported.\n",
      "  step\n",
      "/Users/brent/anaconda3/lib/python3.7/site-packages/optuna/trial/_trial.py:592: UserWarning: The reported value is ignored because this `step` 43 is already reported.\n",
      "  step\n"
     ]
    },
    {
     "name": "stdout",
     "output_type": "stream",
     "text": [
      "[43]\tvalid_0's auc: 0.742389\n",
      "[44]\tvalid_0's auc: 0.742526\n"
     ]
    },
    {
     "name": "stderr",
     "output_type": "stream",
     "text": [
      "/Users/brent/anaconda3/lib/python3.7/site-packages/optuna/trial/_trial.py:592: UserWarning: The reported value is ignored because this `step` 44 is already reported.\n",
      "  step\n",
      "/Users/brent/anaconda3/lib/python3.7/site-packages/optuna/trial/_trial.py:592: UserWarning: The reported value is ignored because this `step` 45 is already reported.\n",
      "  step\n"
     ]
    },
    {
     "name": "stdout",
     "output_type": "stream",
     "text": [
      "[45]\tvalid_0's auc: 0.742583\n",
      "[46]\tvalid_0's auc: 0.742614\n"
     ]
    },
    {
     "name": "stderr",
     "output_type": "stream",
     "text": [
      "/Users/brent/anaconda3/lib/python3.7/site-packages/optuna/trial/_trial.py:592: UserWarning: The reported value is ignored because this `step` 46 is already reported.\n",
      "  step\n",
      "/Users/brent/anaconda3/lib/python3.7/site-packages/optuna/trial/_trial.py:592: UserWarning: The reported value is ignored because this `step` 47 is already reported.\n",
      "  step\n"
     ]
    },
    {
     "name": "stdout",
     "output_type": "stream",
     "text": [
      "[47]\tvalid_0's auc: 0.742632\n",
      "[48]\tvalid_0's auc: 0.742799\n"
     ]
    },
    {
     "name": "stderr",
     "output_type": "stream",
     "text": [
      "/Users/brent/anaconda3/lib/python3.7/site-packages/optuna/trial/_trial.py:592: UserWarning: The reported value is ignored because this `step` 48 is already reported.\n",
      "  step\n",
      "/Users/brent/anaconda3/lib/python3.7/site-packages/optuna/trial/_trial.py:592: UserWarning: The reported value is ignored because this `step` 49 is already reported.\n",
      "  step\n"
     ]
    },
    {
     "name": "stdout",
     "output_type": "stream",
     "text": [
      "[49]\tvalid_0's auc: 0.742876\n",
      "[50]\tvalid_0's auc: 0.743094\n"
     ]
    },
    {
     "name": "stderr",
     "output_type": "stream",
     "text": [
      "/Users/brent/anaconda3/lib/python3.7/site-packages/optuna/trial/_trial.py:592: UserWarning: The reported value is ignored because this `step` 50 is already reported.\n",
      "  step\n",
      "/Users/brent/anaconda3/lib/python3.7/site-packages/optuna/trial/_trial.py:592: UserWarning: The reported value is ignored because this `step` 51 is already reported.\n",
      "  step\n"
     ]
    },
    {
     "name": "stdout",
     "output_type": "stream",
     "text": [
      "[51]\tvalid_0's auc: 0.743225\n",
      "[52]\tvalid_0's auc: 0.743372\n"
     ]
    },
    {
     "name": "stderr",
     "output_type": "stream",
     "text": [
      "/Users/brent/anaconda3/lib/python3.7/site-packages/optuna/trial/_trial.py:592: UserWarning: The reported value is ignored because this `step` 52 is already reported.\n",
      "  step\n",
      "/Users/brent/anaconda3/lib/python3.7/site-packages/optuna/trial/_trial.py:592: UserWarning: The reported value is ignored because this `step` 53 is already reported.\n",
      "  step\n"
     ]
    },
    {
     "name": "stdout",
     "output_type": "stream",
     "text": [
      "[53]\tvalid_0's auc: 0.743573\n",
      "[54]\tvalid_0's auc: 0.743675\n"
     ]
    },
    {
     "name": "stderr",
     "output_type": "stream",
     "text": [
      "/Users/brent/anaconda3/lib/python3.7/site-packages/optuna/trial/_trial.py:592: UserWarning: The reported value is ignored because this `step` 54 is already reported.\n",
      "  step\n",
      "/Users/brent/anaconda3/lib/python3.7/site-packages/optuna/trial/_trial.py:592: UserWarning: The reported value is ignored because this `step` 55 is already reported.\n",
      "  step\n"
     ]
    },
    {
     "name": "stdout",
     "output_type": "stream",
     "text": [
      "[55]\tvalid_0's auc: 0.743721\n",
      "[56]\tvalid_0's auc: 0.743719\n"
     ]
    },
    {
     "name": "stderr",
     "output_type": "stream",
     "text": [
      "/Users/brent/anaconda3/lib/python3.7/site-packages/optuna/trial/_trial.py:592: UserWarning: The reported value is ignored because this `step` 56 is already reported.\n",
      "  step\n",
      "/Users/brent/anaconda3/lib/python3.7/site-packages/optuna/trial/_trial.py:592: UserWarning: The reported value is ignored because this `step` 57 is already reported.\n",
      "  step\n"
     ]
    },
    {
     "name": "stdout",
     "output_type": "stream",
     "text": [
      "[57]\tvalid_0's auc: 0.743685\n",
      "[58]\tvalid_0's auc: 0.743659\n"
     ]
    },
    {
     "name": "stderr",
     "output_type": "stream",
     "text": [
      "/Users/brent/anaconda3/lib/python3.7/site-packages/optuna/trial/_trial.py:592: UserWarning: The reported value is ignored because this `step` 58 is already reported.\n",
      "  step\n",
      "/Users/brent/anaconda3/lib/python3.7/site-packages/optuna/trial/_trial.py:592: UserWarning: The reported value is ignored because this `step` 59 is already reported.\n",
      "  step\n"
     ]
    },
    {
     "name": "stdout",
     "output_type": "stream",
     "text": [
      "[59]\tvalid_0's auc: 0.743691\n",
      "[60]\tvalid_0's auc: 0.743702\n"
     ]
    },
    {
     "name": "stderr",
     "output_type": "stream",
     "text": [
      "/Users/brent/anaconda3/lib/python3.7/site-packages/optuna/trial/_trial.py:592: UserWarning: The reported value is ignored because this `step` 60 is already reported.\n",
      "  step\n",
      "/Users/brent/anaconda3/lib/python3.7/site-packages/optuna/trial/_trial.py:592: UserWarning: The reported value is ignored because this `step` 61 is already reported.\n",
      "  step\n"
     ]
    },
    {
     "name": "stdout",
     "output_type": "stream",
     "text": [
      "[61]\tvalid_0's auc: 0.743714\n",
      "[62]\tvalid_0's auc: 0.743725\n"
     ]
    },
    {
     "name": "stderr",
     "output_type": "stream",
     "text": [
      "/Users/brent/anaconda3/lib/python3.7/site-packages/optuna/trial/_trial.py:592: UserWarning: The reported value is ignored because this `step` 62 is already reported.\n",
      "  step\n",
      "/Users/brent/anaconda3/lib/python3.7/site-packages/optuna/trial/_trial.py:592: UserWarning: The reported value is ignored because this `step` 63 is already reported.\n",
      "  step\n"
     ]
    },
    {
     "name": "stdout",
     "output_type": "stream",
     "text": [
      "[63]\tvalid_0's auc: 0.743664\n",
      "[64]\tvalid_0's auc: 0.743701\n"
     ]
    },
    {
     "name": "stderr",
     "output_type": "stream",
     "text": [
      "/Users/brent/anaconda3/lib/python3.7/site-packages/optuna/trial/_trial.py:592: UserWarning: The reported value is ignored because this `step` 64 is already reported.\n",
      "  step\n",
      "/Users/brent/anaconda3/lib/python3.7/site-packages/optuna/trial/_trial.py:592: UserWarning: The reported value is ignored because this `step` 65 is already reported.\n",
      "  step\n"
     ]
    },
    {
     "name": "stdout",
     "output_type": "stream",
     "text": [
      "[65]\tvalid_0's auc: 0.743664\n",
      "[66]\tvalid_0's auc: 0.743626\n"
     ]
    },
    {
     "name": "stderr",
     "output_type": "stream",
     "text": [
      "/Users/brent/anaconda3/lib/python3.7/site-packages/optuna/trial/_trial.py:592: UserWarning: The reported value is ignored because this `step` 66 is already reported.\n",
      "  step\n",
      "/Users/brent/anaconda3/lib/python3.7/site-packages/optuna/trial/_trial.py:592: UserWarning: The reported value is ignored because this `step` 67 is already reported.\n",
      "  step\n"
     ]
    },
    {
     "name": "stdout",
     "output_type": "stream",
     "text": [
      "[67]\tvalid_0's auc: 0.74365\n",
      "[68]\tvalid_0's auc: 0.74368\n"
     ]
    },
    {
     "name": "stderr",
     "output_type": "stream",
     "text": [
      "/Users/brent/anaconda3/lib/python3.7/site-packages/optuna/trial/_trial.py:592: UserWarning: The reported value is ignored because this `step` 68 is already reported.\n",
      "  step\n",
      "/Users/brent/anaconda3/lib/python3.7/site-packages/optuna/trial/_trial.py:592: UserWarning: The reported value is ignored because this `step` 69 is already reported.\n",
      "  step\n"
     ]
    },
    {
     "name": "stdout",
     "output_type": "stream",
     "text": [
      "[69]\tvalid_0's auc: 0.74369\n",
      "[70]\tvalid_0's auc: 0.743679\n"
     ]
    },
    {
     "name": "stderr",
     "output_type": "stream",
     "text": [
      "/Users/brent/anaconda3/lib/python3.7/site-packages/optuna/trial/_trial.py:592: UserWarning: The reported value is ignored because this `step` 70 is already reported.\n",
      "  step\n",
      "/Users/brent/anaconda3/lib/python3.7/site-packages/optuna/trial/_trial.py:592: UserWarning: The reported value is ignored because this `step` 71 is already reported.\n",
      "  step\n"
     ]
    },
    {
     "name": "stdout",
     "output_type": "stream",
     "text": [
      "[71]\tvalid_0's auc: 0.743652\n",
      "[72]\tvalid_0's auc: 0.743636\n"
     ]
    },
    {
     "name": "stderr",
     "output_type": "stream",
     "text": [
      "/Users/brent/anaconda3/lib/python3.7/site-packages/optuna/trial/_trial.py:592: UserWarning: The reported value is ignored because this `step` 72 is already reported.\n",
      "  step\n",
      "/Users/brent/anaconda3/lib/python3.7/site-packages/optuna/trial/_trial.py:592: UserWarning: The reported value is ignored because this `step` 73 is already reported.\n",
      "  step\n"
     ]
    },
    {
     "name": "stdout",
     "output_type": "stream",
     "text": [
      "[73]\tvalid_0's auc: 0.743536\n",
      "[74]\tvalid_0's auc: 0.743802\n"
     ]
    },
    {
     "name": "stderr",
     "output_type": "stream",
     "text": [
      "/Users/brent/anaconda3/lib/python3.7/site-packages/optuna/trial/_trial.py:592: UserWarning: The reported value is ignored because this `step` 74 is already reported.\n",
      "  step\n",
      "/Users/brent/anaconda3/lib/python3.7/site-packages/optuna/trial/_trial.py:592: UserWarning: The reported value is ignored because this `step` 75 is already reported.\n",
      "  step\n"
     ]
    },
    {
     "name": "stdout",
     "output_type": "stream",
     "text": [
      "[75]\tvalid_0's auc: 0.74372\n",
      "[76]\tvalid_0's auc: 0.743736\n"
     ]
    },
    {
     "name": "stderr",
     "output_type": "stream",
     "text": [
      "/Users/brent/anaconda3/lib/python3.7/site-packages/optuna/trial/_trial.py:592: UserWarning: The reported value is ignored because this `step` 76 is already reported.\n",
      "  step\n",
      "/Users/brent/anaconda3/lib/python3.7/site-packages/optuna/trial/_trial.py:592: UserWarning: The reported value is ignored because this `step` 77 is already reported.\n",
      "  step\n"
     ]
    },
    {
     "name": "stdout",
     "output_type": "stream",
     "text": [
      "[77]\tvalid_0's auc: 0.743698\n",
      "[78]\tvalid_0's auc: 0.74384\n"
     ]
    },
    {
     "name": "stderr",
     "output_type": "stream",
     "text": [
      "/Users/brent/anaconda3/lib/python3.7/site-packages/optuna/trial/_trial.py:592: UserWarning: The reported value is ignored because this `step` 78 is already reported.\n",
      "  step\n",
      "/Users/brent/anaconda3/lib/python3.7/site-packages/optuna/trial/_trial.py:592: UserWarning: The reported value is ignored because this `step` 79 is already reported.\n",
      "  step\n"
     ]
    },
    {
     "name": "stdout",
     "output_type": "stream",
     "text": [
      "[79]\tvalid_0's auc: 0.743978\n",
      "[80]\tvalid_0's auc: 0.744267\n"
     ]
    },
    {
     "name": "stderr",
     "output_type": "stream",
     "text": [
      "/Users/brent/anaconda3/lib/python3.7/site-packages/optuna/trial/_trial.py:592: UserWarning: The reported value is ignored because this `step` 80 is already reported.\n",
      "  step\n",
      "/Users/brent/anaconda3/lib/python3.7/site-packages/optuna/trial/_trial.py:592: UserWarning: The reported value is ignored because this `step` 81 is already reported.\n",
      "  step\n"
     ]
    },
    {
     "name": "stdout",
     "output_type": "stream",
     "text": [
      "[81]\tvalid_0's auc: 0.74432\n",
      "[82]\tvalid_0's auc: 0.744349\n"
     ]
    },
    {
     "name": "stderr",
     "output_type": "stream",
     "text": [
      "/Users/brent/anaconda3/lib/python3.7/site-packages/optuna/trial/_trial.py:592: UserWarning: The reported value is ignored because this `step` 82 is already reported.\n",
      "  step\n",
      "/Users/brent/anaconda3/lib/python3.7/site-packages/optuna/trial/_trial.py:592: UserWarning: The reported value is ignored because this `step` 83 is already reported.\n",
      "  step\n"
     ]
    },
    {
     "name": "stdout",
     "output_type": "stream",
     "text": [
      "[83]\tvalid_0's auc: 0.744549\n",
      "[84]\tvalid_0's auc: 0.744659\n"
     ]
    },
    {
     "name": "stderr",
     "output_type": "stream",
     "text": [
      "/Users/brent/anaconda3/lib/python3.7/site-packages/optuna/trial/_trial.py:592: UserWarning: The reported value is ignored because this `step` 84 is already reported.\n",
      "  step\n",
      "/Users/brent/anaconda3/lib/python3.7/site-packages/optuna/trial/_trial.py:592: UserWarning: The reported value is ignored because this `step` 85 is already reported.\n",
      "  step\n"
     ]
    },
    {
     "name": "stdout",
     "output_type": "stream",
     "text": [
      "[85]\tvalid_0's auc: 0.744717\n",
      "[86]\tvalid_0's auc: 0.744789\n"
     ]
    },
    {
     "name": "stderr",
     "output_type": "stream",
     "text": [
      "/Users/brent/anaconda3/lib/python3.7/site-packages/optuna/trial/_trial.py:592: UserWarning: The reported value is ignored because this `step` 86 is already reported.\n",
      "  step\n",
      "/Users/brent/anaconda3/lib/python3.7/site-packages/optuna/trial/_trial.py:592: UserWarning: The reported value is ignored because this `step` 87 is already reported.\n",
      "  step\n"
     ]
    },
    {
     "name": "stdout",
     "output_type": "stream",
     "text": [
      "[87]\tvalid_0's auc: 0.744799\n",
      "[88]\tvalid_0's auc: 0.744807\n"
     ]
    },
    {
     "name": "stderr",
     "output_type": "stream",
     "text": [
      "/Users/brent/anaconda3/lib/python3.7/site-packages/optuna/trial/_trial.py:592: UserWarning: The reported value is ignored because this `step` 88 is already reported.\n",
      "  step\n",
      "/Users/brent/anaconda3/lib/python3.7/site-packages/optuna/trial/_trial.py:592: UserWarning: The reported value is ignored because this `step` 89 is already reported.\n",
      "  step\n"
     ]
    },
    {
     "name": "stdout",
     "output_type": "stream",
     "text": [
      "[89]\tvalid_0's auc: 0.744812\n",
      "[90]\tvalid_0's auc: 0.744807\n"
     ]
    },
    {
     "name": "stderr",
     "output_type": "stream",
     "text": [
      "/Users/brent/anaconda3/lib/python3.7/site-packages/optuna/trial/_trial.py:592: UserWarning: The reported value is ignored because this `step` 90 is already reported.\n",
      "  step\n",
      "/Users/brent/anaconda3/lib/python3.7/site-packages/optuna/trial/_trial.py:592: UserWarning: The reported value is ignored because this `step` 91 is already reported.\n",
      "  step\n"
     ]
    },
    {
     "name": "stdout",
     "output_type": "stream",
     "text": [
      "[91]\tvalid_0's auc: 0.744835\n",
      "[92]\tvalid_0's auc: 0.744863\n"
     ]
    },
    {
     "name": "stderr",
     "output_type": "stream",
     "text": [
      "/Users/brent/anaconda3/lib/python3.7/site-packages/optuna/trial/_trial.py:592: UserWarning: The reported value is ignored because this `step` 92 is already reported.\n",
      "  step\n",
      "/Users/brent/anaconda3/lib/python3.7/site-packages/optuna/trial/_trial.py:592: UserWarning: The reported value is ignored because this `step` 93 is already reported.\n",
      "  step\n"
     ]
    },
    {
     "name": "stdout",
     "output_type": "stream",
     "text": [
      "[93]\tvalid_0's auc: 0.744901\n",
      "[94]\tvalid_0's auc: 0.74494\n"
     ]
    },
    {
     "name": "stderr",
     "output_type": "stream",
     "text": [
      "/Users/brent/anaconda3/lib/python3.7/site-packages/optuna/trial/_trial.py:592: UserWarning: The reported value is ignored because this `step` 94 is already reported.\n",
      "  step\n",
      "/Users/brent/anaconda3/lib/python3.7/site-packages/optuna/trial/_trial.py:592: UserWarning: The reported value is ignored because this `step` 95 is already reported.\n",
      "  step\n"
     ]
    },
    {
     "name": "stdout",
     "output_type": "stream",
     "text": [
      "[95]\tvalid_0's auc: 0.74499\n",
      "[96]\tvalid_0's auc: 0.745135\n"
     ]
    },
    {
     "name": "stderr",
     "output_type": "stream",
     "text": [
      "/Users/brent/anaconda3/lib/python3.7/site-packages/optuna/trial/_trial.py:592: UserWarning: The reported value is ignored because this `step` 96 is already reported.\n",
      "  step\n",
      "/Users/brent/anaconda3/lib/python3.7/site-packages/optuna/trial/_trial.py:592: UserWarning: The reported value is ignored because this `step` 97 is already reported.\n",
      "  step\n"
     ]
    },
    {
     "name": "stdout",
     "output_type": "stream",
     "text": [
      "[97]\tvalid_0's auc: 0.745177\n",
      "[98]\tvalid_0's auc: 0.745204\n"
     ]
    },
    {
     "name": "stderr",
     "output_type": "stream",
     "text": [
      "/Users/brent/anaconda3/lib/python3.7/site-packages/optuna/trial/_trial.py:592: UserWarning: The reported value is ignored because this `step` 98 is already reported.\n",
      "  step\n",
      "/Users/brent/anaconda3/lib/python3.7/site-packages/optuna/trial/_trial.py:592: UserWarning: The reported value is ignored because this `step` 99 is already reported.\n",
      "  step\n"
     ]
    },
    {
     "name": "stdout",
     "output_type": "stream",
     "text": [
      "[99]\tvalid_0's auc: 0.745227\n",
      "[100]\tvalid_0's auc: 0.745326\n",
      "Did not meet early stopping. Best iteration is:\n",
      "[100]\tvalid_0's auc: 0.745326\n",
      "[LightGBM] [Warning] bagging_freq is set=7, subsample_freq=0 will be ignored. Current value: bagging_freq=7\n",
      "[LightGBM] [Warning] lambda_l2 is set=0.010563636730884446, reg_lambda=0.0 will be ignored. Current value: lambda_l2=0.010563636730884446\n",
      "[LightGBM] [Warning] feature_fraction is set=0.6985167051101896, colsample_bytree=1.0 will be ignored. Current value: feature_fraction=0.6985167051101896\n",
      "[LightGBM] [Warning] bagging_fraction is set=0.6173898224093576, subsample=1.0 will be ignored. Current value: bagging_fraction=0.6173898224093576\n",
      "[LightGBM] [Warning] lambda_l1 is set=0.10497910930620098, reg_alpha=0.0 will be ignored. Current value: lambda_l1=0.10497910930620098\n"
     ]
    },
    {
     "name": "stderr",
     "output_type": "stream",
     "text": [
      "/Users/brent/anaconda3/lib/python3.7/site-packages/optuna/trial/_trial.py:592: UserWarning: The reported value is ignored because this `step` 0 is already reported.\n",
      "  step\n",
      "/Users/brent/anaconda3/lib/python3.7/site-packages/optuna/trial/_trial.py:592: UserWarning: The reported value is ignored because this `step` 1 is already reported.\n",
      "  step\n"
     ]
    },
    {
     "name": "stdout",
     "output_type": "stream",
     "text": [
      "[1]\tvalid_0's auc: 0.694789\n",
      "Training until validation scores don't improve for 100 rounds\n",
      "[2]\tvalid_0's auc: 0.698143\n"
     ]
    },
    {
     "name": "stderr",
     "output_type": "stream",
     "text": [
      "/Users/brent/anaconda3/lib/python3.7/site-packages/optuna/trial/_trial.py:592: UserWarning: The reported value is ignored because this `step` 2 is already reported.\n",
      "  step\n",
      "/Users/brent/anaconda3/lib/python3.7/site-packages/optuna/trial/_trial.py:592: UserWarning: The reported value is ignored because this `step` 3 is already reported.\n",
      "  step\n"
     ]
    },
    {
     "name": "stdout",
     "output_type": "stream",
     "text": [
      "[3]\tvalid_0's auc: 0.700957\n",
      "[4]\tvalid_0's auc: 0.702246\n"
     ]
    },
    {
     "name": "stderr",
     "output_type": "stream",
     "text": [
      "/Users/brent/anaconda3/lib/python3.7/site-packages/optuna/trial/_trial.py:592: UserWarning: The reported value is ignored because this `step` 4 is already reported.\n",
      "  step\n",
      "/Users/brent/anaconda3/lib/python3.7/site-packages/optuna/trial/_trial.py:592: UserWarning: The reported value is ignored because this `step` 5 is already reported.\n",
      "  step\n"
     ]
    },
    {
     "name": "stdout",
     "output_type": "stream",
     "text": [
      "[5]\tvalid_0's auc: 0.70677\n",
      "[6]\tvalid_0's auc: 0.706924\n"
     ]
    },
    {
     "name": "stderr",
     "output_type": "stream",
     "text": [
      "/Users/brent/anaconda3/lib/python3.7/site-packages/optuna/trial/_trial.py:592: UserWarning: The reported value is ignored because this `step` 6 is already reported.\n",
      "  step\n",
      "/Users/brent/anaconda3/lib/python3.7/site-packages/optuna/trial/_trial.py:592: UserWarning: The reported value is ignored because this `step` 7 is already reported.\n",
      "  step\n"
     ]
    },
    {
     "name": "stdout",
     "output_type": "stream",
     "text": [
      "[7]\tvalid_0's auc: 0.707354\n",
      "[8]\tvalid_0's auc: 0.712077\n"
     ]
    },
    {
     "name": "stderr",
     "output_type": "stream",
     "text": [
      "/Users/brent/anaconda3/lib/python3.7/site-packages/optuna/trial/_trial.py:592: UserWarning: The reported value is ignored because this `step` 8 is already reported.\n",
      "  step\n",
      "/Users/brent/anaconda3/lib/python3.7/site-packages/optuna/trial/_trial.py:592: UserWarning: The reported value is ignored because this `step` 9 is already reported.\n",
      "  step\n"
     ]
    },
    {
     "name": "stdout",
     "output_type": "stream",
     "text": [
      "[9]\tvalid_0's auc: 0.715293\n",
      "[10]\tvalid_0's auc: 0.7179\n"
     ]
    },
    {
     "name": "stderr",
     "output_type": "stream",
     "text": [
      "/Users/brent/anaconda3/lib/python3.7/site-packages/optuna/trial/_trial.py:592: UserWarning: The reported value is ignored because this `step` 10 is already reported.\n",
      "  step\n",
      "/Users/brent/anaconda3/lib/python3.7/site-packages/optuna/trial/_trial.py:592: UserWarning: The reported value is ignored because this `step` 11 is already reported.\n",
      "  step\n"
     ]
    },
    {
     "name": "stdout",
     "output_type": "stream",
     "text": [
      "[11]\tvalid_0's auc: 0.721553\n",
      "[12]\tvalid_0's auc: 0.722475\n"
     ]
    },
    {
     "name": "stderr",
     "output_type": "stream",
     "text": [
      "/Users/brent/anaconda3/lib/python3.7/site-packages/optuna/trial/_trial.py:592: UserWarning: The reported value is ignored because this `step` 12 is already reported.\n",
      "  step\n",
      "/Users/brent/anaconda3/lib/python3.7/site-packages/optuna/trial/_trial.py:592: UserWarning: The reported value is ignored because this `step` 13 is already reported.\n",
      "  step\n"
     ]
    },
    {
     "name": "stdout",
     "output_type": "stream",
     "text": [
      "[13]\tvalid_0's auc: 0.722426\n",
      "[14]\tvalid_0's auc: 0.723346\n"
     ]
    },
    {
     "name": "stderr",
     "output_type": "stream",
     "text": [
      "/Users/brent/anaconda3/lib/python3.7/site-packages/optuna/trial/_trial.py:592: UserWarning: The reported value is ignored because this `step` 14 is already reported.\n",
      "  step\n",
      "/Users/brent/anaconda3/lib/python3.7/site-packages/optuna/trial/_trial.py:592: UserWarning: The reported value is ignored because this `step` 15 is already reported.\n",
      "  step\n"
     ]
    },
    {
     "name": "stdout",
     "output_type": "stream",
     "text": [
      "[15]\tvalid_0's auc: 0.724283\n",
      "[16]\tvalid_0's auc: 0.725277\n"
     ]
    },
    {
     "name": "stderr",
     "output_type": "stream",
     "text": [
      "/Users/brent/anaconda3/lib/python3.7/site-packages/optuna/trial/_trial.py:592: UserWarning: The reported value is ignored because this `step` 16 is already reported.\n",
      "  step\n",
      "/Users/brent/anaconda3/lib/python3.7/site-packages/optuna/trial/_trial.py:592: UserWarning: The reported value is ignored because this `step` 17 is already reported.\n",
      "  step\n"
     ]
    },
    {
     "name": "stdout",
     "output_type": "stream",
     "text": [
      "[17]\tvalid_0's auc: 0.725776\n",
      "[18]\tvalid_0's auc: 0.725565\n"
     ]
    },
    {
     "name": "stderr",
     "output_type": "stream",
     "text": [
      "/Users/brent/anaconda3/lib/python3.7/site-packages/optuna/trial/_trial.py:592: UserWarning: The reported value is ignored because this `step` 18 is already reported.\n",
      "  step\n",
      "/Users/brent/anaconda3/lib/python3.7/site-packages/optuna/trial/_trial.py:592: UserWarning: The reported value is ignored because this `step` 19 is already reported.\n",
      "  step\n"
     ]
    },
    {
     "name": "stdout",
     "output_type": "stream",
     "text": [
      "[19]\tvalid_0's auc: 0.725681\n",
      "[20]\tvalid_0's auc: 0.726109\n"
     ]
    },
    {
     "name": "stderr",
     "output_type": "stream",
     "text": [
      "/Users/brent/anaconda3/lib/python3.7/site-packages/optuna/trial/_trial.py:592: UserWarning: The reported value is ignored because this `step` 20 is already reported.\n",
      "  step\n",
      "/Users/brent/anaconda3/lib/python3.7/site-packages/optuna/trial/_trial.py:592: UserWarning: The reported value is ignored because this `step` 21 is already reported.\n",
      "  step\n"
     ]
    },
    {
     "name": "stdout",
     "output_type": "stream",
     "text": [
      "[21]\tvalid_0's auc: 0.727089\n",
      "[22]\tvalid_0's auc: 0.727714\n"
     ]
    },
    {
     "name": "stderr",
     "output_type": "stream",
     "text": [
      "/Users/brent/anaconda3/lib/python3.7/site-packages/optuna/trial/_trial.py:592: UserWarning: The reported value is ignored because this `step` 22 is already reported.\n",
      "  step\n",
      "/Users/brent/anaconda3/lib/python3.7/site-packages/optuna/trial/_trial.py:592: UserWarning: The reported value is ignored because this `step` 23 is already reported.\n",
      "  step\n"
     ]
    },
    {
     "name": "stdout",
     "output_type": "stream",
     "text": [
      "[23]\tvalid_0's auc: 0.728108\n",
      "[24]\tvalid_0's auc: 0.728399\n"
     ]
    },
    {
     "name": "stderr",
     "output_type": "stream",
     "text": [
      "/Users/brent/anaconda3/lib/python3.7/site-packages/optuna/trial/_trial.py:592: UserWarning: The reported value is ignored because this `step` 24 is already reported.\n",
      "  step\n",
      "/Users/brent/anaconda3/lib/python3.7/site-packages/optuna/trial/_trial.py:592: UserWarning: The reported value is ignored because this `step` 25 is already reported.\n",
      "  step\n"
     ]
    },
    {
     "name": "stdout",
     "output_type": "stream",
     "text": [
      "[25]\tvalid_0's auc: 0.729215\n",
      "[26]\tvalid_0's auc: 0.729525\n"
     ]
    },
    {
     "name": "stderr",
     "output_type": "stream",
     "text": [
      "/Users/brent/anaconda3/lib/python3.7/site-packages/optuna/trial/_trial.py:592: UserWarning: The reported value is ignored because this `step` 26 is already reported.\n",
      "  step\n",
      "/Users/brent/anaconda3/lib/python3.7/site-packages/optuna/trial/_trial.py:592: UserWarning: The reported value is ignored because this `step` 27 is already reported.\n",
      "  step\n"
     ]
    },
    {
     "name": "stdout",
     "output_type": "stream",
     "text": [
      "[27]\tvalid_0's auc: 0.7298\n",
      "[28]\tvalid_0's auc: 0.730012\n"
     ]
    },
    {
     "name": "stderr",
     "output_type": "stream",
     "text": [
      "/Users/brent/anaconda3/lib/python3.7/site-packages/optuna/trial/_trial.py:592: UserWarning: The reported value is ignored because this `step` 28 is already reported.\n",
      "  step\n",
      "/Users/brent/anaconda3/lib/python3.7/site-packages/optuna/trial/_trial.py:592: UserWarning: The reported value is ignored because this `step` 29 is already reported.\n",
      "  step\n"
     ]
    },
    {
     "name": "stdout",
     "output_type": "stream",
     "text": [
      "[29]\tvalid_0's auc: 0.730666\n",
      "[30]\tvalid_0's auc: 0.730821\n"
     ]
    },
    {
     "name": "stderr",
     "output_type": "stream",
     "text": [
      "/Users/brent/anaconda3/lib/python3.7/site-packages/optuna/trial/_trial.py:592: UserWarning: The reported value is ignored because this `step` 30 is already reported.\n",
      "  step\n",
      "/Users/brent/anaconda3/lib/python3.7/site-packages/optuna/trial/_trial.py:592: UserWarning: The reported value is ignored because this `step` 31 is already reported.\n",
      "  step\n"
     ]
    },
    {
     "name": "stdout",
     "output_type": "stream",
     "text": [
      "[31]\tvalid_0's auc: 0.730694\n",
      "[32]\tvalid_0's auc: 0.730793\n"
     ]
    },
    {
     "name": "stderr",
     "output_type": "stream",
     "text": [
      "/Users/brent/anaconda3/lib/python3.7/site-packages/optuna/trial/_trial.py:592: UserWarning: The reported value is ignored because this `step` 32 is already reported.\n",
      "  step\n",
      "/Users/brent/anaconda3/lib/python3.7/site-packages/optuna/trial/_trial.py:592: UserWarning: The reported value is ignored because this `step` 33 is already reported.\n",
      "  step\n"
     ]
    },
    {
     "name": "stdout",
     "output_type": "stream",
     "text": [
      "[33]\tvalid_0's auc: 0.730643\n",
      "[34]\tvalid_0's auc: 0.730694\n"
     ]
    },
    {
     "name": "stderr",
     "output_type": "stream",
     "text": [
      "/Users/brent/anaconda3/lib/python3.7/site-packages/optuna/trial/_trial.py:592: UserWarning: The reported value is ignored because this `step` 34 is already reported.\n",
      "  step\n",
      "/Users/brent/anaconda3/lib/python3.7/site-packages/optuna/trial/_trial.py:592: UserWarning: The reported value is ignored because this `step` 35 is already reported.\n",
      "  step\n"
     ]
    },
    {
     "name": "stdout",
     "output_type": "stream",
     "text": [
      "[35]\tvalid_0's auc: 0.730384\n",
      "[36]\tvalid_0's auc: 0.73064\n"
     ]
    },
    {
     "name": "stderr",
     "output_type": "stream",
     "text": [
      "/Users/brent/anaconda3/lib/python3.7/site-packages/optuna/trial/_trial.py:592: UserWarning: The reported value is ignored because this `step` 36 is already reported.\n",
      "  step\n",
      "/Users/brent/anaconda3/lib/python3.7/site-packages/optuna/trial/_trial.py:592: UserWarning: The reported value is ignored because this `step` 37 is already reported.\n",
      "  step\n"
     ]
    },
    {
     "name": "stdout",
     "output_type": "stream",
     "text": [
      "[37]\tvalid_0's auc: 0.730799\n",
      "[38]\tvalid_0's auc: 0.731063\n"
     ]
    },
    {
     "name": "stderr",
     "output_type": "stream",
     "text": [
      "/Users/brent/anaconda3/lib/python3.7/site-packages/optuna/trial/_trial.py:592: UserWarning: The reported value is ignored because this `step` 38 is already reported.\n",
      "  step\n",
      "/Users/brent/anaconda3/lib/python3.7/site-packages/optuna/trial/_trial.py:592: UserWarning: The reported value is ignored because this `step` 39 is already reported.\n",
      "  step\n"
     ]
    },
    {
     "name": "stdout",
     "output_type": "stream",
     "text": [
      "[39]\tvalid_0's auc: 0.731406\n",
      "[40]\tvalid_0's auc: 0.731481\n"
     ]
    },
    {
     "name": "stderr",
     "output_type": "stream",
     "text": [
      "/Users/brent/anaconda3/lib/python3.7/site-packages/optuna/trial/_trial.py:592: UserWarning: The reported value is ignored because this `step` 40 is already reported.\n",
      "  step\n",
      "/Users/brent/anaconda3/lib/python3.7/site-packages/optuna/trial/_trial.py:592: UserWarning: The reported value is ignored because this `step` 41 is already reported.\n",
      "  step\n"
     ]
    },
    {
     "name": "stdout",
     "output_type": "stream",
     "text": [
      "[41]\tvalid_0's auc: 0.731578\n",
      "[42]\tvalid_0's auc: 0.731567\n"
     ]
    },
    {
     "name": "stderr",
     "output_type": "stream",
     "text": [
      "/Users/brent/anaconda3/lib/python3.7/site-packages/optuna/trial/_trial.py:592: UserWarning: The reported value is ignored because this `step` 42 is already reported.\n",
      "  step\n",
      "/Users/brent/anaconda3/lib/python3.7/site-packages/optuna/trial/_trial.py:592: UserWarning: The reported value is ignored because this `step` 43 is already reported.\n",
      "  step\n"
     ]
    },
    {
     "name": "stdout",
     "output_type": "stream",
     "text": [
      "[43]\tvalid_0's auc: 0.731944\n",
      "[44]\tvalid_0's auc: 0.732202\n"
     ]
    },
    {
     "name": "stderr",
     "output_type": "stream",
     "text": [
      "/Users/brent/anaconda3/lib/python3.7/site-packages/optuna/trial/_trial.py:592: UserWarning: The reported value is ignored because this `step` 44 is already reported.\n",
      "  step\n",
      "/Users/brent/anaconda3/lib/python3.7/site-packages/optuna/trial/_trial.py:592: UserWarning: The reported value is ignored because this `step` 45 is already reported.\n",
      "  step\n"
     ]
    },
    {
     "name": "stdout",
     "output_type": "stream",
     "text": [
      "[45]\tvalid_0's auc: 0.732312\n",
      "[46]\tvalid_0's auc: 0.732501\n"
     ]
    },
    {
     "name": "stderr",
     "output_type": "stream",
     "text": [
      "/Users/brent/anaconda3/lib/python3.7/site-packages/optuna/trial/_trial.py:592: UserWarning: The reported value is ignored because this `step` 46 is already reported.\n",
      "  step\n",
      "/Users/brent/anaconda3/lib/python3.7/site-packages/optuna/trial/_trial.py:592: UserWarning: The reported value is ignored because this `step` 47 is already reported.\n",
      "  step\n"
     ]
    },
    {
     "name": "stdout",
     "output_type": "stream",
     "text": [
      "[47]\tvalid_0's auc: 0.732617\n",
      "[48]\tvalid_0's auc: 0.733026\n"
     ]
    },
    {
     "name": "stderr",
     "output_type": "stream",
     "text": [
      "/Users/brent/anaconda3/lib/python3.7/site-packages/optuna/trial/_trial.py:592: UserWarning: The reported value is ignored because this `step` 48 is already reported.\n",
      "  step\n",
      "/Users/brent/anaconda3/lib/python3.7/site-packages/optuna/trial/_trial.py:592: UserWarning: The reported value is ignored because this `step` 49 is already reported.\n",
      "  step\n"
     ]
    },
    {
     "name": "stdout",
     "output_type": "stream",
     "text": [
      "[49]\tvalid_0's auc: 0.73316\n",
      "[50]\tvalid_0's auc: 0.7334\n"
     ]
    },
    {
     "name": "stderr",
     "output_type": "stream",
     "text": [
      "/Users/brent/anaconda3/lib/python3.7/site-packages/optuna/trial/_trial.py:592: UserWarning: The reported value is ignored because this `step` 50 is already reported.\n",
      "  step\n",
      "/Users/brent/anaconda3/lib/python3.7/site-packages/optuna/trial/_trial.py:592: UserWarning: The reported value is ignored because this `step` 51 is already reported.\n",
      "  step\n"
     ]
    },
    {
     "name": "stdout",
     "output_type": "stream",
     "text": [
      "[51]\tvalid_0's auc: 0.733435\n",
      "[52]\tvalid_0's auc: 0.733562\n"
     ]
    },
    {
     "name": "stderr",
     "output_type": "stream",
     "text": [
      "/Users/brent/anaconda3/lib/python3.7/site-packages/optuna/trial/_trial.py:592: UserWarning: The reported value is ignored because this `step` 52 is already reported.\n",
      "  step\n",
      "/Users/brent/anaconda3/lib/python3.7/site-packages/optuna/trial/_trial.py:592: UserWarning: The reported value is ignored because this `step` 53 is already reported.\n",
      "  step\n"
     ]
    },
    {
     "name": "stdout",
     "output_type": "stream",
     "text": [
      "[53]\tvalid_0's auc: 0.733618\n",
      "[54]\tvalid_0's auc: 0.733626\n"
     ]
    },
    {
     "name": "stderr",
     "output_type": "stream",
     "text": [
      "/Users/brent/anaconda3/lib/python3.7/site-packages/optuna/trial/_trial.py:592: UserWarning: The reported value is ignored because this `step` 54 is already reported.\n",
      "  step\n",
      "/Users/brent/anaconda3/lib/python3.7/site-packages/optuna/trial/_trial.py:592: UserWarning: The reported value is ignored because this `step` 55 is already reported.\n",
      "  step\n"
     ]
    },
    {
     "name": "stdout",
     "output_type": "stream",
     "text": [
      "[55]\tvalid_0's auc: 0.733576\n",
      "[56]\tvalid_0's auc: 0.73353\n"
     ]
    },
    {
     "name": "stderr",
     "output_type": "stream",
     "text": [
      "/Users/brent/anaconda3/lib/python3.7/site-packages/optuna/trial/_trial.py:592: UserWarning: The reported value is ignored because this `step` 56 is already reported.\n",
      "  step\n",
      "/Users/brent/anaconda3/lib/python3.7/site-packages/optuna/trial/_trial.py:592: UserWarning: The reported value is ignored because this `step` 57 is already reported.\n",
      "  step\n"
     ]
    },
    {
     "name": "stdout",
     "output_type": "stream",
     "text": [
      "[57]\tvalid_0's auc: 0.733756\n",
      "[58]\tvalid_0's auc: 0.733827\n"
     ]
    },
    {
     "name": "stderr",
     "output_type": "stream",
     "text": [
      "/Users/brent/anaconda3/lib/python3.7/site-packages/optuna/trial/_trial.py:592: UserWarning: The reported value is ignored because this `step` 58 is already reported.\n",
      "  step\n",
      "/Users/brent/anaconda3/lib/python3.7/site-packages/optuna/trial/_trial.py:592: UserWarning: The reported value is ignored because this `step` 59 is already reported.\n",
      "  step\n"
     ]
    },
    {
     "name": "stdout",
     "output_type": "stream",
     "text": [
      "[59]\tvalid_0's auc: 0.73396\n",
      "[60]\tvalid_0's auc: 0.734104\n"
     ]
    },
    {
     "name": "stderr",
     "output_type": "stream",
     "text": [
      "/Users/brent/anaconda3/lib/python3.7/site-packages/optuna/trial/_trial.py:592: UserWarning: The reported value is ignored because this `step` 60 is already reported.\n",
      "  step\n",
      "/Users/brent/anaconda3/lib/python3.7/site-packages/optuna/trial/_trial.py:592: UserWarning: The reported value is ignored because this `step` 61 is already reported.\n",
      "  step\n"
     ]
    },
    {
     "name": "stdout",
     "output_type": "stream",
     "text": [
      "[61]\tvalid_0's auc: 0.734099\n",
      "[62]\tvalid_0's auc: 0.734145\n"
     ]
    },
    {
     "name": "stderr",
     "output_type": "stream",
     "text": [
      "/Users/brent/anaconda3/lib/python3.7/site-packages/optuna/trial/_trial.py:592: UserWarning: The reported value is ignored because this `step` 62 is already reported.\n",
      "  step\n",
      "/Users/brent/anaconda3/lib/python3.7/site-packages/optuna/trial/_trial.py:592: UserWarning: The reported value is ignored because this `step` 63 is already reported.\n",
      "  step\n"
     ]
    },
    {
     "name": "stdout",
     "output_type": "stream",
     "text": [
      "[63]\tvalid_0's auc: 0.734105\n",
      "[64]\tvalid_0's auc: 0.73401\n"
     ]
    },
    {
     "name": "stderr",
     "output_type": "stream",
     "text": [
      "/Users/brent/anaconda3/lib/python3.7/site-packages/optuna/trial/_trial.py:592: UserWarning: The reported value is ignored because this `step` 64 is already reported.\n",
      "  step\n",
      "/Users/brent/anaconda3/lib/python3.7/site-packages/optuna/trial/_trial.py:592: UserWarning: The reported value is ignored because this `step` 65 is already reported.\n",
      "  step\n"
     ]
    },
    {
     "name": "stdout",
     "output_type": "stream",
     "text": [
      "[65]\tvalid_0's auc: 0.73404\n",
      "[66]\tvalid_0's auc: 0.733942\n"
     ]
    },
    {
     "name": "stderr",
     "output_type": "stream",
     "text": [
      "/Users/brent/anaconda3/lib/python3.7/site-packages/optuna/trial/_trial.py:592: UserWarning: The reported value is ignored because this `step` 66 is already reported.\n",
      "  step\n",
      "/Users/brent/anaconda3/lib/python3.7/site-packages/optuna/trial/_trial.py:592: UserWarning: The reported value is ignored because this `step` 67 is already reported.\n",
      "  step\n"
     ]
    },
    {
     "name": "stdout",
     "output_type": "stream",
     "text": [
      "[67]\tvalid_0's auc: 0.733879\n",
      "[68]\tvalid_0's auc: 0.733825\n"
     ]
    },
    {
     "name": "stderr",
     "output_type": "stream",
     "text": [
      "/Users/brent/anaconda3/lib/python3.7/site-packages/optuna/trial/_trial.py:592: UserWarning: The reported value is ignored because this `step` 68 is already reported.\n",
      "  step\n",
      "/Users/brent/anaconda3/lib/python3.7/site-packages/optuna/trial/_trial.py:592: UserWarning: The reported value is ignored because this `step` 69 is already reported.\n",
      "  step\n"
     ]
    },
    {
     "name": "stdout",
     "output_type": "stream",
     "text": [
      "[69]\tvalid_0's auc: 0.733771\n",
      "[70]\tvalid_0's auc: 0.733767\n"
     ]
    },
    {
     "name": "stderr",
     "output_type": "stream",
     "text": [
      "/Users/brent/anaconda3/lib/python3.7/site-packages/optuna/trial/_trial.py:592: UserWarning: The reported value is ignored because this `step` 70 is already reported.\n",
      "  step\n",
      "/Users/brent/anaconda3/lib/python3.7/site-packages/optuna/trial/_trial.py:592: UserWarning: The reported value is ignored because this `step` 71 is already reported.\n",
      "  step\n"
     ]
    },
    {
     "name": "stdout",
     "output_type": "stream",
     "text": [
      "[71]\tvalid_0's auc: 0.733771\n",
      "[72]\tvalid_0's auc: 0.733851\n"
     ]
    },
    {
     "name": "stderr",
     "output_type": "stream",
     "text": [
      "/Users/brent/anaconda3/lib/python3.7/site-packages/optuna/trial/_trial.py:592: UserWarning: The reported value is ignored because this `step` 72 is already reported.\n",
      "  step\n",
      "/Users/brent/anaconda3/lib/python3.7/site-packages/optuna/trial/_trial.py:592: UserWarning: The reported value is ignored because this `step` 73 is already reported.\n",
      "  step\n"
     ]
    },
    {
     "name": "stdout",
     "output_type": "stream",
     "text": [
      "[73]\tvalid_0's auc: 0.733842\n",
      "[74]\tvalid_0's auc: 0.734068\n"
     ]
    },
    {
     "name": "stderr",
     "output_type": "stream",
     "text": [
      "/Users/brent/anaconda3/lib/python3.7/site-packages/optuna/trial/_trial.py:592: UserWarning: The reported value is ignored because this `step` 74 is already reported.\n",
      "  step\n",
      "/Users/brent/anaconda3/lib/python3.7/site-packages/optuna/trial/_trial.py:592: UserWarning: The reported value is ignored because this `step` 75 is already reported.\n",
      "  step\n"
     ]
    },
    {
     "name": "stdout",
     "output_type": "stream",
     "text": [
      "[75]\tvalid_0's auc: 0.734042\n",
      "[76]\tvalid_0's auc: 0.734083\n"
     ]
    },
    {
     "name": "stderr",
     "output_type": "stream",
     "text": [
      "/Users/brent/anaconda3/lib/python3.7/site-packages/optuna/trial/_trial.py:592: UserWarning: The reported value is ignored because this `step` 76 is already reported.\n",
      "  step\n",
      "/Users/brent/anaconda3/lib/python3.7/site-packages/optuna/trial/_trial.py:592: UserWarning: The reported value is ignored because this `step` 77 is already reported.\n",
      "  step\n"
     ]
    },
    {
     "name": "stdout",
     "output_type": "stream",
     "text": [
      "[77]\tvalid_0's auc: 0.734021\n",
      "[78]\tvalid_0's auc: 0.734094\n"
     ]
    },
    {
     "name": "stderr",
     "output_type": "stream",
     "text": [
      "/Users/brent/anaconda3/lib/python3.7/site-packages/optuna/trial/_trial.py:592: UserWarning: The reported value is ignored because this `step` 78 is already reported.\n",
      "  step\n",
      "/Users/brent/anaconda3/lib/python3.7/site-packages/optuna/trial/_trial.py:592: UserWarning: The reported value is ignored because this `step` 79 is already reported.\n",
      "  step\n"
     ]
    },
    {
     "name": "stdout",
     "output_type": "stream",
     "text": [
      "[79]\tvalid_0's auc: 0.734186\n",
      "[80]\tvalid_0's auc: 0.734477\n"
     ]
    },
    {
     "name": "stderr",
     "output_type": "stream",
     "text": [
      "/Users/brent/anaconda3/lib/python3.7/site-packages/optuna/trial/_trial.py:592: UserWarning: The reported value is ignored because this `step` 80 is already reported.\n",
      "  step\n",
      "/Users/brent/anaconda3/lib/python3.7/site-packages/optuna/trial/_trial.py:592: UserWarning: The reported value is ignored because this `step` 81 is already reported.\n",
      "  step\n"
     ]
    },
    {
     "name": "stdout",
     "output_type": "stream",
     "text": [
      "[81]\tvalid_0's auc: 0.734495\n",
      "[82]\tvalid_0's auc: 0.734541\n"
     ]
    },
    {
     "name": "stderr",
     "output_type": "stream",
     "text": [
      "/Users/brent/anaconda3/lib/python3.7/site-packages/optuna/trial/_trial.py:592: UserWarning: The reported value is ignored because this `step` 82 is already reported.\n",
      "  step\n",
      "/Users/brent/anaconda3/lib/python3.7/site-packages/optuna/trial/_trial.py:592: UserWarning: The reported value is ignored because this `step` 83 is already reported.\n",
      "  step\n"
     ]
    },
    {
     "name": "stdout",
     "output_type": "stream",
     "text": [
      "[83]\tvalid_0's auc: 0.73473\n",
      "[84]\tvalid_0's auc: 0.734834\n"
     ]
    },
    {
     "name": "stderr",
     "output_type": "stream",
     "text": [
      "/Users/brent/anaconda3/lib/python3.7/site-packages/optuna/trial/_trial.py:592: UserWarning: The reported value is ignored because this `step` 84 is already reported.\n",
      "  step\n",
      "/Users/brent/anaconda3/lib/python3.7/site-packages/optuna/trial/_trial.py:592: UserWarning: The reported value is ignored because this `step` 85 is already reported.\n",
      "  step\n"
     ]
    },
    {
     "name": "stdout",
     "output_type": "stream",
     "text": [
      "[85]\tvalid_0's auc: 0.734837\n",
      "[86]\tvalid_0's auc: 0.73486\n"
     ]
    },
    {
     "name": "stderr",
     "output_type": "stream",
     "text": [
      "/Users/brent/anaconda3/lib/python3.7/site-packages/optuna/trial/_trial.py:592: UserWarning: The reported value is ignored because this `step` 86 is already reported.\n",
      "  step\n",
      "/Users/brent/anaconda3/lib/python3.7/site-packages/optuna/trial/_trial.py:592: UserWarning: The reported value is ignored because this `step` 87 is already reported.\n",
      "  step\n"
     ]
    },
    {
     "name": "stdout",
     "output_type": "stream",
     "text": [
      "[87]\tvalid_0's auc: 0.734927\n",
      "[88]\tvalid_0's auc: 0.734895\n"
     ]
    },
    {
     "name": "stderr",
     "output_type": "stream",
     "text": [
      "/Users/brent/anaconda3/lib/python3.7/site-packages/optuna/trial/_trial.py:592: UserWarning: The reported value is ignored because this `step` 88 is already reported.\n",
      "  step\n",
      "/Users/brent/anaconda3/lib/python3.7/site-packages/optuna/trial/_trial.py:592: UserWarning: The reported value is ignored because this `step` 89 is already reported.\n",
      "  step\n"
     ]
    },
    {
     "name": "stdout",
     "output_type": "stream",
     "text": [
      "[89]\tvalid_0's auc: 0.734896\n",
      "[90]\tvalid_0's auc: 0.734882\n"
     ]
    },
    {
     "name": "stderr",
     "output_type": "stream",
     "text": [
      "/Users/brent/anaconda3/lib/python3.7/site-packages/optuna/trial/_trial.py:592: UserWarning: The reported value is ignored because this `step` 90 is already reported.\n",
      "  step\n",
      "/Users/brent/anaconda3/lib/python3.7/site-packages/optuna/trial/_trial.py:592: UserWarning: The reported value is ignored because this `step` 91 is already reported.\n",
      "  step\n"
     ]
    },
    {
     "name": "stdout",
     "output_type": "stream",
     "text": [
      "[91]\tvalid_0's auc: 0.734945\n",
      "[92]\tvalid_0's auc: 0.735046\n"
     ]
    },
    {
     "name": "stderr",
     "output_type": "stream",
     "text": [
      "/Users/brent/anaconda3/lib/python3.7/site-packages/optuna/trial/_trial.py:592: UserWarning: The reported value is ignored because this `step` 92 is already reported.\n",
      "  step\n",
      "/Users/brent/anaconda3/lib/python3.7/site-packages/optuna/trial/_trial.py:592: UserWarning: The reported value is ignored because this `step` 93 is already reported.\n",
      "  step\n"
     ]
    },
    {
     "name": "stdout",
     "output_type": "stream",
     "text": [
      "[93]\tvalid_0's auc: 0.735126\n",
      "[94]\tvalid_0's auc: 0.73517\n"
     ]
    },
    {
     "name": "stderr",
     "output_type": "stream",
     "text": [
      "/Users/brent/anaconda3/lib/python3.7/site-packages/optuna/trial/_trial.py:592: UserWarning: The reported value is ignored because this `step` 94 is already reported.\n",
      "  step\n",
      "/Users/brent/anaconda3/lib/python3.7/site-packages/optuna/trial/_trial.py:592: UserWarning: The reported value is ignored because this `step` 95 is already reported.\n",
      "  step\n"
     ]
    },
    {
     "name": "stdout",
     "output_type": "stream",
     "text": [
      "[95]\tvalid_0's auc: 0.735258\n",
      "[96]\tvalid_0's auc: 0.735255\n"
     ]
    },
    {
     "name": "stderr",
     "output_type": "stream",
     "text": [
      "/Users/brent/anaconda3/lib/python3.7/site-packages/optuna/trial/_trial.py:592: UserWarning: The reported value is ignored because this `step` 96 is already reported.\n",
      "  step\n",
      "/Users/brent/anaconda3/lib/python3.7/site-packages/optuna/trial/_trial.py:592: UserWarning: The reported value is ignored because this `step` 97 is already reported.\n",
      "  step\n"
     ]
    },
    {
     "name": "stdout",
     "output_type": "stream",
     "text": [
      "[97]\tvalid_0's auc: 0.73531\n",
      "[98]\tvalid_0's auc: 0.735323\n"
     ]
    },
    {
     "name": "stderr",
     "output_type": "stream",
     "text": [
      "/Users/brent/anaconda3/lib/python3.7/site-packages/optuna/trial/_trial.py:592: UserWarning: The reported value is ignored because this `step` 98 is already reported.\n",
      "  step\n",
      "/Users/brent/anaconda3/lib/python3.7/site-packages/optuna/trial/_trial.py:592: UserWarning: The reported value is ignored because this `step` 99 is already reported.\n",
      "  step\n"
     ]
    },
    {
     "name": "stdout",
     "output_type": "stream",
     "text": [
      "[99]\tvalid_0's auc: 0.735328\n",
      "[100]\tvalid_0's auc: 0.73545\n",
      "Did not meet early stopping. Best iteration is:\n",
      "[100]\tvalid_0's auc: 0.73545\n",
      "\u001b[32m[I 2021-10-19 23:09:47,181]\u001b[0m Trial 3 finished with value: 0.74081179079693 and parameters: {'lambda_l1': 0.10497910930620098, 'lambda_l2': 0.010563636730884446, 'num_leaves': 174, 'feature_fraction': 0.6985167051101896, 'bagging_fraction': 0.6173898224093576, 'bagging_freq': 7, 'learning_rate': 0.0003477048328235166, 'min_child_samples': 46, 'cat_smooth': 21}. Best is trial 0 with value: 0.7454035427301393.\u001b[0m\n",
      "[LightGBM] [Warning] bagging_freq is set=5, subsample_freq=0 will be ignored. Current value: bagging_freq=5\n",
      "[LightGBM] [Warning] lambda_l2 is set=0.010267601491413092, reg_lambda=0.0 will be ignored. Current value: lambda_l2=0.010267601491413092\n",
      "[LightGBM] [Warning] feature_fraction is set=0.895871730613985, colsample_bytree=1.0 will be ignored. Current value: feature_fraction=0.895871730613985\n",
      "[LightGBM] [Warning] bagging_fraction is set=0.5719678131397895, subsample=1.0 will be ignored. Current value: bagging_fraction=0.5719678131397895\n",
      "[LightGBM] [Warning] lambda_l1 is set=0.013647293867443427, reg_alpha=0.0 will be ignored. Current value: lambda_l1=0.013647293867443427\n",
      "[1]\tvalid_0's auc: 0.69323\n",
      "Training until validation scores don't improve for 100 rounds\n",
      "[2]\tvalid_0's auc: 0.709434\n",
      "[3]\tvalid_0's auc: 0.720867\n",
      "[4]\tvalid_0's auc: 0.724171\n",
      "[5]\tvalid_0's auc: 0.726828\n",
      "[6]\tvalid_0's auc: 0.729872\n",
      "[7]\tvalid_0's auc: 0.731205\n",
      "[8]\tvalid_0's auc: 0.732817\n",
      "[9]\tvalid_0's auc: 0.733981\n",
      "[10]\tvalid_0's auc: 0.735311\n",
      "[11]\tvalid_0's auc: 0.736686\n",
      "[12]\tvalid_0's auc: 0.737146\n",
      "[13]\tvalid_0's auc: 0.737701\n",
      "[14]\tvalid_0's auc: 0.738087\n",
      "[15]\tvalid_0's auc: 0.738888\n",
      "[16]\tvalid_0's auc: 0.739313\n",
      "[17]\tvalid_0's auc: 0.739606\n",
      "[18]\tvalid_0's auc: 0.73986\n",
      "[19]\tvalid_0's auc: 0.740631\n",
      "[20]\tvalid_0's auc: 0.740757\n",
      "[21]\tvalid_0's auc: 0.74119\n",
      "[22]\tvalid_0's auc: 0.741745\n",
      "[23]\tvalid_0's auc: 0.742393\n",
      "[24]\tvalid_0's auc: 0.742944\n",
      "[25]\tvalid_0's auc: 0.743426\n",
      "[26]\tvalid_0's auc: 0.743824\n",
      "[27]\tvalid_0's auc: 0.744141\n",
      "[28]\tvalid_0's auc: 0.744618\n",
      "[29]\tvalid_0's auc: 0.744966\n",
      "[30]\tvalid_0's auc: 0.745104\n",
      "[31]\tvalid_0's auc: 0.745338\n",
      "[32]\tvalid_0's auc: 0.745511\n",
      "[33]\tvalid_0's auc: 0.745631\n",
      "[34]\tvalid_0's auc: 0.745839\n",
      "[35]\tvalid_0's auc: 0.745989\n",
      "[36]\tvalid_0's auc: 0.746352\n",
      "[37]\tvalid_0's auc: 0.746617\n",
      "[38]\tvalid_0's auc: 0.746784\n",
      "[39]\tvalid_0's auc: 0.747063\n",
      "[40]\tvalid_0's auc: 0.747273\n",
      "[41]\tvalid_0's auc: 0.747528\n",
      "[42]\tvalid_0's auc: 0.747771\n",
      "[43]\tvalid_0's auc: 0.748028\n",
      "[44]\tvalid_0's auc: 0.748076\n",
      "[45]\tvalid_0's auc: 0.748238\n",
      "[46]\tvalid_0's auc: 0.748495\n",
      "[47]\tvalid_0's auc: 0.748757\n",
      "[48]\tvalid_0's auc: 0.748925\n",
      "[49]\tvalid_0's auc: 0.749038\n",
      "[50]\tvalid_0's auc: 0.74913\n",
      "[51]\tvalid_0's auc: 0.749429\n",
      "[52]\tvalid_0's auc: 0.749766\n",
      "[53]\tvalid_0's auc: 0.750031\n",
      "[54]\tvalid_0's auc: 0.750178\n",
      "[55]\tvalid_0's auc: 0.750351\n",
      "[56]\tvalid_0's auc: 0.75035\n",
      "[57]\tvalid_0's auc: 0.750414\n",
      "[58]\tvalid_0's auc: 0.750611\n",
      "[59]\tvalid_0's auc: 0.750813\n",
      "[60]\tvalid_0's auc: 0.750721\n",
      "[61]\tvalid_0's auc: 0.750861\n",
      "[62]\tvalid_0's auc: 0.750987\n",
      "[63]\tvalid_0's auc: 0.751022\n",
      "[64]\tvalid_0's auc: 0.751179\n",
      "[65]\tvalid_0's auc: 0.751202\n",
      "[66]\tvalid_0's auc: 0.751222\n",
      "[67]\tvalid_0's auc: 0.751195\n",
      "[68]\tvalid_0's auc: 0.751127\n",
      "[69]\tvalid_0's auc: 0.751197\n",
      "[70]\tvalid_0's auc: 0.751214\n",
      "[71]\tvalid_0's auc: 0.751335\n",
      "[72]\tvalid_0's auc: 0.751427\n",
      "[73]\tvalid_0's auc: 0.751521\n",
      "[74]\tvalid_0's auc: 0.751671\n",
      "[75]\tvalid_0's auc: 0.751646\n",
      "[76]\tvalid_0's auc: 0.751719\n",
      "[77]\tvalid_0's auc: 0.751839\n",
      "[78]\tvalid_0's auc: 0.75191\n",
      "[79]\tvalid_0's auc: 0.752112\n",
      "[80]\tvalid_0's auc: 0.752252\n",
      "[81]\tvalid_0's auc: 0.752466\n",
      "[82]\tvalid_0's auc: 0.75266\n",
      "[83]\tvalid_0's auc: 0.752771\n",
      "[84]\tvalid_0's auc: 0.752848\n",
      "[85]\tvalid_0's auc: 0.752873\n",
      "[86]\tvalid_0's auc: 0.753176\n",
      "[87]\tvalid_0's auc: 0.753448\n",
      "[88]\tvalid_0's auc: 0.753745\n",
      "[89]\tvalid_0's auc: 0.75397\n",
      "[90]\tvalid_0's auc: 0.754012\n",
      "[91]\tvalid_0's auc: 0.7542\n",
      "[92]\tvalid_0's auc: 0.754289\n",
      "[93]\tvalid_0's auc: 0.75435\n",
      "[94]\tvalid_0's auc: 0.754535\n",
      "[95]\tvalid_0's auc: 0.754753\n",
      "[96]\tvalid_0's auc: 0.7548\n",
      "[97]\tvalid_0's auc: 0.754934\n",
      "[98]\tvalid_0's auc: 0.755047\n",
      "[99]\tvalid_0's auc: 0.75503\n",
      "[100]\tvalid_0's auc: 0.755102\n",
      "Did not meet early stopping. Best iteration is:\n",
      "[100]\tvalid_0's auc: 0.755102\n",
      "[LightGBM] [Warning] bagging_freq is set=5, subsample_freq=0 will be ignored. Current value: bagging_freq=5\n",
      "[LightGBM] [Warning] lambda_l2 is set=0.010267601491413092, reg_lambda=0.0 will be ignored. Current value: lambda_l2=0.010267601491413092\n",
      "[LightGBM] [Warning] feature_fraction is set=0.895871730613985, colsample_bytree=1.0 will be ignored. Current value: feature_fraction=0.895871730613985\n",
      "[LightGBM] [Warning] bagging_fraction is set=0.5719678131397895, subsample=1.0 will be ignored. Current value: bagging_fraction=0.5719678131397895\n",
      "[LightGBM] [Warning] lambda_l1 is set=0.013647293867443427, reg_alpha=0.0 will be ignored. Current value: lambda_l1=0.013647293867443427\n"
     ]
    },
    {
     "name": "stderr",
     "output_type": "stream",
     "text": [
      "/Users/brent/anaconda3/lib/python3.7/site-packages/optuna/trial/_trial.py:592: UserWarning: The reported value is ignored because this `step` 0 is already reported.\n",
      "  step\n",
      "/Users/brent/anaconda3/lib/python3.7/site-packages/optuna/trial/_trial.py:592: UserWarning: The reported value is ignored because this `step` 1 is already reported.\n",
      "  step\n"
     ]
    },
    {
     "name": "stdout",
     "output_type": "stream",
     "text": [
      "[1]\tvalid_0's auc: 0.690681\n",
      "Training until validation scores don't improve for 100 rounds\n",
      "[2]\tvalid_0's auc: 0.704495\n"
     ]
    },
    {
     "name": "stderr",
     "output_type": "stream",
     "text": [
      "/Users/brent/anaconda3/lib/python3.7/site-packages/optuna/trial/_trial.py:592: UserWarning: The reported value is ignored because this `step` 2 is already reported.\n",
      "  step\n",
      "/Users/brent/anaconda3/lib/python3.7/site-packages/optuna/trial/_trial.py:592: UserWarning: The reported value is ignored because this `step` 3 is already reported.\n",
      "  step\n"
     ]
    },
    {
     "name": "stdout",
     "output_type": "stream",
     "text": [
      "[3]\tvalid_0's auc: 0.711759\n",
      "[4]\tvalid_0's auc: 0.716532\n"
     ]
    },
    {
     "name": "stderr",
     "output_type": "stream",
     "text": [
      "/Users/brent/anaconda3/lib/python3.7/site-packages/optuna/trial/_trial.py:592: UserWarning: The reported value is ignored because this `step` 4 is already reported.\n",
      "  step\n",
      "/Users/brent/anaconda3/lib/python3.7/site-packages/optuna/trial/_trial.py:592: UserWarning: The reported value is ignored because this `step` 5 is already reported.\n",
      "  step\n"
     ]
    },
    {
     "name": "stdout",
     "output_type": "stream",
     "text": [
      "[5]\tvalid_0's auc: 0.720357\n",
      "[6]\tvalid_0's auc: 0.72343\n"
     ]
    },
    {
     "name": "stderr",
     "output_type": "stream",
     "text": [
      "/Users/brent/anaconda3/lib/python3.7/site-packages/optuna/trial/_trial.py:592: UserWarning: The reported value is ignored because this `step` 6 is already reported.\n",
      "  step\n",
      "/Users/brent/anaconda3/lib/python3.7/site-packages/optuna/trial/_trial.py:592: UserWarning: The reported value is ignored because this `step` 7 is already reported.\n",
      "  step\n"
     ]
    },
    {
     "name": "stdout",
     "output_type": "stream",
     "text": [
      "[7]\tvalid_0's auc: 0.725965\n",
      "[8]\tvalid_0's auc: 0.727574\n"
     ]
    },
    {
     "name": "stderr",
     "output_type": "stream",
     "text": [
      "/Users/brent/anaconda3/lib/python3.7/site-packages/optuna/trial/_trial.py:592: UserWarning: The reported value is ignored because this `step` 8 is already reported.\n",
      "  step\n",
      "/Users/brent/anaconda3/lib/python3.7/site-packages/optuna/trial/_trial.py:592: UserWarning: The reported value is ignored because this `step` 9 is already reported.\n",
      "  step\n"
     ]
    },
    {
     "name": "stdout",
     "output_type": "stream",
     "text": [
      "[9]\tvalid_0's auc: 0.728539\n",
      "[10]\tvalid_0's auc: 0.728982\n"
     ]
    },
    {
     "name": "stderr",
     "output_type": "stream",
     "text": [
      "/Users/brent/anaconda3/lib/python3.7/site-packages/optuna/trial/_trial.py:592: UserWarning: The reported value is ignored because this `step` 10 is already reported.\n",
      "  step\n",
      "/Users/brent/anaconda3/lib/python3.7/site-packages/optuna/trial/_trial.py:592: UserWarning: The reported value is ignored because this `step` 11 is already reported.\n",
      "  step\n"
     ]
    },
    {
     "name": "stdout",
     "output_type": "stream",
     "text": [
      "[11]\tvalid_0's auc: 0.73062\n",
      "[12]\tvalid_0's auc: 0.73202\n"
     ]
    },
    {
     "name": "stderr",
     "output_type": "stream",
     "text": [
      "/Users/brent/anaconda3/lib/python3.7/site-packages/optuna/trial/_trial.py:592: UserWarning: The reported value is ignored because this `step` 12 is already reported.\n",
      "  step\n",
      "/Users/brent/anaconda3/lib/python3.7/site-packages/optuna/trial/_trial.py:592: UserWarning: The reported value is ignored because this `step` 13 is already reported.\n",
      "  step\n"
     ]
    },
    {
     "name": "stdout",
     "output_type": "stream",
     "text": [
      "[13]\tvalid_0's auc: 0.733088\n",
      "[14]\tvalid_0's auc: 0.73346\n"
     ]
    },
    {
     "name": "stderr",
     "output_type": "stream",
     "text": [
      "/Users/brent/anaconda3/lib/python3.7/site-packages/optuna/trial/_trial.py:592: UserWarning: The reported value is ignored because this `step` 14 is already reported.\n",
      "  step\n",
      "/Users/brent/anaconda3/lib/python3.7/site-packages/optuna/trial/_trial.py:592: UserWarning: The reported value is ignored because this `step` 15 is already reported.\n",
      "  step\n"
     ]
    },
    {
     "name": "stdout",
     "output_type": "stream",
     "text": [
      "[15]\tvalid_0's auc: 0.733874\n",
      "[16]\tvalid_0's auc: 0.734628\n"
     ]
    },
    {
     "name": "stderr",
     "output_type": "stream",
     "text": [
      "/Users/brent/anaconda3/lib/python3.7/site-packages/optuna/trial/_trial.py:592: UserWarning: The reported value is ignored because this `step` 16 is already reported.\n",
      "  step\n",
      "/Users/brent/anaconda3/lib/python3.7/site-packages/optuna/trial/_trial.py:592: UserWarning: The reported value is ignored because this `step` 17 is already reported.\n",
      "  step\n"
     ]
    },
    {
     "name": "stdout",
     "output_type": "stream",
     "text": [
      "[17]\tvalid_0's auc: 0.735089\n",
      "[18]\tvalid_0's auc: 0.735825\n"
     ]
    },
    {
     "name": "stderr",
     "output_type": "stream",
     "text": [
      "/Users/brent/anaconda3/lib/python3.7/site-packages/optuna/trial/_trial.py:592: UserWarning: The reported value is ignored because this `step` 18 is already reported.\n",
      "  step\n",
      "/Users/brent/anaconda3/lib/python3.7/site-packages/optuna/trial/_trial.py:592: UserWarning: The reported value is ignored because this `step` 19 is already reported.\n",
      "  step\n"
     ]
    },
    {
     "name": "stdout",
     "output_type": "stream",
     "text": [
      "[19]\tvalid_0's auc: 0.735927\n",
      "[20]\tvalid_0's auc: 0.736563\n"
     ]
    },
    {
     "name": "stderr",
     "output_type": "stream",
     "text": [
      "/Users/brent/anaconda3/lib/python3.7/site-packages/optuna/trial/_trial.py:592: UserWarning: The reported value is ignored because this `step` 20 is already reported.\n",
      "  step\n",
      "/Users/brent/anaconda3/lib/python3.7/site-packages/optuna/trial/_trial.py:592: UserWarning: The reported value is ignored because this `step` 21 is already reported.\n",
      "  step\n"
     ]
    },
    {
     "name": "stdout",
     "output_type": "stream",
     "text": [
      "[21]\tvalid_0's auc: 0.737089\n",
      "[22]\tvalid_0's auc: 0.737461\n"
     ]
    },
    {
     "name": "stderr",
     "output_type": "stream",
     "text": [
      "/Users/brent/anaconda3/lib/python3.7/site-packages/optuna/trial/_trial.py:592: UserWarning: The reported value is ignored because this `step` 22 is already reported.\n",
      "  step\n",
      "/Users/brent/anaconda3/lib/python3.7/site-packages/optuna/trial/_trial.py:592: UserWarning: The reported value is ignored because this `step` 23 is already reported.\n",
      "  step\n"
     ]
    },
    {
     "name": "stdout",
     "output_type": "stream",
     "text": [
      "[23]\tvalid_0's auc: 0.738235\n",
      "[24]\tvalid_0's auc: 0.739079\n"
     ]
    },
    {
     "name": "stderr",
     "output_type": "stream",
     "text": [
      "/Users/brent/anaconda3/lib/python3.7/site-packages/optuna/trial/_trial.py:592: UserWarning: The reported value is ignored because this `step` 24 is already reported.\n",
      "  step\n",
      "/Users/brent/anaconda3/lib/python3.7/site-packages/optuna/trial/_trial.py:592: UserWarning: The reported value is ignored because this `step` 25 is already reported.\n",
      "  step\n"
     ]
    },
    {
     "name": "stdout",
     "output_type": "stream",
     "text": [
      "[25]\tvalid_0's auc: 0.739476\n",
      "[26]\tvalid_0's auc: 0.739601\n"
     ]
    },
    {
     "name": "stderr",
     "output_type": "stream",
     "text": [
      "/Users/brent/anaconda3/lib/python3.7/site-packages/optuna/trial/_trial.py:592: UserWarning: The reported value is ignored because this `step` 26 is already reported.\n",
      "  step\n",
      "/Users/brent/anaconda3/lib/python3.7/site-packages/optuna/trial/_trial.py:592: UserWarning: The reported value is ignored because this `step` 27 is already reported.\n",
      "  step\n"
     ]
    },
    {
     "name": "stdout",
     "output_type": "stream",
     "text": [
      "[27]\tvalid_0's auc: 0.739785\n",
      "[28]\tvalid_0's auc: 0.740554\n"
     ]
    },
    {
     "name": "stderr",
     "output_type": "stream",
     "text": [
      "/Users/brent/anaconda3/lib/python3.7/site-packages/optuna/trial/_trial.py:592: UserWarning: The reported value is ignored because this `step` 28 is already reported.\n",
      "  step\n",
      "/Users/brent/anaconda3/lib/python3.7/site-packages/optuna/trial/_trial.py:592: UserWarning: The reported value is ignored because this `step` 29 is already reported.\n",
      "  step\n"
     ]
    },
    {
     "name": "stdout",
     "output_type": "stream",
     "text": [
      "[29]\tvalid_0's auc: 0.741001\n",
      "[30]\tvalid_0's auc: 0.741284\n"
     ]
    },
    {
     "name": "stderr",
     "output_type": "stream",
     "text": [
      "/Users/brent/anaconda3/lib/python3.7/site-packages/optuna/trial/_trial.py:592: UserWarning: The reported value is ignored because this `step` 30 is already reported.\n",
      "  step\n",
      "/Users/brent/anaconda3/lib/python3.7/site-packages/optuna/trial/_trial.py:592: UserWarning: The reported value is ignored because this `step` 31 is already reported.\n",
      "  step\n"
     ]
    },
    {
     "name": "stdout",
     "output_type": "stream",
     "text": [
      "[31]\tvalid_0's auc: 0.741687\n",
      "[32]\tvalid_0's auc: 0.742045\n"
     ]
    },
    {
     "name": "stderr",
     "output_type": "stream",
     "text": [
      "/Users/brent/anaconda3/lib/python3.7/site-packages/optuna/trial/_trial.py:592: UserWarning: The reported value is ignored because this `step` 32 is already reported.\n",
      "  step\n",
      "/Users/brent/anaconda3/lib/python3.7/site-packages/optuna/trial/_trial.py:592: UserWarning: The reported value is ignored because this `step` 33 is already reported.\n",
      "  step\n"
     ]
    },
    {
     "name": "stdout",
     "output_type": "stream",
     "text": [
      "[33]\tvalid_0's auc: 0.742301\n",
      "[34]\tvalid_0's auc: 0.74265\n"
     ]
    },
    {
     "name": "stderr",
     "output_type": "stream",
     "text": [
      "/Users/brent/anaconda3/lib/python3.7/site-packages/optuna/trial/_trial.py:592: UserWarning: The reported value is ignored because this `step` 34 is already reported.\n",
      "  step\n",
      "/Users/brent/anaconda3/lib/python3.7/site-packages/optuna/trial/_trial.py:592: UserWarning: The reported value is ignored because this `step` 35 is already reported.\n",
      "  step\n"
     ]
    },
    {
     "name": "stdout",
     "output_type": "stream",
     "text": [
      "[35]\tvalid_0's auc: 0.742876\n",
      "[36]\tvalid_0's auc: 0.743257\n"
     ]
    },
    {
     "name": "stderr",
     "output_type": "stream",
     "text": [
      "/Users/brent/anaconda3/lib/python3.7/site-packages/optuna/trial/_trial.py:592: UserWarning: The reported value is ignored because this `step` 36 is already reported.\n",
      "  step\n",
      "/Users/brent/anaconda3/lib/python3.7/site-packages/optuna/trial/_trial.py:592: UserWarning: The reported value is ignored because this `step` 37 is already reported.\n",
      "  step\n"
     ]
    },
    {
     "name": "stdout",
     "output_type": "stream",
     "text": [
      "[37]\tvalid_0's auc: 0.743712\n",
      "[38]\tvalid_0's auc: 0.743771\n"
     ]
    },
    {
     "name": "stderr",
     "output_type": "stream",
     "text": [
      "/Users/brent/anaconda3/lib/python3.7/site-packages/optuna/trial/_trial.py:592: UserWarning: The reported value is ignored because this `step` 38 is already reported.\n",
      "  step\n",
      "/Users/brent/anaconda3/lib/python3.7/site-packages/optuna/trial/_trial.py:592: UserWarning: The reported value is ignored because this `step` 39 is already reported.\n",
      "  step\n"
     ]
    },
    {
     "name": "stdout",
     "output_type": "stream",
     "text": [
      "[39]\tvalid_0's auc: 0.743902\n",
      "[40]\tvalid_0's auc: 0.744341\n"
     ]
    },
    {
     "name": "stderr",
     "output_type": "stream",
     "text": [
      "/Users/brent/anaconda3/lib/python3.7/site-packages/optuna/trial/_trial.py:592: UserWarning: The reported value is ignored because this `step` 40 is already reported.\n",
      "  step\n",
      "/Users/brent/anaconda3/lib/python3.7/site-packages/optuna/trial/_trial.py:592: UserWarning: The reported value is ignored because this `step` 41 is already reported.\n",
      "  step\n"
     ]
    },
    {
     "name": "stdout",
     "output_type": "stream",
     "text": [
      "[41]\tvalid_0's auc: 0.74465\n",
      "[42]\tvalid_0's auc: 0.744823\n"
     ]
    },
    {
     "name": "stderr",
     "output_type": "stream",
     "text": [
      "/Users/brent/anaconda3/lib/python3.7/site-packages/optuna/trial/_trial.py:592: UserWarning: The reported value is ignored because this `step` 42 is already reported.\n",
      "  step\n",
      "/Users/brent/anaconda3/lib/python3.7/site-packages/optuna/trial/_trial.py:592: UserWarning: The reported value is ignored because this `step` 43 is already reported.\n",
      "  step\n"
     ]
    },
    {
     "name": "stdout",
     "output_type": "stream",
     "text": [
      "[43]\tvalid_0's auc: 0.745134\n",
      "[44]\tvalid_0's auc: 0.745465\n"
     ]
    },
    {
     "name": "stderr",
     "output_type": "stream",
     "text": [
      "/Users/brent/anaconda3/lib/python3.7/site-packages/optuna/trial/_trial.py:592: UserWarning: The reported value is ignored because this `step` 44 is already reported.\n",
      "  step\n",
      "/Users/brent/anaconda3/lib/python3.7/site-packages/optuna/trial/_trial.py:592: UserWarning: The reported value is ignored because this `step` 45 is already reported.\n",
      "  step\n"
     ]
    },
    {
     "name": "stdout",
     "output_type": "stream",
     "text": [
      "[45]\tvalid_0's auc: 0.74555\n",
      "[46]\tvalid_0's auc: 0.745805\n"
     ]
    },
    {
     "name": "stderr",
     "output_type": "stream",
     "text": [
      "/Users/brent/anaconda3/lib/python3.7/site-packages/optuna/trial/_trial.py:592: UserWarning: The reported value is ignored because this `step` 46 is already reported.\n",
      "  step\n",
      "/Users/brent/anaconda3/lib/python3.7/site-packages/optuna/trial/_trial.py:592: UserWarning: The reported value is ignored because this `step` 47 is already reported.\n",
      "  step\n"
     ]
    },
    {
     "name": "stdout",
     "output_type": "stream",
     "text": [
      "[47]\tvalid_0's auc: 0.745998\n",
      "[48]\tvalid_0's auc: 0.746268\n"
     ]
    },
    {
     "name": "stderr",
     "output_type": "stream",
     "text": [
      "/Users/brent/anaconda3/lib/python3.7/site-packages/optuna/trial/_trial.py:592: UserWarning: The reported value is ignored because this `step` 48 is already reported.\n",
      "  step\n",
      "/Users/brent/anaconda3/lib/python3.7/site-packages/optuna/trial/_trial.py:592: UserWarning: The reported value is ignored because this `step` 49 is already reported.\n",
      "  step\n"
     ]
    },
    {
     "name": "stdout",
     "output_type": "stream",
     "text": [
      "[49]\tvalid_0's auc: 0.746396\n",
      "[50]\tvalid_0's auc: 0.746542\n"
     ]
    },
    {
     "name": "stderr",
     "output_type": "stream",
     "text": [
      "/Users/brent/anaconda3/lib/python3.7/site-packages/optuna/trial/_trial.py:592: UserWarning: The reported value is ignored because this `step` 50 is already reported.\n",
      "  step\n",
      "/Users/brent/anaconda3/lib/python3.7/site-packages/optuna/trial/_trial.py:592: UserWarning: The reported value is ignored because this `step` 51 is already reported.\n",
      "  step\n"
     ]
    },
    {
     "name": "stdout",
     "output_type": "stream",
     "text": [
      "[51]\tvalid_0's auc: 0.746602\n",
      "[52]\tvalid_0's auc: 0.746653\n"
     ]
    },
    {
     "name": "stderr",
     "output_type": "stream",
     "text": [
      "/Users/brent/anaconda3/lib/python3.7/site-packages/optuna/trial/_trial.py:592: UserWarning: The reported value is ignored because this `step` 52 is already reported.\n",
      "  step\n",
      "/Users/brent/anaconda3/lib/python3.7/site-packages/optuna/trial/_trial.py:592: UserWarning: The reported value is ignored because this `step` 53 is already reported.\n",
      "  step\n"
     ]
    },
    {
     "name": "stdout",
     "output_type": "stream",
     "text": [
      "[53]\tvalid_0's auc: 0.746787\n",
      "[54]\tvalid_0's auc: 0.746859\n"
     ]
    },
    {
     "name": "stderr",
     "output_type": "stream",
     "text": [
      "/Users/brent/anaconda3/lib/python3.7/site-packages/optuna/trial/_trial.py:592: UserWarning: The reported value is ignored because this `step` 54 is already reported.\n",
      "  step\n",
      "/Users/brent/anaconda3/lib/python3.7/site-packages/optuna/trial/_trial.py:592: UserWarning: The reported value is ignored because this `step` 55 is already reported.\n",
      "  step\n"
     ]
    },
    {
     "name": "stdout",
     "output_type": "stream",
     "text": [
      "[55]\tvalid_0's auc: 0.747051\n",
      "[56]\tvalid_0's auc: 0.747341\n"
     ]
    },
    {
     "name": "stderr",
     "output_type": "stream",
     "text": [
      "/Users/brent/anaconda3/lib/python3.7/site-packages/optuna/trial/_trial.py:592: UserWarning: The reported value is ignored because this `step` 56 is already reported.\n",
      "  step\n",
      "/Users/brent/anaconda3/lib/python3.7/site-packages/optuna/trial/_trial.py:592: UserWarning: The reported value is ignored because this `step` 57 is already reported.\n",
      "  step\n"
     ]
    },
    {
     "name": "stdout",
     "output_type": "stream",
     "text": [
      "[57]\tvalid_0's auc: 0.747633\n",
      "[58]\tvalid_0's auc: 0.747798\n"
     ]
    },
    {
     "name": "stderr",
     "output_type": "stream",
     "text": [
      "/Users/brent/anaconda3/lib/python3.7/site-packages/optuna/trial/_trial.py:592: UserWarning: The reported value is ignored because this `step` 58 is already reported.\n",
      "  step\n",
      "/Users/brent/anaconda3/lib/python3.7/site-packages/optuna/trial/_trial.py:592: UserWarning: The reported value is ignored because this `step` 59 is already reported.\n",
      "  step\n"
     ]
    },
    {
     "name": "stdout",
     "output_type": "stream",
     "text": [
      "[59]\tvalid_0's auc: 0.747993\n",
      "[60]\tvalid_0's auc: 0.7481\n"
     ]
    },
    {
     "name": "stderr",
     "output_type": "stream",
     "text": [
      "/Users/brent/anaconda3/lib/python3.7/site-packages/optuna/trial/_trial.py:592: UserWarning: The reported value is ignored because this `step` 60 is already reported.\n",
      "  step\n",
      "/Users/brent/anaconda3/lib/python3.7/site-packages/optuna/trial/_trial.py:592: UserWarning: The reported value is ignored because this `step` 61 is already reported.\n",
      "  step\n"
     ]
    },
    {
     "name": "stdout",
     "output_type": "stream",
     "text": [
      "[61]\tvalid_0's auc: 0.748218\n",
      "[62]\tvalid_0's auc: 0.748413\n"
     ]
    },
    {
     "name": "stderr",
     "output_type": "stream",
     "text": [
      "/Users/brent/anaconda3/lib/python3.7/site-packages/optuna/trial/_trial.py:592: UserWarning: The reported value is ignored because this `step` 62 is already reported.\n",
      "  step\n",
      "/Users/brent/anaconda3/lib/python3.7/site-packages/optuna/trial/_trial.py:592: UserWarning: The reported value is ignored because this `step` 63 is already reported.\n",
      "  step\n"
     ]
    },
    {
     "name": "stdout",
     "output_type": "stream",
     "text": [
      "[63]\tvalid_0's auc: 0.748569\n",
      "[64]\tvalid_0's auc: 0.748682\n"
     ]
    },
    {
     "name": "stderr",
     "output_type": "stream",
     "text": [
      "/Users/brent/anaconda3/lib/python3.7/site-packages/optuna/trial/_trial.py:592: UserWarning: The reported value is ignored because this `step` 64 is already reported.\n",
      "  step\n",
      "/Users/brent/anaconda3/lib/python3.7/site-packages/optuna/trial/_trial.py:592: UserWarning: The reported value is ignored because this `step` 65 is already reported.\n",
      "  step\n"
     ]
    },
    {
     "name": "stdout",
     "output_type": "stream",
     "text": [
      "[65]\tvalid_0's auc: 0.74879\n",
      "[66]\tvalid_0's auc: 0.749026\n"
     ]
    },
    {
     "name": "stderr",
     "output_type": "stream",
     "text": [
      "/Users/brent/anaconda3/lib/python3.7/site-packages/optuna/trial/_trial.py:592: UserWarning: The reported value is ignored because this `step` 66 is already reported.\n",
      "  step\n",
      "/Users/brent/anaconda3/lib/python3.7/site-packages/optuna/trial/_trial.py:592: UserWarning: The reported value is ignored because this `step` 67 is already reported.\n",
      "  step\n"
     ]
    },
    {
     "name": "stdout",
     "output_type": "stream",
     "text": [
      "[67]\tvalid_0's auc: 0.749177\n",
      "[68]\tvalid_0's auc: 0.749439\n"
     ]
    },
    {
     "name": "stderr",
     "output_type": "stream",
     "text": [
      "/Users/brent/anaconda3/lib/python3.7/site-packages/optuna/trial/_trial.py:592: UserWarning: The reported value is ignored because this `step` 68 is already reported.\n",
      "  step\n",
      "/Users/brent/anaconda3/lib/python3.7/site-packages/optuna/trial/_trial.py:592: UserWarning: The reported value is ignored because this `step` 69 is already reported.\n",
      "  step\n"
     ]
    },
    {
     "name": "stdout",
     "output_type": "stream",
     "text": [
      "[69]\tvalid_0's auc: 0.749573\n",
      "[70]\tvalid_0's auc: 0.74987\n"
     ]
    },
    {
     "name": "stderr",
     "output_type": "stream",
     "text": [
      "/Users/brent/anaconda3/lib/python3.7/site-packages/optuna/trial/_trial.py:592: UserWarning: The reported value is ignored because this `step` 70 is already reported.\n",
      "  step\n",
      "/Users/brent/anaconda3/lib/python3.7/site-packages/optuna/trial/_trial.py:592: UserWarning: The reported value is ignored because this `step` 71 is already reported.\n",
      "  step\n"
     ]
    },
    {
     "name": "stdout",
     "output_type": "stream",
     "text": [
      "[71]\tvalid_0's auc: 0.75006\n",
      "[72]\tvalid_0's auc: 0.750307\n"
     ]
    },
    {
     "name": "stderr",
     "output_type": "stream",
     "text": [
      "/Users/brent/anaconda3/lib/python3.7/site-packages/optuna/trial/_trial.py:592: UserWarning: The reported value is ignored because this `step` 72 is already reported.\n",
      "  step\n",
      "/Users/brent/anaconda3/lib/python3.7/site-packages/optuna/trial/_trial.py:592: UserWarning: The reported value is ignored because this `step` 73 is already reported.\n",
      "  step\n"
     ]
    },
    {
     "name": "stdout",
     "output_type": "stream",
     "text": [
      "[73]\tvalid_0's auc: 0.750593\n",
      "[74]\tvalid_0's auc: 0.750746\n"
     ]
    },
    {
     "name": "stderr",
     "output_type": "stream",
     "text": [
      "/Users/brent/anaconda3/lib/python3.7/site-packages/optuna/trial/_trial.py:592: UserWarning: The reported value is ignored because this `step` 74 is already reported.\n",
      "  step\n",
      "/Users/brent/anaconda3/lib/python3.7/site-packages/optuna/trial/_trial.py:592: UserWarning: The reported value is ignored because this `step` 75 is already reported.\n",
      "  step\n"
     ]
    },
    {
     "name": "stdout",
     "output_type": "stream",
     "text": [
      "[75]\tvalid_0's auc: 0.750977\n",
      "[76]\tvalid_0's auc: 0.751129\n"
     ]
    },
    {
     "name": "stderr",
     "output_type": "stream",
     "text": [
      "/Users/brent/anaconda3/lib/python3.7/site-packages/optuna/trial/_trial.py:592: UserWarning: The reported value is ignored because this `step` 76 is already reported.\n",
      "  step\n",
      "/Users/brent/anaconda3/lib/python3.7/site-packages/optuna/trial/_trial.py:592: UserWarning: The reported value is ignored because this `step` 77 is already reported.\n",
      "  step\n"
     ]
    },
    {
     "name": "stdout",
     "output_type": "stream",
     "text": [
      "[77]\tvalid_0's auc: 0.751191\n",
      "[78]\tvalid_0's auc: 0.751237\n"
     ]
    },
    {
     "name": "stderr",
     "output_type": "stream",
     "text": [
      "/Users/brent/anaconda3/lib/python3.7/site-packages/optuna/trial/_trial.py:592: UserWarning: The reported value is ignored because this `step` 78 is already reported.\n",
      "  step\n",
      "/Users/brent/anaconda3/lib/python3.7/site-packages/optuna/trial/_trial.py:592: UserWarning: The reported value is ignored because this `step` 79 is already reported.\n",
      "  step\n"
     ]
    },
    {
     "name": "stdout",
     "output_type": "stream",
     "text": [
      "[79]\tvalid_0's auc: 0.751268\n",
      "[80]\tvalid_0's auc: 0.751428\n"
     ]
    },
    {
     "name": "stderr",
     "output_type": "stream",
     "text": [
      "/Users/brent/anaconda3/lib/python3.7/site-packages/optuna/trial/_trial.py:592: UserWarning: The reported value is ignored because this `step` 80 is already reported.\n",
      "  step\n",
      "/Users/brent/anaconda3/lib/python3.7/site-packages/optuna/trial/_trial.py:592: UserWarning: The reported value is ignored because this `step` 81 is already reported.\n",
      "  step\n"
     ]
    },
    {
     "name": "stdout",
     "output_type": "stream",
     "text": [
      "[81]\tvalid_0's auc: 0.751757\n",
      "[82]\tvalid_0's auc: 0.751978\n"
     ]
    },
    {
     "name": "stderr",
     "output_type": "stream",
     "text": [
      "/Users/brent/anaconda3/lib/python3.7/site-packages/optuna/trial/_trial.py:592: UserWarning: The reported value is ignored because this `step` 82 is already reported.\n",
      "  step\n",
      "/Users/brent/anaconda3/lib/python3.7/site-packages/optuna/trial/_trial.py:592: UserWarning: The reported value is ignored because this `step` 83 is already reported.\n",
      "  step\n"
     ]
    },
    {
     "name": "stdout",
     "output_type": "stream",
     "text": [
      "[83]\tvalid_0's auc: 0.752209\n",
      "[84]\tvalid_0's auc: 0.752462\n"
     ]
    },
    {
     "name": "stderr",
     "output_type": "stream",
     "text": [
      "/Users/brent/anaconda3/lib/python3.7/site-packages/optuna/trial/_trial.py:592: UserWarning: The reported value is ignored because this `step` 84 is already reported.\n",
      "  step\n",
      "/Users/brent/anaconda3/lib/python3.7/site-packages/optuna/trial/_trial.py:592: UserWarning: The reported value is ignored because this `step` 85 is already reported.\n",
      "  step\n"
     ]
    },
    {
     "name": "stdout",
     "output_type": "stream",
     "text": [
      "[85]\tvalid_0's auc: 0.752639\n",
      "[86]\tvalid_0's auc: 0.752788\n"
     ]
    },
    {
     "name": "stderr",
     "output_type": "stream",
     "text": [
      "/Users/brent/anaconda3/lib/python3.7/site-packages/optuna/trial/_trial.py:592: UserWarning: The reported value is ignored because this `step` 86 is already reported.\n",
      "  step\n",
      "/Users/brent/anaconda3/lib/python3.7/site-packages/optuna/trial/_trial.py:592: UserWarning: The reported value is ignored because this `step` 87 is already reported.\n",
      "  step\n"
     ]
    },
    {
     "name": "stdout",
     "output_type": "stream",
     "text": [
      "[87]\tvalid_0's auc: 0.753023\n",
      "[88]\tvalid_0's auc: 0.753257\n"
     ]
    },
    {
     "name": "stderr",
     "output_type": "stream",
     "text": [
      "/Users/brent/anaconda3/lib/python3.7/site-packages/optuna/trial/_trial.py:592: UserWarning: The reported value is ignored because this `step` 88 is already reported.\n",
      "  step\n",
      "/Users/brent/anaconda3/lib/python3.7/site-packages/optuna/trial/_trial.py:592: UserWarning: The reported value is ignored because this `step` 89 is already reported.\n",
      "  step\n"
     ]
    },
    {
     "name": "stdout",
     "output_type": "stream",
     "text": [
      "[89]\tvalid_0's auc: 0.753491\n",
      "[90]\tvalid_0's auc: 0.753662\n"
     ]
    },
    {
     "name": "stderr",
     "output_type": "stream",
     "text": [
      "/Users/brent/anaconda3/lib/python3.7/site-packages/optuna/trial/_trial.py:592: UserWarning: The reported value is ignored because this `step` 90 is already reported.\n",
      "  step\n",
      "/Users/brent/anaconda3/lib/python3.7/site-packages/optuna/trial/_trial.py:592: UserWarning: The reported value is ignored because this `step` 91 is already reported.\n",
      "  step\n"
     ]
    },
    {
     "name": "stdout",
     "output_type": "stream",
     "text": [
      "[91]\tvalid_0's auc: 0.753838\n",
      "[92]\tvalid_0's auc: 0.753872\n"
     ]
    },
    {
     "name": "stderr",
     "output_type": "stream",
     "text": [
      "/Users/brent/anaconda3/lib/python3.7/site-packages/optuna/trial/_trial.py:592: UserWarning: The reported value is ignored because this `step` 92 is already reported.\n",
      "  step\n",
      "/Users/brent/anaconda3/lib/python3.7/site-packages/optuna/trial/_trial.py:592: UserWarning: The reported value is ignored because this `step` 93 is already reported.\n",
      "  step\n"
     ]
    },
    {
     "name": "stdout",
     "output_type": "stream",
     "text": [
      "[93]\tvalid_0's auc: 0.754012\n",
      "[94]\tvalid_0's auc: 0.75398\n"
     ]
    },
    {
     "name": "stderr",
     "output_type": "stream",
     "text": [
      "/Users/brent/anaconda3/lib/python3.7/site-packages/optuna/trial/_trial.py:592: UserWarning: The reported value is ignored because this `step` 94 is already reported.\n",
      "  step\n",
      "/Users/brent/anaconda3/lib/python3.7/site-packages/optuna/trial/_trial.py:592: UserWarning: The reported value is ignored because this `step` 95 is already reported.\n",
      "  step\n"
     ]
    },
    {
     "name": "stdout",
     "output_type": "stream",
     "text": [
      "[95]\tvalid_0's auc: 0.754045\n",
      "[96]\tvalid_0's auc: 0.754262\n"
     ]
    },
    {
     "name": "stderr",
     "output_type": "stream",
     "text": [
      "/Users/brent/anaconda3/lib/python3.7/site-packages/optuna/trial/_trial.py:592: UserWarning: The reported value is ignored because this `step` 96 is already reported.\n",
      "  step\n",
      "/Users/brent/anaconda3/lib/python3.7/site-packages/optuna/trial/_trial.py:592: UserWarning: The reported value is ignored because this `step` 97 is already reported.\n",
      "  step\n"
     ]
    },
    {
     "name": "stdout",
     "output_type": "stream",
     "text": [
      "[97]\tvalid_0's auc: 0.754471\n",
      "[98]\tvalid_0's auc: 0.75464\n"
     ]
    },
    {
     "name": "stderr",
     "output_type": "stream",
     "text": [
      "/Users/brent/anaconda3/lib/python3.7/site-packages/optuna/trial/_trial.py:592: UserWarning: The reported value is ignored because this `step` 98 is already reported.\n",
      "  step\n",
      "/Users/brent/anaconda3/lib/python3.7/site-packages/optuna/trial/_trial.py:592: UserWarning: The reported value is ignored because this `step` 99 is already reported.\n",
      "  step\n"
     ]
    },
    {
     "name": "stdout",
     "output_type": "stream",
     "text": [
      "[99]\tvalid_0's auc: 0.754766\n",
      "[100]\tvalid_0's auc: 0.754899\n",
      "Did not meet early stopping. Best iteration is:\n",
      "[100]\tvalid_0's auc: 0.754899\n",
      "[LightGBM] [Warning] bagging_freq is set=5, subsample_freq=0 will be ignored. Current value: bagging_freq=5\n",
      "[LightGBM] [Warning] lambda_l2 is set=0.010267601491413092, reg_lambda=0.0 will be ignored. Current value: lambda_l2=0.010267601491413092\n",
      "[LightGBM] [Warning] feature_fraction is set=0.895871730613985, colsample_bytree=1.0 will be ignored. Current value: feature_fraction=0.895871730613985\n",
      "[LightGBM] [Warning] bagging_fraction is set=0.5719678131397895, subsample=1.0 will be ignored. Current value: bagging_fraction=0.5719678131397895\n",
      "[LightGBM] [Warning] lambda_l1 is set=0.013647293867443427, reg_alpha=0.0 will be ignored. Current value: lambda_l1=0.013647293867443427\n"
     ]
    },
    {
     "name": "stderr",
     "output_type": "stream",
     "text": [
      "/Users/brent/anaconda3/lib/python3.7/site-packages/optuna/trial/_trial.py:592: UserWarning: The reported value is ignored because this `step` 0 is already reported.\n",
      "  step\n",
      "/Users/brent/anaconda3/lib/python3.7/site-packages/optuna/trial/_trial.py:592: UserWarning: The reported value is ignored because this `step` 1 is already reported.\n",
      "  step\n"
     ]
    },
    {
     "name": "stdout",
     "output_type": "stream",
     "text": [
      "[1]\tvalid_0's auc: 0.697915\n",
      "Training until validation scores don't improve for 100 rounds\n",
      "[2]\tvalid_0's auc: 0.714308\n"
     ]
    },
    {
     "name": "stderr",
     "output_type": "stream",
     "text": [
      "/Users/brent/anaconda3/lib/python3.7/site-packages/optuna/trial/_trial.py:592: UserWarning: The reported value is ignored because this `step` 2 is already reported.\n",
      "  step\n",
      "/Users/brent/anaconda3/lib/python3.7/site-packages/optuna/trial/_trial.py:592: UserWarning: The reported value is ignored because this `step` 3 is already reported.\n",
      "  step\n"
     ]
    },
    {
     "name": "stdout",
     "output_type": "stream",
     "text": [
      "[3]\tvalid_0's auc: 0.71915\n",
      "[4]\tvalid_0's auc: 0.72154\n"
     ]
    },
    {
     "name": "stderr",
     "output_type": "stream",
     "text": [
      "/Users/brent/anaconda3/lib/python3.7/site-packages/optuna/trial/_trial.py:592: UserWarning: The reported value is ignored because this `step` 4 is already reported.\n",
      "  step\n",
      "/Users/brent/anaconda3/lib/python3.7/site-packages/optuna/trial/_trial.py:592: UserWarning: The reported value is ignored because this `step` 5 is already reported.\n",
      "  step\n"
     ]
    },
    {
     "name": "stdout",
     "output_type": "stream",
     "text": [
      "[5]\tvalid_0's auc: 0.722957\n",
      "[6]\tvalid_0's auc: 0.725992\n"
     ]
    },
    {
     "name": "stderr",
     "output_type": "stream",
     "text": [
      "/Users/brent/anaconda3/lib/python3.7/site-packages/optuna/trial/_trial.py:592: UserWarning: The reported value is ignored because this `step` 6 is already reported.\n",
      "  step\n",
      "/Users/brent/anaconda3/lib/python3.7/site-packages/optuna/trial/_trial.py:592: UserWarning: The reported value is ignored because this `step` 7 is already reported.\n",
      "  step\n"
     ]
    },
    {
     "name": "stdout",
     "output_type": "stream",
     "text": [
      "[7]\tvalid_0's auc: 0.727575\n",
      "[8]\tvalid_0's auc: 0.729264\n"
     ]
    },
    {
     "name": "stderr",
     "output_type": "stream",
     "text": [
      "/Users/brent/anaconda3/lib/python3.7/site-packages/optuna/trial/_trial.py:592: UserWarning: The reported value is ignored because this `step` 8 is already reported.\n",
      "  step\n",
      "/Users/brent/anaconda3/lib/python3.7/site-packages/optuna/trial/_trial.py:592: UserWarning: The reported value is ignored because this `step` 9 is already reported.\n",
      "  step\n"
     ]
    },
    {
     "name": "stdout",
     "output_type": "stream",
     "text": [
      "[9]\tvalid_0's auc: 0.730868\n",
      "[10]\tvalid_0's auc: 0.7325\n"
     ]
    },
    {
     "name": "stderr",
     "output_type": "stream",
     "text": [
      "/Users/brent/anaconda3/lib/python3.7/site-packages/optuna/trial/_trial.py:592: UserWarning: The reported value is ignored because this `step` 10 is already reported.\n",
      "  step\n",
      "/Users/brent/anaconda3/lib/python3.7/site-packages/optuna/trial/_trial.py:592: UserWarning: The reported value is ignored because this `step` 11 is already reported.\n",
      "  step\n"
     ]
    },
    {
     "name": "stdout",
     "output_type": "stream",
     "text": [
      "[11]\tvalid_0's auc: 0.733594\n",
      "[12]\tvalid_0's auc: 0.7345\n"
     ]
    },
    {
     "name": "stderr",
     "output_type": "stream",
     "text": [
      "/Users/brent/anaconda3/lib/python3.7/site-packages/optuna/trial/_trial.py:592: UserWarning: The reported value is ignored because this `step` 12 is already reported.\n",
      "  step\n",
      "/Users/brent/anaconda3/lib/python3.7/site-packages/optuna/trial/_trial.py:592: UserWarning: The reported value is ignored because this `step` 13 is already reported.\n",
      "  step\n"
     ]
    },
    {
     "name": "stdout",
     "output_type": "stream",
     "text": [
      "[13]\tvalid_0's auc: 0.735415\n",
      "[14]\tvalid_0's auc: 0.736228\n"
     ]
    },
    {
     "name": "stderr",
     "output_type": "stream",
     "text": [
      "/Users/brent/anaconda3/lib/python3.7/site-packages/optuna/trial/_trial.py:592: UserWarning: The reported value is ignored because this `step` 14 is already reported.\n",
      "  step\n",
      "/Users/brent/anaconda3/lib/python3.7/site-packages/optuna/trial/_trial.py:592: UserWarning: The reported value is ignored because this `step` 15 is already reported.\n",
      "  step\n"
     ]
    },
    {
     "name": "stdout",
     "output_type": "stream",
     "text": [
      "[15]\tvalid_0's auc: 0.736613\n",
      "[16]\tvalid_0's auc: 0.737469\n"
     ]
    },
    {
     "name": "stderr",
     "output_type": "stream",
     "text": [
      "/Users/brent/anaconda3/lib/python3.7/site-packages/optuna/trial/_trial.py:592: UserWarning: The reported value is ignored because this `step` 16 is already reported.\n",
      "  step\n",
      "/Users/brent/anaconda3/lib/python3.7/site-packages/optuna/trial/_trial.py:592: UserWarning: The reported value is ignored because this `step` 17 is already reported.\n",
      "  step\n"
     ]
    },
    {
     "name": "stdout",
     "output_type": "stream",
     "text": [
      "[17]\tvalid_0's auc: 0.738305\n",
      "[18]\tvalid_0's auc: 0.738867\n"
     ]
    },
    {
     "name": "stderr",
     "output_type": "stream",
     "text": [
      "/Users/brent/anaconda3/lib/python3.7/site-packages/optuna/trial/_trial.py:592: UserWarning: The reported value is ignored because this `step` 18 is already reported.\n",
      "  step\n",
      "/Users/brent/anaconda3/lib/python3.7/site-packages/optuna/trial/_trial.py:592: UserWarning: The reported value is ignored because this `step` 19 is already reported.\n",
      "  step\n"
     ]
    },
    {
     "name": "stdout",
     "output_type": "stream",
     "text": [
      "[19]\tvalid_0's auc: 0.739361\n",
      "[20]\tvalid_0's auc: 0.739833\n"
     ]
    },
    {
     "name": "stderr",
     "output_type": "stream",
     "text": [
      "/Users/brent/anaconda3/lib/python3.7/site-packages/optuna/trial/_trial.py:592: UserWarning: The reported value is ignored because this `step` 20 is already reported.\n",
      "  step\n",
      "/Users/brent/anaconda3/lib/python3.7/site-packages/optuna/trial/_trial.py:592: UserWarning: The reported value is ignored because this `step` 21 is already reported.\n",
      "  step\n"
     ]
    },
    {
     "name": "stdout",
     "output_type": "stream",
     "text": [
      "[21]\tvalid_0's auc: 0.740471\n",
      "[22]\tvalid_0's auc: 0.740775\n"
     ]
    },
    {
     "name": "stderr",
     "output_type": "stream",
     "text": [
      "/Users/brent/anaconda3/lib/python3.7/site-packages/optuna/trial/_trial.py:592: UserWarning: The reported value is ignored because this `step` 22 is already reported.\n",
      "  step\n",
      "/Users/brent/anaconda3/lib/python3.7/site-packages/optuna/trial/_trial.py:592: UserWarning: The reported value is ignored because this `step` 23 is already reported.\n",
      "  step\n"
     ]
    },
    {
     "name": "stdout",
     "output_type": "stream",
     "text": [
      "[23]\tvalid_0's auc: 0.741624\n",
      "[24]\tvalid_0's auc: 0.74207\n"
     ]
    },
    {
     "name": "stderr",
     "output_type": "stream",
     "text": [
      "/Users/brent/anaconda3/lib/python3.7/site-packages/optuna/trial/_trial.py:592: UserWarning: The reported value is ignored because this `step` 24 is already reported.\n",
      "  step\n",
      "/Users/brent/anaconda3/lib/python3.7/site-packages/optuna/trial/_trial.py:592: UserWarning: The reported value is ignored because this `step` 25 is already reported.\n",
      "  step\n"
     ]
    },
    {
     "name": "stdout",
     "output_type": "stream",
     "text": [
      "[25]\tvalid_0's auc: 0.742824\n",
      "[26]\tvalid_0's auc: 0.743397\n"
     ]
    },
    {
     "name": "stderr",
     "output_type": "stream",
     "text": [
      "/Users/brent/anaconda3/lib/python3.7/site-packages/optuna/trial/_trial.py:592: UserWarning: The reported value is ignored because this `step` 26 is already reported.\n",
      "  step\n",
      "/Users/brent/anaconda3/lib/python3.7/site-packages/optuna/trial/_trial.py:592: UserWarning: The reported value is ignored because this `step` 27 is already reported.\n",
      "  step\n"
     ]
    },
    {
     "name": "stdout",
     "output_type": "stream",
     "text": [
      "[27]\tvalid_0's auc: 0.743666\n",
      "[28]\tvalid_0's auc: 0.744405\n"
     ]
    },
    {
     "name": "stderr",
     "output_type": "stream",
     "text": [
      "/Users/brent/anaconda3/lib/python3.7/site-packages/optuna/trial/_trial.py:592: UserWarning: The reported value is ignored because this `step` 28 is already reported.\n",
      "  step\n",
      "/Users/brent/anaconda3/lib/python3.7/site-packages/optuna/trial/_trial.py:592: UserWarning: The reported value is ignored because this `step` 29 is already reported.\n",
      "  step\n"
     ]
    },
    {
     "name": "stdout",
     "output_type": "stream",
     "text": [
      "[29]\tvalid_0's auc: 0.744649\n",
      "[30]\tvalid_0's auc: 0.745115\n"
     ]
    },
    {
     "name": "stderr",
     "output_type": "stream",
     "text": [
      "/Users/brent/anaconda3/lib/python3.7/site-packages/optuna/trial/_trial.py:592: UserWarning: The reported value is ignored because this `step` 30 is already reported.\n",
      "  step\n",
      "/Users/brent/anaconda3/lib/python3.7/site-packages/optuna/trial/_trial.py:592: UserWarning: The reported value is ignored because this `step` 31 is already reported.\n",
      "  step\n"
     ]
    },
    {
     "name": "stdout",
     "output_type": "stream",
     "text": [
      "[31]\tvalid_0's auc: 0.745491\n",
      "[32]\tvalid_0's auc: 0.745864\n"
     ]
    },
    {
     "name": "stderr",
     "output_type": "stream",
     "text": [
      "/Users/brent/anaconda3/lib/python3.7/site-packages/optuna/trial/_trial.py:592: UserWarning: The reported value is ignored because this `step` 32 is already reported.\n",
      "  step\n",
      "/Users/brent/anaconda3/lib/python3.7/site-packages/optuna/trial/_trial.py:592: UserWarning: The reported value is ignored because this `step` 33 is already reported.\n",
      "  step\n"
     ]
    },
    {
     "name": "stdout",
     "output_type": "stream",
     "text": [
      "[33]\tvalid_0's auc: 0.746253\n",
      "[34]\tvalid_0's auc: 0.746693\n"
     ]
    },
    {
     "name": "stderr",
     "output_type": "stream",
     "text": [
      "/Users/brent/anaconda3/lib/python3.7/site-packages/optuna/trial/_trial.py:592: UserWarning: The reported value is ignored because this `step` 34 is already reported.\n",
      "  step\n",
      "/Users/brent/anaconda3/lib/python3.7/site-packages/optuna/trial/_trial.py:592: UserWarning: The reported value is ignored because this `step` 35 is already reported.\n",
      "  step\n"
     ]
    },
    {
     "name": "stdout",
     "output_type": "stream",
     "text": [
      "[35]\tvalid_0's auc: 0.746872\n",
      "[36]\tvalid_0's auc: 0.747288\n"
     ]
    },
    {
     "name": "stderr",
     "output_type": "stream",
     "text": [
      "/Users/brent/anaconda3/lib/python3.7/site-packages/optuna/trial/_trial.py:592: UserWarning: The reported value is ignored because this `step` 36 is already reported.\n",
      "  step\n",
      "/Users/brent/anaconda3/lib/python3.7/site-packages/optuna/trial/_trial.py:592: UserWarning: The reported value is ignored because this `step` 37 is already reported.\n",
      "  step\n"
     ]
    },
    {
     "name": "stdout",
     "output_type": "stream",
     "text": [
      "[37]\tvalid_0's auc: 0.747627\n",
      "[38]\tvalid_0's auc: 0.747789\n"
     ]
    },
    {
     "name": "stderr",
     "output_type": "stream",
     "text": [
      "/Users/brent/anaconda3/lib/python3.7/site-packages/optuna/trial/_trial.py:592: UserWarning: The reported value is ignored because this `step` 38 is already reported.\n",
      "  step\n",
      "/Users/brent/anaconda3/lib/python3.7/site-packages/optuna/trial/_trial.py:592: UserWarning: The reported value is ignored because this `step` 39 is already reported.\n",
      "  step\n"
     ]
    },
    {
     "name": "stdout",
     "output_type": "stream",
     "text": [
      "[39]\tvalid_0's auc: 0.748024\n",
      "[40]\tvalid_0's auc: 0.748375\n"
     ]
    },
    {
     "name": "stderr",
     "output_type": "stream",
     "text": [
      "/Users/brent/anaconda3/lib/python3.7/site-packages/optuna/trial/_trial.py:592: UserWarning: The reported value is ignored because this `step` 40 is already reported.\n",
      "  step\n",
      "/Users/brent/anaconda3/lib/python3.7/site-packages/optuna/trial/_trial.py:592: UserWarning: The reported value is ignored because this `step` 41 is already reported.\n",
      "  step\n"
     ]
    },
    {
     "name": "stdout",
     "output_type": "stream",
     "text": [
      "[41]\tvalid_0's auc: 0.748634\n",
      "[42]\tvalid_0's auc: 0.748972\n"
     ]
    },
    {
     "name": "stderr",
     "output_type": "stream",
     "text": [
      "/Users/brent/anaconda3/lib/python3.7/site-packages/optuna/trial/_trial.py:592: UserWarning: The reported value is ignored because this `step` 42 is already reported.\n",
      "  step\n",
      "/Users/brent/anaconda3/lib/python3.7/site-packages/optuna/trial/_trial.py:592: UserWarning: The reported value is ignored because this `step` 43 is already reported.\n",
      "  step\n"
     ]
    },
    {
     "name": "stdout",
     "output_type": "stream",
     "text": [
      "[43]\tvalid_0's auc: 0.749176\n",
      "[44]\tvalid_0's auc: 0.749367\n"
     ]
    },
    {
     "name": "stderr",
     "output_type": "stream",
     "text": [
      "/Users/brent/anaconda3/lib/python3.7/site-packages/optuna/trial/_trial.py:592: UserWarning: The reported value is ignored because this `step` 44 is already reported.\n",
      "  step\n",
      "/Users/brent/anaconda3/lib/python3.7/site-packages/optuna/trial/_trial.py:592: UserWarning: The reported value is ignored because this `step` 45 is already reported.\n",
      "  step\n"
     ]
    },
    {
     "name": "stdout",
     "output_type": "stream",
     "text": [
      "[45]\tvalid_0's auc: 0.749461\n",
      "[46]\tvalid_0's auc: 0.749537\n"
     ]
    },
    {
     "name": "stderr",
     "output_type": "stream",
     "text": [
      "/Users/brent/anaconda3/lib/python3.7/site-packages/optuna/trial/_trial.py:592: UserWarning: The reported value is ignored because this `step` 46 is already reported.\n",
      "  step\n",
      "/Users/brent/anaconda3/lib/python3.7/site-packages/optuna/trial/_trial.py:592: UserWarning: The reported value is ignored because this `step` 47 is already reported.\n",
      "  step\n"
     ]
    },
    {
     "name": "stdout",
     "output_type": "stream",
     "text": [
      "[47]\tvalid_0's auc: 0.749834\n",
      "[48]\tvalid_0's auc: 0.750065\n"
     ]
    },
    {
     "name": "stderr",
     "output_type": "stream",
     "text": [
      "/Users/brent/anaconda3/lib/python3.7/site-packages/optuna/trial/_trial.py:592: UserWarning: The reported value is ignored because this `step` 48 is already reported.\n",
      "  step\n",
      "/Users/brent/anaconda3/lib/python3.7/site-packages/optuna/trial/_trial.py:592: UserWarning: The reported value is ignored because this `step` 49 is already reported.\n",
      "  step\n"
     ]
    },
    {
     "name": "stdout",
     "output_type": "stream",
     "text": [
      "[49]\tvalid_0's auc: 0.750163\n",
      "[50]\tvalid_0's auc: 0.750249\n"
     ]
    },
    {
     "name": "stderr",
     "output_type": "stream",
     "text": [
      "/Users/brent/anaconda3/lib/python3.7/site-packages/optuna/trial/_trial.py:592: UserWarning: The reported value is ignored because this `step` 50 is already reported.\n",
      "  step\n",
      "/Users/brent/anaconda3/lib/python3.7/site-packages/optuna/trial/_trial.py:592: UserWarning: The reported value is ignored because this `step` 51 is already reported.\n",
      "  step\n"
     ]
    },
    {
     "name": "stdout",
     "output_type": "stream",
     "text": [
      "[51]\tvalid_0's auc: 0.75032\n",
      "[52]\tvalid_0's auc: 0.750509\n"
     ]
    },
    {
     "name": "stderr",
     "output_type": "stream",
     "text": [
      "/Users/brent/anaconda3/lib/python3.7/site-packages/optuna/trial/_trial.py:592: UserWarning: The reported value is ignored because this `step` 52 is already reported.\n",
      "  step\n",
      "/Users/brent/anaconda3/lib/python3.7/site-packages/optuna/trial/_trial.py:592: UserWarning: The reported value is ignored because this `step` 53 is already reported.\n",
      "  step\n"
     ]
    },
    {
     "name": "stdout",
     "output_type": "stream",
     "text": [
      "[53]\tvalid_0's auc: 0.750638\n",
      "[54]\tvalid_0's auc: 0.750719\n"
     ]
    },
    {
     "name": "stderr",
     "output_type": "stream",
     "text": [
      "/Users/brent/anaconda3/lib/python3.7/site-packages/optuna/trial/_trial.py:592: UserWarning: The reported value is ignored because this `step` 54 is already reported.\n",
      "  step\n",
      "/Users/brent/anaconda3/lib/python3.7/site-packages/optuna/trial/_trial.py:592: UserWarning: The reported value is ignored because this `step` 55 is already reported.\n",
      "  step\n"
     ]
    },
    {
     "name": "stdout",
     "output_type": "stream",
     "text": [
      "[55]\tvalid_0's auc: 0.750965\n",
      "[56]\tvalid_0's auc: 0.751022\n"
     ]
    },
    {
     "name": "stderr",
     "output_type": "stream",
     "text": [
      "/Users/brent/anaconda3/lib/python3.7/site-packages/optuna/trial/_trial.py:592: UserWarning: The reported value is ignored because this `step` 56 is already reported.\n",
      "  step\n",
      "/Users/brent/anaconda3/lib/python3.7/site-packages/optuna/trial/_trial.py:592: UserWarning: The reported value is ignored because this `step` 57 is already reported.\n",
      "  step\n"
     ]
    },
    {
     "name": "stdout",
     "output_type": "stream",
     "text": [
      "[57]\tvalid_0's auc: 0.751194\n",
      "[58]\tvalid_0's auc: 0.751211\n"
     ]
    },
    {
     "name": "stderr",
     "output_type": "stream",
     "text": [
      "/Users/brent/anaconda3/lib/python3.7/site-packages/optuna/trial/_trial.py:592: UserWarning: The reported value is ignored because this `step` 58 is already reported.\n",
      "  step\n",
      "/Users/brent/anaconda3/lib/python3.7/site-packages/optuna/trial/_trial.py:592: UserWarning: The reported value is ignored because this `step` 59 is already reported.\n",
      "  step\n"
     ]
    },
    {
     "name": "stdout",
     "output_type": "stream",
     "text": [
      "[59]\tvalid_0's auc: 0.751405\n",
      "[60]\tvalid_0's auc: 0.75165\n"
     ]
    },
    {
     "name": "stderr",
     "output_type": "stream",
     "text": [
      "/Users/brent/anaconda3/lib/python3.7/site-packages/optuna/trial/_trial.py:592: UserWarning: The reported value is ignored because this `step` 60 is already reported.\n",
      "  step\n",
      "/Users/brent/anaconda3/lib/python3.7/site-packages/optuna/trial/_trial.py:592: UserWarning: The reported value is ignored because this `step` 61 is already reported.\n",
      "  step\n"
     ]
    },
    {
     "name": "stdout",
     "output_type": "stream",
     "text": [
      "[61]\tvalid_0's auc: 0.75172\n",
      "[62]\tvalid_0's auc: 0.751726\n"
     ]
    },
    {
     "name": "stderr",
     "output_type": "stream",
     "text": [
      "/Users/brent/anaconda3/lib/python3.7/site-packages/optuna/trial/_trial.py:592: UserWarning: The reported value is ignored because this `step` 62 is already reported.\n",
      "  step\n",
      "/Users/brent/anaconda3/lib/python3.7/site-packages/optuna/trial/_trial.py:592: UserWarning: The reported value is ignored because this `step` 63 is already reported.\n",
      "  step\n"
     ]
    },
    {
     "name": "stdout",
     "output_type": "stream",
     "text": [
      "[63]\tvalid_0's auc: 0.751903\n",
      "[64]\tvalid_0's auc: 0.752227\n"
     ]
    },
    {
     "name": "stderr",
     "output_type": "stream",
     "text": [
      "/Users/brent/anaconda3/lib/python3.7/site-packages/optuna/trial/_trial.py:592: UserWarning: The reported value is ignored because this `step` 64 is already reported.\n",
      "  step\n",
      "/Users/brent/anaconda3/lib/python3.7/site-packages/optuna/trial/_trial.py:592: UserWarning: The reported value is ignored because this `step` 65 is already reported.\n",
      "  step\n"
     ]
    },
    {
     "name": "stdout",
     "output_type": "stream",
     "text": [
      "[65]\tvalid_0's auc: 0.752539\n",
      "[66]\tvalid_0's auc: 0.75279\n"
     ]
    },
    {
     "name": "stderr",
     "output_type": "stream",
     "text": [
      "/Users/brent/anaconda3/lib/python3.7/site-packages/optuna/trial/_trial.py:592: UserWarning: The reported value is ignored because this `step` 66 is already reported.\n",
      "  step\n",
      "/Users/brent/anaconda3/lib/python3.7/site-packages/optuna/trial/_trial.py:592: UserWarning: The reported value is ignored because this `step` 67 is already reported.\n",
      "  step\n"
     ]
    },
    {
     "name": "stdout",
     "output_type": "stream",
     "text": [
      "[67]\tvalid_0's auc: 0.753049\n",
      "[68]\tvalid_0's auc: 0.753243\n"
     ]
    },
    {
     "name": "stderr",
     "output_type": "stream",
     "text": [
      "/Users/brent/anaconda3/lib/python3.7/site-packages/optuna/trial/_trial.py:592: UserWarning: The reported value is ignored because this `step` 68 is already reported.\n",
      "  step\n",
      "/Users/brent/anaconda3/lib/python3.7/site-packages/optuna/trial/_trial.py:592: UserWarning: The reported value is ignored because this `step` 69 is already reported.\n",
      "  step\n"
     ]
    },
    {
     "name": "stdout",
     "output_type": "stream",
     "text": [
      "[69]\tvalid_0's auc: 0.753394\n",
      "[70]\tvalid_0's auc: 0.75349\n"
     ]
    },
    {
     "name": "stderr",
     "output_type": "stream",
     "text": [
      "/Users/brent/anaconda3/lib/python3.7/site-packages/optuna/trial/_trial.py:592: UserWarning: The reported value is ignored because this `step` 70 is already reported.\n",
      "  step\n",
      "/Users/brent/anaconda3/lib/python3.7/site-packages/optuna/trial/_trial.py:592: UserWarning: The reported value is ignored because this `step` 71 is already reported.\n",
      "  step\n"
     ]
    },
    {
     "name": "stdout",
     "output_type": "stream",
     "text": [
      "[71]\tvalid_0's auc: 0.753769\n",
      "[72]\tvalid_0's auc: 0.75407\n"
     ]
    },
    {
     "name": "stderr",
     "output_type": "stream",
     "text": [
      "/Users/brent/anaconda3/lib/python3.7/site-packages/optuna/trial/_trial.py:592: UserWarning: The reported value is ignored because this `step` 72 is already reported.\n",
      "  step\n",
      "/Users/brent/anaconda3/lib/python3.7/site-packages/optuna/trial/_trial.py:592: UserWarning: The reported value is ignored because this `step` 73 is already reported.\n",
      "  step\n"
     ]
    },
    {
     "name": "stdout",
     "output_type": "stream",
     "text": [
      "[73]\tvalid_0's auc: 0.754181\n",
      "[74]\tvalid_0's auc: 0.75432\n"
     ]
    },
    {
     "name": "stderr",
     "output_type": "stream",
     "text": [
      "/Users/brent/anaconda3/lib/python3.7/site-packages/optuna/trial/_trial.py:592: UserWarning: The reported value is ignored because this `step` 74 is already reported.\n",
      "  step\n",
      "/Users/brent/anaconda3/lib/python3.7/site-packages/optuna/trial/_trial.py:592: UserWarning: The reported value is ignored because this `step` 75 is already reported.\n",
      "  step\n"
     ]
    },
    {
     "name": "stdout",
     "output_type": "stream",
     "text": [
      "[75]\tvalid_0's auc: 0.754487\n",
      "[76]\tvalid_0's auc: 0.754677\n"
     ]
    },
    {
     "name": "stderr",
     "output_type": "stream",
     "text": [
      "/Users/brent/anaconda3/lib/python3.7/site-packages/optuna/trial/_trial.py:592: UserWarning: The reported value is ignored because this `step` 76 is already reported.\n",
      "  step\n",
      "/Users/brent/anaconda3/lib/python3.7/site-packages/optuna/trial/_trial.py:592: UserWarning: The reported value is ignored because this `step` 77 is already reported.\n",
      "  step\n"
     ]
    },
    {
     "name": "stdout",
     "output_type": "stream",
     "text": [
      "[77]\tvalid_0's auc: 0.754841\n",
      "[78]\tvalid_0's auc: 0.754997\n"
     ]
    },
    {
     "name": "stderr",
     "output_type": "stream",
     "text": [
      "/Users/brent/anaconda3/lib/python3.7/site-packages/optuna/trial/_trial.py:592: UserWarning: The reported value is ignored because this `step` 78 is already reported.\n",
      "  step\n",
      "/Users/brent/anaconda3/lib/python3.7/site-packages/optuna/trial/_trial.py:592: UserWarning: The reported value is ignored because this `step` 79 is already reported.\n",
      "  step\n"
     ]
    },
    {
     "name": "stdout",
     "output_type": "stream",
     "text": [
      "[79]\tvalid_0's auc: 0.755182\n",
      "[80]\tvalid_0's auc: 0.755359\n"
     ]
    },
    {
     "name": "stderr",
     "output_type": "stream",
     "text": [
      "/Users/brent/anaconda3/lib/python3.7/site-packages/optuna/trial/_trial.py:592: UserWarning: The reported value is ignored because this `step` 80 is already reported.\n",
      "  step\n",
      "/Users/brent/anaconda3/lib/python3.7/site-packages/optuna/trial/_trial.py:592: UserWarning: The reported value is ignored because this `step` 81 is already reported.\n",
      "  step\n"
     ]
    },
    {
     "name": "stdout",
     "output_type": "stream",
     "text": [
      "[81]\tvalid_0's auc: 0.755564\n",
      "[82]\tvalid_0's auc: 0.755654\n"
     ]
    },
    {
     "name": "stderr",
     "output_type": "stream",
     "text": [
      "/Users/brent/anaconda3/lib/python3.7/site-packages/optuna/trial/_trial.py:592: UserWarning: The reported value is ignored because this `step` 82 is already reported.\n",
      "  step\n",
      "/Users/brent/anaconda3/lib/python3.7/site-packages/optuna/trial/_trial.py:592: UserWarning: The reported value is ignored because this `step` 83 is already reported.\n",
      "  step\n"
     ]
    },
    {
     "name": "stdout",
     "output_type": "stream",
     "text": [
      "[83]\tvalid_0's auc: 0.755841\n",
      "[84]\tvalid_0's auc: 0.755982\n"
     ]
    },
    {
     "name": "stderr",
     "output_type": "stream",
     "text": [
      "/Users/brent/anaconda3/lib/python3.7/site-packages/optuna/trial/_trial.py:592: UserWarning: The reported value is ignored because this `step` 84 is already reported.\n",
      "  step\n",
      "/Users/brent/anaconda3/lib/python3.7/site-packages/optuna/trial/_trial.py:592: UserWarning: The reported value is ignored because this `step` 85 is already reported.\n",
      "  step\n"
     ]
    },
    {
     "name": "stdout",
     "output_type": "stream",
     "text": [
      "[85]\tvalid_0's auc: 0.756053\n",
      "[86]\tvalid_0's auc: 0.756322\n"
     ]
    },
    {
     "name": "stderr",
     "output_type": "stream",
     "text": [
      "/Users/brent/anaconda3/lib/python3.7/site-packages/optuna/trial/_trial.py:592: UserWarning: The reported value is ignored because this `step` 86 is already reported.\n",
      "  step\n",
      "/Users/brent/anaconda3/lib/python3.7/site-packages/optuna/trial/_trial.py:592: UserWarning: The reported value is ignored because this `step` 87 is already reported.\n",
      "  step\n"
     ]
    },
    {
     "name": "stdout",
     "output_type": "stream",
     "text": [
      "[87]\tvalid_0's auc: 0.756592\n",
      "[88]\tvalid_0's auc: 0.75677\n"
     ]
    },
    {
     "name": "stderr",
     "output_type": "stream",
     "text": [
      "/Users/brent/anaconda3/lib/python3.7/site-packages/optuna/trial/_trial.py:592: UserWarning: The reported value is ignored because this `step` 88 is already reported.\n",
      "  step\n",
      "/Users/brent/anaconda3/lib/python3.7/site-packages/optuna/trial/_trial.py:592: UserWarning: The reported value is ignored because this `step` 89 is already reported.\n",
      "  step\n"
     ]
    },
    {
     "name": "stdout",
     "output_type": "stream",
     "text": [
      "[89]\tvalid_0's auc: 0.756849\n",
      "[90]\tvalid_0's auc: 0.756904\n"
     ]
    },
    {
     "name": "stderr",
     "output_type": "stream",
     "text": [
      "/Users/brent/anaconda3/lib/python3.7/site-packages/optuna/trial/_trial.py:592: UserWarning: The reported value is ignored because this `step` 90 is already reported.\n",
      "  step\n",
      "/Users/brent/anaconda3/lib/python3.7/site-packages/optuna/trial/_trial.py:592: UserWarning: The reported value is ignored because this `step` 91 is already reported.\n",
      "  step\n"
     ]
    },
    {
     "name": "stdout",
     "output_type": "stream",
     "text": [
      "[91]\tvalid_0's auc: 0.757036\n",
      "[92]\tvalid_0's auc: 0.757119\n"
     ]
    },
    {
     "name": "stderr",
     "output_type": "stream",
     "text": [
      "/Users/brent/anaconda3/lib/python3.7/site-packages/optuna/trial/_trial.py:592: UserWarning: The reported value is ignored because this `step` 92 is already reported.\n",
      "  step\n",
      "/Users/brent/anaconda3/lib/python3.7/site-packages/optuna/trial/_trial.py:592: UserWarning: The reported value is ignored because this `step` 93 is already reported.\n",
      "  step\n"
     ]
    },
    {
     "name": "stdout",
     "output_type": "stream",
     "text": [
      "[93]\tvalid_0's auc: 0.757297\n",
      "[94]\tvalid_0's auc: 0.757408\n"
     ]
    },
    {
     "name": "stderr",
     "output_type": "stream",
     "text": [
      "/Users/brent/anaconda3/lib/python3.7/site-packages/optuna/trial/_trial.py:592: UserWarning: The reported value is ignored because this `step` 94 is already reported.\n",
      "  step\n",
      "/Users/brent/anaconda3/lib/python3.7/site-packages/optuna/trial/_trial.py:592: UserWarning: The reported value is ignored because this `step` 95 is already reported.\n",
      "  step\n"
     ]
    },
    {
     "name": "stdout",
     "output_type": "stream",
     "text": [
      "[95]\tvalid_0's auc: 0.757583\n",
      "[96]\tvalid_0's auc: 0.757724\n"
     ]
    },
    {
     "name": "stderr",
     "output_type": "stream",
     "text": [
      "/Users/brent/anaconda3/lib/python3.7/site-packages/optuna/trial/_trial.py:592: UserWarning: The reported value is ignored because this `step` 96 is already reported.\n",
      "  step\n",
      "/Users/brent/anaconda3/lib/python3.7/site-packages/optuna/trial/_trial.py:592: UserWarning: The reported value is ignored because this `step` 97 is already reported.\n",
      "  step\n"
     ]
    },
    {
     "name": "stdout",
     "output_type": "stream",
     "text": [
      "[97]\tvalid_0's auc: 0.757857\n",
      "[98]\tvalid_0's auc: 0.757888\n"
     ]
    },
    {
     "name": "stderr",
     "output_type": "stream",
     "text": [
      "/Users/brent/anaconda3/lib/python3.7/site-packages/optuna/trial/_trial.py:592: UserWarning: The reported value is ignored because this `step` 98 is already reported.\n",
      "  step\n",
      "/Users/brent/anaconda3/lib/python3.7/site-packages/optuna/trial/_trial.py:592: UserWarning: The reported value is ignored because this `step` 99 is already reported.\n",
      "  step\n"
     ]
    },
    {
     "name": "stdout",
     "output_type": "stream",
     "text": [
      "[99]\tvalid_0's auc: 0.757924\n",
      "[100]\tvalid_0's auc: 0.758101\n",
      "Did not meet early stopping. Best iteration is:\n",
      "[100]\tvalid_0's auc: 0.758101\n",
      "[LightGBM] [Warning] bagging_freq is set=5, subsample_freq=0 will be ignored. Current value: bagging_freq=5\n",
      "[LightGBM] [Warning] lambda_l2 is set=0.010267601491413092, reg_lambda=0.0 will be ignored. Current value: lambda_l2=0.010267601491413092\n",
      "[LightGBM] [Warning] feature_fraction is set=0.895871730613985, colsample_bytree=1.0 will be ignored. Current value: feature_fraction=0.895871730613985\n",
      "[LightGBM] [Warning] bagging_fraction is set=0.5719678131397895, subsample=1.0 will be ignored. Current value: bagging_fraction=0.5719678131397895\n",
      "[LightGBM] [Warning] lambda_l1 is set=0.013647293867443427, reg_alpha=0.0 will be ignored. Current value: lambda_l1=0.013647293867443427\n"
     ]
    },
    {
     "name": "stderr",
     "output_type": "stream",
     "text": [
      "/Users/brent/anaconda3/lib/python3.7/site-packages/optuna/trial/_trial.py:592: UserWarning: The reported value is ignored because this `step` 0 is already reported.\n",
      "  step\n",
      "/Users/brent/anaconda3/lib/python3.7/site-packages/optuna/trial/_trial.py:592: UserWarning: The reported value is ignored because this `step` 1 is already reported.\n",
      "  step\n"
     ]
    },
    {
     "name": "stdout",
     "output_type": "stream",
     "text": [
      "[1]\tvalid_0's auc: 0.697149\n",
      "Training until validation scores don't improve for 100 rounds\n",
      "[2]\tvalid_0's auc: 0.711919\n"
     ]
    },
    {
     "name": "stderr",
     "output_type": "stream",
     "text": [
      "/Users/brent/anaconda3/lib/python3.7/site-packages/optuna/trial/_trial.py:592: UserWarning: The reported value is ignored because this `step` 2 is already reported.\n",
      "  step\n",
      "/Users/brent/anaconda3/lib/python3.7/site-packages/optuna/trial/_trial.py:592: UserWarning: The reported value is ignored because this `step` 3 is already reported.\n",
      "  step\n"
     ]
    },
    {
     "name": "stdout",
     "output_type": "stream",
     "text": [
      "[3]\tvalid_0's auc: 0.71847\n",
      "[4]\tvalid_0's auc: 0.722427\n"
     ]
    },
    {
     "name": "stderr",
     "output_type": "stream",
     "text": [
      "/Users/brent/anaconda3/lib/python3.7/site-packages/optuna/trial/_trial.py:592: UserWarning: The reported value is ignored because this `step` 4 is already reported.\n",
      "  step\n",
      "/Users/brent/anaconda3/lib/python3.7/site-packages/optuna/trial/_trial.py:592: UserWarning: The reported value is ignored because this `step` 5 is already reported.\n",
      "  step\n"
     ]
    },
    {
     "name": "stdout",
     "output_type": "stream",
     "text": [
      "[5]\tvalid_0's auc: 0.726294\n",
      "[6]\tvalid_0's auc: 0.72883\n"
     ]
    },
    {
     "name": "stderr",
     "output_type": "stream",
     "text": [
      "/Users/brent/anaconda3/lib/python3.7/site-packages/optuna/trial/_trial.py:592: UserWarning: The reported value is ignored because this `step` 6 is already reported.\n",
      "  step\n",
      "/Users/brent/anaconda3/lib/python3.7/site-packages/optuna/trial/_trial.py:592: UserWarning: The reported value is ignored because this `step` 7 is already reported.\n",
      "  step\n"
     ]
    },
    {
     "name": "stdout",
     "output_type": "stream",
     "text": [
      "[7]\tvalid_0's auc: 0.731211\n",
      "[8]\tvalid_0's auc: 0.73229\n"
     ]
    },
    {
     "name": "stderr",
     "output_type": "stream",
     "text": [
      "/Users/brent/anaconda3/lib/python3.7/site-packages/optuna/trial/_trial.py:592: UserWarning: The reported value is ignored because this `step` 8 is already reported.\n",
      "  step\n",
      "/Users/brent/anaconda3/lib/python3.7/site-packages/optuna/trial/_trial.py:592: UserWarning: The reported value is ignored because this `step` 9 is already reported.\n",
      "  step\n"
     ]
    },
    {
     "name": "stdout",
     "output_type": "stream",
     "text": [
      "[9]\tvalid_0's auc: 0.733511\n",
      "[10]\tvalid_0's auc: 0.73471\n"
     ]
    },
    {
     "name": "stderr",
     "output_type": "stream",
     "text": [
      "/Users/brent/anaconda3/lib/python3.7/site-packages/optuna/trial/_trial.py:592: UserWarning: The reported value is ignored because this `step` 10 is already reported.\n",
      "  step\n",
      "/Users/brent/anaconda3/lib/python3.7/site-packages/optuna/trial/_trial.py:592: UserWarning: The reported value is ignored because this `step` 11 is already reported.\n",
      "  step\n"
     ]
    },
    {
     "name": "stdout",
     "output_type": "stream",
     "text": [
      "[11]\tvalid_0's auc: 0.735409\n",
      "[12]\tvalid_0's auc: 0.736332\n"
     ]
    },
    {
     "name": "stderr",
     "output_type": "stream",
     "text": [
      "/Users/brent/anaconda3/lib/python3.7/site-packages/optuna/trial/_trial.py:592: UserWarning: The reported value is ignored because this `step` 12 is already reported.\n",
      "  step\n",
      "/Users/brent/anaconda3/lib/python3.7/site-packages/optuna/trial/_trial.py:592: UserWarning: The reported value is ignored because this `step` 13 is already reported.\n",
      "  step\n"
     ]
    },
    {
     "name": "stdout",
     "output_type": "stream",
     "text": [
      "[13]\tvalid_0's auc: 0.737487\n",
      "[14]\tvalid_0's auc: 0.739085\n"
     ]
    },
    {
     "name": "stderr",
     "output_type": "stream",
     "text": [
      "/Users/brent/anaconda3/lib/python3.7/site-packages/optuna/trial/_trial.py:592: UserWarning: The reported value is ignored because this `step` 14 is already reported.\n",
      "  step\n",
      "/Users/brent/anaconda3/lib/python3.7/site-packages/optuna/trial/_trial.py:592: UserWarning: The reported value is ignored because this `step` 15 is already reported.\n",
      "  step\n"
     ]
    },
    {
     "name": "stdout",
     "output_type": "stream",
     "text": [
      "[15]\tvalid_0's auc: 0.739044\n",
      "[16]\tvalid_0's auc: 0.740229\n"
     ]
    },
    {
     "name": "stderr",
     "output_type": "stream",
     "text": [
      "/Users/brent/anaconda3/lib/python3.7/site-packages/optuna/trial/_trial.py:592: UserWarning: The reported value is ignored because this `step` 16 is already reported.\n",
      "  step\n",
      "/Users/brent/anaconda3/lib/python3.7/site-packages/optuna/trial/_trial.py:592: UserWarning: The reported value is ignored because this `step` 17 is already reported.\n",
      "  step\n"
     ]
    },
    {
     "name": "stdout",
     "output_type": "stream",
     "text": [
      "[17]\tvalid_0's auc: 0.74131\n",
      "[18]\tvalid_0's auc: 0.741889\n"
     ]
    },
    {
     "name": "stderr",
     "output_type": "stream",
     "text": [
      "/Users/brent/anaconda3/lib/python3.7/site-packages/optuna/trial/_trial.py:592: UserWarning: The reported value is ignored because this `step` 18 is already reported.\n",
      "  step\n",
      "/Users/brent/anaconda3/lib/python3.7/site-packages/optuna/trial/_trial.py:592: UserWarning: The reported value is ignored because this `step` 19 is already reported.\n",
      "  step\n"
     ]
    },
    {
     "name": "stdout",
     "output_type": "stream",
     "text": [
      "[19]\tvalid_0's auc: 0.742375\n",
      "[20]\tvalid_0's auc: 0.742559\n"
     ]
    },
    {
     "name": "stderr",
     "output_type": "stream",
     "text": [
      "/Users/brent/anaconda3/lib/python3.7/site-packages/optuna/trial/_trial.py:592: UserWarning: The reported value is ignored because this `step` 20 is already reported.\n",
      "  step\n",
      "/Users/brent/anaconda3/lib/python3.7/site-packages/optuna/trial/_trial.py:592: UserWarning: The reported value is ignored because this `step` 21 is already reported.\n",
      "  step\n"
     ]
    },
    {
     "name": "stdout",
     "output_type": "stream",
     "text": [
      "[21]\tvalid_0's auc: 0.742862\n",
      "[22]\tvalid_0's auc: 0.743437\n"
     ]
    },
    {
     "name": "stderr",
     "output_type": "stream",
     "text": [
      "/Users/brent/anaconda3/lib/python3.7/site-packages/optuna/trial/_trial.py:592: UserWarning: The reported value is ignored because this `step` 22 is already reported.\n",
      "  step\n",
      "/Users/brent/anaconda3/lib/python3.7/site-packages/optuna/trial/_trial.py:592: UserWarning: The reported value is ignored because this `step` 23 is already reported.\n",
      "  step\n"
     ]
    },
    {
     "name": "stdout",
     "output_type": "stream",
     "text": [
      "[23]\tvalid_0's auc: 0.743627\n",
      "[24]\tvalid_0's auc: 0.744255\n"
     ]
    },
    {
     "name": "stderr",
     "output_type": "stream",
     "text": [
      "/Users/brent/anaconda3/lib/python3.7/site-packages/optuna/trial/_trial.py:592: UserWarning: The reported value is ignored because this `step` 24 is already reported.\n",
      "  step\n",
      "/Users/brent/anaconda3/lib/python3.7/site-packages/optuna/trial/_trial.py:592: UserWarning: The reported value is ignored because this `step` 25 is already reported.\n",
      "  step\n"
     ]
    },
    {
     "name": "stdout",
     "output_type": "stream",
     "text": [
      "[25]\tvalid_0's auc: 0.7446\n",
      "[26]\tvalid_0's auc: 0.745226\n"
     ]
    },
    {
     "name": "stderr",
     "output_type": "stream",
     "text": [
      "/Users/brent/anaconda3/lib/python3.7/site-packages/optuna/trial/_trial.py:592: UserWarning: The reported value is ignored because this `step` 26 is already reported.\n",
      "  step\n",
      "/Users/brent/anaconda3/lib/python3.7/site-packages/optuna/trial/_trial.py:592: UserWarning: The reported value is ignored because this `step` 27 is already reported.\n",
      "  step\n"
     ]
    },
    {
     "name": "stdout",
     "output_type": "stream",
     "text": [
      "[27]\tvalid_0's auc: 0.745704\n",
      "[28]\tvalid_0's auc: 0.746095\n"
     ]
    },
    {
     "name": "stderr",
     "output_type": "stream",
     "text": [
      "/Users/brent/anaconda3/lib/python3.7/site-packages/optuna/trial/_trial.py:592: UserWarning: The reported value is ignored because this `step` 28 is already reported.\n",
      "  step\n",
      "/Users/brent/anaconda3/lib/python3.7/site-packages/optuna/trial/_trial.py:592: UserWarning: The reported value is ignored because this `step` 29 is already reported.\n",
      "  step\n"
     ]
    },
    {
     "name": "stdout",
     "output_type": "stream",
     "text": [
      "[29]\tvalid_0's auc: 0.746375\n",
      "[30]\tvalid_0's auc: 0.74653\n"
     ]
    },
    {
     "name": "stderr",
     "output_type": "stream",
     "text": [
      "/Users/brent/anaconda3/lib/python3.7/site-packages/optuna/trial/_trial.py:592: UserWarning: The reported value is ignored because this `step` 30 is already reported.\n",
      "  step\n",
      "/Users/brent/anaconda3/lib/python3.7/site-packages/optuna/trial/_trial.py:592: UserWarning: The reported value is ignored because this `step` 31 is already reported.\n",
      "  step\n"
     ]
    },
    {
     "name": "stdout",
     "output_type": "stream",
     "text": [
      "[31]\tvalid_0's auc: 0.74684\n",
      "[32]\tvalid_0's auc: 0.747073\n"
     ]
    },
    {
     "name": "stderr",
     "output_type": "stream",
     "text": [
      "/Users/brent/anaconda3/lib/python3.7/site-packages/optuna/trial/_trial.py:592: UserWarning: The reported value is ignored because this `step` 32 is already reported.\n",
      "  step\n",
      "/Users/brent/anaconda3/lib/python3.7/site-packages/optuna/trial/_trial.py:592: UserWarning: The reported value is ignored because this `step` 33 is already reported.\n",
      "  step\n"
     ]
    },
    {
     "name": "stdout",
     "output_type": "stream",
     "text": [
      "[33]\tvalid_0's auc: 0.747284\n",
      "[34]\tvalid_0's auc: 0.747452\n"
     ]
    },
    {
     "name": "stderr",
     "output_type": "stream",
     "text": [
      "/Users/brent/anaconda3/lib/python3.7/site-packages/optuna/trial/_trial.py:592: UserWarning: The reported value is ignored because this `step` 34 is already reported.\n",
      "  step\n",
      "/Users/brent/anaconda3/lib/python3.7/site-packages/optuna/trial/_trial.py:592: UserWarning: The reported value is ignored because this `step` 35 is already reported.\n",
      "  step\n"
     ]
    },
    {
     "name": "stdout",
     "output_type": "stream",
     "text": [
      "[35]\tvalid_0's auc: 0.7477\n",
      "[36]\tvalid_0's auc: 0.748048\n"
     ]
    },
    {
     "name": "stderr",
     "output_type": "stream",
     "text": [
      "/Users/brent/anaconda3/lib/python3.7/site-packages/optuna/trial/_trial.py:592: UserWarning: The reported value is ignored because this `step` 36 is already reported.\n",
      "  step\n",
      "/Users/brent/anaconda3/lib/python3.7/site-packages/optuna/trial/_trial.py:592: UserWarning: The reported value is ignored because this `step` 37 is already reported.\n",
      "  step\n"
     ]
    },
    {
     "name": "stdout",
     "output_type": "stream",
     "text": [
      "[37]\tvalid_0's auc: 0.748279\n",
      "[38]\tvalid_0's auc: 0.748379\n"
     ]
    },
    {
     "name": "stderr",
     "output_type": "stream",
     "text": [
      "/Users/brent/anaconda3/lib/python3.7/site-packages/optuna/trial/_trial.py:592: UserWarning: The reported value is ignored because this `step` 38 is already reported.\n",
      "  step\n",
      "/Users/brent/anaconda3/lib/python3.7/site-packages/optuna/trial/_trial.py:592: UserWarning: The reported value is ignored because this `step` 39 is already reported.\n",
      "  step\n"
     ]
    },
    {
     "name": "stdout",
     "output_type": "stream",
     "text": [
      "[39]\tvalid_0's auc: 0.748303\n",
      "[40]\tvalid_0's auc: 0.748408\n"
     ]
    },
    {
     "name": "stderr",
     "output_type": "stream",
     "text": [
      "/Users/brent/anaconda3/lib/python3.7/site-packages/optuna/trial/_trial.py:592: UserWarning: The reported value is ignored because this `step` 40 is already reported.\n",
      "  step\n",
      "/Users/brent/anaconda3/lib/python3.7/site-packages/optuna/trial/_trial.py:592: UserWarning: The reported value is ignored because this `step` 41 is already reported.\n",
      "  step\n"
     ]
    },
    {
     "name": "stdout",
     "output_type": "stream",
     "text": [
      "[41]\tvalid_0's auc: 0.748941\n",
      "[42]\tvalid_0's auc: 0.749143\n"
     ]
    },
    {
     "name": "stderr",
     "output_type": "stream",
     "text": [
      "/Users/brent/anaconda3/lib/python3.7/site-packages/optuna/trial/_trial.py:592: UserWarning: The reported value is ignored because this `step` 42 is already reported.\n",
      "  step\n",
      "/Users/brent/anaconda3/lib/python3.7/site-packages/optuna/trial/_trial.py:592: UserWarning: The reported value is ignored because this `step` 43 is already reported.\n",
      "  step\n"
     ]
    },
    {
     "name": "stdout",
     "output_type": "stream",
     "text": [
      "[43]\tvalid_0's auc: 0.749275\n",
      "[44]\tvalid_0's auc: 0.749687\n"
     ]
    },
    {
     "name": "stderr",
     "output_type": "stream",
     "text": [
      "/Users/brent/anaconda3/lib/python3.7/site-packages/optuna/trial/_trial.py:592: UserWarning: The reported value is ignored because this `step` 44 is already reported.\n",
      "  step\n",
      "/Users/brent/anaconda3/lib/python3.7/site-packages/optuna/trial/_trial.py:592: UserWarning: The reported value is ignored because this `step` 45 is already reported.\n",
      "  step\n"
     ]
    },
    {
     "name": "stdout",
     "output_type": "stream",
     "text": [
      "[45]\tvalid_0's auc: 0.75021\n",
      "[46]\tvalid_0's auc: 0.750281\n"
     ]
    },
    {
     "name": "stderr",
     "output_type": "stream",
     "text": [
      "/Users/brent/anaconda3/lib/python3.7/site-packages/optuna/trial/_trial.py:592: UserWarning: The reported value is ignored because this `step` 46 is already reported.\n",
      "  step\n",
      "/Users/brent/anaconda3/lib/python3.7/site-packages/optuna/trial/_trial.py:592: UserWarning: The reported value is ignored because this `step` 47 is already reported.\n",
      "  step\n"
     ]
    },
    {
     "name": "stdout",
     "output_type": "stream",
     "text": [
      "[47]\tvalid_0's auc: 0.750504\n",
      "[48]\tvalid_0's auc: 0.750676\n"
     ]
    },
    {
     "name": "stderr",
     "output_type": "stream",
     "text": [
      "/Users/brent/anaconda3/lib/python3.7/site-packages/optuna/trial/_trial.py:592: UserWarning: The reported value is ignored because this `step` 48 is already reported.\n",
      "  step\n",
      "/Users/brent/anaconda3/lib/python3.7/site-packages/optuna/trial/_trial.py:592: UserWarning: The reported value is ignored because this `step` 49 is already reported.\n",
      "  step\n"
     ]
    },
    {
     "name": "stdout",
     "output_type": "stream",
     "text": [
      "[49]\tvalid_0's auc: 0.750864\n",
      "[50]\tvalid_0's auc: 0.750839\n"
     ]
    },
    {
     "name": "stderr",
     "output_type": "stream",
     "text": [
      "/Users/brent/anaconda3/lib/python3.7/site-packages/optuna/trial/_trial.py:592: UserWarning: The reported value is ignored because this `step` 50 is already reported.\n",
      "  step\n",
      "/Users/brent/anaconda3/lib/python3.7/site-packages/optuna/trial/_trial.py:592: UserWarning: The reported value is ignored because this `step` 51 is already reported.\n",
      "  step\n"
     ]
    },
    {
     "name": "stdout",
     "output_type": "stream",
     "text": [
      "[51]\tvalid_0's auc: 0.751166\n",
      "[52]\tvalid_0's auc: 0.751391\n"
     ]
    },
    {
     "name": "stderr",
     "output_type": "stream",
     "text": [
      "/Users/brent/anaconda3/lib/python3.7/site-packages/optuna/trial/_trial.py:592: UserWarning: The reported value is ignored because this `step` 52 is already reported.\n",
      "  step\n",
      "/Users/brent/anaconda3/lib/python3.7/site-packages/optuna/trial/_trial.py:592: UserWarning: The reported value is ignored because this `step` 53 is already reported.\n",
      "  step\n"
     ]
    },
    {
     "name": "stdout",
     "output_type": "stream",
     "text": [
      "[53]\tvalid_0's auc: 0.751549\n",
      "[54]\tvalid_0's auc: 0.751608\n"
     ]
    },
    {
     "name": "stderr",
     "output_type": "stream",
     "text": [
      "/Users/brent/anaconda3/lib/python3.7/site-packages/optuna/trial/_trial.py:592: UserWarning: The reported value is ignored because this `step` 54 is already reported.\n",
      "  step\n",
      "/Users/brent/anaconda3/lib/python3.7/site-packages/optuna/trial/_trial.py:592: UserWarning: The reported value is ignored because this `step` 55 is already reported.\n",
      "  step\n"
     ]
    },
    {
     "name": "stdout",
     "output_type": "stream",
     "text": [
      "[55]\tvalid_0's auc: 0.751914\n",
      "[56]\tvalid_0's auc: 0.751994\n"
     ]
    },
    {
     "name": "stderr",
     "output_type": "stream",
     "text": [
      "/Users/brent/anaconda3/lib/python3.7/site-packages/optuna/trial/_trial.py:592: UserWarning: The reported value is ignored because this `step` 56 is already reported.\n",
      "  step\n",
      "/Users/brent/anaconda3/lib/python3.7/site-packages/optuna/trial/_trial.py:592: UserWarning: The reported value is ignored because this `step` 57 is already reported.\n",
      "  step\n"
     ]
    },
    {
     "name": "stdout",
     "output_type": "stream",
     "text": [
      "[57]\tvalid_0's auc: 0.752179\n",
      "[58]\tvalid_0's auc: 0.752488\n"
     ]
    },
    {
     "name": "stderr",
     "output_type": "stream",
     "text": [
      "/Users/brent/anaconda3/lib/python3.7/site-packages/optuna/trial/_trial.py:592: UserWarning: The reported value is ignored because this `step` 58 is already reported.\n",
      "  step\n",
      "/Users/brent/anaconda3/lib/python3.7/site-packages/optuna/trial/_trial.py:592: UserWarning: The reported value is ignored because this `step` 59 is already reported.\n",
      "  step\n"
     ]
    },
    {
     "name": "stdout",
     "output_type": "stream",
     "text": [
      "[59]\tvalid_0's auc: 0.752556\n",
      "[60]\tvalid_0's auc: 0.75257\n"
     ]
    },
    {
     "name": "stderr",
     "output_type": "stream",
     "text": [
      "/Users/brent/anaconda3/lib/python3.7/site-packages/optuna/trial/_trial.py:592: UserWarning: The reported value is ignored because this `step` 60 is already reported.\n",
      "  step\n",
      "/Users/brent/anaconda3/lib/python3.7/site-packages/optuna/trial/_trial.py:592: UserWarning: The reported value is ignored because this `step` 61 is already reported.\n",
      "  step\n"
     ]
    },
    {
     "name": "stdout",
     "output_type": "stream",
     "text": [
      "[61]\tvalid_0's auc: 0.752649\n",
      "[62]\tvalid_0's auc: 0.752798\n"
     ]
    },
    {
     "name": "stderr",
     "output_type": "stream",
     "text": [
      "/Users/brent/anaconda3/lib/python3.7/site-packages/optuna/trial/_trial.py:592: UserWarning: The reported value is ignored because this `step` 62 is already reported.\n",
      "  step\n",
      "/Users/brent/anaconda3/lib/python3.7/site-packages/optuna/trial/_trial.py:592: UserWarning: The reported value is ignored because this `step` 63 is already reported.\n",
      "  step\n"
     ]
    },
    {
     "name": "stdout",
     "output_type": "stream",
     "text": [
      "[63]\tvalid_0's auc: 0.752946\n",
      "[64]\tvalid_0's auc: 0.753152\n"
     ]
    },
    {
     "name": "stderr",
     "output_type": "stream",
     "text": [
      "/Users/brent/anaconda3/lib/python3.7/site-packages/optuna/trial/_trial.py:592: UserWarning: The reported value is ignored because this `step` 64 is already reported.\n",
      "  step\n",
      "/Users/brent/anaconda3/lib/python3.7/site-packages/optuna/trial/_trial.py:592: UserWarning: The reported value is ignored because this `step` 65 is already reported.\n",
      "  step\n"
     ]
    },
    {
     "name": "stdout",
     "output_type": "stream",
     "text": [
      "[65]\tvalid_0's auc: 0.753168\n",
      "[66]\tvalid_0's auc: 0.753298\n"
     ]
    },
    {
     "name": "stderr",
     "output_type": "stream",
     "text": [
      "/Users/brent/anaconda3/lib/python3.7/site-packages/optuna/trial/_trial.py:592: UserWarning: The reported value is ignored because this `step` 66 is already reported.\n",
      "  step\n",
      "/Users/brent/anaconda3/lib/python3.7/site-packages/optuna/trial/_trial.py:592: UserWarning: The reported value is ignored because this `step` 67 is already reported.\n",
      "  step\n"
     ]
    },
    {
     "name": "stdout",
     "output_type": "stream",
     "text": [
      "[67]\tvalid_0's auc: 0.753395\n",
      "[68]\tvalid_0's auc: 0.753439\n"
     ]
    },
    {
     "name": "stderr",
     "output_type": "stream",
     "text": [
      "/Users/brent/anaconda3/lib/python3.7/site-packages/optuna/trial/_trial.py:592: UserWarning: The reported value is ignored because this `step` 68 is already reported.\n",
      "  step\n",
      "/Users/brent/anaconda3/lib/python3.7/site-packages/optuna/trial/_trial.py:592: UserWarning: The reported value is ignored because this `step` 69 is already reported.\n",
      "  step\n"
     ]
    },
    {
     "name": "stdout",
     "output_type": "stream",
     "text": [
      "[69]\tvalid_0's auc: 0.753529\n",
      "[70]\tvalid_0's auc: 0.753578\n"
     ]
    },
    {
     "name": "stderr",
     "output_type": "stream",
     "text": [
      "/Users/brent/anaconda3/lib/python3.7/site-packages/optuna/trial/_trial.py:592: UserWarning: The reported value is ignored because this `step` 70 is already reported.\n",
      "  step\n",
      "/Users/brent/anaconda3/lib/python3.7/site-packages/optuna/trial/_trial.py:592: UserWarning: The reported value is ignored because this `step` 71 is already reported.\n",
      "  step\n"
     ]
    },
    {
     "name": "stdout",
     "output_type": "stream",
     "text": [
      "[71]\tvalid_0's auc: 0.753745\n",
      "[72]\tvalid_0's auc: 0.75388\n"
     ]
    },
    {
     "name": "stderr",
     "output_type": "stream",
     "text": [
      "/Users/brent/anaconda3/lib/python3.7/site-packages/optuna/trial/_trial.py:592: UserWarning: The reported value is ignored because this `step` 72 is already reported.\n",
      "  step\n",
      "/Users/brent/anaconda3/lib/python3.7/site-packages/optuna/trial/_trial.py:592: UserWarning: The reported value is ignored because this `step` 73 is already reported.\n",
      "  step\n"
     ]
    },
    {
     "name": "stdout",
     "output_type": "stream",
     "text": [
      "[73]\tvalid_0's auc: 0.754094\n",
      "[74]\tvalid_0's auc: 0.754179\n"
     ]
    },
    {
     "name": "stderr",
     "output_type": "stream",
     "text": [
      "/Users/brent/anaconda3/lib/python3.7/site-packages/optuna/trial/_trial.py:592: UserWarning: The reported value is ignored because this `step` 74 is already reported.\n",
      "  step\n",
      "/Users/brent/anaconda3/lib/python3.7/site-packages/optuna/trial/_trial.py:592: UserWarning: The reported value is ignored because this `step` 75 is already reported.\n",
      "  step\n"
     ]
    },
    {
     "name": "stdout",
     "output_type": "stream",
     "text": [
      "[75]\tvalid_0's auc: 0.754237\n",
      "[76]\tvalid_0's auc: 0.754569\n"
     ]
    },
    {
     "name": "stderr",
     "output_type": "stream",
     "text": [
      "/Users/brent/anaconda3/lib/python3.7/site-packages/optuna/trial/_trial.py:592: UserWarning: The reported value is ignored because this `step` 76 is already reported.\n",
      "  step\n",
      "/Users/brent/anaconda3/lib/python3.7/site-packages/optuna/trial/_trial.py:592: UserWarning: The reported value is ignored because this `step` 77 is already reported.\n",
      "  step\n"
     ]
    },
    {
     "name": "stdout",
     "output_type": "stream",
     "text": [
      "[77]\tvalid_0's auc: 0.754969\n",
      "[78]\tvalid_0's auc: 0.755287\n"
     ]
    },
    {
     "name": "stderr",
     "output_type": "stream",
     "text": [
      "/Users/brent/anaconda3/lib/python3.7/site-packages/optuna/trial/_trial.py:592: UserWarning: The reported value is ignored because this `step` 78 is already reported.\n",
      "  step\n",
      "/Users/brent/anaconda3/lib/python3.7/site-packages/optuna/trial/_trial.py:592: UserWarning: The reported value is ignored because this `step` 79 is already reported.\n",
      "  step\n"
     ]
    },
    {
     "name": "stdout",
     "output_type": "stream",
     "text": [
      "[79]\tvalid_0's auc: 0.755527\n",
      "[80]\tvalid_0's auc: 0.755581\n"
     ]
    },
    {
     "name": "stderr",
     "output_type": "stream",
     "text": [
      "/Users/brent/anaconda3/lib/python3.7/site-packages/optuna/trial/_trial.py:592: UserWarning: The reported value is ignored because this `step` 80 is already reported.\n",
      "  step\n",
      "/Users/brent/anaconda3/lib/python3.7/site-packages/optuna/trial/_trial.py:592: UserWarning: The reported value is ignored because this `step` 81 is already reported.\n",
      "  step\n"
     ]
    },
    {
     "name": "stdout",
     "output_type": "stream",
     "text": [
      "[81]\tvalid_0's auc: 0.75572\n",
      "[82]\tvalid_0's auc: 0.755869\n"
     ]
    },
    {
     "name": "stderr",
     "output_type": "stream",
     "text": [
      "/Users/brent/anaconda3/lib/python3.7/site-packages/optuna/trial/_trial.py:592: UserWarning: The reported value is ignored because this `step` 82 is already reported.\n",
      "  step\n",
      "/Users/brent/anaconda3/lib/python3.7/site-packages/optuna/trial/_trial.py:592: UserWarning: The reported value is ignored because this `step` 83 is already reported.\n",
      "  step\n"
     ]
    },
    {
     "name": "stdout",
     "output_type": "stream",
     "text": [
      "[83]\tvalid_0's auc: 0.755981\n",
      "[84]\tvalid_0's auc: 0.756046\n"
     ]
    },
    {
     "name": "stderr",
     "output_type": "stream",
     "text": [
      "/Users/brent/anaconda3/lib/python3.7/site-packages/optuna/trial/_trial.py:592: UserWarning: The reported value is ignored because this `step` 84 is already reported.\n",
      "  step\n",
      "/Users/brent/anaconda3/lib/python3.7/site-packages/optuna/trial/_trial.py:592: UserWarning: The reported value is ignored because this `step` 85 is already reported.\n",
      "  step\n"
     ]
    },
    {
     "name": "stdout",
     "output_type": "stream",
     "text": [
      "[85]\tvalid_0's auc: 0.756292\n",
      "[86]\tvalid_0's auc: 0.756485\n"
     ]
    },
    {
     "name": "stderr",
     "output_type": "stream",
     "text": [
      "/Users/brent/anaconda3/lib/python3.7/site-packages/optuna/trial/_trial.py:592: UserWarning: The reported value is ignored because this `step` 86 is already reported.\n",
      "  step\n",
      "/Users/brent/anaconda3/lib/python3.7/site-packages/optuna/trial/_trial.py:592: UserWarning: The reported value is ignored because this `step` 87 is already reported.\n",
      "  step\n"
     ]
    },
    {
     "name": "stdout",
     "output_type": "stream",
     "text": [
      "[87]\tvalid_0's auc: 0.756661\n",
      "[88]\tvalid_0's auc: 0.756879\n"
     ]
    },
    {
     "name": "stderr",
     "output_type": "stream",
     "text": [
      "/Users/brent/anaconda3/lib/python3.7/site-packages/optuna/trial/_trial.py:592: UserWarning: The reported value is ignored because this `step` 88 is already reported.\n",
      "  step\n",
      "/Users/brent/anaconda3/lib/python3.7/site-packages/optuna/trial/_trial.py:592: UserWarning: The reported value is ignored because this `step` 89 is already reported.\n",
      "  step\n"
     ]
    },
    {
     "name": "stdout",
     "output_type": "stream",
     "text": [
      "[89]\tvalid_0's auc: 0.757101\n",
      "[90]\tvalid_0's auc: 0.757297\n"
     ]
    },
    {
     "name": "stderr",
     "output_type": "stream",
     "text": [
      "/Users/brent/anaconda3/lib/python3.7/site-packages/optuna/trial/_trial.py:592: UserWarning: The reported value is ignored because this `step` 90 is already reported.\n",
      "  step\n",
      "/Users/brent/anaconda3/lib/python3.7/site-packages/optuna/trial/_trial.py:592: UserWarning: The reported value is ignored because this `step` 91 is already reported.\n",
      "  step\n"
     ]
    },
    {
     "name": "stdout",
     "output_type": "stream",
     "text": [
      "[91]\tvalid_0's auc: 0.757412\n",
      "[92]\tvalid_0's auc: 0.757518\n"
     ]
    },
    {
     "name": "stderr",
     "output_type": "stream",
     "text": [
      "/Users/brent/anaconda3/lib/python3.7/site-packages/optuna/trial/_trial.py:592: UserWarning: The reported value is ignored because this `step` 92 is already reported.\n",
      "  step\n",
      "/Users/brent/anaconda3/lib/python3.7/site-packages/optuna/trial/_trial.py:592: UserWarning: The reported value is ignored because this `step` 93 is already reported.\n",
      "  step\n"
     ]
    },
    {
     "name": "stdout",
     "output_type": "stream",
     "text": [
      "[93]\tvalid_0's auc: 0.75752\n",
      "[94]\tvalid_0's auc: 0.757517\n"
     ]
    },
    {
     "name": "stderr",
     "output_type": "stream",
     "text": [
      "/Users/brent/anaconda3/lib/python3.7/site-packages/optuna/trial/_trial.py:592: UserWarning: The reported value is ignored because this `step` 94 is already reported.\n",
      "  step\n",
      "/Users/brent/anaconda3/lib/python3.7/site-packages/optuna/trial/_trial.py:592: UserWarning: The reported value is ignored because this `step` 95 is already reported.\n",
      "  step\n"
     ]
    },
    {
     "name": "stdout",
     "output_type": "stream",
     "text": [
      "[95]\tvalid_0's auc: 0.757573\n",
      "[96]\tvalid_0's auc: 0.757832\n"
     ]
    },
    {
     "name": "stderr",
     "output_type": "stream",
     "text": [
      "/Users/brent/anaconda3/lib/python3.7/site-packages/optuna/trial/_trial.py:592: UserWarning: The reported value is ignored because this `step` 96 is already reported.\n",
      "  step\n",
      "/Users/brent/anaconda3/lib/python3.7/site-packages/optuna/trial/_trial.py:592: UserWarning: The reported value is ignored because this `step` 97 is already reported.\n",
      "  step\n"
     ]
    },
    {
     "name": "stdout",
     "output_type": "stream",
     "text": [
      "[97]\tvalid_0's auc: 0.758053\n",
      "[98]\tvalid_0's auc: 0.758197\n"
     ]
    },
    {
     "name": "stderr",
     "output_type": "stream",
     "text": [
      "/Users/brent/anaconda3/lib/python3.7/site-packages/optuna/trial/_trial.py:592: UserWarning: The reported value is ignored because this `step` 98 is already reported.\n",
      "  step\n",
      "/Users/brent/anaconda3/lib/python3.7/site-packages/optuna/trial/_trial.py:592: UserWarning: The reported value is ignored because this `step` 99 is already reported.\n",
      "  step\n"
     ]
    },
    {
     "name": "stdout",
     "output_type": "stream",
     "text": [
      "[99]\tvalid_0's auc: 0.758373\n",
      "[100]\tvalid_0's auc: 0.758559\n",
      "Did not meet early stopping. Best iteration is:\n",
      "[100]\tvalid_0's auc: 0.758559\n",
      "[LightGBM] [Warning] bagging_freq is set=5, subsample_freq=0 will be ignored. Current value: bagging_freq=5\n",
      "[LightGBM] [Warning] lambda_l2 is set=0.010267601491413092, reg_lambda=0.0 will be ignored. Current value: lambda_l2=0.010267601491413092\n",
      "[LightGBM] [Warning] feature_fraction is set=0.895871730613985, colsample_bytree=1.0 will be ignored. Current value: feature_fraction=0.895871730613985\n",
      "[LightGBM] [Warning] bagging_fraction is set=0.5719678131397895, subsample=1.0 will be ignored. Current value: bagging_fraction=0.5719678131397895\n",
      "[LightGBM] [Warning] lambda_l1 is set=0.013647293867443427, reg_alpha=0.0 will be ignored. Current value: lambda_l1=0.013647293867443427\n"
     ]
    },
    {
     "name": "stderr",
     "output_type": "stream",
     "text": [
      "/Users/brent/anaconda3/lib/python3.7/site-packages/optuna/trial/_trial.py:592: UserWarning: The reported value is ignored because this `step` 0 is already reported.\n",
      "  step\n",
      "/Users/brent/anaconda3/lib/python3.7/site-packages/optuna/trial/_trial.py:592: UserWarning: The reported value is ignored because this `step` 1 is already reported.\n",
      "  step\n"
     ]
    },
    {
     "name": "stdout",
     "output_type": "stream",
     "text": [
      "[1]\tvalid_0's auc: 0.679969\n",
      "Training until validation scores don't improve for 100 rounds\n",
      "[2]\tvalid_0's auc: 0.697446\n"
     ]
    },
    {
     "name": "stderr",
     "output_type": "stream",
     "text": [
      "/Users/brent/anaconda3/lib/python3.7/site-packages/optuna/trial/_trial.py:592: UserWarning: The reported value is ignored because this `step` 2 is already reported.\n",
      "  step\n"
     ]
    },
    {
     "name": "stdout",
     "output_type": "stream",
     "text": [
      "[3]\tvalid_0's auc: 0.704249\n"
     ]
    },
    {
     "name": "stderr",
     "output_type": "stream",
     "text": [
      "/Users/brent/anaconda3/lib/python3.7/site-packages/optuna/trial/_trial.py:592: UserWarning: The reported value is ignored because this `step` 3 is already reported.\n",
      "  step\n"
     ]
    },
    {
     "name": "stdout",
     "output_type": "stream",
     "text": [
      "[4]\tvalid_0's auc: 0.709308\n"
     ]
    },
    {
     "name": "stderr",
     "output_type": "stream",
     "text": [
      "/Users/brent/anaconda3/lib/python3.7/site-packages/optuna/trial/_trial.py:592: UserWarning: The reported value is ignored because this `step` 4 is already reported.\n",
      "  step\n",
      "/Users/brent/anaconda3/lib/python3.7/site-packages/optuna/trial/_trial.py:592: UserWarning: The reported value is ignored because this `step` 5 is already reported.\n",
      "  step\n"
     ]
    },
    {
     "name": "stdout",
     "output_type": "stream",
     "text": [
      "[5]\tvalid_0's auc: 0.713057\n",
      "[6]\tvalid_0's auc: 0.716532\n"
     ]
    },
    {
     "name": "stderr",
     "output_type": "stream",
     "text": [
      "/Users/brent/anaconda3/lib/python3.7/site-packages/optuna/trial/_trial.py:592: UserWarning: The reported value is ignored because this `step` 6 is already reported.\n",
      "  step\n",
      "/Users/brent/anaconda3/lib/python3.7/site-packages/optuna/trial/_trial.py:592: UserWarning: The reported value is ignored because this `step` 7 is already reported.\n",
      "  step\n"
     ]
    },
    {
     "name": "stdout",
     "output_type": "stream",
     "text": [
      "[7]\tvalid_0's auc: 0.718249\n",
      "[8]\tvalid_0's auc: 0.720403\n"
     ]
    },
    {
     "name": "stderr",
     "output_type": "stream",
     "text": [
      "/Users/brent/anaconda3/lib/python3.7/site-packages/optuna/trial/_trial.py:592: UserWarning: The reported value is ignored because this `step` 8 is already reported.\n",
      "  step\n",
      "/Users/brent/anaconda3/lib/python3.7/site-packages/optuna/trial/_trial.py:592: UserWarning: The reported value is ignored because this `step` 9 is already reported.\n",
      "  step\n"
     ]
    },
    {
     "name": "stdout",
     "output_type": "stream",
     "text": [
      "[9]\tvalid_0's auc: 0.722222\n",
      "[10]\tvalid_0's auc: 0.722964\n"
     ]
    },
    {
     "name": "stderr",
     "output_type": "stream",
     "text": [
      "/Users/brent/anaconda3/lib/python3.7/site-packages/optuna/trial/_trial.py:592: UserWarning: The reported value is ignored because this `step` 10 is already reported.\n",
      "  step\n"
     ]
    },
    {
     "name": "stdout",
     "output_type": "stream",
     "text": [
      "[11]\tvalid_0's auc: 0.725097\n"
     ]
    },
    {
     "name": "stderr",
     "output_type": "stream",
     "text": [
      "/Users/brent/anaconda3/lib/python3.7/site-packages/optuna/trial/_trial.py:592: UserWarning: The reported value is ignored because this `step` 11 is already reported.\n",
      "  step\n"
     ]
    },
    {
     "name": "stdout",
     "output_type": "stream",
     "text": [
      "[12]\tvalid_0's auc: 0.726566\n"
     ]
    },
    {
     "name": "stderr",
     "output_type": "stream",
     "text": [
      "/Users/brent/anaconda3/lib/python3.7/site-packages/optuna/trial/_trial.py:592: UserWarning: The reported value is ignored because this `step` 12 is already reported.\n",
      "  step\n"
     ]
    },
    {
     "name": "stdout",
     "output_type": "stream",
     "text": [
      "[13]\tvalid_0's auc: 0.727814\n"
     ]
    },
    {
     "name": "stderr",
     "output_type": "stream",
     "text": [
      "/Users/brent/anaconda3/lib/python3.7/site-packages/optuna/trial/_trial.py:592: UserWarning: The reported value is ignored because this `step` 13 is already reported.\n",
      "  step\n"
     ]
    },
    {
     "name": "stdout",
     "output_type": "stream",
     "text": [
      "[14]\tvalid_0's auc: 0.729014\n"
     ]
    },
    {
     "name": "stderr",
     "output_type": "stream",
     "text": [
      "/Users/brent/anaconda3/lib/python3.7/site-packages/optuna/trial/_trial.py:592: UserWarning: The reported value is ignored because this `step` 14 is already reported.\n",
      "  step\n",
      "/Users/brent/anaconda3/lib/python3.7/site-packages/optuna/trial/_trial.py:592: UserWarning: The reported value is ignored because this `step` 15 is already reported.\n",
      "  step\n"
     ]
    },
    {
     "name": "stdout",
     "output_type": "stream",
     "text": [
      "[15]\tvalid_0's auc: 0.730218\n",
      "[16]\tvalid_0's auc: 0.731709\n"
     ]
    },
    {
     "name": "stderr",
     "output_type": "stream",
     "text": [
      "/Users/brent/anaconda3/lib/python3.7/site-packages/optuna/trial/_trial.py:592: UserWarning: The reported value is ignored because this `step` 16 is already reported.\n",
      "  step\n",
      "/Users/brent/anaconda3/lib/python3.7/site-packages/optuna/trial/_trial.py:592: UserWarning: The reported value is ignored because this `step` 17 is already reported.\n",
      "  step\n"
     ]
    },
    {
     "name": "stdout",
     "output_type": "stream",
     "text": [
      "[17]\tvalid_0's auc: 0.73253\n",
      "[18]\tvalid_0's auc: 0.733461\n"
     ]
    },
    {
     "name": "stderr",
     "output_type": "stream",
     "text": [
      "/Users/brent/anaconda3/lib/python3.7/site-packages/optuna/trial/_trial.py:592: UserWarning: The reported value is ignored because this `step` 18 is already reported.\n",
      "  step\n",
      "/Users/brent/anaconda3/lib/python3.7/site-packages/optuna/trial/_trial.py:592: UserWarning: The reported value is ignored because this `step` 19 is already reported.\n",
      "  step\n"
     ]
    },
    {
     "name": "stdout",
     "output_type": "stream",
     "text": [
      "[19]\tvalid_0's auc: 0.733991\n",
      "[20]\tvalid_0's auc: 0.734438\n"
     ]
    },
    {
     "name": "stderr",
     "output_type": "stream",
     "text": [
      "/Users/brent/anaconda3/lib/python3.7/site-packages/optuna/trial/_trial.py:592: UserWarning: The reported value is ignored because this `step` 20 is already reported.\n",
      "  step\n",
      "/Users/brent/anaconda3/lib/python3.7/site-packages/optuna/trial/_trial.py:592: UserWarning: The reported value is ignored because this `step` 21 is already reported.\n",
      "  step\n"
     ]
    },
    {
     "name": "stdout",
     "output_type": "stream",
     "text": [
      "[21]\tvalid_0's auc: 0.735037\n",
      "[22]\tvalid_0's auc: 0.735581\n"
     ]
    },
    {
     "name": "stderr",
     "output_type": "stream",
     "text": [
      "/Users/brent/anaconda3/lib/python3.7/site-packages/optuna/trial/_trial.py:592: UserWarning: The reported value is ignored because this `step` 22 is already reported.\n",
      "  step\n",
      "/Users/brent/anaconda3/lib/python3.7/site-packages/optuna/trial/_trial.py:592: UserWarning: The reported value is ignored because this `step` 23 is already reported.\n",
      "  step\n"
     ]
    },
    {
     "name": "stdout",
     "output_type": "stream",
     "text": [
      "[23]\tvalid_0's auc: 0.736369\n",
      "[24]\tvalid_0's auc: 0.737072\n"
     ]
    },
    {
     "name": "stderr",
     "output_type": "stream",
     "text": [
      "/Users/brent/anaconda3/lib/python3.7/site-packages/optuna/trial/_trial.py:592: UserWarning: The reported value is ignored because this `step` 24 is already reported.\n",
      "  step\n",
      "/Users/brent/anaconda3/lib/python3.7/site-packages/optuna/trial/_trial.py:592: UserWarning: The reported value is ignored because this `step` 25 is already reported.\n",
      "  step\n"
     ]
    },
    {
     "name": "stdout",
     "output_type": "stream",
     "text": [
      "[25]\tvalid_0's auc: 0.737517\n",
      "[26]\tvalid_0's auc: 0.738344\n"
     ]
    },
    {
     "name": "stderr",
     "output_type": "stream",
     "text": [
      "/Users/brent/anaconda3/lib/python3.7/site-packages/optuna/trial/_trial.py:592: UserWarning: The reported value is ignored because this `step` 26 is already reported.\n",
      "  step\n",
      "/Users/brent/anaconda3/lib/python3.7/site-packages/optuna/trial/_trial.py:592: UserWarning: The reported value is ignored because this `step` 27 is already reported.\n",
      "  step\n"
     ]
    },
    {
     "name": "stdout",
     "output_type": "stream",
     "text": [
      "[27]\tvalid_0's auc: 0.738925\n",
      "[28]\tvalid_0's auc: 0.739605\n"
     ]
    },
    {
     "name": "stderr",
     "output_type": "stream",
     "text": [
      "/Users/brent/anaconda3/lib/python3.7/site-packages/optuna/trial/_trial.py:592: UserWarning: The reported value is ignored because this `step` 28 is already reported.\n",
      "  step\n",
      "/Users/brent/anaconda3/lib/python3.7/site-packages/optuna/trial/_trial.py:592: UserWarning: The reported value is ignored because this `step` 29 is already reported.\n",
      "  step\n"
     ]
    },
    {
     "name": "stdout",
     "output_type": "stream",
     "text": [
      "[29]\tvalid_0's auc: 0.739854\n",
      "[30]\tvalid_0's auc: 0.740186\n"
     ]
    },
    {
     "name": "stderr",
     "output_type": "stream",
     "text": [
      "/Users/brent/anaconda3/lib/python3.7/site-packages/optuna/trial/_trial.py:592: UserWarning: The reported value is ignored because this `step` 30 is already reported.\n",
      "  step\n",
      "/Users/brent/anaconda3/lib/python3.7/site-packages/optuna/trial/_trial.py:592: UserWarning: The reported value is ignored because this `step` 31 is already reported.\n",
      "  step\n"
     ]
    },
    {
     "name": "stdout",
     "output_type": "stream",
     "text": [
      "[31]\tvalid_0's auc: 0.74046\n",
      "[32]\tvalid_0's auc: 0.740823\n"
     ]
    },
    {
     "name": "stderr",
     "output_type": "stream",
     "text": [
      "/Users/brent/anaconda3/lib/python3.7/site-packages/optuna/trial/_trial.py:592: UserWarning: The reported value is ignored because this `step` 32 is already reported.\n",
      "  step\n",
      "/Users/brent/anaconda3/lib/python3.7/site-packages/optuna/trial/_trial.py:592: UserWarning: The reported value is ignored because this `step` 33 is already reported.\n",
      "  step\n"
     ]
    },
    {
     "name": "stdout",
     "output_type": "stream",
     "text": [
      "[33]\tvalid_0's auc: 0.740879\n",
      "[34]\tvalid_0's auc: 0.74119\n"
     ]
    },
    {
     "name": "stderr",
     "output_type": "stream",
     "text": [
      "/Users/brent/anaconda3/lib/python3.7/site-packages/optuna/trial/_trial.py:592: UserWarning: The reported value is ignored because this `step` 34 is already reported.\n",
      "  step\n",
      "/Users/brent/anaconda3/lib/python3.7/site-packages/optuna/trial/_trial.py:592: UserWarning: The reported value is ignored because this `step` 35 is already reported.\n",
      "  step\n"
     ]
    },
    {
     "name": "stdout",
     "output_type": "stream",
     "text": [
      "[35]\tvalid_0's auc: 0.741648\n",
      "[36]\tvalid_0's auc: 0.741929\n"
     ]
    },
    {
     "name": "stderr",
     "output_type": "stream",
     "text": [
      "/Users/brent/anaconda3/lib/python3.7/site-packages/optuna/trial/_trial.py:592: UserWarning: The reported value is ignored because this `step` 36 is already reported.\n",
      "  step\n",
      "/Users/brent/anaconda3/lib/python3.7/site-packages/optuna/trial/_trial.py:592: UserWarning: The reported value is ignored because this `step` 37 is already reported.\n",
      "  step\n"
     ]
    },
    {
     "name": "stdout",
     "output_type": "stream",
     "text": [
      "[37]\tvalid_0's auc: 0.742155\n",
      "[38]\tvalid_0's auc: 0.742367\n"
     ]
    },
    {
     "name": "stderr",
     "output_type": "stream",
     "text": [
      "/Users/brent/anaconda3/lib/python3.7/site-packages/optuna/trial/_trial.py:592: UserWarning: The reported value is ignored because this `step` 38 is already reported.\n",
      "  step\n",
      "/Users/brent/anaconda3/lib/python3.7/site-packages/optuna/trial/_trial.py:592: UserWarning: The reported value is ignored because this `step` 39 is already reported.\n",
      "  step\n"
     ]
    },
    {
     "name": "stdout",
     "output_type": "stream",
     "text": [
      "[39]\tvalid_0's auc: 0.742676\n",
      "[40]\tvalid_0's auc: 0.742902\n"
     ]
    },
    {
     "name": "stderr",
     "output_type": "stream",
     "text": [
      "/Users/brent/anaconda3/lib/python3.7/site-packages/optuna/trial/_trial.py:592: UserWarning: The reported value is ignored because this `step` 40 is already reported.\n",
      "  step\n",
      "/Users/brent/anaconda3/lib/python3.7/site-packages/optuna/trial/_trial.py:592: UserWarning: The reported value is ignored because this `step` 41 is already reported.\n",
      "  step\n"
     ]
    },
    {
     "name": "stdout",
     "output_type": "stream",
     "text": [
      "[41]\tvalid_0's auc: 0.743313\n",
      "[42]\tvalid_0's auc: 0.743599\n"
     ]
    },
    {
     "name": "stderr",
     "output_type": "stream",
     "text": [
      "/Users/brent/anaconda3/lib/python3.7/site-packages/optuna/trial/_trial.py:592: UserWarning: The reported value is ignored because this `step` 42 is already reported.\n",
      "  step\n",
      "/Users/brent/anaconda3/lib/python3.7/site-packages/optuna/trial/_trial.py:592: UserWarning: The reported value is ignored because this `step` 43 is already reported.\n",
      "  step\n"
     ]
    },
    {
     "name": "stdout",
     "output_type": "stream",
     "text": [
      "[43]\tvalid_0's auc: 0.74395\n",
      "[44]\tvalid_0's auc: 0.744276\n"
     ]
    },
    {
     "name": "stderr",
     "output_type": "stream",
     "text": [
      "/Users/brent/anaconda3/lib/python3.7/site-packages/optuna/trial/_trial.py:592: UserWarning: The reported value is ignored because this `step` 44 is already reported.\n",
      "  step\n",
      "/Users/brent/anaconda3/lib/python3.7/site-packages/optuna/trial/_trial.py:592: UserWarning: The reported value is ignored because this `step` 45 is already reported.\n",
      "  step\n"
     ]
    },
    {
     "name": "stdout",
     "output_type": "stream",
     "text": [
      "[45]\tvalid_0's auc: 0.744617\n",
      "[46]\tvalid_0's auc: 0.744745\n"
     ]
    },
    {
     "name": "stderr",
     "output_type": "stream",
     "text": [
      "/Users/brent/anaconda3/lib/python3.7/site-packages/optuna/trial/_trial.py:592: UserWarning: The reported value is ignored because this `step` 46 is already reported.\n",
      "  step\n",
      "/Users/brent/anaconda3/lib/python3.7/site-packages/optuna/trial/_trial.py:592: UserWarning: The reported value is ignored because this `step` 47 is already reported.\n",
      "  step\n"
     ]
    },
    {
     "name": "stdout",
     "output_type": "stream",
     "text": [
      "[47]\tvalid_0's auc: 0.745021\n",
      "[48]\tvalid_0's auc: 0.745064\n"
     ]
    },
    {
     "name": "stderr",
     "output_type": "stream",
     "text": [
      "/Users/brent/anaconda3/lib/python3.7/site-packages/optuna/trial/_trial.py:592: UserWarning: The reported value is ignored because this `step` 48 is already reported.\n",
      "  step\n",
      "/Users/brent/anaconda3/lib/python3.7/site-packages/optuna/trial/_trial.py:592: UserWarning: The reported value is ignored because this `step` 49 is already reported.\n",
      "  step\n"
     ]
    },
    {
     "name": "stdout",
     "output_type": "stream",
     "text": [
      "[49]\tvalid_0's auc: 0.745125\n",
      "[50]\tvalid_0's auc: 0.745256\n"
     ]
    },
    {
     "name": "stderr",
     "output_type": "stream",
     "text": [
      "/Users/brent/anaconda3/lib/python3.7/site-packages/optuna/trial/_trial.py:592: UserWarning: The reported value is ignored because this `step` 50 is already reported.\n",
      "  step\n",
      "/Users/brent/anaconda3/lib/python3.7/site-packages/optuna/trial/_trial.py:592: UserWarning: The reported value is ignored because this `step` 51 is already reported.\n",
      "  step\n"
     ]
    },
    {
     "name": "stdout",
     "output_type": "stream",
     "text": [
      "[51]\tvalid_0's auc: 0.745483\n",
      "[52]\tvalid_0's auc: 0.745747\n"
     ]
    },
    {
     "name": "stderr",
     "output_type": "stream",
     "text": [
      "/Users/brent/anaconda3/lib/python3.7/site-packages/optuna/trial/_trial.py:592: UserWarning: The reported value is ignored because this `step` 52 is already reported.\n",
      "  step\n",
      "/Users/brent/anaconda3/lib/python3.7/site-packages/optuna/trial/_trial.py:592: UserWarning: The reported value is ignored because this `step` 53 is already reported.\n",
      "  step\n"
     ]
    },
    {
     "name": "stdout",
     "output_type": "stream",
     "text": [
      "[53]\tvalid_0's auc: 0.745868\n",
      "[54]\tvalid_0's auc: 0.746018\n"
     ]
    },
    {
     "name": "stderr",
     "output_type": "stream",
     "text": [
      "/Users/brent/anaconda3/lib/python3.7/site-packages/optuna/trial/_trial.py:592: UserWarning: The reported value is ignored because this `step` 54 is already reported.\n",
      "  step\n",
      "/Users/brent/anaconda3/lib/python3.7/site-packages/optuna/trial/_trial.py:592: UserWarning: The reported value is ignored because this `step` 55 is already reported.\n",
      "  step\n"
     ]
    },
    {
     "name": "stdout",
     "output_type": "stream",
     "text": [
      "[55]\tvalid_0's auc: 0.746237\n",
      "[56]\tvalid_0's auc: 0.746475\n"
     ]
    },
    {
     "name": "stderr",
     "output_type": "stream",
     "text": [
      "/Users/brent/anaconda3/lib/python3.7/site-packages/optuna/trial/_trial.py:592: UserWarning: The reported value is ignored because this `step` 56 is already reported.\n",
      "  step\n",
      "/Users/brent/anaconda3/lib/python3.7/site-packages/optuna/trial/_trial.py:592: UserWarning: The reported value is ignored because this `step` 57 is already reported.\n",
      "  step\n"
     ]
    },
    {
     "name": "stdout",
     "output_type": "stream",
     "text": [
      "[57]\tvalid_0's auc: 0.746483\n",
      "[58]\tvalid_0's auc: 0.746727\n"
     ]
    },
    {
     "name": "stderr",
     "output_type": "stream",
     "text": [
      "/Users/brent/anaconda3/lib/python3.7/site-packages/optuna/trial/_trial.py:592: UserWarning: The reported value is ignored because this `step` 58 is already reported.\n",
      "  step\n",
      "/Users/brent/anaconda3/lib/python3.7/site-packages/optuna/trial/_trial.py:592: UserWarning: The reported value is ignored because this `step` 59 is already reported.\n",
      "  step\n"
     ]
    },
    {
     "name": "stdout",
     "output_type": "stream",
     "text": [
      "[59]\tvalid_0's auc: 0.746861\n",
      "[60]\tvalid_0's auc: 0.746911\n"
     ]
    },
    {
     "name": "stderr",
     "output_type": "stream",
     "text": [
      "/Users/brent/anaconda3/lib/python3.7/site-packages/optuna/trial/_trial.py:592: UserWarning: The reported value is ignored because this `step` 60 is already reported.\n",
      "  step\n",
      "/Users/brent/anaconda3/lib/python3.7/site-packages/optuna/trial/_trial.py:592: UserWarning: The reported value is ignored because this `step` 61 is already reported.\n",
      "  step\n"
     ]
    },
    {
     "name": "stdout",
     "output_type": "stream",
     "text": [
      "[61]\tvalid_0's auc: 0.747102\n",
      "[62]\tvalid_0's auc: 0.747357\n"
     ]
    },
    {
     "name": "stderr",
     "output_type": "stream",
     "text": [
      "/Users/brent/anaconda3/lib/python3.7/site-packages/optuna/trial/_trial.py:592: UserWarning: The reported value is ignored because this `step` 62 is already reported.\n",
      "  step\n",
      "/Users/brent/anaconda3/lib/python3.7/site-packages/optuna/trial/_trial.py:592: UserWarning: The reported value is ignored because this `step` 63 is already reported.\n",
      "  step\n"
     ]
    },
    {
     "name": "stdout",
     "output_type": "stream",
     "text": [
      "[63]\tvalid_0's auc: 0.747661\n",
      "[64]\tvalid_0's auc: 0.747815\n"
     ]
    },
    {
     "name": "stderr",
     "output_type": "stream",
     "text": [
      "/Users/brent/anaconda3/lib/python3.7/site-packages/optuna/trial/_trial.py:592: UserWarning: The reported value is ignored because this `step` 64 is already reported.\n",
      "  step\n",
      "/Users/brent/anaconda3/lib/python3.7/site-packages/optuna/trial/_trial.py:592: UserWarning: The reported value is ignored because this `step` 65 is already reported.\n",
      "  step\n"
     ]
    },
    {
     "name": "stdout",
     "output_type": "stream",
     "text": [
      "[65]\tvalid_0's auc: 0.747943\n",
      "[66]\tvalid_0's auc: 0.748033\n"
     ]
    },
    {
     "name": "stderr",
     "output_type": "stream",
     "text": [
      "/Users/brent/anaconda3/lib/python3.7/site-packages/optuna/trial/_trial.py:592: UserWarning: The reported value is ignored because this `step` 66 is already reported.\n",
      "  step\n",
      "/Users/brent/anaconda3/lib/python3.7/site-packages/optuna/trial/_trial.py:592: UserWarning: The reported value is ignored because this `step` 67 is already reported.\n",
      "  step\n"
     ]
    },
    {
     "name": "stdout",
     "output_type": "stream",
     "text": [
      "[67]\tvalid_0's auc: 0.748192\n",
      "[68]\tvalid_0's auc: 0.748433\n"
     ]
    },
    {
     "name": "stderr",
     "output_type": "stream",
     "text": [
      "/Users/brent/anaconda3/lib/python3.7/site-packages/optuna/trial/_trial.py:592: UserWarning: The reported value is ignored because this `step` 68 is already reported.\n",
      "  step\n",
      "/Users/brent/anaconda3/lib/python3.7/site-packages/optuna/trial/_trial.py:592: UserWarning: The reported value is ignored because this `step` 69 is already reported.\n",
      "  step\n"
     ]
    },
    {
     "name": "stdout",
     "output_type": "stream",
     "text": [
      "[69]\tvalid_0's auc: 0.748545\n",
      "[70]\tvalid_0's auc: 0.748734\n"
     ]
    },
    {
     "name": "stderr",
     "output_type": "stream",
     "text": [
      "/Users/brent/anaconda3/lib/python3.7/site-packages/optuna/trial/_trial.py:592: UserWarning: The reported value is ignored because this `step` 70 is already reported.\n",
      "  step\n",
      "/Users/brent/anaconda3/lib/python3.7/site-packages/optuna/trial/_trial.py:592: UserWarning: The reported value is ignored because this `step` 71 is already reported.\n",
      "  step\n"
     ]
    },
    {
     "name": "stdout",
     "output_type": "stream",
     "text": [
      "[71]\tvalid_0's auc: 0.748828\n",
      "[72]\tvalid_0's auc: 0.748904\n"
     ]
    },
    {
     "name": "stderr",
     "output_type": "stream",
     "text": [
      "/Users/brent/anaconda3/lib/python3.7/site-packages/optuna/trial/_trial.py:592: UserWarning: The reported value is ignored because this `step` 72 is already reported.\n",
      "  step\n",
      "/Users/brent/anaconda3/lib/python3.7/site-packages/optuna/trial/_trial.py:592: UserWarning: The reported value is ignored because this `step` 73 is already reported.\n",
      "  step\n"
     ]
    },
    {
     "name": "stdout",
     "output_type": "stream",
     "text": [
      "[73]\tvalid_0's auc: 0.748936\n",
      "[74]\tvalid_0's auc: 0.748963\n"
     ]
    },
    {
     "name": "stderr",
     "output_type": "stream",
     "text": [
      "/Users/brent/anaconda3/lib/python3.7/site-packages/optuna/trial/_trial.py:592: UserWarning: The reported value is ignored because this `step` 74 is already reported.\n",
      "  step\n",
      "/Users/brent/anaconda3/lib/python3.7/site-packages/optuna/trial/_trial.py:592: UserWarning: The reported value is ignored because this `step` 75 is already reported.\n",
      "  step\n"
     ]
    },
    {
     "name": "stdout",
     "output_type": "stream",
     "text": [
      "[75]\tvalid_0's auc: 0.749003\n",
      "[76]\tvalid_0's auc: 0.749041\n"
     ]
    },
    {
     "name": "stderr",
     "output_type": "stream",
     "text": [
      "/Users/brent/anaconda3/lib/python3.7/site-packages/optuna/trial/_trial.py:592: UserWarning: The reported value is ignored because this `step` 76 is already reported.\n",
      "  step\n",
      "/Users/brent/anaconda3/lib/python3.7/site-packages/optuna/trial/_trial.py:592: UserWarning: The reported value is ignored because this `step` 77 is already reported.\n",
      "  step\n"
     ]
    },
    {
     "name": "stdout",
     "output_type": "stream",
     "text": [
      "[77]\tvalid_0's auc: 0.749155\n",
      "[78]\tvalid_0's auc: 0.749425\n"
     ]
    },
    {
     "name": "stderr",
     "output_type": "stream",
     "text": [
      "/Users/brent/anaconda3/lib/python3.7/site-packages/optuna/trial/_trial.py:592: UserWarning: The reported value is ignored because this `step` 78 is already reported.\n",
      "  step\n"
     ]
    },
    {
     "name": "stdout",
     "output_type": "stream",
     "text": [
      "[79]\tvalid_0's auc: 0.749545\n"
     ]
    },
    {
     "name": "stderr",
     "output_type": "stream",
     "text": [
      "/Users/brent/anaconda3/lib/python3.7/site-packages/optuna/trial/_trial.py:592: UserWarning: The reported value is ignored because this `step` 79 is already reported.\n",
      "  step\n"
     ]
    },
    {
     "name": "stdout",
     "output_type": "stream",
     "text": [
      "[80]\tvalid_0's auc: 0.749774\n"
     ]
    },
    {
     "name": "stderr",
     "output_type": "stream",
     "text": [
      "/Users/brent/anaconda3/lib/python3.7/site-packages/optuna/trial/_trial.py:592: UserWarning: The reported value is ignored because this `step` 80 is already reported.\n",
      "  step\n"
     ]
    },
    {
     "name": "stdout",
     "output_type": "stream",
     "text": [
      "[81]\tvalid_0's auc: 0.749832\n"
     ]
    },
    {
     "name": "stderr",
     "output_type": "stream",
     "text": [
      "/Users/brent/anaconda3/lib/python3.7/site-packages/optuna/trial/_trial.py:592: UserWarning: The reported value is ignored because this `step` 81 is already reported.\n",
      "  step\n"
     ]
    },
    {
     "name": "stdout",
     "output_type": "stream",
     "text": [
      "[82]\tvalid_0's auc: 0.749918\n"
     ]
    },
    {
     "name": "stderr",
     "output_type": "stream",
     "text": [
      "/Users/brent/anaconda3/lib/python3.7/site-packages/optuna/trial/_trial.py:592: UserWarning: The reported value is ignored because this `step` 82 is already reported.\n",
      "  step\n"
     ]
    },
    {
     "name": "stdout",
     "output_type": "stream",
     "text": [
      "[83]\tvalid_0's auc: 0.750034\n"
     ]
    },
    {
     "name": "stderr",
     "output_type": "stream",
     "text": [
      "/Users/brent/anaconda3/lib/python3.7/site-packages/optuna/trial/_trial.py:592: UserWarning: The reported value is ignored because this `step` 83 is already reported.\n",
      "  step\n",
      "/Users/brent/anaconda3/lib/python3.7/site-packages/optuna/trial/_trial.py:592: UserWarning: The reported value is ignored because this `step` 84 is already reported.\n",
      "  step\n"
     ]
    },
    {
     "name": "stdout",
     "output_type": "stream",
     "text": [
      "[84]\tvalid_0's auc: 0.750062\n",
      "[85]\tvalid_0's auc: 0.750182\n"
     ]
    },
    {
     "name": "stderr",
     "output_type": "stream",
     "text": [
      "/Users/brent/anaconda3/lib/python3.7/site-packages/optuna/trial/_trial.py:592: UserWarning: The reported value is ignored because this `step` 85 is already reported.\n",
      "  step\n"
     ]
    },
    {
     "name": "stdout",
     "output_type": "stream",
     "text": [
      "[86]\tvalid_0's auc: 0.750346\n"
     ]
    },
    {
     "name": "stderr",
     "output_type": "stream",
     "text": [
      "/Users/brent/anaconda3/lib/python3.7/site-packages/optuna/trial/_trial.py:592: UserWarning: The reported value is ignored because this `step` 86 is already reported.\n",
      "  step\n"
     ]
    },
    {
     "name": "stdout",
     "output_type": "stream",
     "text": [
      "[87]\tvalid_0's auc: 0.750568\n"
     ]
    },
    {
     "name": "stderr",
     "output_type": "stream",
     "text": [
      "/Users/brent/anaconda3/lib/python3.7/site-packages/optuna/trial/_trial.py:592: UserWarning: The reported value is ignored because this `step` 87 is already reported.\n",
      "  step\n",
      "/Users/brent/anaconda3/lib/python3.7/site-packages/optuna/trial/_trial.py:592: UserWarning: The reported value is ignored because this `step` 88 is already reported.\n",
      "  step\n"
     ]
    },
    {
     "name": "stdout",
     "output_type": "stream",
     "text": [
      "[88]\tvalid_0's auc: 0.750672\n",
      "[89]\tvalid_0's auc: 0.750837\n"
     ]
    },
    {
     "name": "stderr",
     "output_type": "stream",
     "text": [
      "/Users/brent/anaconda3/lib/python3.7/site-packages/optuna/trial/_trial.py:592: UserWarning: The reported value is ignored because this `step` 89 is already reported.\n",
      "  step\n",
      "/Users/brent/anaconda3/lib/python3.7/site-packages/optuna/trial/_trial.py:592: UserWarning: The reported value is ignored because this `step` 90 is already reported.\n",
      "  step\n"
     ]
    },
    {
     "name": "stdout",
     "output_type": "stream",
     "text": [
      "[90]\tvalid_0's auc: 0.750829\n",
      "[91]\tvalid_0's auc: 0.751039\n"
     ]
    },
    {
     "name": "stderr",
     "output_type": "stream",
     "text": [
      "/Users/brent/anaconda3/lib/python3.7/site-packages/optuna/trial/_trial.py:592: UserWarning: The reported value is ignored because this `step` 91 is already reported.\n",
      "  step\n",
      "/Users/brent/anaconda3/lib/python3.7/site-packages/optuna/trial/_trial.py:592: UserWarning: The reported value is ignored because this `step` 92 is already reported.\n",
      "  step\n"
     ]
    },
    {
     "name": "stdout",
     "output_type": "stream",
     "text": [
      "[92]\tvalid_0's auc: 0.75123\n",
      "[93]\tvalid_0's auc: 0.751364\n"
     ]
    },
    {
     "name": "stderr",
     "output_type": "stream",
     "text": [
      "/Users/brent/anaconda3/lib/python3.7/site-packages/optuna/trial/_trial.py:592: UserWarning: The reported value is ignored because this `step` 93 is already reported.\n",
      "  step\n"
     ]
    },
    {
     "name": "stdout",
     "output_type": "stream",
     "text": [
      "[94]\tvalid_0's auc: 0.751526\n"
     ]
    },
    {
     "name": "stderr",
     "output_type": "stream",
     "text": [
      "/Users/brent/anaconda3/lib/python3.7/site-packages/optuna/trial/_trial.py:592: UserWarning: The reported value is ignored because this `step` 94 is already reported.\n",
      "  step\n"
     ]
    },
    {
     "name": "stdout",
     "output_type": "stream",
     "text": [
      "[95]\tvalid_0's auc: 0.751758\n"
     ]
    },
    {
     "name": "stderr",
     "output_type": "stream",
     "text": [
      "/Users/brent/anaconda3/lib/python3.7/site-packages/optuna/trial/_trial.py:592: UserWarning: The reported value is ignored because this `step` 95 is already reported.\n",
      "  step\n"
     ]
    },
    {
     "name": "stdout",
     "output_type": "stream",
     "text": [
      "[96]\tvalid_0's auc: 0.75198\n"
     ]
    },
    {
     "name": "stderr",
     "output_type": "stream",
     "text": [
      "/Users/brent/anaconda3/lib/python3.7/site-packages/optuna/trial/_trial.py:592: UserWarning: The reported value is ignored because this `step` 96 is already reported.\n",
      "  step\n",
      "/Users/brent/anaconda3/lib/python3.7/site-packages/optuna/trial/_trial.py:592: UserWarning: The reported value is ignored because this `step` 97 is already reported.\n",
      "  step\n"
     ]
    },
    {
     "name": "stdout",
     "output_type": "stream",
     "text": [
      "[97]\tvalid_0's auc: 0.752224\n",
      "[98]\tvalid_0's auc: 0.752327\n"
     ]
    },
    {
     "name": "stderr",
     "output_type": "stream",
     "text": [
      "/Users/brent/anaconda3/lib/python3.7/site-packages/optuna/trial/_trial.py:592: UserWarning: The reported value is ignored because this `step` 98 is already reported.\n",
      "  step\n"
     ]
    },
    {
     "name": "stdout",
     "output_type": "stream",
     "text": [
      "[99]\tvalid_0's auc: 0.752392\n"
     ]
    },
    {
     "name": "stderr",
     "output_type": "stream",
     "text": [
      "/Users/brent/anaconda3/lib/python3.7/site-packages/optuna/trial/_trial.py:592: UserWarning: The reported value is ignored because this `step` 99 is already reported.\n",
      "  step\n"
     ]
    },
    {
     "name": "stdout",
     "output_type": "stream",
     "text": [
      "[100]\tvalid_0's auc: 0.752538\n",
      "Did not meet early stopping. Best iteration is:\n",
      "[100]\tvalid_0's auc: 0.752538\n",
      "\u001b[32m[I 2021-10-19 23:11:31,326]\u001b[0m Trial 4 finished with value: 0.7558397689593791 and parameters: {'lambda_l1': 0.013647293867443427, 'lambda_l2': 0.010267601491413092, 'num_leaves': 149, 'feature_fraction': 0.895871730613985, 'bagging_fraction': 0.5719678131397895, 'bagging_freq': 5, 'learning_rate': 0.01976535199569331, 'min_child_samples': 18, 'cat_smooth': 70}. Best is trial 4 with value: 0.7558397689593791.\u001b[0m\n",
      "[LightGBM] [Warning] bagging_freq is set=2, subsample_freq=0 will be ignored. Current value: bagging_freq=2\n",
      "[LightGBM] [Warning] lambda_l2 is set=0.12228712506588875, reg_lambda=0.0 will be ignored. Current value: lambda_l2=0.12228712506588875\n",
      "[LightGBM] [Warning] feature_fraction is set=0.912958172913668, colsample_bytree=1.0 will be ignored. Current value: feature_fraction=0.912958172913668\n",
      "[LightGBM] [Warning] bagging_fraction is set=0.4042411597210822, subsample=1.0 will be ignored. Current value: bagging_fraction=0.4042411597210822\n",
      "[LightGBM] [Warning] lambda_l1 is set=6.16736896126372e-08, reg_alpha=0.0 will be ignored. Current value: lambda_l1=6.16736896126372e-08\n",
      "\u001b[32m[I 2021-10-19 23:11:38,893]\u001b[0m Trial 5 pruned. Trial was pruned at iteration 0.\u001b[0m\n",
      "\u001b[32m[I 2021-10-19 23:11:45,726]\u001b[0m Trial 6 pruned. Trial was pruned at iteration 0.\u001b[0m\n",
      "[1]\tvalid_0's auc: 0.703338\n",
      "Training until validation scores don't improve for 100 rounds\n",
      "[2]\tvalid_0's auc: 0.705268\n",
      "[3]\tvalid_0's auc: 0.704427\n",
      "[4]\tvalid_0's auc: 0.716884\n",
      "\u001b[32m[I 2021-10-19 23:11:52,307]\u001b[0m Trial 7 pruned. Trial was pruned at iteration 4.\u001b[0m\n",
      "\u001b[32m[I 2021-10-19 23:11:58,721]\u001b[0m Trial 8 pruned. Trial was pruned at iteration 0.\u001b[0m\n",
      "[1]\tvalid_0's auc: 0.706022\n",
      "Training until validation scores don't improve for 100 rounds\n",
      "[2]\tvalid_0's auc: 0.71335\n",
      "[3]\tvalid_0's auc: 0.716794\n",
      "[4]\tvalid_0's auc: 0.719845\n",
      "[5]\tvalid_0's auc: 0.723907\n",
      "[6]\tvalid_0's auc: 0.72694\n",
      "[7]\tvalid_0's auc: 0.727766\n",
      "[8]\tvalid_0's auc: 0.729115\n",
      "\u001b[32m[I 2021-10-19 23:12:04,818]\u001b[0m Trial 9 pruned. Trial was pruned at iteration 8.\u001b[0m\n",
      "\n"
     ]
    }
   ],
   "source": [
    "study = optuna.create_study(direction=\"maximize\", study_name=\"LGBM Classifier\")\n",
    "func = lambda trial: objective(trial,data_train,data_test)\n",
    "study.optimize(func, n_trials=10, show_progress_bar=True)\n",
    "model = lgbm.LGBMClassifier(**study.best_trial.params)\n",
    "model = model.fit(data_train,data_test)"
   ]
  },
  {
   "cell_type": "code",
   "execution_count": 43,
   "metadata": {},
   "outputs": [
    {
     "data": {
      "text/plain": [
       "({'lambda_l1': 0.013647293867443427,\n",
       "  'lambda_l2': 0.010267601491413092,\n",
       "  'num_leaves': 149,\n",
       "  'feature_fraction': 0.895871730613985,\n",
       "  'bagging_fraction': 0.5719678131397895,\n",
       "  'bagging_freq': 5,\n",
       "  'learning_rate': 0.01976535199569331,\n",
       "  'min_child_samples': 18,\n",
       "  'cat_smooth': 70},\n",
       " [0.7558397689593791])"
      ]
     },
     "execution_count": 43,
     "metadata": {},
     "output_type": "execute_result"
    }
   ],
   "source": [
    "study.best_trial.params, study.best_trial.values"
   ]
  },
  {
   "cell_type": "code",
   "execution_count": 31,
   "metadata": {},
   "outputs": [],
   "source": [
    "X_test1=X_test1[data_train.columns]\n",
    "X_test1=X_test1.dropna()\n",
    "y_test1=y_test1[X_test1.index]\n",
    "y_test1.reset_index()\n",
    "X_test1.reset_index()\n",
    "pred1=model.predict_proba(X_test1)[:,1]"
   ]
  },
  {
   "cell_type": "code",
   "execution_count": 44,
   "metadata": {
    "scrolled": true
   },
   "outputs": [
    {
     "data": {
      "text/plain": [
       "(0.7543686569553831, 0.8313978421450059)"
      ]
     },
     "execution_count": 44,
     "metadata": {},
     "output_type": "execute_result"
    }
   ],
   "source": [
    "metrics.roc_auc_score(y_test1, pred1), metrics.roc_auc_score(data_test, model.predict_proba(data_train)[:,1])"
   ]
  },
  {
   "cell_type": "code",
   "execution_count": 37,
   "metadata": {},
   "outputs": [
    {
     "data": {
      "text/plain": [
       "<sklearn.metrics._plot.roc_curve.RocCurveDisplay at 0x7fc9f8595d90>"
      ]
     },
     "execution_count": 37,
     "metadata": {},
     "output_type": "execute_result"
    },
    {
     "data": {
      "image/png": "[encoded data removed]",
      "text/plain": [
       "<Figure size 432x288 with 1 Axes>"
      ]
     },
     "metadata": {
      "needs_background": "light"
     },
     "output_type": "display_data"
    }
   ],
   "source": [
    "metrics.RocCurveDisplay.from_predictions(\n",
    "  data_test, model.predict_proba(data_train)[:,1]\n",
    ")"
   ]
  },
  {
   "cell_type": "code",
   "execution_count": 38,
   "metadata": {},
   "outputs": [
    {
     "data": {
      "text/plain": [
       "<sklearn.metrics._plot.roc_curve.RocCurveDisplay at 0x7fc675bb2d90>"
      ]
     },
     "execution_count": 38,
     "metadata": {},
     "output_type": "execute_result"
    },
    {
     "data": {
      "image/png": "[encoded data removed]",
      "text/plain": [
       "<Figure size 432x288 with 1 Axes>"
      ]
     },
     "metadata": {
      "needs_background": "light"
     },
     "output_type": "display_data"
    }
   ],
   "source": [
    "metrics.RocCurveDisplay.from_predictions(\n",
    "  y_test1, pred1\n",
    ")"
   ]
  },
  {
   "cell_type": "code",
   "execution_count": 41,
   "metadata": {},
   "outputs": [
    {
     "data": {
      "text/plain": [
       "\u001b[0;31mSignature:\u001b[0m\n",
       " \u001b[0mmetrics\u001b[0m\u001b[0;34m.\u001b[0m\u001b[0mRocCurveDisplay\u001b[0m\u001b[0;34m.\u001b[0m\u001b[0mfrom_predictions\u001b[0m\u001b[0;34m(\u001b[0m\u001b[0;34m\u001b[0m\n",
       "\u001b[0;34m\u001b[0m    \u001b[0my_true\u001b[0m\u001b[0;34m,\u001b[0m\u001b[0;34m\u001b[0m\n",
       "\u001b[0;34m\u001b[0m    \u001b[0my_pred\u001b[0m\u001b[0;34m,\u001b[0m\u001b[0;34m\u001b[0m\n",
       "\u001b[0;34m\u001b[0m    \u001b[0;34m*\u001b[0m\u001b[0;34m,\u001b[0m\u001b[0;34m\u001b[0m\n",
       "\u001b[0;34m\u001b[0m    \u001b[0msample_weight\u001b[0m\u001b[0;34m=\u001b[0m\u001b[0;32mNone\u001b[0m\u001b[0;34m,\u001b[0m\u001b[0;34m\u001b[0m\n",
       "\u001b[0;34m\u001b[0m    \u001b[0mdrop_intermediate\u001b[0m\u001b[0;34m=\u001b[0m\u001b[0;32mTrue\u001b[0m\u001b[0;34m,\u001b[0m\u001b[0;34m\u001b[0m\n",
       "\u001b[0;34m\u001b[0m    \u001b[0mpos_label\u001b[0m\u001b[0;34m=\u001b[0m\u001b[0;32mNone\u001b[0m\u001b[0;34m,\u001b[0m\u001b[0;34m\u001b[0m\n",
       "\u001b[0;34m\u001b[0m    \u001b[0mname\u001b[0m\u001b[0;34m=\u001b[0m\u001b[0;32mNone\u001b[0m\u001b[0;34m,\u001b[0m\u001b[0;34m\u001b[0m\n",
       "\u001b[0;34m\u001b[0m    \u001b[0max\u001b[0m\u001b[0;34m=\u001b[0m\u001b[0;32mNone\u001b[0m\u001b[0;34m,\u001b[0m\u001b[0;34m\u001b[0m\n",
       "\u001b[0;34m\u001b[0m    \u001b[0;34m**\u001b[0m\u001b[0mkwargs\u001b[0m\u001b[0;34m,\u001b[0m\u001b[0;34m\u001b[0m\n",
       "\u001b[0;34m\u001b[0m\u001b[0;34m)\u001b[0m\u001b[0;34m\u001b[0m\u001b[0;34m\u001b[0m\u001b[0m\n",
       "\u001b[0;31mDocstring:\u001b[0m\n",
       "Plot ROC curve given the true and predicted values.\n",
       "\n",
       "Read more in the :ref:`User Guide <visualizations>`.\n",
       "\n",
       ".. versionadded:: 1.0\n",
       "\n",
       "Parameters\n",
       "----------\n",
       "y_true : array-like of shape (n_samples,)\n",
       "    True labels.\n",
       "\n",
       "y_pred : array-like of shape (n_samples,)\n",
       "    Target scores, can either be probability estimates of the positive\n",
       "    class, confidence values, or non-thresholded measure of decisions\n",
       "    (as returned by “decision_function” on some classifiers).\n",
       "\n",
       "sample_weight : array-like of shape (n_samples,), default=None\n",
       "    Sample weights.\n",
       "\n",
       "drop_intermediate : bool, default=True\n",
       "    Whether to drop some suboptimal thresholds which would not appear\n",
       "    on a plotted ROC curve. This is useful in order to create lighter\n",
       "    ROC curves.\n",
       "\n",
       "pos_label : str or int, default=None\n",
       "    The label of the positive class. When `pos_label=None`, if `y_true`\n",
       "    is in {-1, 1} or {0, 1}, `pos_label` is set to 1, otherwise an\n",
       "    error will be raised.\n",
       "\n",
       "name : str, default=None\n",
       "    Name of ROC curve for labeling. If `None`, name will be set to\n",
       "    `\"Classifier\"`.\n",
       "\n",
       "ax : matplotlib axes, default=None\n",
       "    Axes object to plot on. If `None`, a new figure and axes is\n",
       "    created.\n",
       "\n",
       "**kwargs : dict\n",
       "    Additional keywords arguments passed to matplotlib `plot` function.\n",
       "\n",
       "Returns\n",
       "-------\n",
       "display : :class:`~sklearn.metrics.DetCurveDisplay`\n",
       "    Object that stores computed values.\n",
       "\n",
       "See Also\n",
       "--------\n",
       "roc_curve : Compute Receiver operating characteristic (ROC) curve.\n",
       "RocCurveDisplay.from_estimator : ROC Curve visualization given an\n",
       "    estimator and some data.\n",
       "roc_auc_score : Compute the area under the ROC curve.\n",
       "\n",
       "Examples\n",
       "--------\n",
       ">>> import matplotlib.pyplot as plt\n",
       ">>> from sklearn.datasets import make_classification\n",
       ">>> from sklearn.metrics import RocCurveDisplay\n",
       ">>> from sklearn.model_selection import train_test_split\n",
       ">>> from sklearn.svm import SVC\n",
       ">>> X, y = make_classification(random_state=0)\n",
       ">>> X_train, X_test, y_train, y_test = train_test_split(\n",
       "...     X, y, random_state=0)\n",
       ">>> clf = SVC(random_state=0).fit(X_train, y_train)\n",
       ">>> y_pred = clf.decision_function(X_test)\n",
       ">>> RocCurveDisplay.from_predictions(\n",
       "...    y_test, y_pred)\n",
       "<...>\n",
       ">>> plt.show()\n",
       "\u001b[0;31mFile:\u001b[0m      ~/anaconda3/lib/python3.7/site-packages/sklearn/metrics/_plot/roc_curve.py\n",
       "\u001b[0;31mType:\u001b[0m      method\n"
      ]
     },
     "metadata": {},
     "output_type": "display_data"
    }
   ],
   "source": [
    "? metrics.RocCurveDisplay.from_predictions"
   ]
  },
  {
   "cell_type": "markdown",
   "metadata": {},
   "source": [
    "method 2"
   ]
  },
  {
   "cell_type": "code",
   "execution_count": null,
   "metadata": {},
   "outputs": [],
   "source": [
    "from sklearn import tree\n",
    "clf1=tree.DecisionTreeClassifier().fit(data_train,data_test)\n"
   ]
  },
  {
   "cell_type": "code",
   "execution_count": null,
   "metadata": {},
   "outputs": [],
   "source": [
    "pred1=clf1.predict_proba(X_test1)[:,0]\n",
    "metrics.roc_auc_score(y_test1, pred1)"
   ]
  },
  {
   "cell_type": "code",
   "execution_count": null,
   "metadata": {},
   "outputs": [],
   "source": [
    "from sklearn.linear_model import SGDClassifier\n",
    "from sklearn.preprocessing import StandardScaler\n",
    "from sklearn.pipeline import make_pipeline\n",
    "clf2 = make_pipeline(StandardScaler(),SGDClassifier(loss='hinge',max_iter=1000, tol=1e-3))\n",
    "clf2=clf2.fit(data_train,data_test)\n"
   ]
  },
  {
   "cell_type": "code",
   "execution_count": null,
   "metadata": {},
   "outputs": [],
   "source": [
    "pred2=clf2.predict(X_test1)\n",
    "metrics.roc_auc_score(y_test1, pred2)"
   ]
  },
  {
   "cell_type": "code",
   "execution_count": null,
   "metadata": {},
   "outputs": [],
   "source": [
    "print('分类报告:\\n',classification_report(y_test1,pred1))"
   ]
  },
  {
   "cell_type": "code",
   "execution_count": null,
   "metadata": {},
   "outputs": [],
   "source": [
    "print('混淆矩阵为：\\n',confusion_matrix(y_test1,pred1,labels=[0,1,2]))"
   ]
  },
  {
   "cell_type": "code",
   "execution_count": null,
   "metadata": {},
   "outputs": [],
   "source": [
    "# ALTERNATIVE CV\n",
    "import optuna.integration.lightgbm as lgb\n",
    "dtrain = lgb.Dataset(data_train, label=data_test)\n",
    "\n",
    "# 5折交叉验证\n",
    "cv = StratifiedKFold(n_splits=5, shuffle=True, random_state=1121218)"
   ]
  },
  {
   "cell_type": "code",
   "execution_count": null,
   "metadata": {
    "scrolled": true
   },
   "outputs": [],
   "source": [
    "?study.optimize"
   ]
  }
 ],
 "metadata": {
  "kernelspec": {
   "display_name": "Python 3",
   "language": "python",
   "name": "python3"
  },
  "language_info": {
   "codemirror_mode": {
    "name": "ipython",
    "version": 3
   },
   "file_extension": ".py",
   "mimetype": "text/x-python",
   "name": "python",
   "nbconvert_exporter": "python",
   "pygments_lexer": "ipython3",
   "version": "3.7.9"
  }
 },
 "nbformat": 4,
 "nbformat_minor": 5
}

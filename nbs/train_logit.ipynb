{
 "cells": [
  {
   "cell_type": "code",
   "execution_count": 1,
   "metadata": {},
   "outputs": [
    {
     "data": {
      "text/plain": [
       "'/Users/brent/Documents/docs-shufe/ml_basic/proj/nbs'"
      ]
     },
     "execution_count": 1,
     "metadata": {},
     "output_type": "execute_result"
    }
   ],
   "source": [
    "pwd"
   ]
  },
  {
   "cell_type": "code",
   "execution_count": 2,
   "metadata": {},
   "outputs": [
    {
     "name": "stdout",
     "output_type": "stream",
     "text": [
      "/Users/brent/Documents/docs-shufe/ml_basic/proj\n"
     ]
    }
   ],
   "source": [
    "cd .."
   ]
  },
  {
   "cell_type": "code",
   "execution_count": 3,
   "metadata": {},
   "outputs": [],
   "source": [
    "import numpy as np\n",
    "import pandas as pd\n",
    "from sklearn.model_selection import train_test_split\n",
    "from sklearn import metrics"
   ]
  },
  {
   "cell_type": "code",
   "execution_count": 4,
   "metadata": {},
   "outputs": [],
   "source": [
    "import sys\n",
    "import os\n",
    "import numpy as np\n",
    "import pandas as pd\n",
    "from sklearn.model_selection import train_test_split \n",
    "from sklearn.model_selection import StratifiedKFold, GridSearchCV \n",
    "from sklearn.feature_extraction.text import TfidfVectorizer\n",
    "from sklearn.decomposition import TruncatedSVD\n",
    "from sklearn.ensemble import RandomForestClassifier\n",
    "from sklearn import linear_model\n",
    "from sklearn import neighbors\n",
    "from sklearn import metrics"
   ]
  },
  {
   "cell_type": "code",
   "execution_count": 5,
   "metadata": {},
   "outputs": [],
   "source": [
    "# data=pd.read_csv('final/final_ft_application_train.sample.csv').fillna(0)\n",
    "data=pd.read_csv('final/final_ft_application_train.csv').fillna(0)\n",
    "predictor=[x for x in data.columns if x !='TARGET']"
   ]
  },
  {
   "cell_type": "code",
   "execution_count": 6,
   "metadata": {},
   "outputs": [],
   "source": [
    "# define the CV\n",
    "cv = StratifiedKFold(n_splits=5)"
   ]
  },
  {
   "cell_type": "code",
   "execution_count": 7,
   "metadata": {},
   "outputs": [],
   "source": [
    "X_train, X_test, y_train, y_test = train_test_split(data[predictor],data['TARGET'], test_size=0.2, random_state=1211)"
   ]
  },
  {
   "cell_type": "code",
   "execution_count": 8,
   "metadata": {},
   "outputs": [],
   "source": [
    "df_sparsity = 1 - X_train.isna().sum() / X_train.shape[0]"
   ]
  },
  {
   "cell_type": "code",
   "execution_count": 9,
   "metadata": {},
   "outputs": [
    {
     "data": {
      "text/plain": [
       "SK_ID_CURR                                                                      1.0\n",
       "Default_BINNED_M6_sum_sum                                                       1.0\n",
       "Default_BINNED_M7_mean_mean                                                     1.0\n",
       "Default_BINNED_M7_sum_sum                                                       1.0\n",
       "Default_BINNED_M7+_mean_mean                                                    1.0\n",
       "                                                                               ... \n",
       "ft_WEEKDAY_APPR_PROCESS_START_MONDAY_median                                     1.0\n",
       "ft_WEEKDAY_APPR_PROCESS_START_SATURDAY_mean                                     1.0\n",
       "ft_WEEKDAY_APPR_PROCESS_START_SATURDAY_median                                   1.0\n",
       "ft_OCCUPATION_TYPE_High skill tech staff_median                                 1.0\n",
       "previous_application_ft_PRODUCT_COMBINATION_POS others without interest_mean    1.0\n",
       "Length: 975, dtype: float64"
      ]
     },
     "execution_count": 9,
     "metadata": {},
     "output_type": "execute_result"
    }
   ],
   "source": [
    "df_sparsity.sort_values()"
   ]
  },
  {
   "cell_type": "code",
   "execution_count": 10,
   "metadata": {},
   "outputs": [],
   "source": [
    "hyperparams= {\n",
    "  'alpha':[0.0001, 0.01, 0.1],\n",
    "  'l1_ratio': [0.5, 0.9, 0.95]\n",
    "}"
   ]
  },
  {
   "cell_type": "code",
   "execution_count": 11,
   "metadata": {},
   "outputs": [],
   "source": [
    "md = linear_model.SGDClassifier(\n",
    "  loss='log', \n",
    "  penalty='elasticnet',\n",
    "  class_weight='balanced',\n",
    "  n_iter_no_change=20,\n",
    "  early_stopping=True,\n",
    "  verbose=2\n",
    ")"
   ]
  },
  {
   "cell_type": "code",
   "execution_count": 13,
   "metadata": {},
   "outputs": [
    {
     "name": "stdout",
     "output_type": "stream",
     "text": [
      "-- Epoch 1\n",
      "Norm: 24652.97, NNZs: 101, Bias: -0.717742, T: 221407, Avg. loss: 491481130.461179\n",
      "Total training time: 0.72 seconds.\n",
      "-- Epoch 2\n",
      "Norm: 25954.67, NNZs: 93, Bias: -0.719832, T: 442814, Avg. loss: 33326094.423553\n",
      "Total training time: 1.67 seconds.\n",
      "-- Epoch 3\n",
      "Norm: 26668.85, NNZs: 93, Bias: -0.735662, T: 664221, Avg. loss: 18649678.345431\n",
      "Total training time: 2.57 seconds.\n",
      "-- Epoch 4\n",
      "Norm: 27150.49, NNZs: 93, Bias: -0.715043, T: 885628, Avg. loss: 12537483.723919\n",
      "Total training time: 3.52 seconds.\n",
      "-- Epoch 5\n",
      "Norm: 27507.17, NNZs: 89, Bias: -0.747487, T: 1107035, Avg. loss: 9287677.112683\n",
      "Total training time: 4.42 seconds.\n",
      "-- Epoch 6\n",
      "Norm: 27786.08, NNZs: 89, Bias: -0.764399, T: 1328442, Avg. loss: 7192867.954363\n",
      "Total training time: 5.32 seconds.\n",
      "-- Epoch 7\n",
      "Norm: 27992.65, NNZs: 91, Bias: -0.765448, T: 1549849, Avg. loss: 5667397.555823\n",
      "Total training time: 6.21 seconds.\n",
      "-- Epoch 8\n",
      "Norm: 28149.21, NNZs: 90, Bias: -0.774272, T: 1771256, Avg. loss: 4754205.539415\n",
      "Total training time: 7.10 seconds.\n",
      "-- Epoch 9\n",
      "Norm: 28271.57, NNZs: 91, Bias: -0.772765, T: 1992663, Avg. loss: 4083012.568754\n",
      "Total training time: 8.00 seconds.\n",
      "-- Epoch 10\n",
      "Norm: 28370.94, NNZs: 91, Bias: -0.785689, T: 2214070, Avg. loss: 3536953.635250\n",
      "Total training time: 8.91 seconds.\n",
      "-- Epoch 11\n",
      "Norm: 28448.89, NNZs: 92, Bias: -0.797334, T: 2435477, Avg. loss: 3029490.211023\n",
      "Total training time: 9.82 seconds.\n",
      "-- Epoch 12\n",
      "Norm: 28505.75, NNZs: 91, Bias: -0.803703, T: 2656884, Avg. loss: 2666665.221165\n",
      "Total training time: 10.76 seconds.\n",
      "-- Epoch 13\n",
      "Norm: 28552.27, NNZs: 90, Bias: -0.814108, T: 2878291, Avg. loss: 2381774.380370\n",
      "Total training time: 11.71 seconds.\n",
      "-- Epoch 14\n",
      "Norm: 28587.35, NNZs: 89, Bias: -0.822074, T: 3099698, Avg. loss: 2122022.614703\n",
      "Total training time: 12.68 seconds.\n",
      "-- Epoch 15\n",
      "Norm: 28610.57, NNZs: 88, Bias: -0.818052, T: 3321105, Avg. loss: 1913750.496800\n",
      "Total training time: 13.64 seconds.\n",
      "-- Epoch 16\n",
      "Norm: 28624.89, NNZs: 89, Bias: -0.814197, T: 3542512, Avg. loss: 1753853.997087\n",
      "Total training time: 14.59 seconds.\n",
      "-- Epoch 17\n",
      "Norm: 28631.38, NNZs: 88, Bias: -0.810912, T: 3763919, Avg. loss: 1621733.501032\n",
      "Total training time: 15.82 seconds.\n",
      "-- Epoch 18\n",
      "Norm: 28629.99, NNZs: 89, Bias: -0.811980, T: 3985326, Avg. loss: 1519537.315072\n",
      "Total training time: 16.76 seconds.\n",
      "-- Epoch 19\n",
      "Norm: 28621.91, NNZs: 88, Bias: -0.809211, T: 4206733, Avg. loss: 1431578.558516\n",
      "Total training time: 17.72 seconds.\n",
      "-- Epoch 20\n",
      "Norm: 28607.44, NNZs: 89, Bias: -0.807239, T: 4428140, Avg. loss: 1369153.157309\n",
      "Total training time: 18.73 seconds.\n",
      "-- Epoch 21\n",
      "Norm: 28587.12, NNZs: 88, Bias: -0.804811, T: 4649547, Avg. loss: 1318889.411735\n",
      "Total training time: 19.73 seconds.\n",
      "Convergence after 21 epochs took 19.91 seconds\n"
     ]
    },
    {
     "data": {
      "text/plain": [
       "GridSearchCV(cv=StratifiedKFold(n_splits=5, random_state=None, shuffle=False),\n",
       "             estimator=SGDClassifier(class_weight='balanced',\n",
       "                                     early_stopping=True, loss='log',\n",
       "                                     n_iter_no_change=20, penalty='elasticnet',\n",
       "                                     verbose=2),\n",
       "             n_jobs=6,\n",
       "             param_grid={'alpha': [0.0001, 0.01, 0.1],\n",
       "                         'l1_ratio': [0.5, 0.9, 0.95]},\n",
       "             scoring='roc_auc')"
      ]
     },
     "execution_count": 13,
     "metadata": {},
     "output_type": "execute_result"
    }
   ],
   "source": [
    "gs = GridSearchCV(\n",
    "  md, hyperparams,\n",
    "  n_jobs=6,\n",
    "  cv=cv,\n",
    "  scoring='roc_auc'\n",
    ")\n",
    "gs.fit(X_train, y_train)"
   ]
  },
  {
   "cell_type": "code",
   "execution_count": 14,
   "metadata": {},
   "outputs": [],
   "source": [
    "estimator = gs.best_estimator_"
   ]
  },
  {
   "cell_type": "code",
   "execution_count": 15,
   "metadata": {},
   "outputs": [
    {
     "data": {
      "text/plain": [
       "{'alpha': 0.01, 'l1_ratio': 0.9}"
      ]
     },
     "execution_count": 15,
     "metadata": {},
     "output_type": "execute_result"
    }
   ],
   "source": [
    "gs.best_params_"
   ]
  },
  {
   "cell_type": "code",
   "execution_count": 18,
   "metadata": {},
   "outputs": [
    {
     "data": {
      "image/png": "[encoded data removed]",
      "text/plain": [
       "<Figure size 432x288 with 1 Axes>"
      ]
     },
     "metadata": {
      "needs_background": "light"
     },
     "output_type": "display_data"
    }
   ],
   "source": [
    "disp = metrics.RocCurveDisplay.from_predictions(\n",
    "    y_true=y_train,\n",
    "    y_pred=estimator.predict_proba(X_train)[:,1],\n",
    ")"
   ]
  },
  {
   "cell_type": "code",
   "execution_count": 16,
   "metadata": {},
   "outputs": [
    {
     "name": "stdout",
     "output_type": "stream",
     "text": [
      "0.5002492740238268\n"
     ]
    }
   ],
   "source": [
    "X_test = X_test.dropna()\n",
    "y_test = y_test[X_test.index]\n",
    "y_pred_test = estimator.predict_proba(X_test)[:,1]\n",
    "print(metrics.roc_auc_score(y_test, y_pred_test))"
   ]
  },
  {
   "cell_type": "code",
   "execution_count": 17,
   "metadata": {},
   "outputs": [
    {
     "data": {
      "image/png": "[encoded data removed]",
      "text/plain": [
       "<Figure size 432x288 with 1 Axes>"
      ]
     },
     "metadata": {
      "needs_background": "light"
     },
     "output_type": "display_data"
    }
   ],
   "source": [
    "disp = metrics.RocCurveDisplay.from_predictions(\n",
    "    y_true=y_test,\n",
    "    y_pred=y_pred_test,\n",
    ")"
   ]
  },
  {
   "cell_type": "code",
   "execution_count": 21,
   "metadata": {},
   "outputs": [],
   "source": [
    "from sklearn.metrics import confusion_matrix\n",
    "from sklearn.metrics import classification_report"
   ]
  },
  {
   "cell_type": "code",
   "execution_count": 22,
   "metadata": {},
   "outputs": [
    {
     "name": "stdout",
     "output_type": "stream",
     "text": [
      "分类报告:\n",
      "               precision    recall  f1-score   support\n",
      "\n",
      "         0.0       0.96      0.00      0.00     56545\n",
      "         1.0       0.08      1.00      0.15      4958\n",
      "\n",
      "    accuracy                           0.08     61503\n",
      "   macro avg       0.52      0.50      0.08     61503\n",
      "weighted avg       0.89      0.08      0.01     61503\n",
      "\n"
     ]
    }
   ],
   "source": [
    "print('分类报告:\\n',classification_report(y_test,y_pred_test))"
   ]
  },
  {
   "cell_type": "code",
   "execution_count": 23,
   "metadata": {},
   "outputs": [
    {
     "name": "stdout",
     "output_type": "stream",
     "text": [
      "混淆矩阵为：\n",
      " [[   51 56494     0]\n",
      " [    2  4956     0]\n",
      " [    0     0     0]]\n"
     ]
    }
   ],
   "source": [
    "print('混淆矩阵为：\\n',confusion_matrix(y_test,y_pred_test,labels=[0,1,2]))"
   ]
  }
 ],
 "metadata": {
  "kernelspec": {
   "display_name": "Python 3",
   "language": "python",
   "name": "python3"
  },
  "language_info": {
   "codemirror_mode": {
    "name": "ipython",
    "version": 3
   },
   "file_extension": ".py",
   "mimetype": "text/x-python",
   "name": "python",
   "nbconvert_exporter": "python",
   "pygments_lexer": "ipython3",
   "version": "3.7.9"
  }
 },
 "nbformat": 4,
 "nbformat_minor": 5
}
